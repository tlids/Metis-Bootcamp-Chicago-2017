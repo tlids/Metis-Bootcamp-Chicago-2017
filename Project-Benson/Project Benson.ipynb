{
 "cells": [
  {
   "cell_type": "markdown",
   "metadata": {},
   "source": [
    "# Project Benson"
   ]
  },
  {
   "cell_type": "code",
   "execution_count": 2,
   "metadata": {
    "collapsed": true
   },
   "outputs": [],
   "source": [
    "# Import Relevant Libraries\n",
    "import datetime\n",
    "import urllib.request\n",
    "import pandas as pd\n",
    "import calendar"
   ]
  },
  {
   "cell_type": "markdown",
   "metadata": {},
   "source": [
    "## Scrape Data "
   ]
  },
  {
   "cell_type": "code",
   "execution_count": 2,
   "metadata": {
    "collapsed": false
   },
   "outputs": [],
   "source": [
    "# Set Beginning & End Date \n",
    "begin = datetime.date(2016,4,2)\n",
    "end = datetime.date(2016,7,2)\n",
    "delta = datetime.timedelta(days=7)\n",
    "# Create a List of Dates in the Format %y%m%d\n",
    "def list_of_dates(begin, end, delta):\n",
    "    dates = []\n",
    "    current = begin\n",
    "    while current.strftime(\"%y%m%d\") <= end.strftime(\"%y%m%d\"):\n",
    "        dates.append(current.strftime(\"%y%m%d\"))\n",
    "        current += delta\n",
    "    return dates\n",
    "date_list = list_of_dates(begin,end,delta)"
   ]
  },
  {
   "cell_type": "code",
   "execution_count": 4,
   "metadata": {
    "collapsed": false
   },
   "outputs": [],
   "source": [
    "# Download Data from http://web.mta.info/developers/turnstile.html\n",
    "def dl_data(date_list):\n",
    "    for date in date_list:\n",
    "        url = 'http://web.mta.info/developers/data/nyct/turnstile/turnstile_' + date + '.txt'\n",
    "        file_name = date + '.txt'\n",
    "        urllib.request.urlretrieve(url, file_name)\n",
    "dl_data(date_list)"
   ]
  },
  {
   "cell_type": "markdown",
   "metadata": {},
   "source": [
    "## Import Data Frame to Pandas"
   ]
  },
  {
   "cell_type": "code",
   "execution_count": 5,
   "metadata": {
    "collapsed": false
   },
   "outputs": [],
   "source": [
    "# Read Data into Pandas\n",
    "dfs = [pd.read_csv(date + '.txt', sep=\",\") for date in date_list]"
   ]
  },
  {
   "cell_type": "code",
   "execution_count": 6,
   "metadata": {
    "collapsed": false
   },
   "outputs": [],
   "source": [
    "# Combine Dataframes into a Single Dataframe\n",
    "df = pd.concat(dfs)"
   ]
  },
  {
   "cell_type": "markdown",
   "metadata": {},
   "source": [
    "## Clean Data"
   ]
  },
  {
   "cell_type": "code",
   "execution_count": null,
   "metadata": {
    "collapsed": true
   },
   "outputs": [],
   "source": [
    "def clean_data(df):\n",
    "    # Reformat Date & Time\n",
    "    df['DATE_TIME'] = pd.to_datetime(df['DATE'] + ' ' + df['TIME'])\n",
    "    df['DATE'] = list(map(lambda x: x.date(), df['DATE_TIME']))\n",
    "    df['TIME'] = list(map(lambda x: x.time(), df['DATE_TIME']))\n",
    "    \n",
    "    # Remove Dates Before April 1st & After June 30th\n",
    "    df = df[df['DATE'].between(datetime.date(2016,4,1), datetime.date(2016,6,30))]\n",
    "    \n",
    "    # Classify Day of the Week (Mon, Tue, Wed, etc)\n",
    "    df['DAY_OF_WEEK'] = list(map(lambda x: calendar.day_name[x.weekday()], df['DATE_TIME']))\n",
    "    \n",
    "    # Drop Unnecessary Columns\n",
    "    df = df.drop(['DIVISION','DESC'], 1)\n",
    "    return df\n",
    "df = clean_data(df)"
   ]
  },
  {
   "cell_type": "markdown",
   "metadata": {},
   "source": [
    "## Store Initial Dataframe"
   ]
  },
  {
   "cell_type": "code",
   "execution_count": 12,
   "metadata": {
    "collapsed": true
   },
   "outputs": [],
   "source": [
    "# Store Dataframe \n",
    "df.to_pickle('dataframe.pkl')"
   ]
  },
  {
   "cell_type": "code",
   "execution_count": 18,
   "metadata": {
    "collapsed": false
   },
   "outputs": [],
   "source": [
    "# Read Stored Dataframe \n",
    "data = pd.read_pickle('dataframe.pkl')"
   ]
  },
  {
   "cell_type": "markdown",
   "metadata": {},
   "source": [
    "## Separate Data by Month"
   ]
  },
  {
   "cell_type": "code",
   "execution_count": null,
   "metadata": {
    "collapsed": true
   },
   "outputs": [],
   "source": [
    "data_april = data[data['DATE'].between(datetime.date(2016,4,1), datetime.date(2016,4,30))]\n",
    "data_may = data[data['DATE'].between(datetime.date(2016,5,1), datetime.date(2016,5,31))]\n",
    "data_june = data[data['DATE'].between(datetime.date(2016,6,1), datetime.date(2016,6,30))]"
   ]
  },
  {
   "cell_type": "code",
   "execution_count": 16,
   "metadata": {
    "collapsed": false
   },
   "outputs": [
    {
     "data": {
      "text/html": [
       "<div>\n",
       "<table border=\"1\" class=\"dataframe\">\n",
       "  <thead>\n",
       "    <tr style=\"text-align: right;\">\n",
       "      <th></th>\n",
       "      <th>C/A</th>\n",
       "      <th>UNIT</th>\n",
       "      <th>SCP</th>\n",
       "      <th>STATION</th>\n",
       "      <th>LINENAME</th>\n",
       "      <th>DATE</th>\n",
       "      <th>TIME</th>\n",
       "      <th>ENTRIES</th>\n",
       "      <th>EXITS</th>\n",
       "      <th>DATE_TIME</th>\n",
       "      <th>DAY_OF_WEEK</th>\n",
       "    </tr>\n",
       "  </thead>\n",
       "  <tbody>\n",
       "    <tr>\n",
       "      <th>37</th>\n",
       "      <td>A002</td>\n",
       "      <td>R051</td>\n",
       "      <td>02-00-00</td>\n",
       "      <td>59 ST</td>\n",
       "      <td>NQR456</td>\n",
       "      <td>2016-04-01</td>\n",
       "      <td>00:00:00</td>\n",
       "      <td>5599639</td>\n",
       "      <td>1896005</td>\n",
       "      <td>2016-04-01 00:00:00</td>\n",
       "      <td>Friday</td>\n",
       "    </tr>\n",
       "    <tr>\n",
       "      <th>38</th>\n",
       "      <td>A002</td>\n",
       "      <td>R051</td>\n",
       "      <td>02-00-00</td>\n",
       "      <td>59 ST</td>\n",
       "      <td>NQR456</td>\n",
       "      <td>2016-04-01</td>\n",
       "      <td>04:00:00</td>\n",
       "      <td>5599650</td>\n",
       "      <td>1896015</td>\n",
       "      <td>2016-04-01 04:00:00</td>\n",
       "      <td>Friday</td>\n",
       "    </tr>\n",
       "    <tr>\n",
       "      <th>39</th>\n",
       "      <td>A002</td>\n",
       "      <td>R051</td>\n",
       "      <td>02-00-00</td>\n",
       "      <td>59 ST</td>\n",
       "      <td>NQR456</td>\n",
       "      <td>2016-04-01</td>\n",
       "      <td>08:00:00</td>\n",
       "      <td>5599690</td>\n",
       "      <td>1896110</td>\n",
       "      <td>2016-04-01 08:00:00</td>\n",
       "      <td>Friday</td>\n",
       "    </tr>\n",
       "    <tr>\n",
       "      <th>40</th>\n",
       "      <td>A002</td>\n",
       "      <td>R051</td>\n",
       "      <td>02-00-00</td>\n",
       "      <td>59 ST</td>\n",
       "      <td>NQR456</td>\n",
       "      <td>2016-04-01</td>\n",
       "      <td>12:00:00</td>\n",
       "      <td>5599694</td>\n",
       "      <td>1896111</td>\n",
       "      <td>2016-04-01 12:00:00</td>\n",
       "      <td>Friday</td>\n",
       "    </tr>\n",
       "    <tr>\n",
       "      <th>41</th>\n",
       "      <td>A002</td>\n",
       "      <td>R051</td>\n",
       "      <td>02-00-00</td>\n",
       "      <td>59 ST</td>\n",
       "      <td>NQR456</td>\n",
       "      <td>2016-04-01</td>\n",
       "      <td>16:00:00</td>\n",
       "      <td>5599946</td>\n",
       "      <td>1896170</td>\n",
       "      <td>2016-04-01 16:00:00</td>\n",
       "      <td>Friday</td>\n",
       "    </tr>\n",
       "  </tbody>\n",
       "</table>\n",
       "</div>"
      ],
      "text/plain": [
       "     C/A  UNIT       SCP STATION LINENAME        DATE      TIME  ENTRIES  \\\n",
       "37  A002  R051  02-00-00   59 ST   NQR456  2016-04-01  00:00:00  5599639   \n",
       "38  A002  R051  02-00-00   59 ST   NQR456  2016-04-01  04:00:00  5599650   \n",
       "39  A002  R051  02-00-00   59 ST   NQR456  2016-04-01  08:00:00  5599690   \n",
       "40  A002  R051  02-00-00   59 ST   NQR456  2016-04-01  12:00:00  5599694   \n",
       "41  A002  R051  02-00-00   59 ST   NQR456  2016-04-01  16:00:00  5599946   \n",
       "\n",
       "    EXITS                                                                 \\\n",
       "37                                            1896005                      \n",
       "38                                            1896015                      \n",
       "39                                            1896110                      \n",
       "40                                            1896111                      \n",
       "41                                            1896170                      \n",
       "\n",
       "             DATE_TIME DAY_OF_WEEK  \n",
       "37 2016-04-01 00:00:00      Friday  \n",
       "38 2016-04-01 04:00:00      Friday  \n",
       "39 2016-04-01 08:00:00      Friday  \n",
       "40 2016-04-01 12:00:00      Friday  \n",
       "41 2016-04-01 16:00:00      Friday  "
      ]
     },
     "execution_count": 16,
     "metadata": {},
     "output_type": "execute_result"
    }
   ],
   "source": [
    "data_april.head()"
   ]
  },
  {
   "cell_type": "markdown",
   "metadata": {},
   "source": [
    "## Remove Whitespace from Column Names"
   ]
  },
  {
   "cell_type": "code",
   "execution_count": 8,
   "metadata": {
    "collapsed": false
   },
   "outputs": [],
   "source": [
    "def fix_colnames(df):\n",
    "    # Remove Whitespace from Column 8\n",
    "    df.rename(columns={df.columns[8]: df.columns[8].replace(' ','')}, inplace=True)\n",
    "    return df\n",
    "\n",
    "data_april = fix_colnames(data_april)\n",
    "data_may = fix_colnames(data_may)\n",
    "data_june = fix_colnames(data_june)"
   ]
  },
  {
   "cell_type": "markdown",
   "metadata": {},
   "source": [
    "## Map Zipcode Data into Dataframe"
   ]
  },
  {
   "cell_type": "code",
   "execution_count": 4,
   "metadata": {
    "collapsed": false
   },
   "outputs": [],
   "source": [
    "geocode = pd.read_csv('reverse_geocode_v4.csv',index_col='STATION')\n",
    "geocode = geocode['ZIP'].to_dict()"
   ]
  },
  {
   "cell_type": "code",
   "execution_count": 5,
   "metadata": {
    "collapsed": false
   },
   "outputs": [],
   "source": [
    "data_april['ZIPCODE'] = data_april['STATION'].apply(lambda x: int(geocode.get(x, 0)))\n",
    "data_may['ZIPCODE'] = data_may['STATION'].apply(lambda x: int(geocode.get(x, 0)))\n",
    "data_june['ZIPCODE'] = data_june['STATION'].apply(lambda x: int(geocode.get(x, 0)))"
   ]
  },
  {
   "cell_type": "markdown",
   "metadata": {},
   "source": [
    "## Preliminary Analysis on April Data"
   ]
  },
  {
   "cell_type": "markdown",
   "metadata": {},
   "source": [
    "#### Compute Totals for Entries/Exits & Replace Outlier Data with Median Value"
   ]
  },
  {
   "cell_type": "code",
   "execution_count": 6,
   "metadata": {
    "collapsed": false
   },
   "outputs": [],
   "source": [
    "april_top10zip = data_april[(data_april['ZIPCODE'] == 10001) |\\\n",
    "                            (data_april['ZIPCODE'] == 10011) |\\\n",
    "                            (data_april['ZIPCODE'] == 10010) |\\\n",
    "                            (data_april['ZIPCODE'] == 10007) |\\\n",
    "                            (data_april['ZIPCODE'] == 10016) |\\\n",
    "                            (data_april['ZIPCODE'] == 10018) |\\\n",
    "                            (data_april['ZIPCODE'] == 10036) |\\\n",
    "                            (data_april['ZIPCODE'] == 10013) |\\\n",
    "                            (data_april['ZIPCODE'] == 10012) |\\\n",
    "                            (data_april['ZIPCODE'] == 10014)]\n",
    "\n",
    "\n",
    "# no_match = set(data_april[data_april['ZIPCODE']==0]['STATION'])"
   ]
  },
  {
   "cell_type": "markdown",
   "metadata": {},
   "source": [
    "**Count the number of entries per turnstile**"
   ]
  },
  {
   "cell_type": "code",
   "execution_count": 7,
   "metadata": {
    "collapsed": true
   },
   "outputs": [],
   "source": [
    "april_entries_raw = data_april.groupby(by=['STATION','C/A','UNIT','SCP','DAY_OF_WEEK','DATE'])['ENTRIES'].apply(lambda x: max(x) - min(x))\n",
    "april_exits_raw = data_april.groupby(by=['STATION','C/A','UNIT','SCP','DAY_OF_WEEK','DATE'])['EXITS'].apply(lambda x: max(x) - min(x))"
   ]
  },
  {
   "cell_type": "markdown",
   "metadata": {},
   "source": [
    "**Replace all outliers (10*median) with the median value for turnstile count for the month**"
   ]
  },
  {
   "cell_type": "code",
   "execution_count": 8,
   "metadata": {
    "collapsed": false
   },
   "outputs": [],
   "source": [
    "def replace(group):\n",
    "    median = group.median()\n",
    "    outliers = (group - median).abs() > 10*median\n",
    "    group[outliers] = int(median)\n",
    "    return group"
   ]
  },
  {
   "cell_type": "code",
   "execution_count": 9,
   "metadata": {
    "collapsed": true
   },
   "outputs": [],
   "source": [
    "april_entries = april_entries_raw.groupby(level=['UNIT','SCP']).apply(replace)\n",
    "april_exits = april_exits_raw.groupby(level=['UNIT','SCP']).apply(replace)"
   ]
  },
  {
   "cell_type": "markdown",
   "metadata": {},
   "source": [
    "**Compute Station Counts per Day**"
   ]
  },
  {
   "cell_type": "code",
   "execution_count": 10,
   "metadata": {
    "collapsed": false
   },
   "outputs": [],
   "source": [
    "april_entries_station_perday = april_entries.groupby(level=['STATION','DATE']).sum()\n",
    "april_exits_station_perday = april_exits.groupby(level=['STATION','DATE']).sum()\n",
    "april_total_station_perday = april_entries_station_perday + april_exits_station_perday"
   ]
  },
  {
   "cell_type": "markdown",
   "metadata": {},
   "source": [
    "**Compute Station Counts per Month**"
   ]
  },
  {
   "cell_type": "code",
   "execution_count": 11,
   "metadata": {
    "collapsed": false
   },
   "outputs": [],
   "source": [
    "april_entries_station = april_entries_station_perday.groupby(level=['STATION']).sum()\n",
    "april_exits_station = april_exits_station_perday.groupby(level=['STATION']).sum()\n",
    "april_total_station = april_entries_station + april_exits_station"
   ]
  },
  {
   "cell_type": "markdown",
   "metadata": {},
   "source": [
    "**Create List of Stations of Top 25/50 Counts**"
   ]
  },
  {
   "cell_type": "code",
   "execution_count": 12,
   "metadata": {
    "collapsed": false
   },
   "outputs": [],
   "source": [
    "top25counts = april_total_station.sort_values(ascending=False).head(n=25)"
   ]
  },
  {
   "cell_type": "code",
   "execution_count": 13,
   "metadata": {
    "collapsed": true
   },
   "outputs": [],
   "source": [
    "top50counts = april_total_station.sort_values(ascending=False).head(n=50)"
   ]
  },
  {
   "cell_type": "markdown",
   "metadata": {},
   "source": [
    "**The List of Stations in Top 50 Counts & Top Zipcodes with most funding**"
   ]
  },
  {
   "cell_type": "code",
   "execution_count": 22,
   "metadata": {
    "collapsed": false
   },
   "outputs": [
    {
     "data": {
      "text/plain": [
       "[('GRD CNTRL-42 ST', 6649567),\n",
       " ('34 ST-HERALD SQ', 5358900),\n",
       " ('TIMES SQ-42 ST', 4280049),\n",
       " ('42 ST-PORT AUTH', 4187659),\n",
       " ('14 ST', 2783406),\n",
       " ('42 ST-BRYANT PK', 1804770),\n",
       " ('CHURCH AV', 1535416),\n",
       " ('BOROUGH HALL', 1473537),\n",
       " ('BEDFORD AV', 1438801),\n",
       " ('68ST-HUNTER CO', 1336237),\n",
       " ('33 ST', 1331118),\n",
       " (\"B'WAY-LAFAYETTE\", 1314713),\n",
       " ('5 AV/53 ST', 1233245),\n",
       " ('57 ST-7 AV', 1142502)]"
      ]
     },
     "execution_count": 22,
     "metadata": {},
     "output_type": "execute_result"
    }
   ],
   "source": [
    "# The List of Stations in Top 50 Counts & Top Zipcodes with most funding\n",
    "april_stations_with_most_funding = []\n",
    "for station in list(set(april_top10zip['STATION'])):\n",
    "    if station in top50counts.index:\n",
    "        april_stations_with_most_funding.append((station, top50counts[station]))\n",
    "april_stations_with_most_funding = sorted(april_stations_with_most_funding,key=lambda x: x[1],reverse=True)\n",
    "april_stations_with_most_funding"
   ]
  },
  {
   "cell_type": "markdown",
   "metadata": {},
   "source": [
    "## Analysis on Data for All Three Months"
   ]
  },
  {
   "cell_type": "code",
   "execution_count": 88,
   "metadata": {
    "collapsed": false
   },
   "outputs": [],
   "source": [
    "df_all = pd.concat([data_april, data_may, data_june])"
   ]
  },
  {
   "cell_type": "code",
   "execution_count": 325,
   "metadata": {
    "collapsed": true
   },
   "outputs": [],
   "source": [
    "top10zip = df_all[(df_all['ZIPCODE'] == 10001) |\\\n",
    "                  (df_all['ZIPCODE'] == 10011) |\\\n",
    "                  (df_all['ZIPCODE'] == 10010) |\\\n",
    "                  (df_all['ZIPCODE'] == 10007) |\\\n",
    "                  (df_all['ZIPCODE'] == 10016) |\\\n",
    "                  (df_all['ZIPCODE'] == 10018) |\\\n",
    "                  (df_all['ZIPCODE'] == 10036) |\\\n",
    "                  (df_all['ZIPCODE'] == 10013) |\\\n",
    "                  (df_all['ZIPCODE'] == 10012) |\\\n",
    "                  (df_all['ZIPCODE'] == 10014)]"
   ]
  },
  {
   "cell_type": "code",
   "execution_count": 90,
   "metadata": {
    "collapsed": true
   },
   "outputs": [],
   "source": [
    "entries_unformat = df_all.groupby(by=['STATION','C/A','UNIT','SCP','DATE'])['ENTRIES'].apply(lambda x: max(x) - min(x))\n",
    "exits_unformat = df_all.groupby(by=['STATION','C/A','UNIT','SCP','DATE'])['EXITS'].apply(lambda x: max(x) - min(x))"
   ]
  },
  {
   "cell_type": "code",
   "execution_count": 93,
   "metadata": {
    "collapsed": true
   },
   "outputs": [],
   "source": [
    "def replace(group):\n",
    "    median = group.median()\n",
    "    outliers = (group - median).abs() > 10*median\n",
    "    group[outliers] = int(median)\n",
    "    return group"
   ]
  },
  {
   "cell_type": "code",
   "execution_count": 96,
   "metadata": {
    "collapsed": true
   },
   "outputs": [],
   "source": [
    "# Replace all outliers\n",
    "entries = entries_unformat.groupby(level=['C/A','UNIT','SCP']).apply(replace)\n",
    "exits = exits_unformat.groupby(level=['C/A','UNIT','SCP']).apply(replace)"
   ]
  },
  {
   "cell_type": "code",
   "execution_count": 99,
   "metadata": {
    "collapsed": false
   },
   "outputs": [],
   "source": [
    "# Compute Daily Sum of Entry/Exits for Each Station\n",
    "entries_dailytot = entries.groupby(level=['STATION','DATE']).sum()\n",
    "exits_dailytot = exits.groupby(level=['STATION','DATE']).sum()"
   ]
  },
  {
   "cell_type": "code",
   "execution_count": 105,
   "metadata": {
    "collapsed": false
   },
   "outputs": [],
   "source": [
    "# Compute Daily Mean of Entry/Exits for Each Station\n",
    "entries_dailymean = entries_dailytot.groupby(level=['STATION']).mean()\n",
    "exits_dailymean = exits_dailytot.groupby(level=['STATION']).mean()"
   ]
  },
  {
   "cell_type": "code",
   "execution_count": 109,
   "metadata": {
    "collapsed": false
   },
   "outputs": [],
   "source": [
    "# Compute Three Month Total of Entry/Exits for Each Station\n",
    "entries_tot = entries_dailytot.groupby(level=['STATION']).sum()\n",
    "exits_tot = exits_dailytot.groupby(level=['STATION']).sum()\n",
    "total = entries_tot + exits_tot"
   ]
  },
  {
   "cell_type": "code",
   "execution_count": 112,
   "metadata": {
    "collapsed": false
   },
   "outputs": [],
   "source": [
    "# Compute Top 25  & Top 50 Stations Based on Total Entry/Exits\n",
    "top25counts = total.sort_values(ascending=False).head(n=25)\n",
    "top50counts = total.sort_values(ascending=False).head(n=50)"
   ]
  },
  {
   "cell_type": "markdown",
   "metadata": {},
   "source": [
    "## Same as Above But Use DF with Stations in the Top 10 Zip Codes for Funding"
   ]
  },
  {
   "cell_type": "code",
   "execution_count": 119,
   "metadata": {
    "collapsed": true
   },
   "outputs": [],
   "source": [
    "entries_zip_unformat = top10zip.groupby(by=['STATION','C/A','UNIT','SCP','DATE'])['ENTRIES'].apply(lambda x: max(x) - min(x))\n",
    "exits_zip_unformat = top10zip.groupby(by=['STATION','C/A','UNIT','SCP','DATE'])['EXITS'].apply(lambda x: max(x) - min(x))"
   ]
  },
  {
   "cell_type": "code",
   "execution_count": 120,
   "metadata": {
    "collapsed": true
   },
   "outputs": [],
   "source": [
    "# Replace all outliers\n",
    "entries_zip = entries_zip_unformat.groupby(level=['C/A','UNIT','SCP']).apply(replace)\n",
    "exits_zip = exits_zip_unformat.groupby(level=['C/A','UNIT','SCP']).apply(replace)"
   ]
  },
  {
   "cell_type": "code",
   "execution_count": 121,
   "metadata": {
    "collapsed": true
   },
   "outputs": [],
   "source": [
    "# Compute Daily Sum of Entry/Exits for Each Station\n",
    "entries_zip_dailytot = entries_zip.groupby(level=['STATION','DATE']).sum()\n",
    "exits_zip_dailytot = exits_zip.groupby(level=['STATION','DATE']).sum()"
   ]
  },
  {
   "cell_type": "code",
   "execution_count": 136,
   "metadata": {
    "collapsed": true
   },
   "outputs": [],
   "source": [
    "# Compute Daily Mean of Entry/Exits for Each Station\n",
    "entries_zip_dailymean = entries_zip_dailytot.groupby(level=['STATION']).mean()\n",
    "exits_zip_dailymean = exits_zip_dailytot.groupby(level=['STATION']).mean()\n",
    "total_zip_dailymean = entries_zip_dailymean + exits_zip_dailymean"
   ]
  },
  {
   "cell_type": "code",
   "execution_count": 123,
   "metadata": {
    "collapsed": true
   },
   "outputs": [],
   "source": [
    "# Compute Three Month Total of Entry/Exits for Each Station\n",
    "entries_zip_tot = entries_zip_dailytot.groupby(level=['STATION']).sum()\n",
    "exits_zip_tot = exits_zip_dailytot.groupby(level=['STATION']).sum()\n",
    "total_zip = entries_zip_tot + exits_zip_tot"
   ]
  },
  {
   "cell_type": "code",
   "execution_count": 150,
   "metadata": {
    "collapsed": true
   },
   "outputs": [],
   "source": [
    "top10day_zip = total_zip_dailymean.sort_values(ascending=False).head(n=10)\n",
    "df_top10_dayzip = top10day_zip.to_frame().reset_index()\n",
    "df_top10_dayzip.columns = ['STATION','COUNTS']"
   ]
  },
  {
   "cell_type": "code",
   "execution_count": 159,
   "metadata": {
    "collapsed": false
   },
   "outputs": [
    {
     "data": {
      "text/plain": [
       "STATION\n",
       "GRD CNTRL-42 ST    222908.967033\n",
       "34 ST-HERALD SQ    180708.263736\n",
       "TIMES SQ-42 ST     144645.472527\n",
       "42 ST-PORT AUTH    139610.923077\n",
       "14 ST               92588.131868\n",
       "42 ST-BRYANT PK     62620.428571\n",
       "CHURCH AV           50857.109890\n",
       "BEDFORD AV          48200.307692\n",
       "BOROUGH HALL        48116.879121\n",
       "33 ST               44630.538462\n",
       "dtype: float64"
      ]
     },
     "execution_count": 159,
     "metadata": {},
     "output_type": "execute_result"
    }
   ],
   "source": [
    "top10day_zip"
   ]
  },
  {
   "cell_type": "code",
   "execution_count": 236,
   "metadata": {
    "collapsed": false
   },
   "outputs": [
    {
     "data": {
      "text/html": [
       "<div>\n",
       "<table border=\"1\" class=\"dataframe\">\n",
       "  <thead>\n",
       "    <tr style=\"text-align: right;\">\n",
       "      <th></th>\n",
       "      <th>STATION</th>\n",
       "      <th>AVG DAILY TRAFFIC</th>\n",
       "    </tr>\n",
       "  </thead>\n",
       "  <tbody>\n",
       "    <tr>\n",
       "      <th>0</th>\n",
       "      <td>GRD CNTRL-42 ST</td>\n",
       "      <td>222908</td>\n",
       "    </tr>\n",
       "    <tr>\n",
       "      <th>1</th>\n",
       "      <td>34 ST-HERALD SQ</td>\n",
       "      <td>180708</td>\n",
       "    </tr>\n",
       "    <tr>\n",
       "      <th>2</th>\n",
       "      <td>TIMES SQ-42 ST</td>\n",
       "      <td>144645</td>\n",
       "    </tr>\n",
       "    <tr>\n",
       "      <th>3</th>\n",
       "      <td>42 ST-PORT AUTH</td>\n",
       "      <td>139610</td>\n",
       "    </tr>\n",
       "    <tr>\n",
       "      <th>4</th>\n",
       "      <td>14 ST</td>\n",
       "      <td>92588</td>\n",
       "    </tr>\n",
       "    <tr>\n",
       "      <th>5</th>\n",
       "      <td>42 ST-BRYANT PK</td>\n",
       "      <td>62620</td>\n",
       "    </tr>\n",
       "    <tr>\n",
       "      <th>6</th>\n",
       "      <td>CHURCH AV</td>\n",
       "      <td>50857</td>\n",
       "    </tr>\n",
       "    <tr>\n",
       "      <th>7</th>\n",
       "      <td>BEDFORD AV</td>\n",
       "      <td>48200</td>\n",
       "    </tr>\n",
       "    <tr>\n",
       "      <th>8</th>\n",
       "      <td>BOROUGH HALL</td>\n",
       "      <td>48116</td>\n",
       "    </tr>\n",
       "    <tr>\n",
       "      <th>9</th>\n",
       "      <td>33 ST</td>\n",
       "      <td>44630</td>\n",
       "    </tr>\n",
       "  </tbody>\n",
       "</table>\n",
       "</div>"
      ],
      "text/plain": [
       "           STATION  AVG DAILY TRAFFIC\n",
       "0  GRD CNTRL-42 ST             222908\n",
       "1  34 ST-HERALD SQ             180708\n",
       "2   TIMES SQ-42 ST             144645\n",
       "3  42 ST-PORT AUTH             139610\n",
       "4            14 ST              92588\n",
       "5  42 ST-BRYANT PK              62620\n",
       "6        CHURCH AV              50857\n",
       "7       BEDFORD AV              48200\n",
       "8     BOROUGH HALL              48116\n",
       "9            33 ST              44630"
      ]
     },
     "execution_count": 236,
     "metadata": {},
     "output_type": "execute_result"
    }
   ],
   "source": [
    "# Temporary Dataframe to Obtain Table for Presentation\n",
    "df_temp1 = top10day_zip.to_frame().reset_index()\n",
    "df_temp1.columns = ['STATION','AVG DAILY TRAFFIC']\n",
    "df_temp1['AVG DAILY TRAFFIC'] = df_temp1['AVG DAILY TRAFFIC'].apply(lambda x: int(x))\n",
    "df_temp1"
   ]
  },
  {
   "cell_type": "code",
   "execution_count": 161,
   "metadata": {
    "collapsed": false
   },
   "outputs": [],
   "source": [
    "top10tot_zip = total_zip.sort_values(ascending=False).head(n=10)\n",
    "df_top10_totzip = top10tot_zip.to_frame().reset_index()\n",
    "df_top10_totzip.columns = ['STATION','COUNTS']"
   ]
  },
  {
   "cell_type": "code",
   "execution_count": 162,
   "metadata": {
    "collapsed": false
   },
   "outputs": [
    {
     "data": {
      "text/plain": [
       "STATION\n",
       "GRD CNTRL-42 ST    20284716\n",
       "34 ST-HERALD SQ    16444452\n",
       "TIMES SQ-42 ST     13162738\n",
       "42 ST-PORT AUTH    12704594\n",
       "14 ST               8425520\n",
       "42 ST-BRYANT PK     5698459\n",
       "CHURCH AV           4627997\n",
       "BEDFORD AV          4386228\n",
       "BOROUGH HALL        4378636\n",
       "33 ST               4061379\n",
       "dtype: int64"
      ]
     },
     "execution_count": 162,
     "metadata": {},
     "output_type": "execute_result"
    }
   ],
   "source": [
    "top10tot_zip"
   ]
  },
  {
   "cell_type": "code",
   "execution_count": 213,
   "metadata": {
    "collapsed": false
   },
   "outputs": [],
   "source": [
    "# Quick Visualization\n",
    "import seaborn as sns\n",
    "import matplotlib.pyplot as plt\n",
    "% matplotlib inline"
   ]
  },
  {
   "cell_type": "code",
   "execution_count": 226,
   "metadata": {
    "collapsed": false
   },
   "outputs": [
    {
     "data": {
      "image/png": "[encoded data removed]",
      "text/plain": [
       "<matplotlib.figure.Figure at 0x11a4c73c8>"
      ]
     },
     "metadata": {},
     "output_type": "display_data"
    }
   ],
   "source": [
    "fig1 = sns.barplot(data=df_top10_dayzip,x='STATION',y='COUNTS',palette='Blues_r')\n",
    "fig1.axes.set_title(\"Top 10 Stations in the Most Funded ZipCodes\",fontsize=20)\n",
    "fig1.set_xlabel('Station',fontsize=16)\n",
    "fig1.set_ylabel('Average Daily Counts',fontsize=16)\n",
    "plt.rcParams['figure.figsize']=(8,6)\n",
    "for item in fig1.get_xticklabels():\n",
    "    item.set_rotation(90)"
   ]
  },
  {
   "cell_type": "code",
   "execution_count": 322,
   "metadata": {
    "collapsed": false
   },
   "outputs": [
    {
     "data": {
      "text/html": [
       "<div>\n",
       "<table border=\"1\" class=\"dataframe\">\n",
       "  <thead>\n",
       "    <tr style=\"text-align: right;\">\n",
       "      <th></th>\n",
       "      <th>C/A</th>\n",
       "      <th>UNIT</th>\n",
       "      <th>SCP</th>\n",
       "      <th>STATION</th>\n",
       "      <th>LINENAME</th>\n",
       "      <th>DATE</th>\n",
       "      <th>TIME</th>\n",
       "      <th>ENTRIES</th>\n",
       "      <th>EXITS</th>\n",
       "      <th>DATE_TIME</th>\n",
       "      <th>DAY_OF_WEEK</th>\n",
       "      <th>ZIPCODE</th>\n",
       "    </tr>\n",
       "  </thead>\n",
       "  <tbody>\n",
       "    <tr>\n",
       "      <th>37</th>\n",
       "      <td>A002</td>\n",
       "      <td>R051</td>\n",
       "      <td>02-00-00</td>\n",
       "      <td>59 ST</td>\n",
       "      <td>NQR456</td>\n",
       "      <td>2016-04-01</td>\n",
       "      <td>00:00:00</td>\n",
       "      <td>5599639</td>\n",
       "      <td>1896005</td>\n",
       "      <td>2016-04-01 00:00:00</td>\n",
       "      <td>Friday</td>\n",
       "      <td>11209</td>\n",
       "    </tr>\n",
       "    <tr>\n",
       "      <th>38</th>\n",
       "      <td>A002</td>\n",
       "      <td>R051</td>\n",
       "      <td>02-00-00</td>\n",
       "      <td>59 ST</td>\n",
       "      <td>NQR456</td>\n",
       "      <td>2016-04-01</td>\n",
       "      <td>04:00:00</td>\n",
       "      <td>5599650</td>\n",
       "      <td>1896015</td>\n",
       "      <td>2016-04-01 04:00:00</td>\n",
       "      <td>Friday</td>\n",
       "      <td>11209</td>\n",
       "    </tr>\n",
       "    <tr>\n",
       "      <th>39</th>\n",
       "      <td>A002</td>\n",
       "      <td>R051</td>\n",
       "      <td>02-00-00</td>\n",
       "      <td>59 ST</td>\n",
       "      <td>NQR456</td>\n",
       "      <td>2016-04-01</td>\n",
       "      <td>08:00:00</td>\n",
       "      <td>5599690</td>\n",
       "      <td>1896110</td>\n",
       "      <td>2016-04-01 08:00:00</td>\n",
       "      <td>Friday</td>\n",
       "      <td>11209</td>\n",
       "    </tr>\n",
       "    <tr>\n",
       "      <th>40</th>\n",
       "      <td>A002</td>\n",
       "      <td>R051</td>\n",
       "      <td>02-00-00</td>\n",
       "      <td>59 ST</td>\n",
       "      <td>NQR456</td>\n",
       "      <td>2016-04-01</td>\n",
       "      <td>12:00:00</td>\n",
       "      <td>5599694</td>\n",
       "      <td>1896111</td>\n",
       "      <td>2016-04-01 12:00:00</td>\n",
       "      <td>Friday</td>\n",
       "      <td>11209</td>\n",
       "    </tr>\n",
       "    <tr>\n",
       "      <th>41</th>\n",
       "      <td>A002</td>\n",
       "      <td>R051</td>\n",
       "      <td>02-00-00</td>\n",
       "      <td>59 ST</td>\n",
       "      <td>NQR456</td>\n",
       "      <td>2016-04-01</td>\n",
       "      <td>16:00:00</td>\n",
       "      <td>5599946</td>\n",
       "      <td>1896170</td>\n",
       "      <td>2016-04-01 16:00:00</td>\n",
       "      <td>Friday</td>\n",
       "      <td>11209</td>\n",
       "    </tr>\n",
       "  </tbody>\n",
       "</table>\n",
       "</div>"
      ],
      "text/plain": [
       "     C/A  UNIT       SCP STATION LINENAME        DATE      TIME  ENTRIES  \\\n",
       "37  A002  R051  02-00-00   59 ST   NQR456  2016-04-01  00:00:00  5599639   \n",
       "38  A002  R051  02-00-00   59 ST   NQR456  2016-04-01  04:00:00  5599650   \n",
       "39  A002  R051  02-00-00   59 ST   NQR456  2016-04-01  08:00:00  5599690   \n",
       "40  A002  R051  02-00-00   59 ST   NQR456  2016-04-01  12:00:00  5599694   \n",
       "41  A002  R051  02-00-00   59 ST   NQR456  2016-04-01  16:00:00  5599946   \n",
       "\n",
       "      EXITS           DATE_TIME DAY_OF_WEEK  ZIPCODE  \n",
       "37  1896005 2016-04-01 00:00:00      Friday    11209  \n",
       "38  1896015 2016-04-01 04:00:00      Friday    11209  \n",
       "39  1896110 2016-04-01 08:00:00      Friday    11209  \n",
       "40  1896111 2016-04-01 12:00:00      Friday    11209  \n",
       "41  1896170 2016-04-01 16:00:00      Friday    11209  "
      ]
     },
     "execution_count": 322,
     "metadata": {},
     "output_type": "execute_result"
    }
   ],
   "source": [
    "data_april.head()"
   ]
  },
  {
   "cell_type": "markdown",
   "metadata": {},
   "source": [
    "## Quick Data Retrieval For Presentation"
   ]
  },
  {
   "cell_type": "code",
   "execution_count": 84,
   "metadata": {
    "collapsed": false
   },
   "outputs": [
    {
     "data": {
      "text/html": [
       "<div>\n",
       "<table border=\"1\" class=\"dataframe\">\n",
       "  <thead>\n",
       "    <tr style=\"text-align: right;\">\n",
       "      <th></th>\n",
       "      <th>C/A</th>\n",
       "      <th>UNIT</th>\n",
       "      <th>SCP</th>\n",
       "      <th>STATION</th>\n",
       "      <th>LINENAME</th>\n",
       "      <th>DATE</th>\n",
       "      <th>TIME</th>\n",
       "      <th>ENTRIES</th>\n",
       "      <th>EXITS</th>\n",
       "      <th>DATE_TIME</th>\n",
       "      <th>DAY_OF_WEEK</th>\n",
       "      <th>ZIPCODE</th>\n",
       "    </tr>\n",
       "  </thead>\n",
       "  <tbody>\n",
       "    <tr>\n",
       "      <th>148882</th>\n",
       "      <td>R238</td>\n",
       "      <td>R046</td>\n",
       "      <td>00-00-08</td>\n",
       "      <td>GRD CNTRL-42 ST</td>\n",
       "      <td>4567S</td>\n",
       "      <td>2016-04-06</td>\n",
       "      <td>04:00:00</td>\n",
       "      <td>43773605</td>\n",
       "      <td>9870803</td>\n",
       "      <td>2016-04-06 04:00:00</td>\n",
       "      <td>Wednesday</td>\n",
       "      <td>10011</td>\n",
       "    </tr>\n",
       "    <tr>\n",
       "      <th>148883</th>\n",
       "      <td>R238</td>\n",
       "      <td>R046</td>\n",
       "      <td>00-00-08</td>\n",
       "      <td>GRD CNTRL-42 ST</td>\n",
       "      <td>4567S</td>\n",
       "      <td>2016-04-06</td>\n",
       "      <td>08:00:00</td>\n",
       "      <td>43773605</td>\n",
       "      <td>9871234</td>\n",
       "      <td>2016-04-06 08:00:00</td>\n",
       "      <td>Wednesday</td>\n",
       "      <td>10011</td>\n",
       "    </tr>\n",
       "    <tr>\n",
       "      <th>148884</th>\n",
       "      <td>R238</td>\n",
       "      <td>R046</td>\n",
       "      <td>00-00-08</td>\n",
       "      <td>GRD CNTRL-42 ST</td>\n",
       "      <td>4567S</td>\n",
       "      <td>2016-04-06</td>\n",
       "      <td>12:00:00</td>\n",
       "      <td>3070</td>\n",
       "      <td>622</td>\n",
       "      <td>2016-04-06 12:00:00</td>\n",
       "      <td>Wednesday</td>\n",
       "      <td>10011</td>\n",
       "    </tr>\n",
       "  </tbody>\n",
       "</table>\n",
       "</div>"
      ],
      "text/plain": [
       "         C/A  UNIT       SCP          STATION LINENAME        DATE      TIME  \\\n",
       "148882  R238  R046  00-00-08  GRD CNTRL-42 ST    4567S  2016-04-06  04:00:00   \n",
       "148883  R238  R046  00-00-08  GRD CNTRL-42 ST    4567S  2016-04-06  08:00:00   \n",
       "148884  R238  R046  00-00-08  GRD CNTRL-42 ST    4567S  2016-04-06  12:00:00   \n",
       "\n",
       "         ENTRIES    EXITS           DATE_TIME DAY_OF_WEEK  ZIPCODE  \n",
       "148882  43773605  9870803 2016-04-06 04:00:00   Wednesday    10011  \n",
       "148883  43773605  9871234 2016-04-06 08:00:00   Wednesday    10011  \n",
       "148884      3070      622 2016-04-06 12:00:00   Wednesday    10011  "
      ]
     },
     "execution_count": 84,
     "metadata": {},
     "output_type": "execute_result"
    }
   ],
   "source": [
    "x = data_april[data_april['STATION'] == 'GRD CNTRL-42 ST']\n",
    "y = x[x['DATE'] ==  datetime.date(2016,4,6)]\n",
    "z = y[y['SCP'] == '00-00-08']\n",
    "z.iloc[1:4]\n",
    "# set(x[x['DATE'] ==  datetime.date(2016,4,6)]['SCP'])"
   ]
  },
  {
   "cell_type": "code",
   "execution_count": 34,
   "metadata": {
    "collapsed": true
   },
   "outputs": [],
   "source": [
    "entry_unedit = data_april.groupby(by=['STATION','C/A','UNIT','SCP','DATE'])['ENTRIES'].apply(lambda x: max(x) - min(x))\n",
    "exit_unedit = data_april.groupby(by=['STATION','C/A','UNIT','SCP','DATE'])['EXITS'].apply(lambda x: max(x) - min(x))"
   ]
  },
  {
   "cell_type": "code",
   "execution_count": 58,
   "metadata": {
    "collapsed": true
   },
   "outputs": [],
   "source": [
    "april_entries_unformatted = april_entries_raw.groupby(level=['STATION','DATE']).sum()\n",
    "april_exits_unformatted = april_exits_raw.groupby(level=['STATION','DATE']).sum()"
   ]
  },
  {
   "cell_type": "code",
   "execution_count": 329,
   "metadata": {
    "collapsed": false
   },
   "outputs": [],
   "source": [
    "z = april_entries_unformatted['GRD CNTRL-42 ST']\n",
    "# z.to_frame().reset_index().head(n=10)"
   ]
  },
  {
   "cell_type": "markdown",
   "metadata": {},
   "source": [
    "## Calculate Counts for Each Day of the Week"
   ]
  },
  {
   "cell_type": "code",
   "execution_count": 421,
   "metadata": {
    "collapsed": false
   },
   "outputs": [],
   "source": [
    "june_weekday_entry_raw = data_june.groupby(by=['STATION','C/A','UNIT','SCP','DAY_OF_WEEK','DATE'],sort=False)['ENTRIES'].apply(lambda x: max(x) - min(x))\n",
    "june_weekday_exits_raw = data_june.groupby(by=['STATION','C/A','UNIT','SCP','DAY_OF_WEEK','DATE'],sort=False)['EXITS'].apply(lambda x: max(x) - min(x))"
   ]
  },
  {
   "cell_type": "code",
   "execution_count": 422,
   "metadata": {
    "collapsed": false
   },
   "outputs": [],
   "source": [
    "june_weekday_entry = june_weekday_entry_raw.groupby(level=['UNIT','SCP']).apply(replace)\n",
    "june_weekday_exits = june_weekday_exits_raw.groupby(level=['UNIT','SCP']).apply(replace)\n",
    "june_weekday_total = june_weekday_entry + june_weekday_exits"
   ]
  },
  {
   "cell_type": "code",
   "execution_count": 423,
   "metadata": {
    "collapsed": false
   },
   "outputs": [],
   "source": [
    "june_weekday_mean = june_weekday_total.groupby(level=['STATION','DAY_OF_WEEK']).mean()"
   ]
  },
  {
   "cell_type": "code",
   "execution_count": 424,
   "metadata": {
    "collapsed": false
   },
   "outputs": [
    {
     "data": {
      "text/plain": [
       "DAY_OF_WEEK\n",
       "Friday       4450.172131\n",
       "Monday       4564.389344\n",
       "Saturday     1627.516393\n",
       "Sunday       1369.815574\n",
       "Thursday     4765.960656\n",
       "Tuesday      4778.385246\n",
       "Wednesday    4855.151316\n",
       "dtype: float64"
      ]
     },
     "execution_count": 424,
     "metadata": {},
     "output_type": "execute_result"
    }
   ],
   "source": [
    "june_weekday_mean['GRD CNTRL-42 ST']"
   ]
  },
  {
   "cell_type": "code",
   "execution_count": 425,
   "metadata": {
    "collapsed": false
   },
   "outputs": [],
   "source": [
    "# Import Relevant Libraries\n",
    "import seaborn as sns\n",
    "import matplotlib.pyplot as plt\n",
    "%matplotlib inline"
   ]
  },
  {
   "cell_type": "code",
   "execution_count": 432,
   "metadata": {
    "collapsed": false
   },
   "outputs": [
    {
     "data": {
      "image/png": "[encoded data removed]",
      "text/plain": [
       "<matplotlib.figure.Figure at 0x1518eff60>"
      ]
     },
     "metadata": {},
     "output_type": "display_data"
    }
   ],
   "source": [
    "temp = june_weekday_mean['GRD CNTRL-42 ST'].to_frame()\n",
    "temp.reset_index(inplace=True)\n",
    "temp.columns = ['Day of Week','Average Counts']\n",
    "temp['Day Numbers'] = [4, 0, 5, 6, 3, 1, 2]\n",
    "temp.sort_values(by='Day Numbers', inplace=True)\n",
    "temp\n",
    "fig2 = sns.barplot(data=temp, x='Day of Week',y='Average Counts',color='darkblue')\n",
    "fig2.axes.set_title(\"Grd Cntrl 42 St: Counts per Day of Week\",fontsize=20)\n",
    "fig2.set_xlabel('Day of Week',fontsize=16)\n",
    "fig2.set_ylabel('Average Daily Counts',fontsize=16)\n",
    "plt.rcParams['figure.figsize']=(8,6)"
   ]
  },
  {
   "cell_type": "markdown",
   "metadata": {},
   "source": [
    "## For Blog"
   ]
  },
  {
   "cell_type": "code",
   "execution_count": 326,
   "metadata": {
    "collapsed": false
   },
   "outputs": [],
   "source": [
    "df_topstations = df_all[(df_all['STATION'] == 'GRD CNTRL-42 ST') |\\\n",
    "                  (df_all['STATION'] == '34 ST-HERALD SQ') |\\\n",
    "                  (df_all['STATION'] == 'TIMES SQ-42 ST') |\\\n",
    "                  (df_all['STATION'] == '42 ST-PORT AUTH') |\\\n",
    "                  (df_all['STATION'] == '14 ST')]"
   ]
  },
  {
   "cell_type": "code",
   "execution_count": 376,
   "metadata": {
    "collapsed": false
   },
   "outputs": [],
   "source": [
    "stn_inzip_alldays = entries_zip_dailytot + exits_zip_dailytot"
   ]
  },
  {
   "cell_type": "code",
   "execution_count": 375,
   "metadata": {
    "collapsed": false
   },
   "outputs": [],
   "source": [
    "df_inzip_alldays = stn_inzip_alldays.to_frame()\n",
    "df_inzip_alldays.columns = ['Total Counts']\n",
    "temp_a = df_inzip_alldays.loc[['GRD CNTRL-42 ST', '34 ST-HERALD SQ','TIMES SQ-42 ST','42 ST-PORT AUTH','14 ST']]"
   ]
  },
  {
   "cell_type": "code",
   "execution_count": 412,
   "metadata": {
    "collapsed": true
   },
   "outputs": [],
   "source": [
    "grdcentral_june = temp_a.loc['GRD CNTRL-42 ST'].iloc[-30:].reset_index()\n",
    "heraldsq_june = temp_a.loc['34 ST-HERALD SQ'].iloc[-30:].reset_index()\n",
    "timessq_june = temp_a.loc['TIMES SQ-42 ST'].iloc[-30:].reset_index()\n",
    "portauth_june = temp_a.loc['42 ST-PORT AUTH'].iloc[-30:].reset_index()\n",
    "fourteen_june = temp_a.loc['14 ST'].iloc[-30:].reset_index()"
   ]
  },
  {
   "cell_type": "code",
   "execution_count": 420,
   "metadata": {
    "collapsed": false,
    "scrolled": true
   },
   "outputs": [
    {
     "data": {
      "image/png": "[encoded data removed]",
      "text/plain": [
       "<matplotlib.figure.Figure at 0x156202da0>"
      ]
     },
     "metadata": {},
     "output_type": "display_data"
    }
   ],
   "source": [
    "plt.plot(grdcentral_june['DATE'],grdcentral_june['Total Counts'],label='GRD CNTRL-42 ST');\n",
    "plt.plot(heraldsq_june['DATE'],heraldsq_june['Total Counts'],label='34 ST-HERALD SQ');\n",
    "plt.plot(timessq_june['DATE'],timessq_june['Total Counts'],label='TIMES SQ-42 ST');\n",
    "plt.plot(portauth_june['DATE'],portauth_june['Total Counts'],label='42 ST-PORT AUTH');\n",
    "plt.plot(fourteen_june['DATE'],fourteen_june['Total Counts'],label='14 ST');\n",
    "plt.plot()\n",
    "plt.rcParams['figure.figsize']=(8,7);\n",
    "plt.xlabel('Date',fontsize=16);\n",
    "plt.ylabel('Average Daily Counts',fontsize=16);\n",
    "plt.title(\"Daily Average Counts at Top 5 Stations\",fontsize=20);\n",
    "plt.xticks(rotation='vertical');\n",
    "plt.legend();"
   ]
  },
  {
   "cell_type": "markdown",
   "metadata": {},
   "source": [
    "# Run This in Every New Session"
   ]
  },
  {
   "cell_type": "code",
   "execution_count": 3,
   "metadata": {
    "collapsed": false
   },
   "outputs": [],
   "source": [
    "# Read Stored Dataframe \n",
    "data_april = pd.read_pickle('data_april.pkl')\n",
    "data_may = pd.read_pickle('data_may.pkl')\n",
    "data_june = pd.read_pickle('data_june.pkl')"
   ]
  },
  {
   "cell_type": "markdown",
   "metadata": {},
   "source": [
    "# Store Dataframes if Necessary"
   ]
  },
  {
   "cell_type": "code",
   "execution_count": null,
   "metadata": {
    "collapsed": true
   },
   "outputs": [],
   "source": [
    "# Store Dataframe \n",
    "data_april.to_pickle('data_april.pkl')\n",
    "data_may.to_pickle('data_may.pkl')\n",
    "data_june.to_pickle('data_june.pkl')"
   ]
  }
 ],
 "metadata": {
  "anaconda-cloud": {},
  "kernelspec": {
   "display_name": "Python [Root]",
   "language": "python",
   "name": "Python [Root]"
  },
  "language_info": {
   "codemirror_mode": {
    "name": "ipython",
    "version": 3
   },
   "file_extension": ".py",
   "mimetype": "text/x-python",
   "name": "python",
   "nbconvert_exporter": "python",
   "pygments_lexer": "ipython3",
   "version": "3.5.2"
  }
 },
 "nbformat": 4,
 "nbformat_minor": 0
}
