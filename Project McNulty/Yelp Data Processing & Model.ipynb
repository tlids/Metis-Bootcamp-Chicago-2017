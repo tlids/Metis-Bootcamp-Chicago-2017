{
 "cells": [
  {
   "cell_type": "markdown",
   "metadata": {},
   "source": [
    "# Data Processing & Feature Engineering"
   ]
  },
  {
   "cell_type": "code",
   "execution_count": 321,
   "metadata": {
    "collapsed": false
   },
   "outputs": [],
   "source": [
    "import pandas as pd\n",
    "import pickle\n",
    "import re\n",
    "from tqdm import tqdm\n",
    "from collections import Counter\n",
    "import numpy as np\n",
    "from sklearn.model_selection import train_test_split\n",
    "from sklearn.neighbors import KNeighborsClassifier\n",
    "from sklearn.metrics import accuracy_score\n",
    "from sklearn.linear_model import LogisticRegression\n",
    "import matplotlib.pyplot as plt\n",
    "import seaborn as sns\n",
    "from sklearn.model_selection import learning_curve\n",
    "from sklearn.naive_bayes import GaussianNB\n",
    "from sklearn.svm import SVC\n",
    "from sklearn.tree import DecisionTreeClassifier\n",
    "from sklearn.ensemble import RandomForestClassifier\n",
    "from sklearn.cross_validation import cross_val_score\n",
    "from sklearn.cross_validation import cross_val_score\n",
    "import ast\n",
    "from sklearn import preprocessing\n",
    "from sklearn import tree\n",
    "from sklearn.model_selection import GridSearchCV\n",
    "import pydot\n",
    "import graphviz\n",
    "from sklearn.tree import export_graphviz\n",
    "from scipy.stats.mstats import mode\n",
    "from sklearn.ensemble import BaggingClassifier\n",
    "from sklearn.naive_bayes import MultinomialNB\n",
    "from sklearn.naive_bayes import BernoulliNB\n",
    "from sklearn.ensemble import VotingClassifier\n",
    "from sklearn.dummy import DummyClassifier\n",
    "from sklearn.metrics import recall_score\n",
    "\n",
    "%matplotlib inline"
   ]
  },
  {
   "cell_type": "code",
   "execution_count": 322,
   "metadata": {
    "collapsed": true
   },
   "outputs": [],
   "source": [
    "# Read the pickle file\n",
    "\n",
    "df = pd.read_pickle('yelp_lv_restaurants.pkl')"
   ]
  },
  {
   "cell_type": "code",
   "execution_count": 323,
   "metadata": {
    "collapsed": false
   },
   "outputs": [
    {
     "data": {
      "text/html": [
       "<div>\n",
       "<table border=\"1\" class=\"dataframe\">\n",
       "  <thead>\n",
       "    <tr style=\"text-align: right;\">\n",
       "      <th></th>\n",
       "      <th>city</th>\n",
       "      <th>latitude</th>\n",
       "      <th>type</th>\n",
       "      <th>attributes</th>\n",
       "      <th>address</th>\n",
       "      <th>review_count</th>\n",
       "      <th>postal_code</th>\n",
       "      <th>is_open</th>\n",
       "      <th>state</th>\n",
       "      <th>categories</th>\n",
       "      <th>business_id</th>\n",
       "      <th>stars</th>\n",
       "      <th>hours</th>\n",
       "      <th>longitude</th>\n",
       "      <th>name</th>\n",
       "      <th>neighborhood</th>\n",
       "      <th>index</th>\n",
       "      <th>is_restaurant</th>\n",
       "    </tr>\n",
       "    <tr>\n",
       "      <th>Order</th>\n",
       "      <th></th>\n",
       "      <th></th>\n",
       "      <th></th>\n",
       "      <th></th>\n",
       "      <th></th>\n",
       "      <th></th>\n",
       "      <th></th>\n",
       "      <th></th>\n",
       "      <th></th>\n",
       "      <th></th>\n",
       "      <th></th>\n",
       "      <th></th>\n",
       "      <th></th>\n",
       "      <th></th>\n",
       "      <th></th>\n",
       "      <th></th>\n",
       "      <th></th>\n",
       "      <th></th>\n",
       "    </tr>\n",
       "  </thead>\n",
       "  <tbody>\n",
       "    <tr>\n",
       "      <th>37</th>\n",
       "      <td>Las Vegas</td>\n",
       "      <td>36.101</td>\n",
       "      <td>business</td>\n",
       "      <td>[Alcohol: full_bar, BusinessAcceptsCreditCards...</td>\n",
       "      <td>4811 S Rainbow Blvd</td>\n",
       "      <td>15</td>\n",
       "      <td>89103</td>\n",
       "      <td>0</td>\n",
       "      <td>NV</td>\n",
       "      <td>[Persian/Iranian, Restaurants, Ethnic Food, Fo...</td>\n",
       "      <td>saWZO6hB4B8P-mIzS1--Xw</td>\n",
       "      <td>2.5</td>\n",
       "      <td>None</td>\n",
       "      <td>-115.244</td>\n",
       "      <td>Kabob Palace</td>\n",
       "      <td>Spring Valley</td>\n",
       "      <td>16</td>\n",
       "      <td>1</td>\n",
       "    </tr>\n",
       "    <tr>\n",
       "      <th>71</th>\n",
       "      <td>Las Vegas</td>\n",
       "      <td>36.0991</td>\n",
       "      <td>business</td>\n",
       "      <td>[Alcohol: none, Ambience: {'romantic': False, ...</td>\n",
       "      <td>4972 S Maryland Pkwy, Ste 22</td>\n",
       "      <td>33</td>\n",
       "      <td>89119</td>\n",
       "      <td>1</td>\n",
       "      <td>NV</td>\n",
       "      <td>[Restaurants, Vegetarian, Indian]</td>\n",
       "      <td>hMh9XOwNQcu31NAOCqhAEw</td>\n",
       "      <td>3.5</td>\n",
       "      <td>None</td>\n",
       "      <td>-115.136</td>\n",
       "      <td>Taste of India</td>\n",
       "      <td>Southeast</td>\n",
       "      <td>16</td>\n",
       "      <td>1</td>\n",
       "    </tr>\n",
       "    <tr>\n",
       "      <th>72</th>\n",
       "      <td>Las Vegas</td>\n",
       "      <td>36.0658</td>\n",
       "      <td>business</td>\n",
       "      <td>[Ambience: {'romantic': False, 'intimate': Fal...</td>\n",
       "      <td>2053 Pama Ln</td>\n",
       "      <td>35</td>\n",
       "      <td>89119</td>\n",
       "      <td>0</td>\n",
       "      <td>NV</td>\n",
       "      <td>[American (New), Cafes, Restaurants]</td>\n",
       "      <td>pmJqSsCfgbo3TxPWpQNLIw</td>\n",
       "      <td>4.5</td>\n",
       "      <td>[Wednesday 10:0-14:0, Thursday 10:0-14:0, Frid...</td>\n",
       "      <td>-115.124</td>\n",
       "      <td>Artisanal Foods Cafe</td>\n",
       "      <td>Southeast</td>\n",
       "      <td>16</td>\n",
       "      <td>1</td>\n",
       "    </tr>\n",
       "    <tr>\n",
       "      <th>102</th>\n",
       "      <td>Las Vegas</td>\n",
       "      <td>36.2385</td>\n",
       "      <td>business</td>\n",
       "      <td>[Alcohol: full_bar, Ambience: {'romantic': Fal...</td>\n",
       "      <td>4341 N Rancho Dr</td>\n",
       "      <td>9</td>\n",
       "      <td>89130</td>\n",
       "      <td>0</td>\n",
       "      <td>NV</td>\n",
       "      <td>[Nightlife, Bars, Restaurants, Thai, Sports Bars]</td>\n",
       "      <td>kUUBBLBHCasOl2a5nW9nAw</td>\n",
       "      <td>3.5</td>\n",
       "      <td>None</td>\n",
       "      <td>-115.232</td>\n",
       "      <td>Bailey's Sports Bar &amp; Eatery</td>\n",
       "      <td>Northwest</td>\n",
       "      <td>16</td>\n",
       "      <td>1</td>\n",
       "    </tr>\n",
       "    <tr>\n",
       "      <th>103</th>\n",
       "      <td>Las Vegas</td>\n",
       "      <td>36.2497</td>\n",
       "      <td>business</td>\n",
       "      <td>[Alcohol: none, Ambience: {'romantic': False, ...</td>\n",
       "      <td>4949 N Rancho Dr</td>\n",
       "      <td>41</td>\n",
       "      <td>89130</td>\n",
       "      <td>1</td>\n",
       "      <td>NV</td>\n",
       "      <td>[Chicken Wings, Fast Food, Restaurants]</td>\n",
       "      <td>A2pZTpFXWC38z506XIhnBQ</td>\n",
       "      <td>3.5</td>\n",
       "      <td>[Monday 10:30-0:0, Tuesday 10:30-0:0, Wednesda...</td>\n",
       "      <td>-115.245</td>\n",
       "      <td>Wingstop</td>\n",
       "      <td>Northwest</td>\n",
       "      <td>16</td>\n",
       "      <td>1</td>\n",
       "    </tr>\n",
       "    <tr>\n",
       "      <th>154</th>\n",
       "      <td>Las Vegas</td>\n",
       "      <td>36.1775</td>\n",
       "      <td>business</td>\n",
       "      <td>[Alcohol: none, BusinessAcceptsCreditCards: Tr...</td>\n",
       "      <td>2230 W Bonanza Rd</td>\n",
       "      <td>6</td>\n",
       "      <td>89106</td>\n",
       "      <td>0</td>\n",
       "      <td>NV</td>\n",
       "      <td>[Barbeque, Restaurants, Southern]</td>\n",
       "      <td>InDH4ZQ_byiQ5PyaqgHI8Q</td>\n",
       "      <td>2</td>\n",
       "      <td>None</td>\n",
       "      <td>-115.173</td>\n",
       "      <td>Big Mama's Soul Food Rib Shack</td>\n",
       "      <td></td>\n",
       "      <td>16</td>\n",
       "      <td>1</td>\n",
       "    </tr>\n",
       "    <tr>\n",
       "      <th>177</th>\n",
       "      <td>Las Vegas</td>\n",
       "      <td>36.1591</td>\n",
       "      <td>business</td>\n",
       "      <td>[Alcohol: beer_and_wine, BusinessAcceptsCredit...</td>\n",
       "      <td>7002 W Charleston Blvd</td>\n",
       "      <td>6</td>\n",
       "      <td>89145</td>\n",
       "      <td>0</td>\n",
       "      <td>NV</td>\n",
       "      <td>[Restaurants, Burgers, Local Flavor, Barbeque]</td>\n",
       "      <td>WleVOQ9YhBYl4SWrlsLDhA</td>\n",
       "      <td>3.5</td>\n",
       "      <td>[Monday 10:0-20:0, Tuesday 10:0-20:0, Wednesda...</td>\n",
       "      <td>-115.251</td>\n",
       "      <td>Red Apple Grill</td>\n",
       "      <td>Westside</td>\n",
       "      <td>16</td>\n",
       "      <td>1</td>\n",
       "    </tr>\n",
       "    <tr>\n",
       "      <th>179</th>\n",
       "      <td>Las Vegas</td>\n",
       "      <td>36.2973</td>\n",
       "      <td>business</td>\n",
       "      <td>[Alcohol: none, Ambience: {'romantic': False, ...</td>\n",
       "      <td>7501 N Cimarron Rd, Ste 108</td>\n",
       "      <td>132</td>\n",
       "      <td>89131</td>\n",
       "      <td>1</td>\n",
       "      <td>NV</td>\n",
       "      <td>[Desserts, Food, Pizza, Restaurants, Bakeries]</td>\n",
       "      <td>gMUAn6xcuE-TbY1seFw_Ww</td>\n",
       "      <td>4.5</td>\n",
       "      <td>[Monday 11:0-21:0, Tuesday 11:0-20:0, Wednesda...</td>\n",
       "      <td>-115.27</td>\n",
       "      <td>Presto Calzone Bakery</td>\n",
       "      <td>Centennial</td>\n",
       "      <td>16</td>\n",
       "      <td>1</td>\n",
       "    </tr>\n",
       "    <tr>\n",
       "      <th>184</th>\n",
       "      <td>Las Vegas</td>\n",
       "      <td>36.2712</td>\n",
       "      <td>business</td>\n",
       "      <td>[Alcohol: beer_and_wine, Ambience: {'romantic'...</td>\n",
       "      <td>7930 W Tropical Pkwy</td>\n",
       "      <td>74</td>\n",
       "      <td>89149</td>\n",
       "      <td>0</td>\n",
       "      <td>NV</td>\n",
       "      <td>[Restaurants, Pizza]</td>\n",
       "      <td>kUntNQ5P9IrRzEoHdRxV-w</td>\n",
       "      <td>3.5</td>\n",
       "      <td>[Monday 11:0-21:0, Tuesday 11:0-21:0, Wednesda...</td>\n",
       "      <td>-115.268</td>\n",
       "      <td>Mark Rich's New York Pizza &amp; Pasta</td>\n",
       "      <td>Centennial</td>\n",
       "      <td>16</td>\n",
       "      <td>1</td>\n",
       "    </tr>\n",
       "    <tr>\n",
       "      <th>260</th>\n",
       "      <td>Las Vegas</td>\n",
       "      <td>36.1949</td>\n",
       "      <td>business</td>\n",
       "      <td>[Alcohol: beer_and_wine, Ambience: {'romantic'...</td>\n",
       "      <td>1930 N Decatur Blvd, Ste 1</td>\n",
       "      <td>7</td>\n",
       "      <td>89108</td>\n",
       "      <td>0</td>\n",
       "      <td>NV</td>\n",
       "      <td>[Restaurants, Chinese]</td>\n",
       "      <td>-vb_yx5QnIhpXUIdPVD2og</td>\n",
       "      <td>3.5</td>\n",
       "      <td>[Monday 11:30-22:0, Tuesday 11:30-22:0, Wednes...</td>\n",
       "      <td>-115.205</td>\n",
       "      <td>Fair View Chinese Cuisine</td>\n",
       "      <td></td>\n",
       "      <td>16</td>\n",
       "      <td>1</td>\n",
       "    </tr>\n",
       "    <tr>\n",
       "      <th>269</th>\n",
       "      <td>Las Vegas</td>\n",
       "      <td>36.1041</td>\n",
       "      <td>business</td>\n",
       "      <td>[Alcohol: none, Ambience: {'romantic': False, ...</td>\n",
       "      <td>4747 S Maryland Pkwy</td>\n",
       "      <td>34</td>\n",
       "      <td>89119</td>\n",
       "      <td>0</td>\n",
       "      <td>NV</td>\n",
       "      <td>[Restaurants, Chinese]</td>\n",
       "      <td>3rkxTx8DoZSl7_FryhXCVQ</td>\n",
       "      <td>3.5</td>\n",
       "      <td>[Monday 10:30-21:30, Tuesday 10:30-21:30, Wedn...</td>\n",
       "      <td>-115.138</td>\n",
       "      <td>Jugoo Chinese Restaurant</td>\n",
       "      <td>University</td>\n",
       "      <td>16</td>\n",
       "      <td>1</td>\n",
       "    </tr>\n",
       "    <tr>\n",
       "      <th>299</th>\n",
       "      <td>Las Vegas</td>\n",
       "      <td>36.143</td>\n",
       "      <td>business</td>\n",
       "      <td>[Alcohol: none, Ambience: {'romantic': False, ...</td>\n",
       "      <td>2620 S Maryland Pkwy, Ste 176</td>\n",
       "      <td>103</td>\n",
       "      <td>89109</td>\n",
       "      <td>1</td>\n",
       "      <td>NV</td>\n",
       "      <td>[Filipino, Restaurants]</td>\n",
       "      <td>kJl3l4fSa2spv_Mkhgogmg</td>\n",
       "      <td>3.5</td>\n",
       "      <td>[Monday 7:0-20:0, Tuesday 7:0-20:0, Wednesday ...</td>\n",
       "      <td>-115.137</td>\n",
       "      <td>Ito'y Sariling Atin</td>\n",
       "      <td>Eastside</td>\n",
       "      <td>16</td>\n",
       "      <td>1</td>\n",
       "    </tr>\n",
       "    <tr>\n",
       "      <th>300</th>\n",
       "      <td>Las Vegas</td>\n",
       "      <td>36.1363</td>\n",
       "      <td>business</td>\n",
       "      <td>[Alcohol: full_bar, Ambience: {'romantic': Fal...</td>\n",
       "      <td>3000 Paradise Rd</td>\n",
       "      <td>60</td>\n",
       "      <td>89109</td>\n",
       "      <td>0</td>\n",
       "      <td>NV</td>\n",
       "      <td>[Mexican, Restaurants]</td>\n",
       "      <td>CCNp1qS8n2gh51X7Wadabw</td>\n",
       "      <td>2</td>\n",
       "      <td>None</td>\n",
       "      <td>-115.151</td>\n",
       "      <td>Vince Neil's Tatuado Cantina</td>\n",
       "      <td>Eastside</td>\n",
       "      <td>16</td>\n",
       "      <td>1</td>\n",
       "    </tr>\n",
       "    <tr>\n",
       "      <th>325</th>\n",
       "      <td>Las Vegas</td>\n",
       "      <td>36.1257</td>\n",
       "      <td>business</td>\n",
       "      <td>[Alcohol: none, Ambience: {'romantic': False, ...</td>\n",
       "      <td>8635 Spring Mountain Rd</td>\n",
       "      <td>36</td>\n",
       "      <td>89117</td>\n",
       "      <td>1</td>\n",
       "      <td>NV</td>\n",
       "      <td>[Fast Food, Restaurants, Burgers]</td>\n",
       "      <td>rECgTdKelvefty5JIXHDbg</td>\n",
       "      <td>2</td>\n",
       "      <td>[Monday 6:0-23:0, Tuesday 6:0-23:0, Wednesday ...</td>\n",
       "      <td>-115.272</td>\n",
       "      <td>McDonald's</td>\n",
       "      <td>Spring Valley</td>\n",
       "      <td>16</td>\n",
       "      <td>1</td>\n",
       "    </tr>\n",
       "    <tr>\n",
       "      <th>418</th>\n",
       "      <td>Las Vegas</td>\n",
       "      <td>36.1087</td>\n",
       "      <td>business</td>\n",
       "      <td>[Alcohol: full_bar, BikeParking: False, Busine...</td>\n",
       "      <td>3717 S Las Vegas Blvd, Ste 140-A</td>\n",
       "      <td>76</td>\n",
       "      <td>89109</td>\n",
       "      <td>1</td>\n",
       "      <td>NV</td>\n",
       "      <td>[Mexican, Restaurants, Fast Food]</td>\n",
       "      <td>mB_cI1tCrNxxvr2e2myNrQ</td>\n",
       "      <td>3</td>\n",
       "      <td>[Monday 0:0-0:0, Tuesday 0:0-0:0, Wednesday 0:...</td>\n",
       "      <td>-115.172</td>\n",
       "      <td>Taco Bell Cantina</td>\n",
       "      <td>The Strip</td>\n",
       "      <td>16</td>\n",
       "      <td>1</td>\n",
       "    </tr>\n",
       "    <tr>\n",
       "      <th>430</th>\n",
       "      <td>Las Vegas</td>\n",
       "      <td>36.0954</td>\n",
       "      <td>business</td>\n",
       "      <td>[Alcohol: full_bar, Ambience: {'romantic': Fal...</td>\n",
       "      <td>3900 Las Vegas Blvd S</td>\n",
       "      <td>198</td>\n",
       "      <td>89119</td>\n",
       "      <td>1</td>\n",
       "      <td>NV</td>\n",
       "      <td>[Nightlife, Food, American (Traditional), Rest...</td>\n",
       "      <td>KaGZE0_o1EmmSN4Fo_cpUw</td>\n",
       "      <td>3</td>\n",
       "      <td>[Monday 16:0-0:0, Tuesday 16:0-0:0, Wednesday ...</td>\n",
       "      <td>-115.175</td>\n",
       "      <td>Public House</td>\n",
       "      <td>The Strip</td>\n",
       "      <td>16</td>\n",
       "      <td>1</td>\n",
       "    </tr>\n",
       "    <tr>\n",
       "      <th>434</th>\n",
       "      <td>Las Vegas</td>\n",
       "      <td>36.1606</td>\n",
       "      <td>business</td>\n",
       "      <td>[Alcohol: none, Ambience: {'romantic': False, ...</td>\n",
       "      <td>10220 W Charleston, Ste 2</td>\n",
       "      <td>13</td>\n",
       "      <td>89135</td>\n",
       "      <td>0</td>\n",
       "      <td>NV</td>\n",
       "      <td>[Food, Vegetarian, Vegan, Restaurants, America...</td>\n",
       "      <td>RxZpGcmMmUUlLn8c6RTk8w</td>\n",
       "      <td>3.5</td>\n",
       "      <td>[Monday 8:0-20:0, Tuesday 8:0-20:0, Wednesday ...</td>\n",
       "      <td>-115.319</td>\n",
       "      <td>My Healthy Meal</td>\n",
       "      <td>Summerlin</td>\n",
       "      <td>16</td>\n",
       "      <td>1</td>\n",
       "    </tr>\n",
       "    <tr>\n",
       "      <th>443</th>\n",
       "      <td>Las Vegas</td>\n",
       "      <td>36.1214</td>\n",
       "      <td>business</td>\n",
       "      <td>[Ambience: {'romantic': False, 'intimate': Fal...</td>\n",
       "      <td>3355 Las Vegas Blvd S</td>\n",
       "      <td>6</td>\n",
       "      <td>89109</td>\n",
       "      <td>1</td>\n",
       "      <td>NV</td>\n",
       "      <td>[Japanese, Restaurants]</td>\n",
       "      <td>8cn8zqkyz-UpGKXcKeIRYA</td>\n",
       "      <td>2</td>\n",
       "      <td>None</td>\n",
       "      <td>-115.17</td>\n",
       "      <td>Wasabi Jane's Venetiaen</td>\n",
       "      <td>The Strip</td>\n",
       "      <td>16</td>\n",
       "      <td>1</td>\n",
       "    </tr>\n",
       "    <tr>\n",
       "      <th>444</th>\n",
       "      <td>Las Vegas</td>\n",
       "      <td>36.1354</td>\n",
       "      <td>business</td>\n",
       "      <td>[BusinessAcceptsCreditCards: True, Restaurants...</td>\n",
       "      <td>Riviera Hotel and Casino, 2901 Las Vegas Blvd S</td>\n",
       "      <td>3</td>\n",
       "      <td>89109</td>\n",
       "      <td>1</td>\n",
       "      <td>NV</td>\n",
       "      <td>[Restaurants, Italian]</td>\n",
       "      <td>F7E3qP0oz_SuVGZGL0D8Zw</td>\n",
       "      <td>3</td>\n",
       "      <td>None</td>\n",
       "      <td>-115.16</td>\n",
       "      <td>Ristorante Italiano</td>\n",
       "      <td>The Strip</td>\n",
       "      <td>16</td>\n",
       "      <td>1</td>\n",
       "    </tr>\n",
       "    <tr>\n",
       "      <th>478</th>\n",
       "      <td>Las Vegas</td>\n",
       "      <td>36.1517</td>\n",
       "      <td>business</td>\n",
       "      <td>[BusinessAcceptsCreditCards: True, Restaurants...</td>\n",
       "      <td>4875 West Oakey Boulevard</td>\n",
       "      <td>4</td>\n",
       "      <td>89102</td>\n",
       "      <td>1</td>\n",
       "      <td>NV</td>\n",
       "      <td>[Restaurants, American (Traditional), Persian/...</td>\n",
       "      <td>QVcSKzl47nrO_LWFzz5AJQ</td>\n",
       "      <td>5</td>\n",
       "      <td>[Friday 6:0-22:0, Saturday 6:0-22:0, Sunday 6:...</td>\n",
       "      <td>-115.205</td>\n",
       "      <td>Cactus Cafe</td>\n",
       "      <td>Westside</td>\n",
       "      <td>16</td>\n",
       "      <td>1</td>\n",
       "    </tr>\n",
       "    <tr>\n",
       "      <th>479</th>\n",
       "      <td>Las Vegas</td>\n",
       "      <td>36.1449</td>\n",
       "      <td>business</td>\n",
       "      <td>[Alcohol: none, Ambience: {'romantic': False, ...</td>\n",
       "      <td>4400 W Sahara Ave</td>\n",
       "      <td>8</td>\n",
       "      <td>89102</td>\n",
       "      <td>1</td>\n",
       "      <td>NV</td>\n",
       "      <td>[Restaurants, Burgers, Fast Food]</td>\n",
       "      <td>1tNVPumjvFErYjvSXbOQ6Q</td>\n",
       "      <td>2</td>\n",
       "      <td>None</td>\n",
       "      <td>-115.2</td>\n",
       "      <td>Wendy's</td>\n",
       "      <td>Westside</td>\n",
       "      <td>16</td>\n",
       "      <td>1</td>\n",
       "    </tr>\n",
       "    <tr>\n",
       "      <th>629</th>\n",
       "      <td>Las Vegas</td>\n",
       "      <td>36.0555</td>\n",
       "      <td>business</td>\n",
       "      <td>[Alcohol: none, Ambience: {'romantic': False, ...</td>\n",
       "      <td>8520 W. Warm Springs Road</td>\n",
       "      <td>27</td>\n",
       "      <td>89113</td>\n",
       "      <td>1</td>\n",
       "      <td>NV</td>\n",
       "      <td>[Fast Food, Mexican, Tex-Mex, Restaurants]</td>\n",
       "      <td>cJ5i4V6_VKjkOeEHD4ENeQ</td>\n",
       "      <td>3</td>\n",
       "      <td>[Monday 7:0-1:0, Tuesday 7:0-1:0, Wednesday 7:...</td>\n",
       "      <td>-115.279</td>\n",
       "      <td>Taco Bell</td>\n",
       "      <td>Southwest</td>\n",
       "      <td>16</td>\n",
       "      <td>1</td>\n",
       "    </tr>\n",
       "    <tr>\n",
       "      <th>658</th>\n",
       "      <td>Las Vegas</td>\n",
       "      <td>36.1956</td>\n",
       "      <td>business</td>\n",
       "      <td>[Alcohol: beer_and_wine, Ambience: {'romantic'...</td>\n",
       "      <td>6055 E Lake Mead Blvd</td>\n",
       "      <td>120</td>\n",
       "      <td>89156</td>\n",
       "      <td>1</td>\n",
       "      <td>NV</td>\n",
       "      <td>[Restaurants, Mexican]</td>\n",
       "      <td>tstimHoMcYbkSC4eBA1wEg</td>\n",
       "      <td>4.5</td>\n",
       "      <td>[Monday 11:0-21:0, Tuesday 10:0-21:0, Wednesda...</td>\n",
       "      <td>-115.04</td>\n",
       "      <td>Mama Maria's Mexican Restaurant</td>\n",
       "      <td>Sunrise</td>\n",
       "      <td>16</td>\n",
       "      <td>1</td>\n",
       "    </tr>\n",
       "    <tr>\n",
       "      <th>701</th>\n",
       "      <td>Las Vegas</td>\n",
       "      <td>36.1714</td>\n",
       "      <td>business</td>\n",
       "      <td>[BikeParking: True, BusinessAcceptsCreditCards...</td>\n",
       "      <td>238 S Rainbow Blvd</td>\n",
       "      <td>12</td>\n",
       "      <td>89145</td>\n",
       "      <td>1</td>\n",
       "      <td>NV</td>\n",
       "      <td>[Restaurants, Pizza]</td>\n",
       "      <td>FZDcm4f7aOvYK7aD7aBtvA</td>\n",
       "      <td>2.5</td>\n",
       "      <td>None</td>\n",
       "      <td>-115.245</td>\n",
       "      <td>Ray's Pizzeria and Restaurant</td>\n",
       "      <td>Westside</td>\n",
       "      <td>16</td>\n",
       "      <td>1</td>\n",
       "    </tr>\n",
       "    <tr>\n",
       "      <th>713</th>\n",
       "      <td>Las Vegas</td>\n",
       "      <td>36.1947</td>\n",
       "      <td>business</td>\n",
       "      <td>[Alcohol: none, Ambience: {'romantic': False, ...</td>\n",
       "      <td>1920 N Decatur Blvd</td>\n",
       "      <td>40</td>\n",
       "      <td>89108</td>\n",
       "      <td>1</td>\n",
       "      <td>NV</td>\n",
       "      <td>[Restaurants, Mexican]</td>\n",
       "      <td>OQcvO5P3gH0cuJ-bPXwfQQ</td>\n",
       "      <td>5</td>\n",
       "      <td>[Monday 9:0-21:0, Tuesday 9:0-21:0, Wednesday ...</td>\n",
       "      <td>-115.205</td>\n",
       "      <td>Mi Pueblo Taco Shop</td>\n",
       "      <td></td>\n",
       "      <td>16</td>\n",
       "      <td>1</td>\n",
       "    </tr>\n",
       "    <tr>\n",
       "      <th>723</th>\n",
       "      <td>Las Vegas</td>\n",
       "      <td>36.105</td>\n",
       "      <td>business</td>\n",
       "      <td>[Alcohol: none, Ambience: {'romantic': False, ...</td>\n",
       "      <td>4632 S Maryland Pkwy, Ste 12</td>\n",
       "      <td>22</td>\n",
       "      <td>89119</td>\n",
       "      <td>0</td>\n",
       "      <td>NV</td>\n",
       "      <td>[Restaurants, Sandwiches, Fast Food, Pizza]</td>\n",
       "      <td>8jj6dYkZtxTCsq_Y-C_DtQ</td>\n",
       "      <td>4.5</td>\n",
       "      <td>[Monday 11:0-20:0, Tuesday 11:0-20:0, Wednesda...</td>\n",
       "      <td>-115.136</td>\n",
       "      <td>iCheese Pizza &amp; Sub</td>\n",
       "      <td>University</td>\n",
       "      <td>16</td>\n",
       "      <td>1</td>\n",
       "    </tr>\n",
       "    <tr>\n",
       "      <th>754</th>\n",
       "      <td>Las Vegas</td>\n",
       "      <td>36.1435</td>\n",
       "      <td>business</td>\n",
       "      <td>[Alcohol: beer_and_wine, Ambience: {'romantic'...</td>\n",
       "      <td>7865 W Sahara Ave</td>\n",
       "      <td>82</td>\n",
       "      <td>89117</td>\n",
       "      <td>0</td>\n",
       "      <td>NV</td>\n",
       "      <td>[Chicken Wings, Barbeque, Restaurants]</td>\n",
       "      <td>DO3FefiMYiPYsEl6O8W2dw</td>\n",
       "      <td>4.5</td>\n",
       "      <td>None</td>\n",
       "      <td>-115.262</td>\n",
       "      <td>The Las Vegas Grille</td>\n",
       "      <td>Westside</td>\n",
       "      <td>16</td>\n",
       "      <td>1</td>\n",
       "    </tr>\n",
       "    <tr>\n",
       "      <th>778</th>\n",
       "      <td>Las Vegas</td>\n",
       "      <td>36.1011</td>\n",
       "      <td>business</td>\n",
       "      <td>[Alcohol: none, Ambience: {'romantic': False, ...</td>\n",
       "      <td>8650 W Tropicana Ave</td>\n",
       "      <td>48</td>\n",
       "      <td>89147</td>\n",
       "      <td>1</td>\n",
       "      <td>NV</td>\n",
       "      <td>[Ethnic Grocery, Specialty Food, Food, Interna...</td>\n",
       "      <td>ICWQfTi_Dvo723ZJicR8Vw</td>\n",
       "      <td>3.5</td>\n",
       "      <td>[Monday 7:0-22:0, Tuesday 7:0-22:0, Wednesday ...</td>\n",
       "      <td>-115.28</td>\n",
       "      <td>Island Pacific Seafood Market</td>\n",
       "      <td>Spring Valley</td>\n",
       "      <td>16</td>\n",
       "      <td>1</td>\n",
       "    </tr>\n",
       "    <tr>\n",
       "      <th>779</th>\n",
       "      <td>Las Vegas</td>\n",
       "      <td>36.144</td>\n",
       "      <td>business</td>\n",
       "      <td>[BikeParking: False, BusinessAcceptsCreditCard...</td>\n",
       "      <td>4105 W Sahara Ave</td>\n",
       "      <td>21</td>\n",
       "      <td>89102</td>\n",
       "      <td>1</td>\n",
       "      <td>NV</td>\n",
       "      <td>[Thai, Restaurants, Noodles]</td>\n",
       "      <td>q4i-GbjeSp6ucBDXGE9DqA</td>\n",
       "      <td>4.5</td>\n",
       "      <td>[Monday 10:0-2:0, Tuesday 10:0-2:0, Wednesday ...</td>\n",
       "      <td>-115.196</td>\n",
       "      <td>Imsiam Thai Restaurant and Noodle</td>\n",
       "      <td>Westside</td>\n",
       "      <td>16</td>\n",
       "      <td>1</td>\n",
       "    </tr>\n",
       "    <tr>\n",
       "      <th>807</th>\n",
       "      <td>Las Vegas</td>\n",
       "      <td>36.0555</td>\n",
       "      <td>business</td>\n",
       "      <td>[Alcohol: none, Ambience: {'romantic': False, ...</td>\n",
       "      <td>7320 S Rainbow Blvd, Ste 105</td>\n",
       "      <td>15</td>\n",
       "      <td>89139</td>\n",
       "      <td>1</td>\n",
       "      <td>NV</td>\n",
       "      <td>[Sandwiches, Restaurants, Fast Food]</td>\n",
       "      <td>sM43AJF72Lv7RVsy3jEuIg</td>\n",
       "      <td>3</td>\n",
       "      <td>None</td>\n",
       "      <td>-115.241</td>\n",
       "      <td>Subway</td>\n",
       "      <td>Southwest</td>\n",
       "      <td>16</td>\n",
       "      <td>1</td>\n",
       "    </tr>\n",
       "    <tr>\n",
       "      <th>...</th>\n",
       "      <td>...</td>\n",
       "      <td>...</td>\n",
       "      <td>...</td>\n",
       "      <td>...</td>\n",
       "      <td>...</td>\n",
       "      <td>...</td>\n",
       "      <td>...</td>\n",
       "      <td>...</td>\n",
       "      <td>...</td>\n",
       "      <td>...</td>\n",
       "      <td>...</td>\n",
       "      <td>...</td>\n",
       "      <td>...</td>\n",
       "      <td>...</td>\n",
       "      <td>...</td>\n",
       "      <td>...</td>\n",
       "      <td>...</td>\n",
       "      <td>...</td>\n",
       "    </tr>\n",
       "    <tr>\n",
       "      <th>143232</th>\n",
       "      <td>Las Vegas</td>\n",
       "      <td>36.0406</td>\n",
       "      <td>business</td>\n",
       "      <td>[BusinessAcceptsCreditCards: True, GoodForKids...</td>\n",
       "      <td>8170 S Eastern Avenue, Suite 12</td>\n",
       "      <td>3</td>\n",
       "      <td>89123</td>\n",
       "      <td>1</td>\n",
       "      <td>NV</td>\n",
       "      <td>[Restaurants, Fast Food, Sandwiches]</td>\n",
       "      <td>TIUd6XX7-hF6EPF2NowMsA</td>\n",
       "      <td>3.5</td>\n",
       "      <td>None</td>\n",
       "      <td>-115.117</td>\n",
       "      <td>Subway</td>\n",
       "      <td>Southeast</td>\n",
       "      <td>16</td>\n",
       "      <td>1</td>\n",
       "    </tr>\n",
       "    <tr>\n",
       "      <th>143233</th>\n",
       "      <td>Las Vegas</td>\n",
       "      <td>36.0147</td>\n",
       "      <td>business</td>\n",
       "      <td>[Alcohol: none, Ambience: {'romantic': False, ...</td>\n",
       "      <td>9620 Las Vegas Blvd, Ste E5</td>\n",
       "      <td>155</td>\n",
       "      <td>89123</td>\n",
       "      <td>1</td>\n",
       "      <td>NV</td>\n",
       "      <td>[Salad, Restaurants, Sandwiches, Vegetarian]</td>\n",
       "      <td>deuHIeaTY8ns_GZAxU5H9g</td>\n",
       "      <td>4</td>\n",
       "      <td>[Monday 10:0-21:0, Tuesday 10:0-21:0, Wednesda...</td>\n",
       "      <td>-115.171</td>\n",
       "      <td>Capriotti's Sandwich Shop</td>\n",
       "      <td>Southeast</td>\n",
       "      <td>16</td>\n",
       "      <td>1</td>\n",
       "    </tr>\n",
       "    <tr>\n",
       "      <th>143255</th>\n",
       "      <td>Las Vegas</td>\n",
       "      <td>36.1143</td>\n",
       "      <td>business</td>\n",
       "      <td>[BikeParking: False, BusinessAcceptsCreditCard...</td>\n",
       "      <td>4321 W Flamingo Rd</td>\n",
       "      <td>12</td>\n",
       "      <td>89103</td>\n",
       "      <td>1</td>\n",
       "      <td>NV</td>\n",
       "      <td>[Fast Food, Restaurants, Burgers]</td>\n",
       "      <td>SBa0RGFfjY1QSu7QTSn-kQ</td>\n",
       "      <td>1.5</td>\n",
       "      <td>[Monday 0:0-0:0, Tuesday 0:0-0:0, Wednesday 0:...</td>\n",
       "      <td>-115.196</td>\n",
       "      <td>McDonald's</td>\n",
       "      <td></td>\n",
       "      <td>16</td>\n",
       "      <td>1</td>\n",
       "    </tr>\n",
       "    <tr>\n",
       "      <th>143302</th>\n",
       "      <td>Las Vegas</td>\n",
       "      <td>36.2799</td>\n",
       "      <td>business</td>\n",
       "      <td>[Alcohol: none, Ambience: {'romantic': False, ...</td>\n",
       "      <td>6584 N Decatur Blvd, Ste 100</td>\n",
       "      <td>94</td>\n",
       "      <td>89131</td>\n",
       "      <td>1</td>\n",
       "      <td>NV</td>\n",
       "      <td>[Restaurants, Barbeque]</td>\n",
       "      <td>2RFe9vDTzyBkF4mvsFDDow</td>\n",
       "      <td>3.5</td>\n",
       "      <td>[Monday 11:0-21:0, Tuesday 11:0-21:0, Wednesda...</td>\n",
       "      <td>-115.206</td>\n",
       "      <td>Dickey's Barbecue Pit</td>\n",
       "      <td></td>\n",
       "      <td>16</td>\n",
       "      <td>1</td>\n",
       "    </tr>\n",
       "    <tr>\n",
       "      <th>143314</th>\n",
       "      <td>Las Vegas</td>\n",
       "      <td>36.0244</td>\n",
       "      <td>business</td>\n",
       "      <td>[Alcohol: none, Ambience: {'romantic': False, ...</td>\n",
       "      <td>9111 Las Vegas Blvd S</td>\n",
       "      <td>35</td>\n",
       "      <td>89123</td>\n",
       "      <td>0</td>\n",
       "      <td>NV</td>\n",
       "      <td>[Burgers, American (New), Restaurants]</td>\n",
       "      <td>7lDDVsh4K3KeDdUv8_t7Zg</td>\n",
       "      <td>3.5</td>\n",
       "      <td>[Monday 11:0-22:0, Tuesday 11:0-22:0, Wednesda...</td>\n",
       "      <td>-115.173</td>\n",
       "      <td>Burger Brothers</td>\n",
       "      <td>Southeast</td>\n",
       "      <td>16</td>\n",
       "      <td>1</td>\n",
       "    </tr>\n",
       "    <tr>\n",
       "      <th>143354</th>\n",
       "      <td>Las Vegas</td>\n",
       "      <td>36.2188</td>\n",
       "      <td>business</td>\n",
       "      <td>[Alcohol: none, Ambience: {'romantic': False, ...</td>\n",
       "      <td>8300 W Cheyenne Ave</td>\n",
       "      <td>45</td>\n",
       "      <td>89129</td>\n",
       "      <td>1</td>\n",
       "      <td>NV</td>\n",
       "      <td>[Restaurants, Delis]</td>\n",
       "      <td>LcTlT1Uf6XckMjWwRr49sQ</td>\n",
       "      <td>2.5</td>\n",
       "      <td>None</td>\n",
       "      <td>-115.275</td>\n",
       "      <td>Einstein Bros</td>\n",
       "      <td>Northwest</td>\n",
       "      <td>16</td>\n",
       "      <td>1</td>\n",
       "    </tr>\n",
       "    <tr>\n",
       "      <th>143357</th>\n",
       "      <td>Las Vegas</td>\n",
       "      <td>36.1273</td>\n",
       "      <td>business</td>\n",
       "      <td>[Alcohol: full_bar, Ambience: {'romantic': Fal...</td>\n",
       "      <td>3400 S Jones Blvd, Ste 15</td>\n",
       "      <td>153</td>\n",
       "      <td>89146</td>\n",
       "      <td>0</td>\n",
       "      <td>NV</td>\n",
       "      <td>[Chinese, Restaurants]</td>\n",
       "      <td>LJQCv30PCIpC3FnvHF5mXQ</td>\n",
       "      <td>3.5</td>\n",
       "      <td>[Monday 11:0-23:45, Tuesday 11:0-23:45, Wednes...</td>\n",
       "      <td>-115.224</td>\n",
       "      <td>HK Star</td>\n",
       "      <td>Chinatown</td>\n",
       "      <td>16</td>\n",
       "      <td>1</td>\n",
       "    </tr>\n",
       "    <tr>\n",
       "      <th>143359</th>\n",
       "      <td>Las Vegas</td>\n",
       "      <td>36.0896</td>\n",
       "      <td>business</td>\n",
       "      <td>[Alcohol: beer_and_wine, Ambience: {'romantic'...</td>\n",
       "      <td>5455 S Fort Apache Rd, Ste 105</td>\n",
       "      <td>207</td>\n",
       "      <td>89148</td>\n",
       "      <td>1</td>\n",
       "      <td>NV</td>\n",
       "      <td>[Restaurants, Thai]</td>\n",
       "      <td>nMaIIKEAW2cTEWbEyeFyXQ</td>\n",
       "      <td>4</td>\n",
       "      <td>[Monday 11:0-22:0, Tuesday 11:0-22:0, Wednesda...</td>\n",
       "      <td>-115.297</td>\n",
       "      <td>Surang's Thai Kitchen</td>\n",
       "      <td>Spring Valley</td>\n",
       "      <td>16</td>\n",
       "      <td>1</td>\n",
       "    </tr>\n",
       "    <tr>\n",
       "      <th>143429</th>\n",
       "      <td>Las Vegas</td>\n",
       "      <td>36.0573</td>\n",
       "      <td>business</td>\n",
       "      <td>[Alcohol: none, Ambience: {'romantic': False, ...</td>\n",
       "      <td>1725 E Warm Springs Rd, Ste 9</td>\n",
       "      <td>113</td>\n",
       "      <td>89119</td>\n",
       "      <td>1</td>\n",
       "      <td>NV</td>\n",
       "      <td>[Restaurants, Sandwiches, Pizza, Italian, Glut...</td>\n",
       "      <td>GxfgOFgUhv2rfr3FXVWfCg</td>\n",
       "      <td>4</td>\n",
       "      <td>[Monday 10:0-21:0, Tuesday 10:0-21:0, Wednesda...</td>\n",
       "      <td>-115.128</td>\n",
       "      <td>Pizza My Dear</td>\n",
       "      <td>Southeast</td>\n",
       "      <td>16</td>\n",
       "      <td>1</td>\n",
       "    </tr>\n",
       "    <tr>\n",
       "      <th>143581</th>\n",
       "      <td>Las Vegas</td>\n",
       "      <td>36.0991</td>\n",
       "      <td>business</td>\n",
       "      <td>[Alcohol: full_bar, Ambience: {'romantic': Fal...</td>\n",
       "      <td>6125 W Tropicana Ave</td>\n",
       "      <td>5</td>\n",
       "      <td>89103</td>\n",
       "      <td>1</td>\n",
       "      <td>NV</td>\n",
       "      <td>[Nightlife, Restaurants, Bars, American (Tradi...</td>\n",
       "      <td>l3oWxCf7Y-X-fgAxNVR7-A</td>\n",
       "      <td>2</td>\n",
       "      <td>None</td>\n",
       "      <td>-115.226</td>\n",
       "      <td>Irene's Gaming Lounge</td>\n",
       "      <td></td>\n",
       "      <td>16</td>\n",
       "      <td>1</td>\n",
       "    </tr>\n",
       "    <tr>\n",
       "      <th>143615</th>\n",
       "      <td>Las Vegas</td>\n",
       "      <td>36.115</td>\n",
       "      <td>business</td>\n",
       "      <td>[Alcohol: none, BikeParking: True, BusinessAcc...</td>\n",
       "      <td>4815 W Flamingo Rd</td>\n",
       "      <td>11</td>\n",
       "      <td>89103</td>\n",
       "      <td>1</td>\n",
       "      <td>NV</td>\n",
       "      <td>[Fast Food, Burgers, Restaurants]</td>\n",
       "      <td>95ASq_FH5hLT1bA3fdISqw</td>\n",
       "      <td>2</td>\n",
       "      <td>[Monday 6:0-0:0, Tuesday 6:0-0:0, Wednesday 6:...</td>\n",
       "      <td>-115.206</td>\n",
       "      <td>Burger King</td>\n",
       "      <td></td>\n",
       "      <td>16</td>\n",
       "      <td>1</td>\n",
       "    </tr>\n",
       "    <tr>\n",
       "      <th>143636</th>\n",
       "      <td>Las Vegas</td>\n",
       "      <td>36.0254</td>\n",
       "      <td>business</td>\n",
       "      <td>[BusinessAcceptsCreditCards: True, BusinessPar...</td>\n",
       "      <td>9055 S Eastern Ave</td>\n",
       "      <td>4</td>\n",
       "      <td>89123</td>\n",
       "      <td>0</td>\n",
       "      <td>NV</td>\n",
       "      <td>[French, Restaurants]</td>\n",
       "      <td>4oVdfmr4wynOMvFy2u-Z3A</td>\n",
       "      <td>5</td>\n",
       "      <td>None</td>\n",
       "      <td>-115.119</td>\n",
       "      <td>Bonjour Bistro</td>\n",
       "      <td>Southeast</td>\n",
       "      <td>16</td>\n",
       "      <td>1</td>\n",
       "    </tr>\n",
       "    <tr>\n",
       "      <th>143641</th>\n",
       "      <td>Las Vegas</td>\n",
       "      <td>36.1129</td>\n",
       "      <td>business</td>\n",
       "      <td>[Alcohol: full_bar, Ambience: {'romantic': Fal...</td>\n",
       "      <td>4180 S Jones Blvd, Unit 1</td>\n",
       "      <td>25</td>\n",
       "      <td>89103</td>\n",
       "      <td>1</td>\n",
       "      <td>NV</td>\n",
       "      <td>[Karaoke, Filipino, Restaurants, Asian Fusion,...</td>\n",
       "      <td>bM-rAr7gxsxxjD-FlRcIJA</td>\n",
       "      <td>4</td>\n",
       "      <td>[Monday 17:0-5:0, Tuesday 17:0-5:0, Wednesday ...</td>\n",
       "      <td>-115.224</td>\n",
       "      <td>Carding's Tambayan</td>\n",
       "      <td></td>\n",
       "      <td>16</td>\n",
       "      <td>1</td>\n",
       "    </tr>\n",
       "    <tr>\n",
       "      <th>143663</th>\n",
       "      <td>Las Vegas</td>\n",
       "      <td>36.2399</td>\n",
       "      <td>business</td>\n",
       "      <td>[Alcohol: none, Ambience: {'romantic': False, ...</td>\n",
       "      <td>4416 N Rancho Dr</td>\n",
       "      <td>36</td>\n",
       "      <td>89130</td>\n",
       "      <td>1</td>\n",
       "      <td>NV</td>\n",
       "      <td>[Chinese, Restaurants]</td>\n",
       "      <td>phTLTkqSvylLkmz5wAwhTw</td>\n",
       "      <td>3</td>\n",
       "      <td>[Monday 11:0-21:30, Tuesday 11:0-21:30, Wednes...</td>\n",
       "      <td>-115.23</td>\n",
       "      <td>Golden China</td>\n",
       "      <td>Northwest</td>\n",
       "      <td>16</td>\n",
       "      <td>1</td>\n",
       "    </tr>\n",
       "    <tr>\n",
       "      <th>143666</th>\n",
       "      <td>Las Vegas</td>\n",
       "      <td>36.0163</td>\n",
       "      <td>business</td>\n",
       "      <td>[Alcohol: full_bar, Ambience: {'romantic': Fal...</td>\n",
       "      <td>9510 S Eastern Ave</td>\n",
       "      <td>14</td>\n",
       "      <td>89123</td>\n",
       "      <td>0</td>\n",
       "      <td>NV</td>\n",
       "      <td>[Caribbean, Restaurants, Beer, Wine &amp; Spirits,...</td>\n",
       "      <td>6MIWAI3CX2HfGZhmWPHcDw</td>\n",
       "      <td>3.5</td>\n",
       "      <td>[Monday 11:0-22:0, Tuesday 11:0-22:0, Wednesda...</td>\n",
       "      <td>-115.119</td>\n",
       "      <td>Blue Water Restaurant &amp; Sports Bar</td>\n",
       "      <td>Southeast</td>\n",
       "      <td>16</td>\n",
       "      <td>1</td>\n",
       "    </tr>\n",
       "    <tr>\n",
       "      <th>143683</th>\n",
       "      <td>Las Vegas</td>\n",
       "      <td>36.1465</td>\n",
       "      <td>business</td>\n",
       "      <td>[BusinessAcceptsCreditCards: True, WheelchairA...</td>\n",
       "      <td>Stratosphere Hotel &amp; Casino, 2000 Las Vegas Bl...</td>\n",
       "      <td>15</td>\n",
       "      <td>89104</td>\n",
       "      <td>1</td>\n",
       "      <td>NV</td>\n",
       "      <td>[Wedding Planning, Event Planning &amp; Services, ...</td>\n",
       "      <td>j3NoIidtyVJ9iUfyG9X3Qw</td>\n",
       "      <td>3.5</td>\n",
       "      <td>[Monday 9:0-18:0, Tuesday 9:0-18:0, Wednesday ...</td>\n",
       "      <td>-115.156</td>\n",
       "      <td>Chapel in the Clouds</td>\n",
       "      <td>The Strip</td>\n",
       "      <td>16</td>\n",
       "      <td>1</td>\n",
       "    </tr>\n",
       "    <tr>\n",
       "      <th>143714</th>\n",
       "      <td>Las Vegas</td>\n",
       "      <td>36.035</td>\n",
       "      <td>business</td>\n",
       "      <td>[Alcohol: full_bar, BusinessAcceptsCreditCards...</td>\n",
       "      <td>8540 S. Maryland Pkwy</td>\n",
       "      <td>6</td>\n",
       "      <td>89123</td>\n",
       "      <td>0</td>\n",
       "      <td>NV</td>\n",
       "      <td>[American (Traditional), Restaurants]</td>\n",
       "      <td>DPVKotGYF7bCbc88hNZTww</td>\n",
       "      <td>3.5</td>\n",
       "      <td>None</td>\n",
       "      <td>-115.136</td>\n",
       "      <td>Timbers Bar &amp; Grill</td>\n",
       "      <td>Southeast</td>\n",
       "      <td>16</td>\n",
       "      <td>1</td>\n",
       "    </tr>\n",
       "    <tr>\n",
       "      <th>143715</th>\n",
       "      <td>Las Vegas</td>\n",
       "      <td>36.023</td>\n",
       "      <td>business</td>\n",
       "      <td>[BikeParking: True, BusinessAcceptsCreditCards...</td>\n",
       "      <td>2310 E Serene Ave</td>\n",
       "      <td>9</td>\n",
       "      <td>89123</td>\n",
       "      <td>1</td>\n",
       "      <td>NV</td>\n",
       "      <td>[Restaurants, Burgers, Fast Food]</td>\n",
       "      <td>PFOPBxMDFZM0vFrI5R8txQ</td>\n",
       "      <td>1.5</td>\n",
       "      <td>None</td>\n",
       "      <td>-115.124</td>\n",
       "      <td>McDonald's</td>\n",
       "      <td>Southeast</td>\n",
       "      <td>16</td>\n",
       "      <td>1</td>\n",
       "    </tr>\n",
       "    <tr>\n",
       "      <th>143717</th>\n",
       "      <td>Las Vegas</td>\n",
       "      <td>36.0176</td>\n",
       "      <td>business</td>\n",
       "      <td>[BYOB: False, BusinessAcceptsCreditCards: True...</td>\n",
       "      <td>9460 S Eastern Ave</td>\n",
       "      <td>4</td>\n",
       "      <td>89123</td>\n",
       "      <td>0</td>\n",
       "      <td>NV</td>\n",
       "      <td>[Restaurants, Seafood]</td>\n",
       "      <td>2Dw0IxKXErYb6apmQ-JtOA</td>\n",
       "      <td>2</td>\n",
       "      <td>None</td>\n",
       "      <td>-115.118</td>\n",
       "      <td>Sweet Water Prime Seafood</td>\n",
       "      <td>Southeast</td>\n",
       "      <td>16</td>\n",
       "      <td>1</td>\n",
       "    </tr>\n",
       "    <tr>\n",
       "      <th>143720</th>\n",
       "      <td>Las Vegas</td>\n",
       "      <td>36.1149</td>\n",
       "      <td>business</td>\n",
       "      <td>[Alcohol: beer_and_wine, Ambience: {'romantic'...</td>\n",
       "      <td>6820 W Flamingo Rd</td>\n",
       "      <td>102</td>\n",
       "      <td>89103</td>\n",
       "      <td>1</td>\n",
       "      <td>NV</td>\n",
       "      <td>[Caribbean, Restaurants, Delis]</td>\n",
       "      <td>pLFvCV9SsI8ZbWM_4tVtMg</td>\n",
       "      <td>3</td>\n",
       "      <td>[Monday 11:0-21:0, Tuesday 11:0-21:0, Wednesda...</td>\n",
       "      <td>-115.241</td>\n",
       "      <td>Tasty Island Jamaican Restaurant</td>\n",
       "      <td></td>\n",
       "      <td>16</td>\n",
       "      <td>1</td>\n",
       "    </tr>\n",
       "    <tr>\n",
       "      <th>143721</th>\n",
       "      <td>Las Vegas</td>\n",
       "      <td>36.1164</td>\n",
       "      <td>business</td>\n",
       "      <td>[Alcohol: beer_and_wine, Ambience: {'romantic'...</td>\n",
       "      <td>Gold Coast, 4000 W Flamingo Rd</td>\n",
       "      <td>152</td>\n",
       "      <td>89103</td>\n",
       "      <td>1</td>\n",
       "      <td>NV</td>\n",
       "      <td>[Noodles, Restaurants, Chinese]</td>\n",
       "      <td>2YBO1LEKIgyle0uX50u15Q</td>\n",
       "      <td>3.5</td>\n",
       "      <td>[Monday 12:0-23:0, Tuesday 12:0-23:0, Wednesda...</td>\n",
       "      <td>-115.193</td>\n",
       "      <td>Noodle Exchange</td>\n",
       "      <td></td>\n",
       "      <td>16</td>\n",
       "      <td>1</td>\n",
       "    </tr>\n",
       "    <tr>\n",
       "      <th>143784</th>\n",
       "      <td>Las Vegas</td>\n",
       "      <td>36.093</td>\n",
       "      <td>business</td>\n",
       "      <td>[Alcohol: full_bar, Ambience: {'romantic': Fal...</td>\n",
       "      <td>Delano Las Vegas, 3940 Las Vegas Blvd South</td>\n",
       "      <td>259</td>\n",
       "      <td>89119</td>\n",
       "      <td>1</td>\n",
       "      <td>NV</td>\n",
       "      <td>[Sandwiches, Restaurants, American (Traditiona...</td>\n",
       "      <td>8SWZLawwzqwzbXpGQS7gBw</td>\n",
       "      <td>3.5</td>\n",
       "      <td>[Monday 6:30-14:0, Tuesday 6:30-14:0, Wednesda...</td>\n",
       "      <td>-115.178</td>\n",
       "      <td>Della's Kitchen</td>\n",
       "      <td>The Strip</td>\n",
       "      <td>16</td>\n",
       "      <td>1</td>\n",
       "    </tr>\n",
       "    <tr>\n",
       "      <th>143803</th>\n",
       "      <td>Las Vegas</td>\n",
       "      <td>36.2471</td>\n",
       "      <td>business</td>\n",
       "      <td>[Alcohol: none, Ambience: {'romantic': False, ...</td>\n",
       "      <td>4804 W Lone Mountain Rd</td>\n",
       "      <td>15</td>\n",
       "      <td>89130</td>\n",
       "      <td>1</td>\n",
       "      <td>NV</td>\n",
       "      <td>[Fast Food, Restaurants, Burgers, Food, Coffee...</td>\n",
       "      <td>yOvl22iVeqK3_EJbu5Qpaw</td>\n",
       "      <td>2</td>\n",
       "      <td>[Monday 5:0-23:0, Tuesday 5:0-23:0, Wednesday ...</td>\n",
       "      <td>-115.208</td>\n",
       "      <td>McDonald's</td>\n",
       "      <td>Northwest</td>\n",
       "      <td>16</td>\n",
       "      <td>1</td>\n",
       "    </tr>\n",
       "    <tr>\n",
       "      <th>143805</th>\n",
       "      <td>Las Vegas</td>\n",
       "      <td>36.0414</td>\n",
       "      <td>business</td>\n",
       "      <td>[Alcohol: none, Ambience: {'romantic': False, ...</td>\n",
       "      <td>505 E Windmill Ln, Ste D</td>\n",
       "      <td>111</td>\n",
       "      <td>89123</td>\n",
       "      <td>1</td>\n",
       "      <td>NV</td>\n",
       "      <td>[Restaurants, Chinese]</td>\n",
       "      <td>QpOAv584eb-ecG4TLEm95g</td>\n",
       "      <td>3.5</td>\n",
       "      <td>[Monday 10:30-21:30, Tuesday 10:30-21:30, Wedn...</td>\n",
       "      <td>-115.152</td>\n",
       "      <td>China a Go Go</td>\n",
       "      <td>Southeast</td>\n",
       "      <td>16</td>\n",
       "      <td>1</td>\n",
       "    </tr>\n",
       "    <tr>\n",
       "      <th>143807</th>\n",
       "      <td>Las Vegas</td>\n",
       "      <td>36.0413</td>\n",
       "      <td>business</td>\n",
       "      <td>[Alcohol: full_bar, Ambience: {'romantic': Fal...</td>\n",
       "      <td>415 E Windmill Ln</td>\n",
       "      <td>40</td>\n",
       "      <td>89123</td>\n",
       "      <td>1</td>\n",
       "      <td>NV</td>\n",
       "      <td>[Pizza, Restaurants]</td>\n",
       "      <td>sZ3AWH6WPq38fEKijvl9vA</td>\n",
       "      <td>3</td>\n",
       "      <td>None</td>\n",
       "      <td>-115.154</td>\n",
       "      <td>Express Pizza</td>\n",
       "      <td>Southeast</td>\n",
       "      <td>16</td>\n",
       "      <td>1</td>\n",
       "    </tr>\n",
       "    <tr>\n",
       "      <th>143817</th>\n",
       "      <td>Las Vegas</td>\n",
       "      <td>36.1149</td>\n",
       "      <td>business</td>\n",
       "      <td>[Alcohol: none, BikeParking: False, BusinessAc...</td>\n",
       "      <td>4983 W Flamingo Rd, Ste B</td>\n",
       "      <td>169</td>\n",
       "      <td>89103</td>\n",
       "      <td>1</td>\n",
       "      <td>NV</td>\n",
       "      <td>[Restaurants, Soup, Chinese, Noodles]</td>\n",
       "      <td>JPfi__QJAaRzmfh5aOyFEw</td>\n",
       "      <td>4.5</td>\n",
       "      <td>[Monday 11:0-22:0, Tuesday 11:0-22:0, Wednesda...</td>\n",
       "      <td>-115.21</td>\n",
       "      <td>Shang Artisan Noodle</td>\n",
       "      <td></td>\n",
       "      <td>16</td>\n",
       "      <td>1</td>\n",
       "    </tr>\n",
       "    <tr>\n",
       "      <th>143889</th>\n",
       "      <td>Las Vegas</td>\n",
       "      <td>36.0213</td>\n",
       "      <td>business</td>\n",
       "      <td>[BikeParking: False, BusinessAcceptsCreditCard...</td>\n",
       "      <td>Serene Plaza, 1860 E Serene Ave</td>\n",
       "      <td>6</td>\n",
       "      <td>89123</td>\n",
       "      <td>1</td>\n",
       "      <td>NV</td>\n",
       "      <td>[Restaurants, Fast Food, Filipino]</td>\n",
       "      <td>2koVk44qPX7mV8irHO_e3A</td>\n",
       "      <td>3.5</td>\n",
       "      <td>None</td>\n",
       "      <td>-115.127</td>\n",
       "      <td>Filipino Fast Food &amp; Asian Market</td>\n",
       "      <td>Southeast</td>\n",
       "      <td>16</td>\n",
       "      <td>1</td>\n",
       "    </tr>\n",
       "    <tr>\n",
       "      <th>143998</th>\n",
       "      <td>Las Vegas</td>\n",
       "      <td>36.1328</td>\n",
       "      <td>business</td>\n",
       "      <td>[Alcohol: none, Ambience: {'romantic': False, ...</td>\n",
       "      <td>3137 Industrial Rd</td>\n",
       "      <td>504</td>\n",
       "      <td>89109</td>\n",
       "      <td>1</td>\n",
       "      <td>NV</td>\n",
       "      <td>[Asian Fusion, Restaurants, Seafood, Thai]</td>\n",
       "      <td>w5CSi-An5meLnxjKSFn0wQ</td>\n",
       "      <td>4</td>\n",
       "      <td>[Monday 11:0-4:0, Tuesday 11:0-4:0, Wednesday ...</td>\n",
       "      <td>-115.173</td>\n",
       "      <td>Thai St Cafe</td>\n",
       "      <td></td>\n",
       "      <td>16</td>\n",
       "      <td>1</td>\n",
       "    </tr>\n",
       "    <tr>\n",
       "      <th>144018</th>\n",
       "      <td>Las Vegas</td>\n",
       "      <td>36.3027</td>\n",
       "      <td>business</td>\n",
       "      <td>[Alcohol: none, Ambience: {'romantic': False, ...</td>\n",
       "      <td>7785 N Durango Dr, Ste 135</td>\n",
       "      <td>23</td>\n",
       "      <td>89131</td>\n",
       "      <td>0</td>\n",
       "      <td>NV</td>\n",
       "      <td>[Seafood, Restaurants]</td>\n",
       "      <td>8_mXYs-ZOqDGS7ifAjaocA</td>\n",
       "      <td>4</td>\n",
       "      <td>[Monday 12:0-20:0, Tuesday 12:0-20:0, Wednesda...</td>\n",
       "      <td>-115.282</td>\n",
       "      <td>Seafood Station</td>\n",
       "      <td>Centennial</td>\n",
       "      <td>16</td>\n",
       "      <td>1</td>\n",
       "    </tr>\n",
       "    <tr>\n",
       "      <th>144054</th>\n",
       "      <td>Las Vegas</td>\n",
       "      <td>36.17</td>\n",
       "      <td>business</td>\n",
       "      <td>[Alcohol: beer_and_wine, Ambience: {'romantic'...</td>\n",
       "      <td>450 Fremont St, Ste 110</td>\n",
       "      <td>50</td>\n",
       "      <td>98011</td>\n",
       "      <td>1</td>\n",
       "      <td>NV</td>\n",
       "      <td>[Food Trucks, American (New), Caterers, Tapas ...</td>\n",
       "      <td>xowy4YxBXXGOYuajsxjwkA</td>\n",
       "      <td>5</td>\n",
       "      <td>[Monday 12:0-0:0, Tuesday 12:0-0:0, Wednesday ...</td>\n",
       "      <td>-115.141</td>\n",
       "      <td>LV Food Junky</td>\n",
       "      <td>Downtown</td>\n",
       "      <td>16</td>\n",
       "      <td>1</td>\n",
       "    </tr>\n",
       "  </tbody>\n",
       "</table>\n",
       "<p>5431 rows × 18 columns</p>\n",
       "</div>"
      ],
      "text/plain": [
       "             city latitude      type  \\\n",
       "Order                                  \n",
       "37      Las Vegas   36.101  business   \n",
       "71      Las Vegas  36.0991  business   \n",
       "72      Las Vegas  36.0658  business   \n",
       "102     Las Vegas  36.2385  business   \n",
       "103     Las Vegas  36.2497  business   \n",
       "154     Las Vegas  36.1775  business   \n",
       "177     Las Vegas  36.1591  business   \n",
       "179     Las Vegas  36.2973  business   \n",
       "184     Las Vegas  36.2712  business   \n",
       "260     Las Vegas  36.1949  business   \n",
       "269     Las Vegas  36.1041  business   \n",
       "299     Las Vegas   36.143  business   \n",
       "300     Las Vegas  36.1363  business   \n",
       "325     Las Vegas  36.1257  business   \n",
       "418     Las Vegas  36.1087  business   \n",
       "430     Las Vegas  36.0954  business   \n",
       "434     Las Vegas  36.1606  business   \n",
       "443     Las Vegas  36.1214  business   \n",
       "444     Las Vegas  36.1354  business   \n",
       "478     Las Vegas  36.1517  business   \n",
       "479     Las Vegas  36.1449  business   \n",
       "629     Las Vegas  36.0555  business   \n",
       "658     Las Vegas  36.1956  business   \n",
       "701     Las Vegas  36.1714  business   \n",
       "713     Las Vegas  36.1947  business   \n",
       "723     Las Vegas   36.105  business   \n",
       "754     Las Vegas  36.1435  business   \n",
       "778     Las Vegas  36.1011  business   \n",
       "779     Las Vegas   36.144  business   \n",
       "807     Las Vegas  36.0555  business   \n",
       "...           ...      ...       ...   \n",
       "143232  Las Vegas  36.0406  business   \n",
       "143233  Las Vegas  36.0147  business   \n",
       "143255  Las Vegas  36.1143  business   \n",
       "143302  Las Vegas  36.2799  business   \n",
       "143314  Las Vegas  36.0244  business   \n",
       "143354  Las Vegas  36.2188  business   \n",
       "143357  Las Vegas  36.1273  business   \n",
       "143359  Las Vegas  36.0896  business   \n",
       "143429  Las Vegas  36.0573  business   \n",
       "143581  Las Vegas  36.0991  business   \n",
       "143615  Las Vegas   36.115  business   \n",
       "143636  Las Vegas  36.0254  business   \n",
       "143641  Las Vegas  36.1129  business   \n",
       "143663  Las Vegas  36.2399  business   \n",
       "143666  Las Vegas  36.0163  business   \n",
       "143683  Las Vegas  36.1465  business   \n",
       "143714  Las Vegas   36.035  business   \n",
       "143715  Las Vegas   36.023  business   \n",
       "143717  Las Vegas  36.0176  business   \n",
       "143720  Las Vegas  36.1149  business   \n",
       "143721  Las Vegas  36.1164  business   \n",
       "143784  Las Vegas   36.093  business   \n",
       "143803  Las Vegas  36.2471  business   \n",
       "143805  Las Vegas  36.0414  business   \n",
       "143807  Las Vegas  36.0413  business   \n",
       "143817  Las Vegas  36.1149  business   \n",
       "143889  Las Vegas  36.0213  business   \n",
       "143998  Las Vegas  36.1328  business   \n",
       "144018  Las Vegas  36.3027  business   \n",
       "144054  Las Vegas    36.17  business   \n",
       "\n",
       "                                               attributes  \\\n",
       "Order                                                       \n",
       "37      [Alcohol: full_bar, BusinessAcceptsCreditCards...   \n",
       "71      [Alcohol: none, Ambience: {'romantic': False, ...   \n",
       "72      [Ambience: {'romantic': False, 'intimate': Fal...   \n",
       "102     [Alcohol: full_bar, Ambience: {'romantic': Fal...   \n",
       "103     [Alcohol: none, Ambience: {'romantic': False, ...   \n",
       "154     [Alcohol: none, BusinessAcceptsCreditCards: Tr...   \n",
       "177     [Alcohol: beer_and_wine, BusinessAcceptsCredit...   \n",
       "179     [Alcohol: none, Ambience: {'romantic': False, ...   \n",
       "184     [Alcohol: beer_and_wine, Ambience: {'romantic'...   \n",
       "260     [Alcohol: beer_and_wine, Ambience: {'romantic'...   \n",
       "269     [Alcohol: none, Ambience: {'romantic': False, ...   \n",
       "299     [Alcohol: none, Ambience: {'romantic': False, ...   \n",
       "300     [Alcohol: full_bar, Ambience: {'romantic': Fal...   \n",
       "325     [Alcohol: none, Ambience: {'romantic': False, ...   \n",
       "418     [Alcohol: full_bar, BikeParking: False, Busine...   \n",
       "430     [Alcohol: full_bar, Ambience: {'romantic': Fal...   \n",
       "434     [Alcohol: none, Ambience: {'romantic': False, ...   \n",
       "443     [Ambience: {'romantic': False, 'intimate': Fal...   \n",
       "444     [BusinessAcceptsCreditCards: True, Restaurants...   \n",
       "478     [BusinessAcceptsCreditCards: True, Restaurants...   \n",
       "479     [Alcohol: none, Ambience: {'romantic': False, ...   \n",
       "629     [Alcohol: none, Ambience: {'romantic': False, ...   \n",
       "658     [Alcohol: beer_and_wine, Ambience: {'romantic'...   \n",
       "701     [BikeParking: True, BusinessAcceptsCreditCards...   \n",
       "713     [Alcohol: none, Ambience: {'romantic': False, ...   \n",
       "723     [Alcohol: none, Ambience: {'romantic': False, ...   \n",
       "754     [Alcohol: beer_and_wine, Ambience: {'romantic'...   \n",
       "778     [Alcohol: none, Ambience: {'romantic': False, ...   \n",
       "779     [BikeParking: False, BusinessAcceptsCreditCard...   \n",
       "807     [Alcohol: none, Ambience: {'romantic': False, ...   \n",
       "...                                                   ...   \n",
       "143232  [BusinessAcceptsCreditCards: True, GoodForKids...   \n",
       "143233  [Alcohol: none, Ambience: {'romantic': False, ...   \n",
       "143255  [BikeParking: False, BusinessAcceptsCreditCard...   \n",
       "143302  [Alcohol: none, Ambience: {'romantic': False, ...   \n",
       "143314  [Alcohol: none, Ambience: {'romantic': False, ...   \n",
       "143354  [Alcohol: none, Ambience: {'romantic': False, ...   \n",
       "143357  [Alcohol: full_bar, Ambience: {'romantic': Fal...   \n",
       "143359  [Alcohol: beer_and_wine, Ambience: {'romantic'...   \n",
       "143429  [Alcohol: none, Ambience: {'romantic': False, ...   \n",
       "143581  [Alcohol: full_bar, Ambience: {'romantic': Fal...   \n",
       "143615  [Alcohol: none, BikeParking: True, BusinessAcc...   \n",
       "143636  [BusinessAcceptsCreditCards: True, BusinessPar...   \n",
       "143641  [Alcohol: full_bar, Ambience: {'romantic': Fal...   \n",
       "143663  [Alcohol: none, Ambience: {'romantic': False, ...   \n",
       "143666  [Alcohol: full_bar, Ambience: {'romantic': Fal...   \n",
       "143683  [BusinessAcceptsCreditCards: True, WheelchairA...   \n",
       "143714  [Alcohol: full_bar, BusinessAcceptsCreditCards...   \n",
       "143715  [BikeParking: True, BusinessAcceptsCreditCards...   \n",
       "143717  [BYOB: False, BusinessAcceptsCreditCards: True...   \n",
       "143720  [Alcohol: beer_and_wine, Ambience: {'romantic'...   \n",
       "143721  [Alcohol: beer_and_wine, Ambience: {'romantic'...   \n",
       "143784  [Alcohol: full_bar, Ambience: {'romantic': Fal...   \n",
       "143803  [Alcohol: none, Ambience: {'romantic': False, ...   \n",
       "143805  [Alcohol: none, Ambience: {'romantic': False, ...   \n",
       "143807  [Alcohol: full_bar, Ambience: {'romantic': Fal...   \n",
       "143817  [Alcohol: none, BikeParking: False, BusinessAc...   \n",
       "143889  [BikeParking: False, BusinessAcceptsCreditCard...   \n",
       "143998  [Alcohol: none, Ambience: {'romantic': False, ...   \n",
       "144018  [Alcohol: none, Ambience: {'romantic': False, ...   \n",
       "144054  [Alcohol: beer_and_wine, Ambience: {'romantic'...   \n",
       "\n",
       "                                                  address review_count  \\\n",
       "Order                                                                    \n",
       "37                                    4811 S Rainbow Blvd           15   \n",
       "71                           4972 S Maryland Pkwy, Ste 22           33   \n",
       "72                                           2053 Pama Ln           35   \n",
       "102                                      4341 N Rancho Dr            9   \n",
       "103                                      4949 N Rancho Dr           41   \n",
       "154                                     2230 W Bonanza Rd            6   \n",
       "177                                7002 W Charleston Blvd            6   \n",
       "179                           7501 N Cimarron Rd, Ste 108          132   \n",
       "184                                  7930 W Tropical Pkwy           74   \n",
       "260                            1930 N Decatur Blvd, Ste 1            7   \n",
       "269                                  4747 S Maryland Pkwy           34   \n",
       "299                         2620 S Maryland Pkwy, Ste 176          103   \n",
       "300                                      3000 Paradise Rd           60   \n",
       "325                               8635 Spring Mountain Rd           36   \n",
       "418                      3717 S Las Vegas Blvd, Ste 140-A           76   \n",
       "430                                 3900 Las Vegas Blvd S          198   \n",
       "434                             10220 W Charleston, Ste 2           13   \n",
       "443                                 3355 Las Vegas Blvd S            6   \n",
       "444       Riviera Hotel and Casino, 2901 Las Vegas Blvd S            3   \n",
       "478                             4875 West Oakey Boulevard            4   \n",
       "479                                     4400 W Sahara Ave            8   \n",
       "629                             8520 W. Warm Springs Road           27   \n",
       "658                                 6055 E Lake Mead Blvd          120   \n",
       "701                                    238 S Rainbow Blvd           12   \n",
       "713                                   1920 N Decatur Blvd           40   \n",
       "723                          4632 S Maryland Pkwy, Ste 12           22   \n",
       "754                                     7865 W Sahara Ave           82   \n",
       "778                                  8650 W Tropicana Ave           48   \n",
       "779                                     4105 W Sahara Ave           21   \n",
       "807                          7320 S Rainbow Blvd, Ste 105           15   \n",
       "...                                                   ...          ...   \n",
       "143232                    8170 S Eastern Avenue, Suite 12            3   \n",
       "143233                        9620 Las Vegas Blvd, Ste E5          155   \n",
       "143255                                 4321 W Flamingo Rd           12   \n",
       "143302                       6584 N Decatur Blvd, Ste 100           94   \n",
       "143314                              9111 Las Vegas Blvd S           35   \n",
       "143354                                8300 W Cheyenne Ave           45   \n",
       "143357                          3400 S Jones Blvd, Ste 15          153   \n",
       "143359                     5455 S Fort Apache Rd, Ste 105          207   \n",
       "143429                      1725 E Warm Springs Rd, Ste 9          113   \n",
       "143581                               6125 W Tropicana Ave            5   \n",
       "143615                                 4815 W Flamingo Rd           11   \n",
       "143636                                 9055 S Eastern Ave            4   \n",
       "143641                          4180 S Jones Blvd, Unit 1           25   \n",
       "143663                                   4416 N Rancho Dr           36   \n",
       "143666                                 9510 S Eastern Ave           14   \n",
       "143683  Stratosphere Hotel & Casino, 2000 Las Vegas Bl...           15   \n",
       "143714                              8540 S. Maryland Pkwy            6   \n",
       "143715                                  2310 E Serene Ave            9   \n",
       "143717                                 9460 S Eastern Ave            4   \n",
       "143720                                 6820 W Flamingo Rd          102   \n",
       "143721                     Gold Coast, 4000 W Flamingo Rd          152   \n",
       "143784        Delano Las Vegas, 3940 Las Vegas Blvd South          259   \n",
       "143803                            4804 W Lone Mountain Rd           15   \n",
       "143805                           505 E Windmill Ln, Ste D          111   \n",
       "143807                                  415 E Windmill Ln           40   \n",
       "143817                          4983 W Flamingo Rd, Ste B          169   \n",
       "143889                    Serene Plaza, 1860 E Serene Ave            6   \n",
       "143998                                 3137 Industrial Rd          504   \n",
       "144018                         7785 N Durango Dr, Ste 135           23   \n",
       "144054                            450 Fremont St, Ste 110           50   \n",
       "\n",
       "       postal_code is_open state  \\\n",
       "Order                              \n",
       "37           89103       0    NV   \n",
       "71           89119       1    NV   \n",
       "72           89119       0    NV   \n",
       "102          89130       0    NV   \n",
       "103          89130       1    NV   \n",
       "154          89106       0    NV   \n",
       "177          89145       0    NV   \n",
       "179          89131       1    NV   \n",
       "184          89149       0    NV   \n",
       "260          89108       0    NV   \n",
       "269          89119       0    NV   \n",
       "299          89109       1    NV   \n",
       "300          89109       0    NV   \n",
       "325          89117       1    NV   \n",
       "418          89109       1    NV   \n",
       "430          89119       1    NV   \n",
       "434          89135       0    NV   \n",
       "443          89109       1    NV   \n",
       "444          89109       1    NV   \n",
       "478          89102       1    NV   \n",
       "479          89102       1    NV   \n",
       "629          89113       1    NV   \n",
       "658          89156       1    NV   \n",
       "701          89145       1    NV   \n",
       "713          89108       1    NV   \n",
       "723          89119       0    NV   \n",
       "754          89117       0    NV   \n",
       "778          89147       1    NV   \n",
       "779          89102       1    NV   \n",
       "807          89139       1    NV   \n",
       "...            ...     ...   ...   \n",
       "143232       89123       1    NV   \n",
       "143233       89123       1    NV   \n",
       "143255       89103       1    NV   \n",
       "143302       89131       1    NV   \n",
       "143314       89123       0    NV   \n",
       "143354       89129       1    NV   \n",
       "143357       89146       0    NV   \n",
       "143359       89148       1    NV   \n",
       "143429       89119       1    NV   \n",
       "143581       89103       1    NV   \n",
       "143615       89103       1    NV   \n",
       "143636       89123       0    NV   \n",
       "143641       89103       1    NV   \n",
       "143663       89130       1    NV   \n",
       "143666       89123       0    NV   \n",
       "143683       89104       1    NV   \n",
       "143714       89123       0    NV   \n",
       "143715       89123       1    NV   \n",
       "143717       89123       0    NV   \n",
       "143720       89103       1    NV   \n",
       "143721       89103       1    NV   \n",
       "143784       89119       1    NV   \n",
       "143803       89130       1    NV   \n",
       "143805       89123       1    NV   \n",
       "143807       89123       1    NV   \n",
       "143817       89103       1    NV   \n",
       "143889       89123       1    NV   \n",
       "143998       89109       1    NV   \n",
       "144018       89131       0    NV   \n",
       "144054       98011       1    NV   \n",
       "\n",
       "                                               categories  \\\n",
       "Order                                                       \n",
       "37      [Persian/Iranian, Restaurants, Ethnic Food, Fo...   \n",
       "71                      [Restaurants, Vegetarian, Indian]   \n",
       "72                   [American (New), Cafes, Restaurants]   \n",
       "102     [Nightlife, Bars, Restaurants, Thai, Sports Bars]   \n",
       "103               [Chicken Wings, Fast Food, Restaurants]   \n",
       "154                     [Barbeque, Restaurants, Southern]   \n",
       "177        [Restaurants, Burgers, Local Flavor, Barbeque]   \n",
       "179        [Desserts, Food, Pizza, Restaurants, Bakeries]   \n",
       "184                                  [Restaurants, Pizza]   \n",
       "260                                [Restaurants, Chinese]   \n",
       "269                                [Restaurants, Chinese]   \n",
       "299                               [Filipino, Restaurants]   \n",
       "300                                [Mexican, Restaurants]   \n",
       "325                     [Fast Food, Restaurants, Burgers]   \n",
       "418                     [Mexican, Restaurants, Fast Food]   \n",
       "430     [Nightlife, Food, American (Traditional), Rest...   \n",
       "434     [Food, Vegetarian, Vegan, Restaurants, America...   \n",
       "443                               [Japanese, Restaurants]   \n",
       "444                                [Restaurants, Italian]   \n",
       "478     [Restaurants, American (Traditional), Persian/...   \n",
       "479                     [Restaurants, Burgers, Fast Food]   \n",
       "629            [Fast Food, Mexican, Tex-Mex, Restaurants]   \n",
       "658                                [Restaurants, Mexican]   \n",
       "701                                  [Restaurants, Pizza]   \n",
       "713                                [Restaurants, Mexican]   \n",
       "723           [Restaurants, Sandwiches, Fast Food, Pizza]   \n",
       "754                [Chicken Wings, Barbeque, Restaurants]   \n",
       "778     [Ethnic Grocery, Specialty Food, Food, Interna...   \n",
       "779                          [Thai, Restaurants, Noodles]   \n",
       "807                  [Sandwiches, Restaurants, Fast Food]   \n",
       "...                                                   ...   \n",
       "143232               [Restaurants, Fast Food, Sandwiches]   \n",
       "143233       [Salad, Restaurants, Sandwiches, Vegetarian]   \n",
       "143255                  [Fast Food, Restaurants, Burgers]   \n",
       "143302                            [Restaurants, Barbeque]   \n",
       "143314             [Burgers, American (New), Restaurants]   \n",
       "143354                               [Restaurants, Delis]   \n",
       "143357                             [Chinese, Restaurants]   \n",
       "143359                                [Restaurants, Thai]   \n",
       "143429  [Restaurants, Sandwiches, Pizza, Italian, Glut...   \n",
       "143581  [Nightlife, Restaurants, Bars, American (Tradi...   \n",
       "143615                  [Fast Food, Burgers, Restaurants]   \n",
       "143636                              [French, Restaurants]   \n",
       "143641  [Karaoke, Filipino, Restaurants, Asian Fusion,...   \n",
       "143663                             [Chinese, Restaurants]   \n",
       "143666  [Caribbean, Restaurants, Beer, Wine & Spirits,...   \n",
       "143683  [Wedding Planning, Event Planning & Services, ...   \n",
       "143714              [American (Traditional), Restaurants]   \n",
       "143715                  [Restaurants, Burgers, Fast Food]   \n",
       "143717                             [Restaurants, Seafood]   \n",
       "143720                    [Caribbean, Restaurants, Delis]   \n",
       "143721                    [Noodles, Restaurants, Chinese]   \n",
       "143784  [Sandwiches, Restaurants, American (Traditiona...   \n",
       "143803  [Fast Food, Restaurants, Burgers, Food, Coffee...   \n",
       "143805                             [Restaurants, Chinese]   \n",
       "143807                               [Pizza, Restaurants]   \n",
       "143817              [Restaurants, Soup, Chinese, Noodles]   \n",
       "143889                 [Restaurants, Fast Food, Filipino]   \n",
       "143998         [Asian Fusion, Restaurants, Seafood, Thai]   \n",
       "144018                             [Seafood, Restaurants]   \n",
       "144054  [Food Trucks, American (New), Caterers, Tapas ...   \n",
       "\n",
       "                   business_id stars  \\\n",
       "Order                                  \n",
       "37      saWZO6hB4B8P-mIzS1--Xw   2.5   \n",
       "71      hMh9XOwNQcu31NAOCqhAEw   3.5   \n",
       "72      pmJqSsCfgbo3TxPWpQNLIw   4.5   \n",
       "102     kUUBBLBHCasOl2a5nW9nAw   3.5   \n",
       "103     A2pZTpFXWC38z506XIhnBQ   3.5   \n",
       "154     InDH4ZQ_byiQ5PyaqgHI8Q     2   \n",
       "177     WleVOQ9YhBYl4SWrlsLDhA   3.5   \n",
       "179     gMUAn6xcuE-TbY1seFw_Ww   4.5   \n",
       "184     kUntNQ5P9IrRzEoHdRxV-w   3.5   \n",
       "260     -vb_yx5QnIhpXUIdPVD2og   3.5   \n",
       "269     3rkxTx8DoZSl7_FryhXCVQ   3.5   \n",
       "299     kJl3l4fSa2spv_Mkhgogmg   3.5   \n",
       "300     CCNp1qS8n2gh51X7Wadabw     2   \n",
       "325     rECgTdKelvefty5JIXHDbg     2   \n",
       "418     mB_cI1tCrNxxvr2e2myNrQ     3   \n",
       "430     KaGZE0_o1EmmSN4Fo_cpUw     3   \n",
       "434     RxZpGcmMmUUlLn8c6RTk8w   3.5   \n",
       "443     8cn8zqkyz-UpGKXcKeIRYA     2   \n",
       "444     F7E3qP0oz_SuVGZGL0D8Zw     3   \n",
       "478     QVcSKzl47nrO_LWFzz5AJQ     5   \n",
       "479     1tNVPumjvFErYjvSXbOQ6Q     2   \n",
       "629     cJ5i4V6_VKjkOeEHD4ENeQ     3   \n",
       "658     tstimHoMcYbkSC4eBA1wEg   4.5   \n",
       "701     FZDcm4f7aOvYK7aD7aBtvA   2.5   \n",
       "713     OQcvO5P3gH0cuJ-bPXwfQQ     5   \n",
       "723     8jj6dYkZtxTCsq_Y-C_DtQ   4.5   \n",
       "754     DO3FefiMYiPYsEl6O8W2dw   4.5   \n",
       "778     ICWQfTi_Dvo723ZJicR8Vw   3.5   \n",
       "779     q4i-GbjeSp6ucBDXGE9DqA   4.5   \n",
       "807     sM43AJF72Lv7RVsy3jEuIg     3   \n",
       "...                        ...   ...   \n",
       "143232  TIUd6XX7-hF6EPF2NowMsA   3.5   \n",
       "143233  deuHIeaTY8ns_GZAxU5H9g     4   \n",
       "143255  SBa0RGFfjY1QSu7QTSn-kQ   1.5   \n",
       "143302  2RFe9vDTzyBkF4mvsFDDow   3.5   \n",
       "143314  7lDDVsh4K3KeDdUv8_t7Zg   3.5   \n",
       "143354  LcTlT1Uf6XckMjWwRr49sQ   2.5   \n",
       "143357  LJQCv30PCIpC3FnvHF5mXQ   3.5   \n",
       "143359  nMaIIKEAW2cTEWbEyeFyXQ     4   \n",
       "143429  GxfgOFgUhv2rfr3FXVWfCg     4   \n",
       "143581  l3oWxCf7Y-X-fgAxNVR7-A     2   \n",
       "143615  95ASq_FH5hLT1bA3fdISqw     2   \n",
       "143636  4oVdfmr4wynOMvFy2u-Z3A     5   \n",
       "143641  bM-rAr7gxsxxjD-FlRcIJA     4   \n",
       "143663  phTLTkqSvylLkmz5wAwhTw     3   \n",
       "143666  6MIWAI3CX2HfGZhmWPHcDw   3.5   \n",
       "143683  j3NoIidtyVJ9iUfyG9X3Qw   3.5   \n",
       "143714  DPVKotGYF7bCbc88hNZTww   3.5   \n",
       "143715  PFOPBxMDFZM0vFrI5R8txQ   1.5   \n",
       "143717  2Dw0IxKXErYb6apmQ-JtOA     2   \n",
       "143720  pLFvCV9SsI8ZbWM_4tVtMg     3   \n",
       "143721  2YBO1LEKIgyle0uX50u15Q   3.5   \n",
       "143784  8SWZLawwzqwzbXpGQS7gBw   3.5   \n",
       "143803  yOvl22iVeqK3_EJbu5Qpaw     2   \n",
       "143805  QpOAv584eb-ecG4TLEm95g   3.5   \n",
       "143807  sZ3AWH6WPq38fEKijvl9vA     3   \n",
       "143817  JPfi__QJAaRzmfh5aOyFEw   4.5   \n",
       "143889  2koVk44qPX7mV8irHO_e3A   3.5   \n",
       "143998  w5CSi-An5meLnxjKSFn0wQ     4   \n",
       "144018  8_mXYs-ZOqDGS7ifAjaocA     4   \n",
       "144054  xowy4YxBXXGOYuajsxjwkA     5   \n",
       "\n",
       "                                                    hours longitude  \\\n",
       "Order                                                                 \n",
       "37                                                   None  -115.244   \n",
       "71                                                   None  -115.136   \n",
       "72      [Wednesday 10:0-14:0, Thursday 10:0-14:0, Frid...  -115.124   \n",
       "102                                                  None  -115.232   \n",
       "103     [Monday 10:30-0:0, Tuesday 10:30-0:0, Wednesda...  -115.245   \n",
       "154                                                  None  -115.173   \n",
       "177     [Monday 10:0-20:0, Tuesday 10:0-20:0, Wednesda...  -115.251   \n",
       "179     [Monday 11:0-21:0, Tuesday 11:0-20:0, Wednesda...   -115.27   \n",
       "184     [Monday 11:0-21:0, Tuesday 11:0-21:0, Wednesda...  -115.268   \n",
       "260     [Monday 11:30-22:0, Tuesday 11:30-22:0, Wednes...  -115.205   \n",
       "269     [Monday 10:30-21:30, Tuesday 10:30-21:30, Wedn...  -115.138   \n",
       "299     [Monday 7:0-20:0, Tuesday 7:0-20:0, Wednesday ...  -115.137   \n",
       "300                                                  None  -115.151   \n",
       "325     [Monday 6:0-23:0, Tuesday 6:0-23:0, Wednesday ...  -115.272   \n",
       "418     [Monday 0:0-0:0, Tuesday 0:0-0:0, Wednesday 0:...  -115.172   \n",
       "430     [Monday 16:0-0:0, Tuesday 16:0-0:0, Wednesday ...  -115.175   \n",
       "434     [Monday 8:0-20:0, Tuesday 8:0-20:0, Wednesday ...  -115.319   \n",
       "443                                                  None   -115.17   \n",
       "444                                                  None   -115.16   \n",
       "478     [Friday 6:0-22:0, Saturday 6:0-22:0, Sunday 6:...  -115.205   \n",
       "479                                                  None    -115.2   \n",
       "629     [Monday 7:0-1:0, Tuesday 7:0-1:0, Wednesday 7:...  -115.279   \n",
       "658     [Monday 11:0-21:0, Tuesday 10:0-21:0, Wednesda...   -115.04   \n",
       "701                                                  None  -115.245   \n",
       "713     [Monday 9:0-21:0, Tuesday 9:0-21:0, Wednesday ...  -115.205   \n",
       "723     [Monday 11:0-20:0, Tuesday 11:0-20:0, Wednesda...  -115.136   \n",
       "754                                                  None  -115.262   \n",
       "778     [Monday 7:0-22:0, Tuesday 7:0-22:0, Wednesday ...   -115.28   \n",
       "779     [Monday 10:0-2:0, Tuesday 10:0-2:0, Wednesday ...  -115.196   \n",
       "807                                                  None  -115.241   \n",
       "...                                                   ...       ...   \n",
       "143232                                               None  -115.117   \n",
       "143233  [Monday 10:0-21:0, Tuesday 10:0-21:0, Wednesda...  -115.171   \n",
       "143255  [Monday 0:0-0:0, Tuesday 0:0-0:0, Wednesday 0:...  -115.196   \n",
       "143302  [Monday 11:0-21:0, Tuesday 11:0-21:0, Wednesda...  -115.206   \n",
       "143314  [Monday 11:0-22:0, Tuesday 11:0-22:0, Wednesda...  -115.173   \n",
       "143354                                               None  -115.275   \n",
       "143357  [Monday 11:0-23:45, Tuesday 11:0-23:45, Wednes...  -115.224   \n",
       "143359  [Monday 11:0-22:0, Tuesday 11:0-22:0, Wednesda...  -115.297   \n",
       "143429  [Monday 10:0-21:0, Tuesday 10:0-21:0, Wednesda...  -115.128   \n",
       "143581                                               None  -115.226   \n",
       "143615  [Monday 6:0-0:0, Tuesday 6:0-0:0, Wednesday 6:...  -115.206   \n",
       "143636                                               None  -115.119   \n",
       "143641  [Monday 17:0-5:0, Tuesday 17:0-5:0, Wednesday ...  -115.224   \n",
       "143663  [Monday 11:0-21:30, Tuesday 11:0-21:30, Wednes...   -115.23   \n",
       "143666  [Monday 11:0-22:0, Tuesday 11:0-22:0, Wednesda...  -115.119   \n",
       "143683  [Monday 9:0-18:0, Tuesday 9:0-18:0, Wednesday ...  -115.156   \n",
       "143714                                               None  -115.136   \n",
       "143715                                               None  -115.124   \n",
       "143717                                               None  -115.118   \n",
       "143720  [Monday 11:0-21:0, Tuesday 11:0-21:0, Wednesda...  -115.241   \n",
       "143721  [Monday 12:0-23:0, Tuesday 12:0-23:0, Wednesda...  -115.193   \n",
       "143784  [Monday 6:30-14:0, Tuesday 6:30-14:0, Wednesda...  -115.178   \n",
       "143803  [Monday 5:0-23:0, Tuesday 5:0-23:0, Wednesday ...  -115.208   \n",
       "143805  [Monday 10:30-21:30, Tuesday 10:30-21:30, Wedn...  -115.152   \n",
       "143807                                               None  -115.154   \n",
       "143817  [Monday 11:0-22:0, Tuesday 11:0-22:0, Wednesda...   -115.21   \n",
       "143889                                               None  -115.127   \n",
       "143998  [Monday 11:0-4:0, Tuesday 11:0-4:0, Wednesday ...  -115.173   \n",
       "144018  [Monday 12:0-20:0, Tuesday 12:0-20:0, Wednesda...  -115.282   \n",
       "144054  [Monday 12:0-0:0, Tuesday 12:0-0:0, Wednesday ...  -115.141   \n",
       "\n",
       "                                      name   neighborhood  index is_restaurant  \n",
       "Order                                                                           \n",
       "37                            Kabob Palace  Spring Valley     16             1  \n",
       "71                          Taste of India      Southeast     16             1  \n",
       "72                    Artisanal Foods Cafe      Southeast     16             1  \n",
       "102           Bailey's Sports Bar & Eatery      Northwest     16             1  \n",
       "103                               Wingstop      Northwest     16             1  \n",
       "154         Big Mama's Soul Food Rib Shack                    16             1  \n",
       "177                        Red Apple Grill       Westside     16             1  \n",
       "179                  Presto Calzone Bakery     Centennial     16             1  \n",
       "184     Mark Rich's New York Pizza & Pasta     Centennial     16             1  \n",
       "260              Fair View Chinese Cuisine                    16             1  \n",
       "269               Jugoo Chinese Restaurant     University     16             1  \n",
       "299                    Ito'y Sariling Atin       Eastside     16             1  \n",
       "300           Vince Neil's Tatuado Cantina       Eastside     16             1  \n",
       "325                             McDonald's  Spring Valley     16             1  \n",
       "418                      Taco Bell Cantina      The Strip     16             1  \n",
       "430                           Public House      The Strip     16             1  \n",
       "434                        My Healthy Meal      Summerlin     16             1  \n",
       "443                Wasabi Jane's Venetiaen      The Strip     16             1  \n",
       "444                    Ristorante Italiano      The Strip     16             1  \n",
       "478                            Cactus Cafe       Westside     16             1  \n",
       "479                                Wendy's       Westside     16             1  \n",
       "629                              Taco Bell      Southwest     16             1  \n",
       "658        Mama Maria's Mexican Restaurant        Sunrise     16             1  \n",
       "701          Ray's Pizzeria and Restaurant       Westside     16             1  \n",
       "713                    Mi Pueblo Taco Shop                    16             1  \n",
       "723                    iCheese Pizza & Sub     University     16             1  \n",
       "754                   The Las Vegas Grille       Westside     16             1  \n",
       "778          Island Pacific Seafood Market  Spring Valley     16             1  \n",
       "779      Imsiam Thai Restaurant and Noodle       Westside     16             1  \n",
       "807                                 Subway      Southwest     16             1  \n",
       "...                                    ...            ...    ...           ...  \n",
       "143232                              Subway      Southeast     16             1  \n",
       "143233           Capriotti's Sandwich Shop      Southeast     16             1  \n",
       "143255                          McDonald's                    16             1  \n",
       "143302               Dickey's Barbecue Pit                    16             1  \n",
       "143314                     Burger Brothers      Southeast     16             1  \n",
       "143354                       Einstein Bros      Northwest     16             1  \n",
       "143357                             HK Star      Chinatown     16             1  \n",
       "143359               Surang's Thai Kitchen  Spring Valley     16             1  \n",
       "143429                       Pizza My Dear      Southeast     16             1  \n",
       "143581               Irene's Gaming Lounge                    16             1  \n",
       "143615                         Burger King                    16             1  \n",
       "143636                      Bonjour Bistro      Southeast     16             1  \n",
       "143641                  Carding's Tambayan                    16             1  \n",
       "143663                        Golden China      Northwest     16             1  \n",
       "143666  Blue Water Restaurant & Sports Bar      Southeast     16             1  \n",
       "143683                Chapel in the Clouds      The Strip     16             1  \n",
       "143714                 Timbers Bar & Grill      Southeast     16             1  \n",
       "143715                          McDonald's      Southeast     16             1  \n",
       "143717           Sweet Water Prime Seafood      Southeast     16             1  \n",
       "143720    Tasty Island Jamaican Restaurant                    16             1  \n",
       "143721                     Noodle Exchange                    16             1  \n",
       "143784                     Della's Kitchen      The Strip     16             1  \n",
       "143803                          McDonald's      Northwest     16             1  \n",
       "143805                       China a Go Go      Southeast     16             1  \n",
       "143807                       Express Pizza      Southeast     16             1  \n",
       "143817                Shang Artisan Noodle                    16             1  \n",
       "143889   Filipino Fast Food & Asian Market      Southeast     16             1  \n",
       "143998                        Thai St Cafe                    16             1  \n",
       "144018                     Seafood Station     Centennial     16             1  \n",
       "144054                       LV Food Junky       Downtown     16             1  \n",
       "\n",
       "[5431 rows x 18 columns]"
      ]
     },
     "execution_count": 323,
     "metadata": {},
     "output_type": "execute_result"
    }
   ],
   "source": [
    "df"
   ]
  },
  {
   "cell_type": "code",
   "execution_count": 325,
   "metadata": {
    "collapsed": false
   },
   "outputs": [
    {
     "data": {
      "text/plain": [
       "1    3849\n",
       "0    1582\n",
       "Name: is_open, dtype: int64"
      ]
     },
     "execution_count": 325,
     "metadata": {},
     "output_type": "execute_result"
    }
   ],
   "source": [
    "# Count how many LV restaurants are open vs closed\n",
    "\n",
    "df['is_open'].value_counts()"
   ]
  },
  {
   "cell_type": "code",
   "execution_count": 326,
   "metadata": {
    "collapsed": false
   },
   "outputs": [],
   "source": [
    "# Replace null value in attributes with string 'none'\n",
    "\n",
    "df['attributes'].fillna('none', inplace = True)"
   ]
  },
  {
   "cell_type": "code",
   "execution_count": 327,
   "metadata": {
    "collapsed": false
   },
   "outputs": [
    {
     "data": {
      "text/plain": [
       "0"
      ]
     },
     "execution_count": 327,
     "metadata": {},
     "output_type": "execute_result"
    }
   ],
   "source": [
    "df['attributes'].isnull().sum()"
   ]
  },
  {
   "cell_type": "code",
   "execution_count": 328,
   "metadata": {
    "collapsed": true
   },
   "outputs": [],
   "source": [
    "# Create a list of attributes for all restaurants\n",
    "\n",
    "def att_list_not_unique(data): \n",
    "    att_list= []\n",
    "    for index, row in tqdm(data.iterrows()):\n",
    "        for sub_list in row['attributes']:\n",
    "            att = (sub_list.split(':')[0])\n",
    "            att_list.append(att)\n",
    "    return att_list"
   ]
  },
  {
   "cell_type": "code",
   "execution_count": 329,
   "metadata": {
    "collapsed": false
   },
   "outputs": [
    {
     "name": "stderr",
     "output_type": "stream",
     "text": [
      "5431it [00:00, 6610.99it/s]\n"
     ]
    }
   ],
   "source": [
    "# Exam common attributes & save counter for top 18 attributes with more than 4000 occurance\n",
    "\n",
    "common_att_counter = sorted(Counter(att_list_not_unique(df)).items(), key = lambda pair: pair[1], reverse = True)[:18]"
   ]
  },
  {
   "cell_type": "code",
   "execution_count": 330,
   "metadata": {
    "collapsed": false
   },
   "outputs": [],
   "source": [
    "common_att_list = list(zip(*common_att_counter))[0]"
   ]
  },
  {
   "cell_type": "code",
   "execution_count": 331,
   "metadata": {
    "collapsed": false
   },
   "outputs": [],
   "source": [
    "# Append all unique attributes of for all restaurants\n",
    "\n",
    "def att_list(data): \n",
    "    att_list= []\n",
    "    for index, row in tqdm(data.iterrows()):\n",
    "        for sub_list in row['attributes']:\n",
    "            att = (sub_list.split(':')[0])\n",
    "            if att not in att_list:\n",
    "                att_list.append(att)\n",
    "    return att_list"
   ]
  },
  {
   "cell_type": "code",
   "execution_count": 332,
   "metadata": {
    "collapsed": false
   },
   "outputs": [
    {
     "name": "stderr",
     "output_type": "stream",
     "text": [
      "5431it [00:00, 7202.55it/s]\n"
     ]
    },
    {
     "data": {
      "text/plain": [
       "['Alcohol',\n",
       " 'BusinessAcceptsCreditCards',\n",
       " 'BusinessParking',\n",
       " 'GoodForKids',\n",
       " 'GoodForMeal',\n",
       " 'OutdoorSeating',\n",
       " 'RestaurantsAttire',\n",
       " 'RestaurantsDelivery',\n",
       " 'RestaurantsGoodForGroups',\n",
       " 'RestaurantsPriceRange2',\n",
       " 'RestaurantsReservations',\n",
       " 'RestaurantsTableService',\n",
       " 'RestaurantsTakeOut',\n",
       " 'WheelchairAccessible',\n",
       " 'Ambience',\n",
       " 'BikeParking',\n",
       " 'Caters',\n",
       " 'HasTV',\n",
       " 'NoiseLevel',\n",
       " 'WiFi',\n",
       " 'CoatCheck',\n",
       " 'GoodForDancing',\n",
       " 'HappyHour',\n",
       " 'Music',\n",
       " 'BusinessAcceptsBitcoin',\n",
       " 'BYOBCorkage',\n",
       " 'Corkage',\n",
       " 'DriveThru',\n",
       " 'BestNights',\n",
       " 'Smoking',\n",
       " 'BYOB',\n",
       " 'DogsAllowed',\n",
       " 'Open24Hours',\n",
       " 'RestaurantsCounterService',\n",
       " 'ByAppointmentOnly',\n",
       " 'DietaryRestrictions',\n",
       " 'n',\n",
       " 'o',\n",
       " 'e',\n",
       " 'AgesAllowed',\n",
       " 'HairSpecializesIn',\n",
       " 'AcceptsInsurance']"
      ]
     },
     "execution_count": 332,
     "metadata": {},
     "output_type": "execute_result"
    }
   ],
   "source": [
    "att_list(df)"
   ]
  },
  {
   "cell_type": "code",
   "execution_count": 333,
   "metadata": {
    "collapsed": true
   },
   "outputs": [],
   "source": [
    "# Create columns for all attributes \n",
    "\n",
    "def add_col(data, l):\n",
    "    for item in l:\n",
    "        data[item] = 'None'"
   ]
  },
  {
   "cell_type": "code",
   "execution_count": 334,
   "metadata": {
    "collapsed": false
   },
   "outputs": [],
   "source": [
    "add_col(df, common_att_list)"
   ]
  },
  {
   "cell_type": "code",
   "execution_count": 335,
   "metadata": {
    "collapsed": false
   },
   "outputs": [
    {
     "data": {
      "text/plain": [
       "tuple"
      ]
     },
     "execution_count": 335,
     "metadata": {},
     "output_type": "execute_result"
    }
   ],
   "source": [
    "type(common_att_list)"
   ]
  },
  {
   "cell_type": "code",
   "execution_count": 336,
   "metadata": {
    "collapsed": false
   },
   "outputs": [],
   "source": [
    "# Fill in values for attributes\n",
    "\n",
    "def fill_att(data, l):\n",
    "    for index, row in tqdm(data.iterrows()):\n",
    "        for item in l:\n",
    "            result = re.findall(item +': (\\w+)', str(row['attributes']))\n",
    "            if not result:\n",
    "                pass\n",
    "            else:\n",
    "                data.loc[index,item] = result[0]"
   ]
  },
  {
   "cell_type": "code",
   "execution_count": 337,
   "metadata": {
    "collapsed": false,
    "scrolled": true
   },
   "outputs": [
    {
     "name": "stderr",
     "output_type": "stream",
     "text": [
      "5431it [01:11, 75.75it/s]\n"
     ]
    }
   ],
   "source": [
    "fill_att(df, common_att_list)"
   ]
  },
  {
   "cell_type": "code",
   "execution_count": 338,
   "metadata": {
    "collapsed": false
   },
   "outputs": [],
   "source": [
    "# Drop columns: city, type, state, index, address, BusinessAcceptsCreditCards, GoodForMeal, Ambience\n",
    "\n",
    "df.drop('city', axis = 1, inplace = True)\n",
    "df.drop('type', axis = 1, inplace = True)\n",
    "df.drop('state', axis = 1, inplace = True)\n",
    "df.drop('index', axis = 1, inplace = True)\n",
    "df.drop('address', axis = 1, inplace = True)\n",
    "df.drop('BusinessAcceptsCreditCards', axis = 1, inplace = True)\n",
    "df.drop('GoodForMeal', axis = 1, inplace = True)\n",
    "df.drop('Ambience', axis = 1, inplace = True)\n",
    "df.drop('business_id', axis = 1, inplace = True)"
   ]
  },
  {
   "cell_type": "code",
   "execution_count": 339,
   "metadata": {
    "collapsed": false
   },
   "outputs": [],
   "source": [
    "# Fill restaurent price range with mode\n",
    "\n",
    "df['RestaurantsPriceRange2'].replace('None', '2', inplace = True)"
   ]
  },
  {
   "cell_type": "code",
   "execution_count": 340,
   "metadata": {
    "collapsed": false
   },
   "outputs": [],
   "source": [
    "# Convert longitude, latitude, review_count, starts, price range into numeric\n",
    "\n",
    "df[['latitude', 'longitude', 'review_count', 'stars', 'RestaurantsPriceRange2']] = df[['latitude', 'longitude', 'review_count', 'stars', 'RestaurantsPriceRange2']].apply(pd.to_numeric)"
   ]
  },
  {
   "cell_type": "code",
   "execution_count": 341,
   "metadata": {
    "collapsed": false
   },
   "outputs": [],
   "source": [
    "# Replace none with mode: RestaurantsGoodForGroups, GoodForKids, RestaurantsAttire, RestaurantsReservations, OutdoorSeating\n",
    "#RestaurantsDelivery, alcohol (combine full bar and beer and wine), noiselevel(avg, quiet, loud (combine loud and very loud),)\n",
    "# Wifi(no, free, paid), RestaurantsTableService\n",
    "\n",
    "df['RestaurantsGoodForGroups'].replace('None', df['RestaurantsGoodForGroups'].mode()[0], inplace = True)\n",
    "df['GoodForKids'].replace('None', df['GoodForKids'].mode()[0], inplace = True)\n",
    "df['RestaurantsAttire'].replace('None', df['RestaurantsAttire'].mode()[0], inplace = True)\n",
    "df['RestaurantsReservations'].replace('None', df['RestaurantsReservations'].mode()[0], inplace = True)\n",
    "df['OutdoorSeating'].replace('None', df['OutdoorSeating'].mode()[0], inplace = True)\n",
    "df['RestaurantsDelivery'].replace('None', df['RestaurantsDelivery'].mode()[0], inplace = True)\n",
    "df['Alcohol'].replace('None', df['Alcohol'].mode()[0], inplace = True)\n",
    "df['NoiseLevel'].replace('None', df['NoiseLevel'].mode()[0], inplace = True)\n",
    "df['Alcohol'].replace('None', df['Alcohol'].mode()[0], inplace = True)\n",
    "df['WiFi'].replace('None', df['WiFi'].mode()[0], inplace = True)\n",
    "df['RestaurantsTableService'].replace('None', df['RestaurantsTableService'].mode()[0], inplace = True)"
   ]
  },
  {
   "cell_type": "code",
   "execution_count": 342,
   "metadata": {
    "collapsed": true
   },
   "outputs": [],
   "source": [
    "# Replace none with False: RestaurantsTakeOut, HasTV, BikeParking\n",
    "\n",
    "df['RestaurantsTakeOut'].replace('None', 'False', inplace = True)\n",
    "df['HasTV'].replace('None', 'False', inplace = True)\n",
    "df['BikeParking'].replace('None', 'False', inplace = True)"
   ]
  },
  {
   "cell_type": "code",
   "execution_count": 343,
   "metadata": {
    "collapsed": false
   },
   "outputs": [
    {
     "data": {
      "text/plain": [
       "0    4613\n",
       "1     818\n",
       "Name: is_dt, dtype: int64"
      ]
     },
     "execution_count": 343,
     "metadata": {},
     "output_type": "execute_result"
    }
   ],
   "source": [
    "# Categorize restaurents into downtown based on neighborhood (the strip or not the strip)\n",
    "\n",
    "df['is_dt'] = 0\n",
    "df.loc[df.neighborhood == 'The Strip', 'is_dt'] = 1\n",
    "df['is_dt'].value_counts()"
   ]
  },
  {
   "cell_type": "code",
   "execution_count": 344,
   "metadata": {
    "collapsed": false
   },
   "outputs": [
    {
     "data": {
      "text/plain": [
       "False    3120\n",
       "True     2311\n",
       "Name: Alcohol, dtype: int64"
      ]
     },
     "execution_count": 344,
     "metadata": {},
     "output_type": "execute_result"
    }
   ],
   "source": [
    "# Categorize alcohol into true or false\n",
    "\n",
    "df.loc[df['Alcohol'] == 'full_bar', 'Alcohol'] = 'True'\n",
    "df.loc[df['Alcohol'] == 'beer_and_wine', 'Alcohol'] = 'True'\n",
    "df.loc[df['Alcohol'] == 'none', 'Alcohol'] = 'False'\n",
    "df.loc[df['Alcohol'] == 'None', 'Alcohol'] = 'False'\n",
    "\n",
    "df['Alcohol'].value_counts()"
   ]
  },
  {
   "cell_type": "code",
   "execution_count": 345,
   "metadata": {
    "collapsed": false
   },
   "outputs": [
    {
     "data": {
      "text/plain": [
       "False    5232\n",
       "True      199\n",
       "Name: RestaurantsAttire, dtype: int64"
      ]
     },
     "execution_count": 345,
     "metadata": {},
     "output_type": "execute_result"
    }
   ],
   "source": [
    "# Categorize attire into true(dressy or formal) and false(casual)\n",
    "\n",
    "df.loc[df['RestaurantsAttire'] == 'casual', 'RestaurantsAttire'] = 'False'\n",
    "df.loc[df['RestaurantsAttire'] == 'dressy', 'RestaurantsAttire'] = 'True'\n",
    "df.loc[df['RestaurantsAttire'] == 'formal', 'RestaurantsAttire'] = 'True'\n",
    "\n",
    "df['RestaurantsAttire'].value_counts()"
   ]
  },
  {
   "cell_type": "code",
   "execution_count": 346,
   "metadata": {
    "collapsed": false
   },
   "outputs": [
    {
     "data": {
      "text/plain": [
       "average    4189\n",
       "quiet       867\n",
       "loud        375\n",
       "Name: NoiseLevel, dtype: int64"
      ]
     },
     "execution_count": 346,
     "metadata": {},
     "output_type": "execute_result"
    }
   ],
   "source": [
    "# Categorize noise level into average, quiet and loud\n",
    "# Combine loud and very loud, and get dummies later\n",
    "\n",
    "df.loc[df['NoiseLevel'] == 'very_loud', 'NoiseLevel'] = 'loud'\n",
    "\n",
    "df['NoiseLevel'].value_counts()"
   ]
  },
  {
   "cell_type": "code",
   "execution_count": 347,
   "metadata": {
    "collapsed": false
   },
   "outputs": [],
   "source": [
    "# Create dummies for noise level - average, quiet and loud\n",
    "\n",
    "df =  pd.concat([df, pd.get_dummies(df['NoiseLevel'])], axis = 1)\n",
    "\n",
    "# Create dummies for WiFi - no, free, paid\n",
    "df =  pd.concat([df, pd.get_dummies(df['WiFi'])], axis = 1)"
   ]
  },
  {
   "cell_type": "code",
   "execution_count": 348,
   "metadata": {
    "collapsed": false
   },
   "outputs": [],
   "source": [
    "# Rename dummy variable columns\n",
    "\n",
    "df = df.rename(columns = {'average': 'noise_average', 'loud': 'noise_loud', 'loud': 'noise_loud', 'free': 'wifi_free', 'no': 'wifi_no', 'paid': 'wifi_paid'})"
   ]
  },
  {
   "cell_type": "code",
   "execution_count": 349,
   "metadata": {
    "collapsed": false
   },
   "outputs": [],
   "source": [
    "# Convert True and False into 1 and 0\n",
    "\n",
    "df.replace(['True', 'False'], [1,0], inplace = True)"
   ]
  },
  {
   "cell_type": "code",
   "execution_count": 350,
   "metadata": {
    "collapsed": false,
    "scrolled": true
   },
   "outputs": [],
   "source": [
    "# DEAL WITH GOOD FOR MEAL\n",
    "# Function to append 'good for meal' to dataframe as an indicator of what kind of meal the restaurent is good for\n",
    "\n",
    "def meal_kind_only(data, meal):\n",
    "    for index, row in tqdm(data.iterrows()):\n",
    "        for sublist in row['attributes']:\n",
    "            if sublist.find('GoodForMeal') != -1:  \n",
    "                result = sublist.find(meal)\n",
    "                if result == -1:\n",
    "                    data.loc[index, meal] = 0\n",
    "                else:\n",
    "                    data.loc[index, meal] = 1"
   ]
  },
  {
   "cell_type": "code",
   "execution_count": 351,
   "metadata": {
    "collapsed": false
   },
   "outputs": [
    {
     "name": "stderr",
     "output_type": "stream",
     "text": [
      "5431it [00:03, 1559.68it/s]\n",
      "5431it [00:03, 1672.48it/s]\n",
      "5431it [00:03, 1518.67it/s]\n",
      "5431it [00:04, 1097.73it/s]\n",
      "5431it [00:03, 1633.23it/s]\n",
      "5431it [00:02, 1842.56it/s]\n"
     ]
    }
   ],
   "source": [
    "# dessert\n",
    "\n",
    "meal_kind_only(df, \"'dessert': True\")\n",
    "\n",
    "# latenight\n",
    "\n",
    "meal_kind_only(df, \"'latenight': True\")\n",
    "\n",
    "# lunch\n",
    "\n",
    "meal_kind_only(df, \"'lunch': True\")\n",
    "\n",
    "# dinner\n",
    "\n",
    "meal_kind_only(df, \"'dinner': True\")\n",
    "\n",
    "# breakfast\n",
    "\n",
    "meal_kind_only(df, \"'breakfast': True\")\n",
    "\n",
    "# brunch (to be EXCLUDED since it overlaps with breakfast)\n",
    "\n",
    "meal_kind_only(df, \"'brunch': True\")"
   ]
  },
  {
   "cell_type": "code",
   "execution_count": 352,
   "metadata": {
    "collapsed": false
   },
   "outputs": [
    {
     "data": {
      "text/plain": [
       "651"
      ]
     },
     "execution_count": 352,
     "metadata": {},
     "output_type": "execute_result"
    }
   ],
   "source": [
    "# Fill in the mode for those missing 'good for meal' (651 missing)\n",
    "\n",
    "df[\"'dessert': True\"].isnull().sum()"
   ]
  },
  {
   "cell_type": "code",
   "execution_count": 353,
   "metadata": {
    "collapsed": false
   },
   "outputs": [],
   "source": [
    "df[\"'dessert': True\"].fillna(df[\"'dessert': True\"].mode()[0], inplace = True)\n",
    "df[\"'latenight': True\"].fillna(df[\"'latenight': True\"].mode()[0], inplace = True)\n",
    "df[\"'lunch': True\"].fillna(df[\"'lunch': True\"].mode()[0], inplace = True)\n",
    "df[\"'dinner': True\"].fillna(df[\"'dinner': True\"].mode()[0], inplace = True)\n",
    "df[\"'breakfast': True\"].fillna(df[\"'breakfast': True\"].mode()[0], inplace = True)"
   ]
  },
  {
   "cell_type": "code",
   "execution_count": 354,
   "metadata": {
    "collapsed": false
   },
   "outputs": [
    {
     "data": {
      "text/plain": [
       "'dessert': True    0\n",
       "dtype: int64"
      ]
     },
     "execution_count": 354,
     "metadata": {},
     "output_type": "execute_result"
    }
   ],
   "source": [
    "df[[\"'dessert': True\"]].isnull().sum()"
   ]
  },
  {
   "cell_type": "code",
   "execution_count": 355,
   "metadata": {
    "collapsed": false
   },
   "outputs": [
    {
     "data": {
      "text/plain": [
       "'latenight': True    0\n",
       "dtype: int64"
      ]
     },
     "execution_count": 355,
     "metadata": {},
     "output_type": "execute_result"
    }
   ],
   "source": [
    "df[[\"'latenight': True\"]].isnull().sum()"
   ]
  },
  {
   "cell_type": "code",
   "execution_count": 356,
   "metadata": {
    "collapsed": false
   },
   "outputs": [
    {
     "data": {
      "text/plain": [
       "'lunch': True    0\n",
       "dtype: int64"
      ]
     },
     "execution_count": 356,
     "metadata": {},
     "output_type": "execute_result"
    }
   ],
   "source": [
    "df[[\"'lunch': True\"]].isnull().sum()"
   ]
  },
  {
   "cell_type": "code",
   "execution_count": 357,
   "metadata": {
    "collapsed": false
   },
   "outputs": [
    {
     "data": {
      "text/plain": [
       "'dinner': True    0\n",
       "dtype: int64"
      ]
     },
     "execution_count": 357,
     "metadata": {},
     "output_type": "execute_result"
    }
   ],
   "source": [
    "df[[\"'dinner': True\"]].isnull().sum()"
   ]
  },
  {
   "cell_type": "code",
   "execution_count": 358,
   "metadata": {
    "collapsed": false
   },
   "outputs": [
    {
     "data": {
      "text/plain": [
       "'breakfast': True    0\n",
       "dtype: int64"
      ]
     },
     "execution_count": 358,
     "metadata": {},
     "output_type": "execute_result"
    }
   ],
   "source": [
    "df[[\"'breakfast': True\"]].isnull().sum()"
   ]
  },
  {
   "cell_type": "code",
   "execution_count": 359,
   "metadata": {
    "collapsed": false
   },
   "outputs": [
    {
     "data": {
      "text/plain": [
       "0.0    5145\n",
       "1.0     286\n",
       "Name: 'dessert': True, dtype: int64"
      ]
     },
     "execution_count": 359,
     "metadata": {},
     "output_type": "execute_result"
    }
   ],
   "source": [
    "df[\"'dessert': True\"].value_counts()"
   ]
  },
  {
   "cell_type": "code",
   "execution_count": 360,
   "metadata": {
    "collapsed": false
   },
   "outputs": [
    {
     "data": {
      "text/plain": [
       "0.0    4900\n",
       "1.0     531\n",
       "Name: 'latenight': True, dtype: int64"
      ]
     },
     "execution_count": 360,
     "metadata": {},
     "output_type": "execute_result"
    }
   ],
   "source": [
    "df[\"'latenight': True\"].value_counts()"
   ]
  },
  {
   "cell_type": "code",
   "execution_count": 361,
   "metadata": {
    "collapsed": false
   },
   "outputs": [
    {
     "data": {
      "text/plain": [
       "0.0    3194\n",
       "1.0    2237\n",
       "Name: 'lunch': True, dtype: int64"
      ]
     },
     "execution_count": 361,
     "metadata": {},
     "output_type": "execute_result"
    }
   ],
   "source": [
    "df[\"'lunch': True\"].value_counts()"
   ]
  },
  {
   "cell_type": "code",
   "execution_count": 362,
   "metadata": {
    "collapsed": false
   },
   "outputs": [
    {
     "data": {
      "text/plain": [
       "0.0    3468\n",
       "1.0    1963\n",
       "Name: 'dinner': True, dtype: int64"
      ]
     },
     "execution_count": 362,
     "metadata": {},
     "output_type": "execute_result"
    }
   ],
   "source": [
    "df[\"'dinner': True\"].value_counts()"
   ]
  },
  {
   "cell_type": "code",
   "execution_count": 363,
   "metadata": {
    "collapsed": false
   },
   "outputs": [
    {
     "data": {
      "text/plain": [
       "0.0    4847\n",
       "1.0     584\n",
       "Name: 'breakfast': True, dtype: int64"
      ]
     },
     "execution_count": 363,
     "metadata": {},
     "output_type": "execute_result"
    }
   ],
   "source": [
    "df[\"'breakfast': True\"].value_counts()"
   ]
  },
  {
   "cell_type": "code",
   "execution_count": 364,
   "metadata": {
    "collapsed": true
   },
   "outputs": [],
   "source": [
    "# DEAL WITH AMBIENCE\n",
    "# Function to append 'good for meal' to dataframe as an indicator of what kind of meal the restaurent is good for\n",
    "\n",
    "def ambience_kind_only(data, am):\n",
    "    for index, row in tqdm(data.iterrows()):\n",
    "        for sublist in row['attributes']:\n",
    "            if sublist.find('Ambience') != -1:  \n",
    "                result = sublist.find(am)\n",
    "                if result == -1:\n",
    "                    data.loc[index, am] = 0\n",
    "                else:\n",
    "                    data.loc[index, am] = 1"
   ]
  },
  {
   "cell_type": "code",
   "execution_count": 365,
   "metadata": {
    "collapsed": false
   },
   "outputs": [
    {
     "name": "stderr",
     "output_type": "stream",
     "text": [
      "5431it [00:03, 1571.69it/s]\n",
      "5431it [00:08, 664.23it/s]\n",
      "5431it [00:07, 699.19it/s]\n",
      "5431it [00:06, 881.33it/s] \n",
      "5431it [00:03, 1392.57it/s]\n",
      "5431it [00:02, 2136.47it/s]\n",
      "5431it [00:03, 1675.75it/s]\n",
      "5431it [00:03, 1611.13it/s]\n"
     ]
    }
   ],
   "source": [
    "# ambience - romantic\n",
    "\n",
    "ambience_kind_only(df, \"'romantic': True\")\n",
    "\n",
    "# ambience - intimate\n",
    "\n",
    "ambience_kind_only(df, \"'intimate': True\")\n",
    "\n",
    "# ambience - classy\n",
    "\n",
    "ambience_kind_only(df, \"'classy': True\")\n",
    "\n",
    "# ambience - hipster\n",
    "\n",
    "ambience_kind_only(df, \"'hipster': True\")\n",
    "\n",
    "# ambience - divey\n",
    "\n",
    "ambience_kind_only(df, \"'divey': True\")\n",
    "\n",
    "# ambience - touristy\n",
    "\n",
    "ambience_kind_only(df, \"'touristy': True\")\n",
    "\n",
    "# ambience - upscale\n",
    "\n",
    "ambience_kind_only(df, \"'upscale': True\")\n",
    "\n",
    "# ambience - casual\n",
    "\n",
    "ambience_kind_only(df, \"'casual': True\")"
   ]
  },
  {
   "cell_type": "code",
   "execution_count": 366,
   "metadata": {
    "collapsed": false
   },
   "outputs": [
    {
     "data": {
      "text/plain": [
       "0.0    4432\n",
       "1.0      61\n",
       "Name: 'romantic': True, dtype: int64"
      ]
     },
     "execution_count": 366,
     "metadata": {},
     "output_type": "execute_result"
    }
   ],
   "source": [
    "df[\"'romantic': True\"].value_counts()"
   ]
  },
  {
   "cell_type": "code",
   "execution_count": 367,
   "metadata": {
    "collapsed": false
   },
   "outputs": [
    {
     "data": {
      "text/plain": [
       "0.0    4454\n",
       "1.0      39\n",
       "Name: 'intimate': True, dtype: int64"
      ]
     },
     "execution_count": 367,
     "metadata": {},
     "output_type": "execute_result"
    }
   ],
   "source": [
    "df[\"'intimate': True\"].value_counts()"
   ]
  },
  {
   "cell_type": "code",
   "execution_count": 368,
   "metadata": {
    "collapsed": false
   },
   "outputs": [
    {
     "data": {
      "text/plain": [
       "0.0    4340\n",
       "1.0     153\n",
       "Name: 'classy': True, dtype: int64"
      ]
     },
     "execution_count": 368,
     "metadata": {},
     "output_type": "execute_result"
    }
   ],
   "source": [
    "df[\"'classy': True\"].value_counts()"
   ]
  },
  {
   "cell_type": "code",
   "execution_count": 369,
   "metadata": {
    "collapsed": false
   },
   "outputs": [
    {
     "data": {
      "text/plain": [
       "0.0    4426\n",
       "1.0      67\n",
       "Name: 'hipster': True, dtype: int64"
      ]
     },
     "execution_count": 369,
     "metadata": {},
     "output_type": "execute_result"
    }
   ],
   "source": [
    "df[\"'hipster': True\"].value_counts()"
   ]
  },
  {
   "cell_type": "code",
   "execution_count": 370,
   "metadata": {
    "collapsed": false
   },
   "outputs": [
    {
     "data": {
      "text/plain": [
       "0.0    4296\n",
       "1.0     197\n",
       "Name: 'divey': True, dtype: int64"
      ]
     },
     "execution_count": 370,
     "metadata": {},
     "output_type": "execute_result"
    }
   ],
   "source": [
    "df[\"'divey': True\"].value_counts()"
   ]
  },
  {
   "cell_type": "code",
   "execution_count": 371,
   "metadata": {
    "collapsed": false
   },
   "outputs": [
    {
     "data": {
      "text/plain": [
       "0.0    4422\n",
       "1.0      71\n",
       "Name: 'touristy': True, dtype: int64"
      ]
     },
     "execution_count": 371,
     "metadata": {},
     "output_type": "execute_result"
    }
   ],
   "source": [
    "df[\"'touristy': True\"].value_counts()"
   ]
  },
  {
   "cell_type": "code",
   "execution_count": 372,
   "metadata": {
    "collapsed": false
   },
   "outputs": [
    {
     "data": {
      "text/plain": [
       "0.0    4417\n",
       "1.0      76\n",
       "Name: 'upscale': True, dtype: int64"
      ]
     },
     "execution_count": 372,
     "metadata": {},
     "output_type": "execute_result"
    }
   ],
   "source": [
    "df[\"'upscale': True\"].value_counts()"
   ]
  },
  {
   "cell_type": "code",
   "execution_count": 373,
   "metadata": {
    "collapsed": false
   },
   "outputs": [
    {
     "data": {
      "text/plain": [
       "1.0    2410\n",
       "0.0    2083\n",
       "Name: 'casual': True, dtype: int64"
      ]
     },
     "execution_count": 373,
     "metadata": {},
     "output_type": "execute_result"
    }
   ],
   "source": [
    "df[\"'casual': True\"].value_counts()"
   ]
  },
  {
   "cell_type": "code",
   "execution_count": 374,
   "metadata": {
    "collapsed": false
   },
   "outputs": [
    {
     "data": {
      "text/plain": [
       "938"
      ]
     },
     "execution_count": 374,
     "metadata": {},
     "output_type": "execute_result"
    }
   ],
   "source": [
    "# Fill in missing data for \"'casual': True\" - to be used later (938 missing)\n",
    "\n",
    "df[\"'casual': True\"].isnull().sum()"
   ]
  },
  {
   "cell_type": "code",
   "execution_count": 375,
   "metadata": {
    "collapsed": false
   },
   "outputs": [],
   "source": [
    "df[\"'casual': True\"].fillna(df[\"'casual': True\"].mode()[0], inplace = True)"
   ]
  },
  {
   "cell_type": "code",
   "execution_count": 376,
   "metadata": {
    "collapsed": false
   },
   "outputs": [
    {
     "data": {
      "text/plain": [
       "1.0    3348\n",
       "0.0    2083\n",
       "Name: 'casual': True, dtype: int64"
      ]
     },
     "execution_count": 376,
     "metadata": {},
     "output_type": "execute_result"
    }
   ],
   "source": [
    "df[\"'casual': True\"].value_counts()"
   ]
  },
  {
   "cell_type": "code",
   "execution_count": 377,
   "metadata": {
    "collapsed": false
   },
   "outputs": [
    {
     "data": {
      "text/plain": [
       "'casual': True    0\n",
       "dtype: int64"
      ]
     },
     "execution_count": 377,
     "metadata": {},
     "output_type": "execute_result"
    }
   ],
   "source": [
    "df[[\"'casual': True\"]].isnull().sum()"
   ]
  },
  {
   "cell_type": "code",
   "execution_count": 378,
   "metadata": {
    "collapsed": false
   },
   "outputs": [
    {
     "data": {
      "text/plain": [
       "['Persian/Iranian',\n",
       " 'Restaurants',\n",
       " 'Ethnic Food',\n",
       " 'Food',\n",
       " 'Greek',\n",
       " 'Specialty Food',\n",
       " 'Restaurants',\n",
       " 'Vegetarian',\n",
       " 'Indian',\n",
       " 'American (New)',\n",
       " 'Cafes',\n",
       " 'Restaurants',\n",
       " 'Nightlife',\n",
       " 'Bars',\n",
       " 'Restaurants',\n",
       " 'Thai',\n",
       " 'Sports Bars',\n",
       " 'Chicken Wings',\n",
       " 'Fast Food',\n",
       " 'Restaurants',\n",
       " 'Barbeque',\n",
       " 'Restaurants',\n",
       " 'Southern',\n",
       " 'Restaurants',\n",
       " 'Burgers',\n",
       " 'Local Flavor',\n",
       " 'Barbeque',\n",
       " 'Desserts',\n",
       " 'Food',\n",
       " 'Pizza',\n",
       " 'Restaurants',\n",
       " 'Bakeries',\n",
       " 'Restaurants',\n",
       " 'Pizza',\n",
       " 'Restaurants',\n",
       " 'Chinese',\n",
       " 'Restaurants',\n",
       " 'Chinese',\n",
       " 'Filipino',\n",
       " 'Restaurants',\n",
       " 'Mexican',\n",
       " 'Restaurants',\n",
       " 'Fast Food',\n",
       " 'Restaurants',\n",
       " 'Burgers',\n",
       " 'Mexican',\n",
       " 'Restaurants',\n",
       " 'Fast Food',\n",
       " 'Nightlife',\n",
       " 'Food',\n",
       " 'American (Traditional)',\n",
       " 'Restaurants',\n",
       " 'Sports Bars',\n",
       " 'Burgers',\n",
       " 'Bars',\n",
       " 'Beer',\n",
       " 'Wine & Spirits',\n",
       " 'Food',\n",
       " 'Vegetarian',\n",
       " 'Vegan',\n",
       " 'Restaurants',\n",
       " 'American (New)',\n",
       " 'Japanese',\n",
       " 'Restaurants',\n",
       " 'Restaurants',\n",
       " 'Italian',\n",
       " 'Restaurants',\n",
       " 'American (Traditional)',\n",
       " 'Persian/Iranian',\n",
       " 'Food Stands',\n",
       " 'Restaurants',\n",
       " 'Burgers',\n",
       " 'Fast Food',\n",
       " 'Fast Food',\n",
       " 'Mexican',\n",
       " 'Tex-Mex',\n",
       " 'Restaurants',\n",
       " 'Restaurants',\n",
       " 'Mexican',\n",
       " 'Restaurants',\n",
       " 'Pizza',\n",
       " 'Restaurants',\n",
       " 'Mexican',\n",
       " 'Restaurants',\n",
       " 'Sandwiches',\n",
       " 'Fast Food',\n",
       " 'Pizza',\n",
       " 'Chicken Wings',\n",
       " 'Barbeque',\n",
       " 'Restaurants',\n",
       " 'Ethnic Grocery',\n",
       " 'Specialty Food',\n",
       " 'Food',\n",
       " 'International Grocery',\n",
       " 'Ethnic Food',\n",
       " 'Imported Food',\n",
       " 'Filipino',\n",
       " 'Restaurants',\n",
       " 'Grocery',\n",
       " 'Seafood',\n",
       " 'Thai',\n",
       " 'Restaurants',\n",
       " 'Noodles',\n",
       " 'Sandwiches',\n",
       " 'Restaurants',\n",
       " 'Fast Food',\n",
       " 'Mexican',\n",
       " 'Restaurants',\n",
       " 'Mediterranean',\n",
       " 'Restaurants',\n",
       " 'American (New)',\n",
       " 'Restaurants',\n",
       " 'Desserts',\n",
       " 'Coffee & Tea',\n",
       " 'Food',\n",
       " 'Sandwiches',\n",
       " 'Delis',\n",
       " 'Cafes',\n",
       " 'Steakhouses',\n",
       " 'Restaurants',\n",
       " 'Cheesesteaks',\n",
       " 'Food',\n",
       " 'American (New)',\n",
       " 'Desserts',\n",
       " 'Food Court',\n",
       " 'Restaurants',\n",
       " 'Food',\n",
       " 'Cafes',\n",
       " 'Coffee & Tea',\n",
       " 'Food',\n",
       " 'Breakfast & Brunch',\n",
       " 'Restaurants',\n",
       " 'Hawaiian',\n",
       " 'Italian',\n",
       " 'Restaurants',\n",
       " 'Karaoke',\n",
       " 'Coffee & Tea',\n",
       " 'Bars',\n",
       " 'Restaurants',\n",
       " 'Lounges',\n",
       " 'Asian Fusion',\n",
       " 'Nightlife',\n",
       " 'Food',\n",
       " 'Cafes',\n",
       " 'Restaurants',\n",
       " 'Szechuan',\n",
       " 'Chinese',\n",
       " 'Halal',\n",
       " 'Dim Sum',\n",
       " 'Restaurants',\n",
       " 'Beer',\n",
       " 'Wine & Spirits',\n",
       " 'Delis',\n",
       " 'Food',\n",
       " 'Grocery',\n",
       " 'Restaurants',\n",
       " 'American (New)',\n",
       " 'Mexican',\n",
       " 'Restaurants',\n",
       " 'Food',\n",
       " 'Restaurants',\n",
       " 'Food Trucks',\n",
       " 'Asian Fusion',\n",
       " 'Restaurants',\n",
       " 'Sandwiches',\n",
       " 'Delis',\n",
       " 'Restaurants',\n",
       " 'Cafes',\n",
       " 'Delis',\n",
       " 'Food',\n",
       " 'Bakeries',\n",
       " 'American (New)',\n",
       " 'Breakfast & Brunch',\n",
       " 'Food',\n",
       " 'Restaurants',\n",
       " 'Coffee & Tea',\n",
       " 'Japanese',\n",
       " 'Restaurants',\n",
       " 'Ramen',\n",
       " 'Noodles',\n",
       " 'Chicken Wings',\n",
       " 'Korean',\n",
       " 'Restaurants',\n",
       " 'Korean',\n",
       " 'Barbeque',\n",
       " 'Restaurants',\n",
       " 'Mexican',\n",
       " 'Restaurants',\n",
       " 'Restaurants',\n",
       " 'Cafes',\n",
       " 'Soul Food',\n",
       " 'Restaurants',\n",
       " 'Cafes',\n",
       " 'Breakfast & Brunch',\n",
       " 'American (New)',\n",
       " 'Restaurants',\n",
       " 'Pizza',\n",
       " 'Restaurants',\n",
       " 'Waffles',\n",
       " 'Desserts',\n",
       " 'Restaurants',\n",
       " 'Cupcakes',\n",
       " 'Donuts',\n",
       " 'Ice Cream & Frozen Yogurt',\n",
       " 'Food',\n",
       " 'Italian',\n",
       " 'Restaurants',\n",
       " 'Mexican',\n",
       " 'Restaurants',\n",
       " 'Steakhouses',\n",
       " 'Restaurants',\n",
       " 'American (Traditional)',\n",
       " 'Seafood',\n",
       " 'Restaurants',\n",
       " 'Japanese',\n",
       " 'Chinese',\n",
       " 'Local Flavor',\n",
       " 'Restaurants',\n",
       " 'Chinese',\n",
       " 'Restaurants',\n",
       " 'Donuts',\n",
       " 'Sandwiches',\n",
       " 'Food',\n",
       " 'Food',\n",
       " 'Restaurants',\n",
       " 'Bagels',\n",
       " 'Delis',\n",
       " 'Breakfast & Brunch',\n",
       " 'Restaurants',\n",
       " 'Fast Food',\n",
       " 'Mexican',\n",
       " 'Restaurants',\n",
       " 'Chinese',\n",
       " 'Hawaiian',\n",
       " 'Food',\n",
       " 'Coffee & Tea',\n",
       " 'Asian Fusion',\n",
       " 'Bubble Tea',\n",
       " 'Sushi Bars',\n",
       " 'Asian Fusion',\n",
       " 'Tapas/Small Plates',\n",
       " 'Food',\n",
       " 'Salad',\n",
       " 'Tapas Bars',\n",
       " 'Seafood',\n",
       " 'Desserts',\n",
       " 'Ramen',\n",
       " 'Japanese',\n",
       " 'Restaurants',\n",
       " 'Restaurants',\n",
       " 'Fast Food',\n",
       " 'Chinese',\n",
       " 'Brasseries',\n",
       " 'French',\n",
       " 'Restaurants',\n",
       " 'Nightlife',\n",
       " 'Bars',\n",
       " 'Delis',\n",
       " 'Restaurants',\n",
       " 'Fast Food',\n",
       " 'Sandwiches',\n",
       " 'Nightlife',\n",
       " 'Steakhouses',\n",
       " 'American (Traditional)',\n",
       " 'Restaurants',\n",
       " 'Bars',\n",
       " 'Tapas Bars',\n",
       " 'Cuban',\n",
       " 'Restaurants',\n",
       " 'Italian',\n",
       " 'Restaurants',\n",
       " 'Event Planning & Services',\n",
       " 'Venues & Event Spaces',\n",
       " 'Caterers',\n",
       " 'Pizza',\n",
       " 'Restaurants',\n",
       " 'Food',\n",
       " 'Bars',\n",
       " 'Sports Bars',\n",
       " 'American (Traditional)',\n",
       " 'Nightlife',\n",
       " 'Beer',\n",
       " 'Wine & Spirits',\n",
       " 'Food',\n",
       " 'Health & Medical',\n",
       " 'Health Markets',\n",
       " 'Restaurants',\n",
       " 'Food Delivery Services',\n",
       " 'Specialty Food',\n",
       " 'Home Services',\n",
       " 'Desserts',\n",
       " 'Weight Loss Centers',\n",
       " 'American (New)',\n",
       " 'Filipino',\n",
       " 'Restaurants',\n",
       " 'Restaurants',\n",
       " 'Korean',\n",
       " 'Desserts',\n",
       " 'Food',\n",
       " 'Restaurants',\n",
       " 'Sandwiches',\n",
       " 'Coffee & Tea',\n",
       " 'Pizza',\n",
       " 'Restaurants',\n",
       " 'Restaurants',\n",
       " 'Chinese',\n",
       " 'Southern',\n",
       " 'Restaurants',\n",
       " 'Burgers',\n",
       " 'Hot Dogs',\n",
       " 'Restaurants',\n",
       " 'Wine Bars',\n",
       " 'Nightlife',\n",
       " 'Restaurants',\n",
       " 'Bars',\n",
       " 'Italian',\n",
       " 'Salad',\n",
       " 'American (New)',\n",
       " 'Restaurants',\n",
       " 'Seafood',\n",
       " 'Restaurants',\n",
       " 'American (New)',\n",
       " 'Fast Food',\n",
       " 'Sandwiches',\n",
       " 'Restaurants',\n",
       " 'Restaurants',\n",
       " 'Chinese',\n",
       " 'Barbeque',\n",
       " 'Food',\n",
       " 'Restaurants',\n",
       " 'Mediterranean',\n",
       " 'Bakeries',\n",
       " 'Restaurants',\n",
       " 'Soup',\n",
       " 'Taiwanese',\n",
       " 'Chinese',\n",
       " 'Restaurants',\n",
       " 'Burgers',\n",
       " 'Sports Bars',\n",
       " 'American (Traditional)',\n",
       " 'Restaurants',\n",
       " 'Nightlife',\n",
       " 'Bars',\n",
       " 'American (New)',\n",
       " 'Burgers',\n",
       " 'Restaurants',\n",
       " 'Sandwiches',\n",
       " 'Delis',\n",
       " 'Bubble Tea',\n",
       " 'Chinese',\n",
       " 'Restaurants',\n",
       " 'Food',\n",
       " 'American (New)',\n",
       " 'Restaurants',\n",
       " 'American (Traditional)',\n",
       " 'Bars',\n",
       " 'Hookah Bars',\n",
       " 'Nightlife',\n",
       " 'Mediterranean',\n",
       " 'Restaurants',\n",
       " 'Korean',\n",
       " 'Barbeque',\n",
       " 'Restaurants',\n",
       " 'Chinese',\n",
       " 'Steakhouses',\n",
       " 'Restaurants',\n",
       " 'Event Planning & Services',\n",
       " 'Casinos',\n",
       " 'Arts & Entertainment',\n",
       " 'Hotels',\n",
       " 'Restaurants',\n",
       " 'Hotels & Travel',\n",
       " 'Restaurants',\n",
       " 'Wine Bars',\n",
       " 'Lounges',\n",
       " 'Bars',\n",
       " 'Italian',\n",
       " 'Food',\n",
       " 'Nightlife',\n",
       " 'Pizza',\n",
       " 'Coffee & Tea',\n",
       " 'Sports Bars',\n",
       " 'Restaurants',\n",
       " 'Pizza',\n",
       " 'Restaurants',\n",
       " 'Juice Bars & Smoothies',\n",
       " 'Food Court',\n",
       " 'Food',\n",
       " 'Desserts',\n",
       " 'Ice Cream & Frozen Yogurt',\n",
       " 'Restaurants',\n",
       " 'Steakhouses',\n",
       " 'Asian Fusion',\n",
       " 'Seafood',\n",
       " 'Restaurants',\n",
       " 'Sushi Bars',\n",
       " 'Korean',\n",
       " 'Japanese',\n",
       " 'Restaurants',\n",
       " 'American (New)',\n",
       " 'Cajun/Creole',\n",
       " 'Restaurants',\n",
       " 'Restaurants',\n",
       " 'Mexican',\n",
       " 'Gastropubs',\n",
       " 'Restaurants',\n",
       " 'Irish',\n",
       " 'Pubs',\n",
       " 'Nightlife',\n",
       " 'Bars',\n",
       " 'Mexican',\n",
       " 'Restaurants',\n",
       " 'Bars',\n",
       " 'Restaurants',\n",
       " 'Burgers',\n",
       " 'Nightlife',\n",
       " 'American (Traditional)',\n",
       " 'Cafes',\n",
       " 'Restaurants',\n",
       " 'American (New)',\n",
       " 'Hawaiian',\n",
       " 'Breakfast & Brunch',\n",
       " 'Chinese',\n",
       " 'Restaurants',\n",
       " 'Soup',\n",
       " 'Food Delivery Services',\n",
       " 'Food',\n",
       " 'Thai',\n",
       " 'Food',\n",
       " 'Restaurants',\n",
       " 'Food Delivery Services',\n",
       " 'Restaurants',\n",
       " 'Chicken Wings',\n",
       " 'Food',\n",
       " 'Specialty Food',\n",
       " 'Pizza',\n",
       " 'Pasta Shops',\n",
       " 'Sandwiches',\n",
       " 'Salad',\n",
       " 'Szechuan',\n",
       " 'Specialty Food',\n",
       " 'Soup',\n",
       " 'Restaurants',\n",
       " 'Local Flavor',\n",
       " 'Pasta Shops',\n",
       " 'Chinese',\n",
       " 'Food',\n",
       " 'Noodles',\n",
       " 'Restaurants',\n",
       " 'Pubs',\n",
       " 'Sports Bars',\n",
       " 'Bars',\n",
       " 'Nightlife',\n",
       " 'American (New)',\n",
       " 'Delis',\n",
       " 'Food Delivery Services',\n",
       " 'Food',\n",
       " 'Sandwiches',\n",
       " 'Restaurants',\n",
       " 'Sushi Bars',\n",
       " 'Restaurants',\n",
       " 'Restaurants',\n",
       " 'Burgers',\n",
       " 'Fast Food',\n",
       " 'American (Traditional)',\n",
       " 'Restaurants',\n",
       " 'Breakfast & Brunch',\n",
       " 'Restaurants',\n",
       " 'Sandwiches',\n",
       " 'Chinese',\n",
       " 'Restaurants',\n",
       " 'Pubs',\n",
       " 'Restaurants',\n",
       " 'American (Traditional)',\n",
       " 'Bars',\n",
       " 'Nightlife',\n",
       " 'Mediterranean',\n",
       " 'Halal',\n",
       " 'Indian',\n",
       " 'Restaurants',\n",
       " 'Lounges',\n",
       " 'Nightlife',\n",
       " 'American (New)',\n",
       " 'Bars',\n",
       " 'Restaurants',\n",
       " 'Pizza',\n",
       " 'Restaurants',\n",
       " 'Casinos',\n",
       " 'Breweries',\n",
       " 'Barbeque',\n",
       " 'Arts & Entertainment',\n",
       " 'Karaoke',\n",
       " 'American (Traditional)',\n",
       " 'Restaurants',\n",
       " 'Bars',\n",
       " 'Pubs',\n",
       " 'Food',\n",
       " 'Nightlife',\n",
       " 'Restaurants',\n",
       " 'Sandwiches',\n",
       " 'Burgers',\n",
       " 'American (Traditional)',\n",
       " 'Restaurants',\n",
       " 'Bars',\n",
       " 'Sports Bars',\n",
       " 'Nightlife',\n",
       " 'Mexican',\n",
       " 'Restaurants',\n",
       " 'American (New)',\n",
       " 'Restaurants',\n",
       " 'Burgers',\n",
       " 'American (Traditional)',\n",
       " 'Home & Garden',\n",
       " 'Shopping',\n",
       " 'Shopping Centers',\n",
       " 'Restaurants',\n",
       " 'Italian',\n",
       " 'Restaurants',\n",
       " 'Chinese',\n",
       " 'Restaurants',\n",
       " 'Restaurants',\n",
       " 'Nightlife',\n",
       " 'Italian',\n",
       " 'Wine Bars',\n",
       " 'Lounges',\n",
       " 'Bars',\n",
       " 'Japanese',\n",
       " 'Restaurants',\n",
       " 'Restaurants',\n",
       " 'American (New)',\n",
       " 'Sandwiches',\n",
       " 'Restaurants',\n",
       " 'Delis',\n",
       " 'Grocery',\n",
       " 'Sandwiches',\n",
       " 'Salad',\n",
       " 'Restaurants',\n",
       " 'Food',\n",
       " 'American (New)',\n",
       " 'Restaurants',\n",
       " 'Burgers',\n",
       " 'Fast Food',\n",
       " 'Restaurants',\n",
       " 'Restaurants',\n",
       " 'Mexican',\n",
       " 'Burgers',\n",
       " 'Beer',\n",
       " 'Wine & Spirits',\n",
       " 'Food',\n",
       " 'Restaurants',\n",
       " 'Restaurants',\n",
       " 'Pizza',\n",
       " 'Food',\n",
       " 'Burgers',\n",
       " 'Fast Food',\n",
       " 'Restaurants',\n",
       " 'Restaurants',\n",
       " 'Event Planning & Services',\n",
       " 'Caterers',\n",
       " 'Personal Chefs',\n",
       " 'Food Stands',\n",
       " 'Street Vendors',\n",
       " 'Chicken Wings',\n",
       " 'Restaurants',\n",
       " 'Food Trucks',\n",
       " 'Food',\n",
       " 'Restaurants',\n",
       " 'Cafes',\n",
       " 'Restaurants',\n",
       " 'Japanese',\n",
       " 'Wine Bars',\n",
       " 'Nightlife',\n",
       " 'Bars',\n",
       " 'Restaurants',\n",
       " 'French',\n",
       " 'Brasseries',\n",
       " 'Candy Stores',\n",
       " 'Pizza',\n",
       " 'Restaurants',\n",
       " 'Specialty Food',\n",
       " 'Food',\n",
       " 'Burgers',\n",
       " 'American (New)',\n",
       " 'Mexican',\n",
       " 'Restaurants',\n",
       " 'Mexican',\n",
       " 'Restaurants',\n",
       " 'Food Stands',\n",
       " 'Restaurants',\n",
       " 'American (Traditional)',\n",
       " 'Restaurants',\n",
       " 'Fast Food',\n",
       " 'Mexican',\n",
       " 'Burgers',\n",
       " 'Fast Food',\n",
       " 'Restaurants',\n",
       " 'Mexican',\n",
       " 'Tex-Mex',\n",
       " 'Fast Food',\n",
       " 'Restaurants',\n",
       " 'Buffets',\n",
       " 'Restaurants',\n",
       " 'American (Traditional)',\n",
       " 'Pubs',\n",
       " 'Restaurants',\n",
       " 'Bars',\n",
       " 'Nightlife',\n",
       " 'Fast Food',\n",
       " 'Restaurants',\n",
       " 'Restaurants',\n",
       " 'Fast Food',\n",
       " 'Mexican',\n",
       " 'Pubs',\n",
       " 'Sports Bars',\n",
       " 'Restaurants',\n",
       " 'Bars',\n",
       " 'American (New)',\n",
       " 'Nightlife',\n",
       " 'Sushi Bars',\n",
       " 'Japanese',\n",
       " 'Salad',\n",
       " 'Restaurants',\n",
       " 'Asian Fusion',\n",
       " 'Juice Bars & Smoothies',\n",
       " 'Delis',\n",
       " 'Food',\n",
       " 'American (New)',\n",
       " 'American (Traditional)',\n",
       " 'Restaurants',\n",
       " 'Breakfast & Brunch',\n",
       " 'Food Delivery Services',\n",
       " 'Mexican',\n",
       " 'Restaurants',\n",
       " 'Food',\n",
       " 'Food Trucks',\n",
       " 'Food Delivery Services',\n",
       " 'Gluten-Free',\n",
       " 'Health & Medical',\n",
       " 'Restaurants',\n",
       " 'Nutritionists',\n",
       " 'Restaurants',\n",
       " 'Sandwiches',\n",
       " 'Fast Food',\n",
       " 'Soup',\n",
       " 'Asian Fusion',\n",
       " 'Restaurants',\n",
       " 'Sushi Bars',\n",
       " 'Restaurants',\n",
       " 'Steakhouses',\n",
       " 'Restaurants',\n",
       " 'Breakfast & Brunch',\n",
       " 'Food Delivery Services',\n",
       " 'Delis',\n",
       " 'American (Traditional)',\n",
       " 'Food',\n",
       " 'Mexican',\n",
       " 'Restaurants',\n",
       " 'Fast Food',\n",
       " 'Restaurants',\n",
       " 'Pizza',\n",
       " 'Restaurants',\n",
       " 'Mexican',\n",
       " 'Restaurants',\n",
       " 'Tapas Bars',\n",
       " 'Spanish',\n",
       " 'Tapas/Small Plates',\n",
       " 'Sandwiches',\n",
       " 'Restaurants',\n",
       " 'American (Traditional)',\n",
       " 'Restaurants',\n",
       " 'Fast Food',\n",
       " 'Restaurants',\n",
       " 'Sandwiches',\n",
       " 'Diners',\n",
       " 'Burgers',\n",
       " 'American (Traditional)',\n",
       " 'Mexican',\n",
       " 'Restaurants',\n",
       " 'Buffets',\n",
       " 'Sandwiches',\n",
       " 'Food',\n",
       " 'Restaurants',\n",
       " 'Breakfast & Brunch',\n",
       " 'Fast Food',\n",
       " 'Food',\n",
       " 'Restaurants',\n",
       " 'Bakeries',\n",
       " 'Pretzels',\n",
       " 'Restaurants',\n",
       " 'Latin American',\n",
       " 'Pizza',\n",
       " 'Restaurants',\n",
       " 'Mexican',\n",
       " 'Restaurants',\n",
       " 'Food Trucks',\n",
       " 'Food',\n",
       " 'Sushi Bars',\n",
       " 'Japanese',\n",
       " 'Restaurants',\n",
       " 'Mediterranean',\n",
       " 'Irish',\n",
       " 'Restaurants',\n",
       " 'American (Traditional)',\n",
       " 'Bars',\n",
       " 'American (New)',\n",
       " 'Dive Bars',\n",
       " 'Nightlife',\n",
       " 'Delis',\n",
       " 'Caterers',\n",
       " 'Sandwiches',\n",
       " 'Restaurants',\n",
       " 'Event Planning & Services',\n",
       " 'Caribbean',\n",
       " 'Seafood',\n",
       " 'Food',\n",
       " 'Restaurants',\n",
       " 'Breweries',\n",
       " 'Restaurants',\n",
       " 'Food',\n",
       " 'American (New)',\n",
       " 'Restaurants',\n",
       " 'American (New)',\n",
       " 'Candy Stores',\n",
       " 'Ice Cream & Frozen Yogurt',\n",
       " 'Restaurants',\n",
       " 'Mexican',\n",
       " 'Specialty Food',\n",
       " 'Food',\n",
       " 'Chicken Wings',\n",
       " 'Sandwiches',\n",
       " 'Pizza',\n",
       " 'Restaurants',\n",
       " 'Bakeries',\n",
       " 'Restaurants',\n",
       " 'German',\n",
       " 'Food',\n",
       " 'Nightlife',\n",
       " 'American (Traditional)',\n",
       " 'Restaurants',\n",
       " 'Fast Food',\n",
       " 'Restaurants',\n",
       " 'Food',\n",
       " 'Pretzels',\n",
       " 'Bars',\n",
       " 'Restaurants',\n",
       " 'Nightlife',\n",
       " 'Italian',\n",
       " 'Chicken Wings',\n",
       " 'Restaurants',\n",
       " 'Restaurants',\n",
       " 'Fast Food',\n",
       " 'Chinese',\n",
       " 'Party Bus Rentals',\n",
       " 'Hotels & Travel',\n",
       " 'Venues & Event Spaces',\n",
       " 'Transportation',\n",
       " 'Limos',\n",
       " 'Party & Event Planning',\n",
       " 'Event Planning & Services',\n",
       " 'Restaurants',\n",
       " 'Tours',\n",
       " 'Diners',\n",
       " 'Nightlife',\n",
       " 'Travel Services',\n",
       " 'Hotels',\n",
       " 'Restaurants',\n",
       " 'Juice Bars & Smoothies',\n",
       " 'American (New)',\n",
       " 'Food',\n",
       " 'Cafes',\n",
       " 'Sandwiches',\n",
       " 'Restaurants',\n",
       " 'Mexican',\n",
       " 'Fast Food',\n",
       " 'Restaurants',\n",
       " 'Restaurants',\n",
       " 'Fast Food',\n",
       " 'Chinese',\n",
       " 'Steakhouses',\n",
       " 'Restaurants',\n",
       " 'Music Venues',\n",
       " 'Dance Clubs',\n",
       " 'Bars',\n",
       " 'Mexican',\n",
       " 'Middle Eastern',\n",
       " 'Nightlife',\n",
       " 'Restaurants',\n",
       " 'Hookah Bars',\n",
       " 'Arts & Entertainment',\n",
       " 'Restaurants',\n",
       " 'Fast Food',\n",
       " 'American (New)',\n",
       " 'Specialty Food',\n",
       " 'Chicken Wings',\n",
       " 'Food',\n",
       " 'Barbeque',\n",
       " 'Restaurants',\n",
       " 'Fast Food',\n",
       " 'Japanese',\n",
       " 'Beer',\n",
       " 'Wine & Spirits',\n",
       " 'Teppanyaki',\n",
       " 'Food',\n",
       " 'Restaurants',\n",
       " 'Sandwiches',\n",
       " 'Food',\n",
       " 'Bagels',\n",
       " 'Restaurants',\n",
       " 'Food Court',\n",
       " 'Restaurants',\n",
       " 'Italian',\n",
       " 'Pizza',\n",
       " 'Restaurants',\n",
       " 'Italian',\n",
       " 'American (Traditional)',\n",
       " 'Restaurants',\n",
       " 'American (New)',\n",
       " 'Sports Bars',\n",
       " 'Restaurants',\n",
       " 'American (New)',\n",
       " 'Nightlife',\n",
       " 'Bars',\n",
       " 'Burgers',\n",
       " 'Restaurants',\n",
       " 'Chinese',\n",
       " 'Japanese',\n",
       " 'Bars',\n",
       " 'Lounges',\n",
       " 'Restaurants',\n",
       " 'Nightlife',\n",
       " 'Steakhouses',\n",
       " 'Pizza',\n",
       " 'Italian',\n",
       " 'Restaurants',\n",
       " 'Hotels',\n",
       " 'Restaurants',\n",
       " 'Event Planning & Services',\n",
       " 'American (Traditional)',\n",
       " 'Venues & Event Spaces',\n",
       " 'Hotels & Travel',\n",
       " 'Bars',\n",
       " 'Restaurants',\n",
       " 'Nightlife',\n",
       " 'Pubs',\n",
       " 'British',\n",
       " 'American (Traditional)',\n",
       " 'Restaurants',\n",
       " 'Steakhouses',\n",
       " 'American (New)',\n",
       " 'Restaurants',\n",
       " 'Italian',\n",
       " 'Restaurants',\n",
       " 'Mexican',\n",
       " 'Fast Food',\n",
       " 'Food Delivery Services',\n",
       " 'Restaurants',\n",
       " 'Fast Food',\n",
       " 'Sandwiches',\n",
       " 'Food',\n",
       " 'Chinese',\n",
       " 'Restaurants',\n",
       " 'Desserts',\n",
       " 'Sandwiches',\n",
       " 'Restaurants',\n",
       " 'Ice Cream & Frozen Yogurt',\n",
       " 'Food',\n",
       " 'Restaurants',\n",
       " 'Steakhouses',\n",
       " 'French',\n",
       " 'Breakfast & Brunch',\n",
       " 'Restaurants',\n",
       " 'Fast Food',\n",
       " 'Restaurants',\n",
       " 'Mexican',\n",
       " 'Restaurants',\n",
       " 'Mexican',\n",
       " 'Tex-Mex',\n",
       " 'Japanese',\n",
       " 'Asian Fusion',\n",
       " 'Restaurants',\n",
       " 'Hawaiian',\n",
       " 'American (Traditional)',\n",
       " 'Restaurants',\n",
       " 'Steakhouses',\n",
       " 'Restaurants',\n",
       " 'Bars',\n",
       " 'Wine Bars',\n",
       " 'Seafood',\n",
       " 'Nightlife',\n",
       " 'Restaurants',\n",
       " 'Chinese',\n",
       " 'Sandwiches',\n",
       " 'Restaurants',\n",
       " 'Fast Food',\n",
       " 'Steakhouses',\n",
       " 'Restaurants',\n",
       " 'Mediterranean',\n",
       " 'Restaurants',\n",
       " 'Kosher',\n",
       " 'Hot Dogs',\n",
       " 'Pizza',\n",
       " 'Italian',\n",
       " 'Restaurants',\n",
       " 'Soup',\n",
       " 'Restaurants',\n",
       " 'Sandwiches',\n",
       " 'Salad',\n",
       " 'Food',\n",
       " 'Caribbean',\n",
       " 'Restaurants',\n",
       " 'Vegan',\n",
       " 'Bakeries',\n",
       " 'Fast Food',\n",
       " 'American (New)',\n",
       " 'Restaurants',\n",
       " 'Gastropubs',\n",
       " 'Barbeque',\n",
       " 'Seafood',\n",
       " 'American (Traditional)',\n",
       " 'Restaurants',\n",
       " 'Steakhouses',\n",
       " 'Restaurants',\n",
       " 'Mexican',\n",
       " 'Sandwiches',\n",
       " 'Delis',\n",
       " 'Restaurants',\n",
       " 'Fast Food',\n",
       " 'Food',\n",
       " 'Pizza',\n",
       " 'Restaurants',\n",
       " 'American (New)',\n",
       " 'Restaurants',\n",
       " 'Italian',\n",
       " 'Salad',\n",
       " 'Restaurants',\n",
       " 'Italian',\n",
       " 'Pizza',\n",
       " 'Restaurants',\n",
       " 'Sandwiches',\n",
       " 'Vietnamese',\n",
       " 'American (New)',\n",
       " 'Italian',\n",
       " 'Restaurants',\n",
       " 'Gelato',\n",
       " 'Desserts',\n",
       " 'Food',\n",
       " 'Ice Cream & Frozen Yogurt',\n",
       " 'Coffee & Tea',\n",
       " 'Restaurants',\n",
       " 'Food',\n",
       " 'Food Trucks',\n",
       " 'Food Stands',\n",
       " 'Street Vendors',\n",
       " 'Restaurants',\n",
       " 'Pizza',\n",
       " 'Fast Food',\n",
       " 'American (New)',\n",
       " 'Restaurants',\n",
       " 'Sandwiches',\n",
       " 'Breakfast & Brunch',\n",
       " 'Coffee & Tea',\n",
       " 'Food',\n",
       " 'Restaurants',\n",
       " 'Street Vendors',\n",
       " 'Food',\n",
       " 'Restaurants',\n",
       " 'Food Stands',\n",
       " 'Diners',\n",
       " 'Cafes',\n",
       " 'Restaurants',\n",
       " 'American (Traditional)',\n",
       " 'Restaurants',\n",
       " 'Breakfast & Brunch',\n",
       " 'Wine Bars',\n",
       " 'Bars',\n",
       " 'Pizza',\n",
       " 'Nightlife',\n",
       " 'Restaurants',\n",
       " 'Salad',\n",
       " 'Breakfast & Brunch',\n",
       " 'Sandwiches',\n",
       " 'Restaurants',\n",
       " 'Ukrainian',\n",
       " 'Tapas Bars',\n",
       " 'Restaurants',\n",
       " 'Spanish',\n",
       " 'Burgers',\n",
       " 'Fast Food',\n",
       " 'Restaurants',\n",
       " 'French',\n",
       " 'Restaurants',\n",
       " 'Restaurants',\n",
       " 'Mexican',\n",
       " 'Food',\n",
       " 'Mexican',\n",
       " 'Restaurants',\n",
       " 'Breakfast & Brunch',\n",
       " 'Pretzels',\n",
       " 'Sandwiches',\n",
       " 'Burgers',\n",
       " ...]"
      ]
     },
     "execution_count": 378,
     "metadata": {},
     "output_type": "execute_result"
    }
   ],
   "source": [
    "# DEAL WITH CATEGORIES: \n",
    "\n",
    "categories_list = ([item for sublist in df['categories'] for item in sublist])\n",
    "\n",
    "categories_list"
   ]
  },
  {
   "cell_type": "code",
   "execution_count": 379,
   "metadata": {
    "collapsed": false
   },
   "outputs": [
    {
     "data": {
      "text/plain": [
       "[('Restaurants', 5431),\n",
       " ('Food', 1002),\n",
       " ('Fast Food', 805),\n",
       " ('Nightlife', 698),\n",
       " ('American (Traditional)', 681),\n",
       " ('Mexican', 680),\n",
       " ('Bars', 652),\n",
       " ('Sandwiches', 573),\n",
       " ('Pizza', 563),\n",
       " ('American (New)', 527),\n",
       " ('Burgers', 462),\n",
       " ('Chinese', 396),\n",
       " ('Italian', 358),\n",
       " ('Breakfast & Brunch', 339),\n",
       " ('Japanese', 310),\n",
       " ('Seafood', 271),\n",
       " ('Sushi Bars', 230),\n",
       " ('Asian Fusion', 223),\n",
       " ('Cafes', 211),\n",
       " ('Steakhouses', 208),\n",
       " ('Barbeque', 193),\n",
       " ('Chicken Wings', 190),\n",
       " ('Sports Bars', 166),\n",
       " ('Event Planning & Services', 164),\n",
       " ('Delis', 157),\n",
       " ('Coffee & Tea', 144),\n",
       " ('Desserts', 143),\n",
       " ('Thai', 136),\n",
       " ('Salad', 135),\n",
       " ('Arts & Entertainment', 126),\n",
       " ('Specialty Food', 123),\n",
       " ('Buffets', 115),\n",
       " ('Mediterranean', 113),\n",
       " ('Pubs', 112),\n",
       " ('Hawaiian', 109),\n",
       " ('Korean', 105),\n",
       " ('Caterers', 100),\n",
       " ('Bakeries', 100),\n",
       " ('Hot Dogs', 98),\n",
       " ('Diners', 95),\n",
       " ('Juice Bars & Smoothies', 94),\n",
       " ('Lounges', 93),\n",
       " ('Vegetarian', 92),\n",
       " ('Wine & Spirits', 85),\n",
       " ('Beer', 85),\n",
       " ('Vegan', 82),\n",
       " ('Vietnamese', 80),\n",
       " ('Filipino', 70),\n",
       " ('Tex-Mex', 69),\n",
       " ('Food Trucks', 67),\n",
       " ('Latin American', 67),\n",
       " ('Food Delivery Services', 64),\n",
       " ('Cocktail Bars', 64),\n",
       " ('French', 64),\n",
       " ('Food Stands', 64),\n",
       " ('Wine Bars', 63),\n",
       " ('Casinos', 61),\n",
       " ('Ice Cream & Frozen Yogurt', 58),\n",
       " ('Indian', 55),\n",
       " ('Gluten-Free', 52),\n",
       " ('Ethnic Food', 51),\n",
       " ('Soup', 48),\n",
       " ('Greek', 47),\n",
       " ('Southern', 45),\n",
       " ('Middle Eastern', 45),\n",
       " ('Karaoke', 45),\n",
       " ('Tapas Bars', 42),\n",
       " ('Hotels & Travel', 41),\n",
       " ('Street Vendors', 38),\n",
       " ('Noodles', 38),\n",
       " ('Grocery', 38),\n",
       " ('Tapas/Small Plates', 38),\n",
       " ('Soul Food', 38),\n",
       " ('Music Venues', 37),\n",
       " ('Shopping', 35),\n",
       " ('Gastropubs', 34),\n",
       " ('Comfort Food', 34),\n",
       " ('Cajun/Creole', 32),\n",
       " ('Hotels', 31),\n",
       " ('Bagels', 31),\n",
       " ('Dim Sum', 27),\n",
       " ('Ramen', 26),\n",
       " ('Dance Clubs', 26),\n",
       " ('Taiwanese', 25),\n",
       " ('Food Court', 25),\n",
       " ('Halal', 24),\n",
       " ('Cheesesteaks', 23),\n",
       " ('Active Life', 23),\n",
       " ('Spanish', 22),\n",
       " ('Cantonese', 21),\n",
       " ('Kosher', 21),\n",
       " ('Breweries', 20),\n",
       " ('Szechuan', 20),\n",
       " ('Chicken Shop', 20),\n",
       " ('Venues & Event Spaces', 19),\n",
       " ('Dive Bars', 19),\n",
       " ('Persian/Iranian', 18),\n",
       " ('Caribbean', 18),\n",
       " ('Poke', 18),\n",
       " ('Local Flavor', 17),\n",
       " ('Hookah Bars', 17),\n",
       " ('Cuban', 16),\n",
       " ('Salvadoran', 16),\n",
       " ('Bubble Tea', 16),\n",
       " ('Pakistani', 16),\n",
       " ('Shaved Ice', 15),\n",
       " ('Creperies', 15),\n",
       " ('Beer Bar', 15),\n",
       " ('Party & Event Planning', 14),\n",
       " ('Brazilian', 14),\n",
       " ('Ethiopian', 14),\n",
       " ('Hot Pot', 11),\n",
       " ('Irish', 11),\n",
       " ('Donuts', 11),\n",
       " ('Tea Rooms', 10),\n",
       " ('Meat Shops', 10),\n",
       " ('Convenience Stores', 9),\n",
       " ('Health & Medical', 9),\n",
       " ('Imported Food', 9),\n",
       " ('Beauty & Spas', 9),\n",
       " ('Pretzels', 9),\n",
       " ('Do-It-Yourself Food', 9),\n",
       " ('Peruvian', 9),\n",
       " ('British', 9),\n",
       " ('Adult Entertainment', 8),\n",
       " ('Tacos', 8),\n",
       " ('Automotive', 8),\n",
       " ('Fashion', 8),\n",
       " ('Health Markets', 8),\n",
       " ('Farmers Market', 8),\n",
       " ('Personal Chefs', 8),\n",
       " ('Teppanyaki', 7),\n",
       " ('Live/Raw Food', 7),\n",
       " ('Gelato', 7),\n",
       " ('Organic Stores', 7),\n",
       " ('Performing Arts', 7),\n",
       " ('Shopping Centers', 7),\n",
       " ('German', 6),\n",
       " ('Butcher', 6),\n",
       " ('Internet Cafes', 6),\n",
       " ('African', 6),\n",
       " ('Swimming Pools', 6),\n",
       " ('Local Services', 6),\n",
       " ('Pasta Shops', 6),\n",
       " ('Fondue', 6),\n",
       " ('Fish & Chips', 6),\n",
       " ('Festivals', 5),\n",
       " ('Brasseries', 5),\n",
       " ('Gas & Service Stations', 5),\n",
       " ('Seafood Markets', 5),\n",
       " ('Russian', 5),\n",
       " ('Malaysian', 5),\n",
       " ('Shanghainese', 5),\n",
       " ('Afghan', 5),\n",
       " ('Arcades', 5),\n",
       " ('Cupcakes', 5),\n",
       " ('Hair Salons', 5),\n",
       " ('Waffles', 5),\n",
       " ('Lebanese', 5),\n",
       " ('Home & Garden', 5),\n",
       " ('Candy Stores', 5),\n",
       " ('Modern European', 4),\n",
       " ('Gay Bars', 4),\n",
       " ('Pan Asian', 4),\n",
       " ('Venezuelan', 4),\n",
       " ('Education', 4),\n",
       " ('Mongolian', 4),\n",
       " ('Jazz & Blues', 4),\n",
       " ('Chocolatiers & Shops', 4),\n",
       " ('Home Services', 4),\n",
       " ('Resorts', 4),\n",
       " ('Wedding Planning', 4),\n",
       " ('Custom Cakes', 4),\n",
       " ('Fruits & Veggies', 4),\n",
       " ('Golf', 4),\n",
       " ('Puerto Rican', 3),\n",
       " ('Nutritionists', 3),\n",
       " ('Turkish', 3),\n",
       " ('Airports', 3),\n",
       " ('Piano Bars', 3),\n",
       " ('International Grocery', 3),\n",
       " ('Drugstores', 3),\n",
       " ('Moroccan', 3),\n",
       " ('Falafel', 3),\n",
       " ('Pub Food', 3),\n",
       " ('Patisserie/Cake Shop', 3),\n",
       " ('Fitness & Instruction', 3),\n",
       " ('Colombian', 3),\n",
       " ('Tours', 3),\n",
       " ('Singaporean', 3),\n",
       " ('Auto Repair', 3),\n",
       " ('Ukrainian', 3),\n",
       " ('Weight Loss Centers', 3),\n",
       " ('Argentine', 3),\n",
       " ('Laotian', 3),\n",
       " ('Public Services & Government', 2),\n",
       " ('Professional Services', 2),\n",
       " ('Day Spas', 2),\n",
       " ('Antiques', 2),\n",
       " ('Music & Video', 2),\n",
       " ('Scandinavian', 2),\n",
       " ('Cosmetics & Beauty Supply', 2),\n",
       " ('Ethnic Grocery', 2),\n",
       " ('Acai Bowls', 2),\n",
       " (\"Women's Clothing\", 2),\n",
       " ('Social Clubs', 2),\n",
       " ('Country Dance Halls', 2),\n",
       " ('Furniture Stores', 2),\n",
       " ('Smokehouse', 2),\n",
       " ('Gift Shops', 2),\n",
       " ('Coffeeshops', 2),\n",
       " ('Amusement Parks', 2),\n",
       " ('Musicians', 2),\n",
       " ('Nail Salons', 2),\n",
       " ('Party Supplies', 2),\n",
       " ('Home Decor', 2),\n",
       " ('Himalayan/Nepalese', 2),\n",
       " ('Books', 2),\n",
       " ('Arabian', 2),\n",
       " ('Mags', 2),\n",
       " ('Transportation', 2),\n",
       " ('Tobacco Shops', 2),\n",
       " ('Pool Halls', 2),\n",
       " ('Massage', 2),\n",
       " ('Limos', 2),\n",
       " ('Tuscan', 2),\n",
       " ('Wineries', 2),\n",
       " ('Flowers & Gifts', 2),\n",
       " ('Bowling', 2),\n",
       " ('Outlet Stores', 2),\n",
       " ('Cinema', 2),\n",
       " ('Ethic Grocery', 2),\n",
       " ('Department Stores', 2),\n",
       " ('New Mexican Cuisine', 2),\n",
       " ('Hong Kong Style Cafe', 2),\n",
       " ('Paint & Sip', 2),\n",
       " ('Izakaya', 2),\n",
       " ('Basque', 2),\n",
       " ('Party Bus Rentals', 2),\n",
       " ('Portuguese', 2),\n",
       " ('Macarons', 2),\n",
       " (\"Men's Clothing\", 2),\n",
       " ('Electronics', 1),\n",
       " ('Meditation Centers', 1),\n",
       " ('Airport Lounges', 1),\n",
       " ('Restaurant Supplies', 1),\n",
       " ('Appliances', 1),\n",
       " ('Kids Activities', 1),\n",
       " ('Aquariums', 1),\n",
       " ('Furniture Repair', 1),\n",
       " ('Newspapers & Magazines', 1),\n",
       " ('Pet Stores', 1),\n",
       " ('Hair Stylists', 1),\n",
       " ('Vitamins & Supplements', 1),\n",
       " ('Ski Resorts', 1),\n",
       " ('Dinner Theater', 1),\n",
       " ('Doctors', 1),\n",
       " ('Hair Removal', 1),\n",
       " ('Insurance', 1),\n",
       " ('Aircraft Repairs', 1),\n",
       " ('Appliances & Repair', 1),\n",
       " ('Real Estate', 1),\n",
       " ('Special Education', 1),\n",
       " ('Bed & Breakfast', 1),\n",
       " ('Bartenders', 1),\n",
       " ('Wholesalers', 1),\n",
       " ('Art Galleries', 1),\n",
       " ('Belgian', 1),\n",
       " ('Local Fish Stores', 1),\n",
       " ('Physical Therapy', 1),\n",
       " ('Massage Therapy', 1),\n",
       " ('Trainers', 1),\n",
       " ('Acupuncture', 1),\n",
       " ('Skin Care', 1),\n",
       " ('Art Classes', 1),\n",
       " ('Bistros', 1),\n",
       " ('Towing', 1),\n",
       " ('Auto Glass Services', 1),\n",
       " ('Aquarium Services', 1),\n",
       " ('Hostels', 1),\n",
       " ('Coffee Roasteries', 1),\n",
       " ('Food Tours', 1),\n",
       " ('Cultural Center', 1),\n",
       " ('Cabaret', 1),\n",
       " ('Air Duct Cleaning', 1),\n",
       " ('Windshield Installation & Repair', 1),\n",
       " ('Poutineries', 1),\n",
       " ('Colleges & Universities', 1),\n",
       " ('Wedding Chapels', 1),\n",
       " ('Wraps', 1),\n",
       " ('Martial Arts', 1),\n",
       " ('Auto Insurance', 1),\n",
       " ('Truck Rental', 1),\n",
       " ('Hair Extensions', 1),\n",
       " ('Cafeteria', 1),\n",
       " ('Delicatessen', 1),\n",
       " ('Blow Dry/Out Services', 1),\n",
       " ('Plumbing', 1),\n",
       " ('Feng Shui', 1),\n",
       " ('Videos & Video Game Rental', 1),\n",
       " ('RV Parks', 1),\n",
       " ('DJs', 1),\n",
       " ('Pets', 1),\n",
       " ('Walking Tours', 1),\n",
       " ('Fur Clothing', 1),\n",
       " ('Drive-Thru Bars', 1),\n",
       " ('Airsoft', 1),\n",
       " ('Pilates', 1),\n",
       " ('Financial Services', 1),\n",
       " ('Auto Parts & Supplies', 1),\n",
       " ('Polish', 1),\n",
       " ('Pet Services', 1),\n",
       " ('Travel Services', 1),\n",
       " ('Rehabilitation Center', 1),\n",
       " ('Printing Services', 1),\n",
       " ('Beer Gardens', 1),\n",
       " ('Transmission Repair', 1),\n",
       " ('Car Dealers', 1),\n",
       " ('Gyms', 1),\n",
       " ('Heating & Air Conditioning/HVAC', 1),\n",
       " ('South African', 1),\n",
       " ('Oil Change Stations', 1),\n",
       " ('Irish Pub', 1),\n",
       " ('Screen Printing', 1),\n",
       " ('Hobby Shops', 1),\n",
       " ('Reflexology', 1),\n",
       " ('Bulgarian', 1),\n",
       " ('Mortgage Brokers', 1),\n",
       " ('Baby Gear & Furniture', 1),\n",
       " ('Cheese Shops', 1),\n",
       " ('Hungarian', 1),\n",
       " ('Japanese Curry', 1),\n",
       " ('Occupational Therapy', 1),\n",
       " ('Makeup Artists', 1),\n",
       " ('Kitchen & Bath', 1),\n",
       " ('Medical Centers', 1),\n",
       " ('Soba', 1),\n",
       " ('Beer Garden', 1),\n",
       " ('Wigs', 1),\n",
       " ('Landmarks & Historical Buildings', 1),\n",
       " ('Yoga', 1),\n",
       " ('Discount Store', 1),\n",
       " ('Waxing', 1),\n",
       " ('Bingo Halls', 1),\n",
       " ('Themed Cafes', 1),\n",
       " ('Permanent Makeup', 1),\n",
       " ('Bar Crawl', 1),\n",
       " ('Gun/Rifle Ranges', 1),\n",
       " ('Home Cleaning', 1)]"
      ]
     },
     "execution_count": 379,
     "metadata": {},
     "output_type": "execute_result"
    }
   ],
   "source": [
    "# Count the occurances of category keywords\n",
    "\n",
    "top_cat_counter = sorted(Counter(categories_list).items(), key = lambda pair: pair[1], reverse = True)\n",
    "top_cat_counter"
   ]
  },
  {
   "cell_type": "code",
   "execution_count": 380,
   "metadata": {
    "collapsed": false
   },
   "outputs": [],
   "source": [
    "# Common categories - excluding restaurand and food as key word\n",
    "\n",
    "common_cat_counter = list(zip(*top_cat_counter[2:16]))[0]"
   ]
  },
  {
   "cell_type": "code",
   "execution_count": 381,
   "metadata": {
    "collapsed": false
   },
   "outputs": [
    {
     "data": {
      "text/plain": [
       "0"
      ]
     },
     "execution_count": 381,
     "metadata": {},
     "output_type": "execute_result"
    }
   ],
   "source": [
    "# Replace null value in attributes with string 'none'\n",
    "\n",
    "df['categories'].fillna('none', inplace = True)\n",
    "\n",
    "df['categories'].isnull().sum()"
   ]
  },
  {
   "cell_type": "code",
   "execution_count": 382,
   "metadata": {
    "collapsed": true
   },
   "outputs": [],
   "source": [
    "def fill_cat(data, l):\n",
    "    for index, row in tqdm(data.iterrows()):\n",
    "        for item in l:\n",
    "            result = re.findall(item, str(row['categories']))\n",
    "            if not result:\n",
    "                data.loc[index,item] = 0\n",
    "            else:\n",
    "                data.loc[index,item] = 1"
   ]
  },
  {
   "cell_type": "code",
   "execution_count": 383,
   "metadata": {
    "collapsed": false
   },
   "outputs": [
    {
     "name": "stderr",
     "output_type": "stream",
     "text": [
      "5431it [00:39, 138.84it/s]\n"
     ]
    }
   ],
   "source": [
    "fill_cat(df, common_cat_counter)"
   ]
  },
  {
   "cell_type": "code",
   "execution_count": 384,
   "metadata": {
    "collapsed": true
   },
   "outputs": [],
   "source": [
    "def fill_cat_american(data):\n",
    "    for index, row in tqdm(data.iterrows()):\n",
    "        result = re.findall('American', str(row['categories']))\n",
    "        if not result:\n",
    "            data.loc[index,'American'] = 0\n",
    "        else:\n",
    "            data.loc[index,'American'] = 1"
   ]
  },
  {
   "cell_type": "code",
   "execution_count": 385,
   "metadata": {
    "collapsed": false
   },
   "outputs": [
    {
     "name": "stderr",
     "output_type": "stream",
     "text": [
      "5431it [00:05, 1025.40it/s]\n"
     ]
    }
   ],
   "source": [
    "fill_cat_american(df)"
   ]
  },
  {
   "cell_type": "code",
   "execution_count": 386,
   "metadata": {
    "collapsed": false
   },
   "outputs": [
    {
     "data": {
      "text/html": [
       "<div>\n",
       "<table border=\"1\" class=\"dataframe\">\n",
       "  <thead>\n",
       "    <tr style=\"text-align: right;\">\n",
       "      <th></th>\n",
       "      <th>latitude</th>\n",
       "      <th>attributes</th>\n",
       "      <th>review_count</th>\n",
       "      <th>postal_code</th>\n",
       "      <th>is_open</th>\n",
       "      <th>categories</th>\n",
       "      <th>stars</th>\n",
       "      <th>hours</th>\n",
       "      <th>longitude</th>\n",
       "      <th>name</th>\n",
       "      <th>...</th>\n",
       "      <th>Sandwiches</th>\n",
       "      <th>Pizza</th>\n",
       "      <th>American (New)</th>\n",
       "      <th>Burgers</th>\n",
       "      <th>Chinese</th>\n",
       "      <th>Italian</th>\n",
       "      <th>Breakfast &amp; Brunch</th>\n",
       "      <th>Japanese</th>\n",
       "      <th>Seafood</th>\n",
       "      <th>American</th>\n",
       "    </tr>\n",
       "    <tr>\n",
       "      <th>Order</th>\n",
       "      <th></th>\n",
       "      <th></th>\n",
       "      <th></th>\n",
       "      <th></th>\n",
       "      <th></th>\n",
       "      <th></th>\n",
       "      <th></th>\n",
       "      <th></th>\n",
       "      <th></th>\n",
       "      <th></th>\n",
       "      <th></th>\n",
       "      <th></th>\n",
       "      <th></th>\n",
       "      <th></th>\n",
       "      <th></th>\n",
       "      <th></th>\n",
       "      <th></th>\n",
       "      <th></th>\n",
       "      <th></th>\n",
       "      <th></th>\n",
       "      <th></th>\n",
       "    </tr>\n",
       "  </thead>\n",
       "  <tbody>\n",
       "    <tr>\n",
       "      <th>37</th>\n",
       "      <td>36.101020</td>\n",
       "      <td>[Alcohol: full_bar, BusinessAcceptsCreditCards...</td>\n",
       "      <td>15</td>\n",
       "      <td>89103</td>\n",
       "      <td>0</td>\n",
       "      <td>[Persian/Iranian, Restaurants, Ethnic Food, Fo...</td>\n",
       "      <td>2.5</td>\n",
       "      <td>None</td>\n",
       "      <td>-115.244312</td>\n",
       "      <td>Kabob Palace</td>\n",
       "      <td>...</td>\n",
       "      <td>0.0</td>\n",
       "      <td>0.0</td>\n",
       "      <td>0.0</td>\n",
       "      <td>0.0</td>\n",
       "      <td>0.0</td>\n",
       "      <td>0.0</td>\n",
       "      <td>0.0</td>\n",
       "      <td>0.0</td>\n",
       "      <td>0.0</td>\n",
       "      <td>0.0</td>\n",
       "    </tr>\n",
       "    <tr>\n",
       "      <th>71</th>\n",
       "      <td>36.099142</td>\n",
       "      <td>[Alcohol: none, Ambience: {'romantic': False, ...</td>\n",
       "      <td>33</td>\n",
       "      <td>89119</td>\n",
       "      <td>1</td>\n",
       "      <td>[Restaurants, Vegetarian, Indian]</td>\n",
       "      <td>3.5</td>\n",
       "      <td>None</td>\n",
       "      <td>-115.136192</td>\n",
       "      <td>Taste of India</td>\n",
       "      <td>...</td>\n",
       "      <td>0.0</td>\n",
       "      <td>0.0</td>\n",
       "      <td>0.0</td>\n",
       "      <td>0.0</td>\n",
       "      <td>0.0</td>\n",
       "      <td>0.0</td>\n",
       "      <td>0.0</td>\n",
       "      <td>0.0</td>\n",
       "      <td>0.0</td>\n",
       "      <td>0.0</td>\n",
       "    </tr>\n",
       "    <tr>\n",
       "      <th>72</th>\n",
       "      <td>36.065839</td>\n",
       "      <td>[Ambience: {'romantic': False, 'intimate': Fal...</td>\n",
       "      <td>35</td>\n",
       "      <td>89119</td>\n",
       "      <td>0</td>\n",
       "      <td>[American (New), Cafes, Restaurants]</td>\n",
       "      <td>4.5</td>\n",
       "      <td>[Wednesday 10:0-14:0, Thursday 10:0-14:0, Frid...</td>\n",
       "      <td>-115.123944</td>\n",
       "      <td>Artisanal Foods Cafe</td>\n",
       "      <td>...</td>\n",
       "      <td>0.0</td>\n",
       "      <td>0.0</td>\n",
       "      <td>0.0</td>\n",
       "      <td>0.0</td>\n",
       "      <td>0.0</td>\n",
       "      <td>0.0</td>\n",
       "      <td>0.0</td>\n",
       "      <td>0.0</td>\n",
       "      <td>0.0</td>\n",
       "      <td>1.0</td>\n",
       "    </tr>\n",
       "    <tr>\n",
       "      <th>102</th>\n",
       "      <td>36.238462</td>\n",
       "      <td>[Alcohol: full_bar, Ambience: {'romantic': Fal...</td>\n",
       "      <td>9</td>\n",
       "      <td>89130</td>\n",
       "      <td>0</td>\n",
       "      <td>[Nightlife, Bars, Restaurants, Thai, Sports Bars]</td>\n",
       "      <td>3.5</td>\n",
       "      <td>None</td>\n",
       "      <td>-115.231950</td>\n",
       "      <td>Bailey's Sports Bar &amp; Eatery</td>\n",
       "      <td>...</td>\n",
       "      <td>0.0</td>\n",
       "      <td>0.0</td>\n",
       "      <td>0.0</td>\n",
       "      <td>0.0</td>\n",
       "      <td>0.0</td>\n",
       "      <td>0.0</td>\n",
       "      <td>0.0</td>\n",
       "      <td>0.0</td>\n",
       "      <td>0.0</td>\n",
       "      <td>0.0</td>\n",
       "    </tr>\n",
       "    <tr>\n",
       "      <th>103</th>\n",
       "      <td>36.249719</td>\n",
       "      <td>[Alcohol: none, Ambience: {'romantic': False, ...</td>\n",
       "      <td>41</td>\n",
       "      <td>89130</td>\n",
       "      <td>1</td>\n",
       "      <td>[Chicken Wings, Fast Food, Restaurants]</td>\n",
       "      <td>3.5</td>\n",
       "      <td>[Monday 10:30-0:0, Tuesday 10:30-0:0, Wednesda...</td>\n",
       "      <td>-115.244528</td>\n",
       "      <td>Wingstop</td>\n",
       "      <td>...</td>\n",
       "      <td>0.0</td>\n",
       "      <td>0.0</td>\n",
       "      <td>0.0</td>\n",
       "      <td>0.0</td>\n",
       "      <td>0.0</td>\n",
       "      <td>0.0</td>\n",
       "      <td>0.0</td>\n",
       "      <td>0.0</td>\n",
       "      <td>0.0</td>\n",
       "      <td>0.0</td>\n",
       "    </tr>\n",
       "  </tbody>\n",
       "</table>\n",
       "<p>5 rows × 63 columns</p>\n",
       "</div>"
      ],
      "text/plain": [
       "        latitude                                         attributes  \\\n",
       "Order                                                                 \n",
       "37     36.101020  [Alcohol: full_bar, BusinessAcceptsCreditCards...   \n",
       "71     36.099142  [Alcohol: none, Ambience: {'romantic': False, ...   \n",
       "72     36.065839  [Ambience: {'romantic': False, 'intimate': Fal...   \n",
       "102    36.238462  [Alcohol: full_bar, Ambience: {'romantic': Fal...   \n",
       "103    36.249719  [Alcohol: none, Ambience: {'romantic': False, ...   \n",
       "\n",
       "       review_count postal_code  is_open  \\\n",
       "Order                                      \n",
       "37               15       89103        0   \n",
       "71               33       89119        1   \n",
       "72               35       89119        0   \n",
       "102               9       89130        0   \n",
       "103              41       89130        1   \n",
       "\n",
       "                                              categories  stars  \\\n",
       "Order                                                             \n",
       "37     [Persian/Iranian, Restaurants, Ethnic Food, Fo...    2.5   \n",
       "71                     [Restaurants, Vegetarian, Indian]    3.5   \n",
       "72                  [American (New), Cafes, Restaurants]    4.5   \n",
       "102    [Nightlife, Bars, Restaurants, Thai, Sports Bars]    3.5   \n",
       "103              [Chicken Wings, Fast Food, Restaurants]    3.5   \n",
       "\n",
       "                                                   hours   longitude  \\\n",
       "Order                                                                  \n",
       "37                                                  None -115.244312   \n",
       "71                                                  None -115.136192   \n",
       "72     [Wednesday 10:0-14:0, Thursday 10:0-14:0, Frid... -115.123944   \n",
       "102                                                 None -115.231950   \n",
       "103    [Monday 10:30-0:0, Tuesday 10:30-0:0, Wednesda... -115.244528   \n",
       "\n",
       "                               name    ...    Sandwiches Pizza  \\\n",
       "Order                                  ...                       \n",
       "37                     Kabob Palace    ...           0.0   0.0   \n",
       "71                   Taste of India    ...           0.0   0.0   \n",
       "72             Artisanal Foods Cafe    ...           0.0   0.0   \n",
       "102    Bailey's Sports Bar & Eatery    ...           0.0   0.0   \n",
       "103                        Wingstop    ...           0.0   0.0   \n",
       "\n",
       "       American (New)  Burgers  Chinese  Italian  Breakfast & Brunch  \\\n",
       "Order                                                                  \n",
       "37                0.0      0.0      0.0      0.0                 0.0   \n",
       "71                0.0      0.0      0.0      0.0                 0.0   \n",
       "72                0.0      0.0      0.0      0.0                 0.0   \n",
       "102               0.0      0.0      0.0      0.0                 0.0   \n",
       "103               0.0      0.0      0.0      0.0                 0.0   \n",
       "\n",
       "       Japanese  Seafood  American  \n",
       "Order                               \n",
       "37          0.0      0.0       0.0  \n",
       "71          0.0      0.0       0.0  \n",
       "72          0.0      0.0       1.0  \n",
       "102         0.0      0.0       0.0  \n",
       "103         0.0      0.0       0.0  \n",
       "\n",
       "[5 rows x 63 columns]"
      ]
     },
     "execution_count": 386,
     "metadata": {},
     "output_type": "execute_result"
    }
   ],
   "source": [
    "df.head()"
   ]
  },
  {
   "cell_type": "code",
   "execution_count": 387,
   "metadata": {
    "collapsed": false
   },
   "outputs": [],
   "source": [
    "df.drop('American (New)', axis = 1, inplace = True)\n",
    "df.drop('American (Traditional)', axis = 1, inplace = True)"
   ]
  },
  {
   "cell_type": "code",
   "execution_count": 388,
   "metadata": {
    "collapsed": false
   },
   "outputs": [
    {
     "data": {
      "text/plain": [
       "0.0    4626\n",
       "1.0     805\n",
       "Name: Fast Food, dtype: int64"
      ]
     },
     "execution_count": 388,
     "metadata": {},
     "output_type": "execute_result"
    }
   ],
   "source": [
    "df['Fast Food'].value_counts()"
   ]
  },
  {
   "cell_type": "code",
   "execution_count": 389,
   "metadata": {
    "collapsed": false
   },
   "outputs": [
    {
     "data": {
      "text/plain": [
       "0.0    4733\n",
       "1.0     698\n",
       "Name: Nightlife, dtype: int64"
      ]
     },
     "execution_count": 389,
     "metadata": {},
     "output_type": "execute_result"
    }
   ],
   "source": [
    "df['Nightlife'].value_counts()"
   ]
  },
  {
   "cell_type": "code",
   "execution_count": 390,
   "metadata": {
    "collapsed": false
   },
   "outputs": [
    {
     "data": {
      "text/plain": [
       "0.0    4283\n",
       "1.0    1148\n",
       "Name: American, dtype: int64"
      ]
     },
     "execution_count": 390,
     "metadata": {},
     "output_type": "execute_result"
    }
   ],
   "source": [
    "df['American'].value_counts()"
   ]
  },
  {
   "cell_type": "code",
   "execution_count": 391,
   "metadata": {
    "collapsed": false
   },
   "outputs": [
    {
     "data": {
      "text/plain": [
       "0.0    4751\n",
       "1.0     680\n",
       "Name: Mexican, dtype: int64"
      ]
     },
     "execution_count": 391,
     "metadata": {},
     "output_type": "execute_result"
    }
   ],
   "source": [
    "df['Mexican'].value_counts()"
   ]
  },
  {
   "cell_type": "code",
   "execution_count": 392,
   "metadata": {
    "collapsed": false
   },
   "outputs": [
    {
     "data": {
      "text/plain": [
       "0.0    4858\n",
       "1.0     573\n",
       "Name: Sandwiches, dtype: int64"
      ]
     },
     "execution_count": 392,
     "metadata": {},
     "output_type": "execute_result"
    }
   ],
   "source": [
    "df['Sandwiches'].value_counts()"
   ]
  },
  {
   "cell_type": "code",
   "execution_count": 393,
   "metadata": {
    "collapsed": false
   },
   "outputs": [
    {
     "data": {
      "text/plain": [
       "0.0    4868\n",
       "1.0     563\n",
       "Name: Pizza, dtype: int64"
      ]
     },
     "execution_count": 393,
     "metadata": {},
     "output_type": "execute_result"
    }
   ],
   "source": [
    "df['Pizza'].value_counts()"
   ]
  },
  {
   "cell_type": "code",
   "execution_count": 394,
   "metadata": {
    "collapsed": false
   },
   "outputs": [
    {
     "data": {
      "text/plain": [
       "0.0    4969\n",
       "1.0     462\n",
       "Name: Burgers, dtype: int64"
      ]
     },
     "execution_count": 394,
     "metadata": {},
     "output_type": "execute_result"
    }
   ],
   "source": [
    "df['Burgers'].value_counts()"
   ]
  },
  {
   "cell_type": "code",
   "execution_count": 395,
   "metadata": {
    "collapsed": false
   },
   "outputs": [
    {
     "data": {
      "text/plain": [
       "0.0    5035\n",
       "1.0     396\n",
       "Name: Chinese, dtype: int64"
      ]
     },
     "execution_count": 395,
     "metadata": {},
     "output_type": "execute_result"
    }
   ],
   "source": [
    "df['Chinese'].value_counts()"
   ]
  },
  {
   "cell_type": "code",
   "execution_count": 396,
   "metadata": {
    "collapsed": false
   },
   "outputs": [
    {
     "data": {
      "text/plain": [
       "0.0    5073\n",
       "1.0     358\n",
       "Name: Italian, dtype: int64"
      ]
     },
     "execution_count": 396,
     "metadata": {},
     "output_type": "execute_result"
    }
   ],
   "source": [
    "df['Italian'].value_counts()"
   ]
  },
  {
   "cell_type": "code",
   "execution_count": 397,
   "metadata": {
    "collapsed": false
   },
   "outputs": [
    {
     "data": {
      "text/plain": [
       "0.0    5092\n",
       "1.0     339\n",
       "Name: Breakfast & Brunch, dtype: int64"
      ]
     },
     "execution_count": 397,
     "metadata": {},
     "output_type": "execute_result"
    }
   ],
   "source": [
    "df['Breakfast & Brunch'].value_counts()"
   ]
  },
  {
   "cell_type": "code",
   "execution_count": 398,
   "metadata": {
    "collapsed": false
   },
   "outputs": [
    {
     "data": {
      "text/plain": [
       "0.0    5121\n",
       "1.0     310\n",
       "Name: Japanese, dtype: int64"
      ]
     },
     "execution_count": 398,
     "metadata": {},
     "output_type": "execute_result"
    }
   ],
   "source": [
    "df['Japanese'].value_counts()"
   ]
  },
  {
   "cell_type": "code",
   "execution_count": 399,
   "metadata": {
    "collapsed": false
   },
   "outputs": [
    {
     "data": {
      "text/plain": [
       "0.0    5157\n",
       "1.0     274\n",
       "Name: Seafood, dtype: int64"
      ]
     },
     "execution_count": 399,
     "metadata": {},
     "output_type": "execute_result"
    }
   ],
   "source": [
    "df['Seafood'].value_counts()"
   ]
  },
  {
   "cell_type": "code",
   "execution_count": 400,
   "metadata": {
    "collapsed": false
   },
   "outputs": [
    {
     "data": {
      "text/plain": [
       "0    5232\n",
       "1     199\n",
       "Name: RestaurantsAttire, dtype: int64"
      ]
     },
     "execution_count": 400,
     "metadata": {},
     "output_type": "execute_result"
    }
   ],
   "source": [
    "df['RestaurantsAttire'].value_counts()"
   ]
  },
  {
   "cell_type": "code",
   "execution_count": 401,
   "metadata": {
    "collapsed": false
   },
   "outputs": [
    {
     "name": "stdout",
     "output_type": "stream",
     "text": [
      "<class 'pandas.core.frame.DataFrame'>\n",
      "Int64Index: 5431 entries, 37 to 144054\n",
      "Data columns (total 61 columns):\n",
      "latitude                    5431 non-null float64\n",
      "attributes                  5431 non-null object\n",
      "review_count                5431 non-null int64\n",
      "postal_code                 5431 non-null object\n",
      "is_open                     5431 non-null int64\n",
      "categories                  5431 non-null object\n",
      "stars                       5431 non-null float64\n",
      "hours                       3873 non-null object\n",
      "longitude                   5431 non-null float64\n",
      "name                        5431 non-null object\n",
      "neighborhood                5431 non-null object\n",
      "is_restaurant               5431 non-null object\n",
      "RestaurantsPriceRange2      5431 non-null int64\n",
      "RestaurantsGoodForGroups    5431 non-null int64\n",
      "RestaurantsTakeOut          5431 non-null int64\n",
      "GoodForKids                 5431 non-null int64\n",
      "RestaurantsAttire           5431 non-null int64\n",
      "RestaurantsReservations     5431 non-null int64\n",
      "OutdoorSeating              5431 non-null int64\n",
      "RestaurantsDelivery         5431 non-null int64\n",
      "BusinessParking             5431 non-null object\n",
      "Alcohol                     5431 non-null int64\n",
      "HasTV                       5431 non-null int64\n",
      "RestaurantsTableService     5431 non-null int64\n",
      "NoiseLevel                  5431 non-null object\n",
      "WiFi                        5431 non-null object\n",
      "BikeParking                 5431 non-null int64\n",
      "is_dt                       5431 non-null int64\n",
      "noise_average               5431 non-null float64\n",
      "noise_loud                  5431 non-null float64\n",
      "quiet                       5431 non-null float64\n",
      "wifi_free                   5431 non-null float64\n",
      "wifi_no                     5431 non-null float64\n",
      "wifi_paid                   5431 non-null float64\n",
      "'dessert': True             5431 non-null float64\n",
      "'latenight': True           5431 non-null float64\n",
      "'lunch': True               5431 non-null float64\n",
      "'dinner': True              5431 non-null float64\n",
      "'breakfast': True           5431 non-null float64\n",
      "'brunch': True              4780 non-null float64\n",
      "'romantic': True            4493 non-null float64\n",
      "'intimate': True            4493 non-null float64\n",
      "'classy': True              4493 non-null float64\n",
      "'hipster': True             4493 non-null float64\n",
      "'divey': True               4493 non-null float64\n",
      "'touristy': True            4493 non-null float64\n",
      "'upscale': True             4493 non-null float64\n",
      "'casual': True              5431 non-null float64\n",
      "Fast Food                   5431 non-null float64\n",
      "Nightlife                   5431 non-null float64\n",
      "Mexican                     5431 non-null float64\n",
      "Bars                        5431 non-null float64\n",
      "Sandwiches                  5431 non-null float64\n",
      "Pizza                       5431 non-null float64\n",
      "Burgers                     5431 non-null float64\n",
      "Chinese                     5431 non-null float64\n",
      "Italian                     5431 non-null float64\n",
      "Breakfast & Brunch          5431 non-null float64\n",
      "Japanese                    5431 non-null float64\n",
      "Seafood                     5431 non-null float64\n",
      "American                    5431 non-null float64\n",
      "dtypes: float64(36), int64(15), object(10)\n",
      "memory usage: 2.6+ MB\n"
     ]
    }
   ],
   "source": [
    "# FINAL COLS TO INCLUDE: \n",
    "# \"review_count\", \"stars\", \"RestaurantsPriceRange2\", \"RestaurantsPriceRange2\",\n",
    "# \"RestaurantsGoodForGroups\", \"RestaurantsTakeOut\", \"GoodForKids\", \"RestaurantsAttire\",\n",
    "# \"RestaurantsReservations\", \"OutdoorSeating\", \"RestaurantsDelivery\", \"Alcohol\", \"HasTV\", \n",
    "# \"RestaurantsTableService\", \"is_dt\", \"noise_loud\", \"quiet\", \"wifi_free\", \"wifi_paid\", \n",
    "# \"'dessert': True\", \"'latenight': True\", \"'lunch': True\", \"'dinner': True\", \n",
    "# \"'breakfast': True\", \"'casual': True\", \"Nightlife\", \"Bars\", \"Fast Food\", \"Burgers\"\n",
    "# \"Pizza\", \"Chinese\", \"Mexican\", \"Japanese\", \"Italian\", \"Sandwiches\", \"Seafood\", \n",
    "# \"Breakfast & Brunch\", \"American\"\n",
    "\n",
    "# DEP VAR: is_open\n",
    "\n",
    "df.info()"
   ]
  },
  {
   "cell_type": "markdown",
   "metadata": {},
   "source": [
    "# Building Classification Models"
   ]
  },
  {
   "cell_type": "code",
   "execution_count": 402,
   "metadata": {
    "collapsed": true
   },
   "outputs": [],
   "source": [
    "dfm = df"
   ]
  },
  {
   "cell_type": "code",
   "execution_count": 403,
   "metadata": {
    "collapsed": false
   },
   "outputs": [
    {
     "data": {
      "text/plain": [
       "Index(['latitude', 'attributes', 'review_count', 'postal_code', 'is_open',\n",
       "       'categories', 'stars', 'hours', 'longitude', 'name', 'neighborhood',\n",
       "       'is_restaurant', 'RestaurantsPriceRange2', 'RestaurantsGoodForGroups',\n",
       "       'RestaurantsTakeOut', 'GoodForKids', 'RestaurantsAttire',\n",
       "       'RestaurantsReservations', 'OutdoorSeating', 'RestaurantsDelivery',\n",
       "       'BusinessParking', 'Alcohol', 'HasTV', 'RestaurantsTableService',\n",
       "       'NoiseLevel', 'WiFi', 'BikeParking', 'is_dt', 'noise_average',\n",
       "       'noise_loud', 'quiet', 'wifi_free', 'wifi_no', 'wifi_paid',\n",
       "       ''dessert': True', ''latenight': True', ''lunch': True',\n",
       "       ''dinner': True', ''breakfast': True', ''brunch': True',\n",
       "       ''romantic': True', ''intimate': True', ''classy': True',\n",
       "       ''hipster': True', ''divey': True', ''touristy': True',\n",
       "       ''upscale': True', ''casual': True', 'Fast Food', 'Nightlife',\n",
       "       'Mexican', 'Bars', 'Sandwiches', 'Pizza', 'Burgers', 'Chinese',\n",
       "       'Italian', 'Breakfast & Brunch', 'Japanese', 'Seafood', 'American'],\n",
       "      dtype='object')"
      ]
     },
     "execution_count": 403,
     "metadata": {},
     "output_type": "execute_result"
    }
   ],
   "source": [
    "dfm.columns"
   ]
  },
  {
   "cell_type": "code",
   "execution_count": 404,
   "metadata": {
    "collapsed": false
   },
   "outputs": [],
   "source": [
    "# Scale numeric features - review_count, stars, estaurantsPriceRange2\n",
    "\n",
    "dfm['review_countS'] = preprocessing.scale(dfm[['review_count']])\n",
    "dfm['starsS'] = preprocessing.scale(dfm[['stars']])\n",
    "dfm['RestaurantsPriceRange2S'] = preprocessing.scale(dfm[['RestaurantsPriceRange2']])"
   ]
  },
  {
   "cell_type": "code",
   "execution_count": 405,
   "metadata": {
    "collapsed": false
   },
   "outputs": [
    {
     "data": {
      "text/html": [
       "<div>\n",
       "<table border=\"1\" class=\"dataframe\">\n",
       "  <thead>\n",
       "    <tr style=\"text-align: right;\">\n",
       "      <th></th>\n",
       "      <th>latitude</th>\n",
       "      <th>attributes</th>\n",
       "      <th>review_count</th>\n",
       "      <th>postal_code</th>\n",
       "      <th>is_open</th>\n",
       "      <th>categories</th>\n",
       "      <th>stars</th>\n",
       "      <th>hours</th>\n",
       "      <th>longitude</th>\n",
       "      <th>name</th>\n",
       "      <th>...</th>\n",
       "      <th>Burgers</th>\n",
       "      <th>Chinese</th>\n",
       "      <th>Italian</th>\n",
       "      <th>Breakfast &amp; Brunch</th>\n",
       "      <th>Japanese</th>\n",
       "      <th>Seafood</th>\n",
       "      <th>American</th>\n",
       "      <th>review_countS</th>\n",
       "      <th>starsS</th>\n",
       "      <th>RestaurantsPriceRange2S</th>\n",
       "    </tr>\n",
       "    <tr>\n",
       "      <th>Order</th>\n",
       "      <th></th>\n",
       "      <th></th>\n",
       "      <th></th>\n",
       "      <th></th>\n",
       "      <th></th>\n",
       "      <th></th>\n",
       "      <th></th>\n",
       "      <th></th>\n",
       "      <th></th>\n",
       "      <th></th>\n",
       "      <th></th>\n",
       "      <th></th>\n",
       "      <th></th>\n",
       "      <th></th>\n",
       "      <th></th>\n",
       "      <th></th>\n",
       "      <th></th>\n",
       "      <th></th>\n",
       "      <th></th>\n",
       "      <th></th>\n",
       "      <th></th>\n",
       "    </tr>\n",
       "  </thead>\n",
       "  <tbody>\n",
       "    <tr>\n",
       "      <th>37</th>\n",
       "      <td>36.101020</td>\n",
       "      <td>[Alcohol: full_bar, BusinessAcceptsCreditCards...</td>\n",
       "      <td>15</td>\n",
       "      <td>89103</td>\n",
       "      <td>0</td>\n",
       "      <td>[Persian/Iranian, Restaurants, Ethnic Food, Fo...</td>\n",
       "      <td>2.5</td>\n",
       "      <td>None</td>\n",
       "      <td>-115.244312</td>\n",
       "      <td>Kabob Palace</td>\n",
       "      <td>...</td>\n",
       "      <td>0.0</td>\n",
       "      <td>0.0</td>\n",
       "      <td>0.0</td>\n",
       "      <td>0.0</td>\n",
       "      <td>0.0</td>\n",
       "      <td>0.0</td>\n",
       "      <td>0.0</td>\n",
       "      <td>-0.384263</td>\n",
       "      <td>-1.199765</td>\n",
       "      <td>0.517435</td>\n",
       "    </tr>\n",
       "    <tr>\n",
       "      <th>71</th>\n",
       "      <td>36.099142</td>\n",
       "      <td>[Alcohol: none, Ambience: {'romantic': False, ...</td>\n",
       "      <td>33</td>\n",
       "      <td>89119</td>\n",
       "      <td>1</td>\n",
       "      <td>[Restaurants, Vegetarian, Indian]</td>\n",
       "      <td>3.5</td>\n",
       "      <td>None</td>\n",
       "      <td>-115.136192</td>\n",
       "      <td>Taste of India</td>\n",
       "      <td>...</td>\n",
       "      <td>0.0</td>\n",
       "      <td>0.0</td>\n",
       "      <td>0.0</td>\n",
       "      <td>0.0</td>\n",
       "      <td>0.0</td>\n",
       "      <td>0.0</td>\n",
       "      <td>0.0</td>\n",
       "      <td>-0.329036</td>\n",
       "      <td>0.064849</td>\n",
       "      <td>0.517435</td>\n",
       "    </tr>\n",
       "    <tr>\n",
       "      <th>72</th>\n",
       "      <td>36.065839</td>\n",
       "      <td>[Ambience: {'romantic': False, 'intimate': Fal...</td>\n",
       "      <td>35</td>\n",
       "      <td>89119</td>\n",
       "      <td>0</td>\n",
       "      <td>[American (New), Cafes, Restaurants]</td>\n",
       "      <td>4.5</td>\n",
       "      <td>[Wednesday 10:0-14:0, Thursday 10:0-14:0, Frid...</td>\n",
       "      <td>-115.123944</td>\n",
       "      <td>Artisanal Foods Cafe</td>\n",
       "      <td>...</td>\n",
       "      <td>0.0</td>\n",
       "      <td>0.0</td>\n",
       "      <td>0.0</td>\n",
       "      <td>0.0</td>\n",
       "      <td>0.0</td>\n",
       "      <td>0.0</td>\n",
       "      <td>1.0</td>\n",
       "      <td>-0.322900</td>\n",
       "      <td>1.329463</td>\n",
       "      <td>0.517435</td>\n",
       "    </tr>\n",
       "    <tr>\n",
       "      <th>102</th>\n",
       "      <td>36.238462</td>\n",
       "      <td>[Alcohol: full_bar, Ambience: {'romantic': Fal...</td>\n",
       "      <td>9</td>\n",
       "      <td>89130</td>\n",
       "      <td>0</td>\n",
       "      <td>[Nightlife, Bars, Restaurants, Thai, Sports Bars]</td>\n",
       "      <td>3.5</td>\n",
       "      <td>None</td>\n",
       "      <td>-115.231950</td>\n",
       "      <td>Bailey's Sports Bar &amp; Eatery</td>\n",
       "      <td>...</td>\n",
       "      <td>0.0</td>\n",
       "      <td>0.0</td>\n",
       "      <td>0.0</td>\n",
       "      <td>0.0</td>\n",
       "      <td>0.0</td>\n",
       "      <td>0.0</td>\n",
       "      <td>0.0</td>\n",
       "      <td>-0.402671</td>\n",
       "      <td>0.064849</td>\n",
       "      <td>-0.975759</td>\n",
       "    </tr>\n",
       "    <tr>\n",
       "      <th>103</th>\n",
       "      <td>36.249719</td>\n",
       "      <td>[Alcohol: none, Ambience: {'romantic': False, ...</td>\n",
       "      <td>41</td>\n",
       "      <td>89130</td>\n",
       "      <td>1</td>\n",
       "      <td>[Chicken Wings, Fast Food, Restaurants]</td>\n",
       "      <td>3.5</td>\n",
       "      <td>[Monday 10:30-0:0, Tuesday 10:30-0:0, Wednesda...</td>\n",
       "      <td>-115.244528</td>\n",
       "      <td>Wingstop</td>\n",
       "      <td>...</td>\n",
       "      <td>0.0</td>\n",
       "      <td>0.0</td>\n",
       "      <td>0.0</td>\n",
       "      <td>0.0</td>\n",
       "      <td>0.0</td>\n",
       "      <td>0.0</td>\n",
       "      <td>0.0</td>\n",
       "      <td>-0.304491</td>\n",
       "      <td>0.064849</td>\n",
       "      <td>-0.975759</td>\n",
       "    </tr>\n",
       "  </tbody>\n",
       "</table>\n",
       "<p>5 rows × 64 columns</p>\n",
       "</div>"
      ],
      "text/plain": [
       "        latitude                                         attributes  \\\n",
       "Order                                                                 \n",
       "37     36.101020  [Alcohol: full_bar, BusinessAcceptsCreditCards...   \n",
       "71     36.099142  [Alcohol: none, Ambience: {'romantic': False, ...   \n",
       "72     36.065839  [Ambience: {'romantic': False, 'intimate': Fal...   \n",
       "102    36.238462  [Alcohol: full_bar, Ambience: {'romantic': Fal...   \n",
       "103    36.249719  [Alcohol: none, Ambience: {'romantic': False, ...   \n",
       "\n",
       "       review_count postal_code  is_open  \\\n",
       "Order                                      \n",
       "37               15       89103        0   \n",
       "71               33       89119        1   \n",
       "72               35       89119        0   \n",
       "102               9       89130        0   \n",
       "103              41       89130        1   \n",
       "\n",
       "                                              categories  stars  \\\n",
       "Order                                                             \n",
       "37     [Persian/Iranian, Restaurants, Ethnic Food, Fo...    2.5   \n",
       "71                     [Restaurants, Vegetarian, Indian]    3.5   \n",
       "72                  [American (New), Cafes, Restaurants]    4.5   \n",
       "102    [Nightlife, Bars, Restaurants, Thai, Sports Bars]    3.5   \n",
       "103              [Chicken Wings, Fast Food, Restaurants]    3.5   \n",
       "\n",
       "                                                   hours   longitude  \\\n",
       "Order                                                                  \n",
       "37                                                  None -115.244312   \n",
       "71                                                  None -115.136192   \n",
       "72     [Wednesday 10:0-14:0, Thursday 10:0-14:0, Frid... -115.123944   \n",
       "102                                                 None -115.231950   \n",
       "103    [Monday 10:30-0:0, Tuesday 10:30-0:0, Wednesda... -115.244528   \n",
       "\n",
       "                               name           ...            Burgers Chinese  \\\n",
       "Order                                         ...                              \n",
       "37                     Kabob Palace           ...                0.0     0.0   \n",
       "71                   Taste of India           ...                0.0     0.0   \n",
       "72             Artisanal Foods Cafe           ...                0.0     0.0   \n",
       "102    Bailey's Sports Bar & Eatery           ...                0.0     0.0   \n",
       "103                        Wingstop           ...                0.0     0.0   \n",
       "\n",
       "       Italian  Breakfast & Brunch  Japanese  Seafood  American  \\\n",
       "Order                                                             \n",
       "37         0.0                 0.0       0.0      0.0       0.0   \n",
       "71         0.0                 0.0       0.0      0.0       0.0   \n",
       "72         0.0                 0.0       0.0      0.0       1.0   \n",
       "102        0.0                 0.0       0.0      0.0       0.0   \n",
       "103        0.0                 0.0       0.0      0.0       0.0   \n",
       "\n",
       "       review_countS    starsS  RestaurantsPriceRange2S  \n",
       "Order                                                    \n",
       "37         -0.384263 -1.199765                 0.517435  \n",
       "71         -0.329036  0.064849                 0.517435  \n",
       "72         -0.322900  1.329463                 0.517435  \n",
       "102        -0.402671  0.064849                -0.975759  \n",
       "103        -0.304491  0.064849                -0.975759  \n",
       "\n",
       "[5 rows x 64 columns]"
      ]
     },
     "execution_count": 405,
     "metadata": {},
     "output_type": "execute_result"
    }
   ],
   "source": [
    "dfm.head()"
   ]
  },
  {
   "cell_type": "code",
   "execution_count": 406,
   "metadata": {
    "collapsed": true
   },
   "outputs": [],
   "source": [
    "dfm['is_closed'] = 0"
   ]
  },
  {
   "cell_type": "code",
   "execution_count": 407,
   "metadata": {
    "collapsed": false
   },
   "outputs": [
    {
     "name": "stderr",
     "output_type": "stream",
     "text": [
      "5431it [00:04, 1191.07it/s]\n"
     ]
    }
   ],
   "source": [
    "for index, row in tqdm(dfm.iterrows()):\n",
    "    if row['is_open'] == 1:\n",
    "        dfm.loc[index, 'is_closed'] = 0\n",
    "    if row['is_open'] == 0:\n",
    "        dfm.loc[index, 'is_closed'] = 1\n",
    "    "
   ]
  },
  {
   "cell_type": "code",
   "execution_count": 408,
   "metadata": {
    "collapsed": false
   },
   "outputs": [
    {
     "data": {
      "text/plain": [
       "0    3849\n",
       "1    1582\n",
       "Name: is_closed, dtype: int64"
      ]
     },
     "execution_count": 408,
     "metadata": {},
     "output_type": "execute_result"
    }
   ],
   "source": [
    "dfm.is_closed.value_counts()"
   ]
  },
  {
   "cell_type": "code",
   "execution_count": 409,
   "metadata": {
    "collapsed": false
   },
   "outputs": [
    {
     "data": {
      "text/plain": [
       "1    3849\n",
       "0    1582\n",
       "Name: is_open, dtype: int64"
      ]
     },
     "execution_count": 409,
     "metadata": {},
     "output_type": "execute_result"
    }
   ],
   "source": [
    "dfm.is_open.value_counts()"
   ]
  },
  {
   "cell_type": "code",
   "execution_count": 410,
   "metadata": {
    "collapsed": false
   },
   "outputs": [],
   "source": [
    "Y = dfm['is_open']\n",
    "X = dfm[[\"review_count\", \"stars\", \"RestaurantsPriceRange2S\",\\\n",
    "\"RestaurantsGoodForGroups\", \"RestaurantsTakeOut\", \"GoodForKids\", \"RestaurantsAttire\",\\\n",
    "\"RestaurantsReservations\", \"OutdoorSeating\", \"RestaurantsDelivery\", \"Alcohol\", \"HasTV\",\\\n",
    " \"is_dt\", \"noise_loud\", \"quiet\", \"wifi_free\", \"wifi_paid\",\\\n",
    "\"'dessert': True\", \"'latenight': True\", \"'lunch': True\", \"'dinner': True\",\\\n",
    "\"'breakfast': True\", \"'casual': True\", \"Nightlife\", \"Bars\", \"Fast Food\", \"Burgers\",\\\n",
    "\"Pizza\", \"Chinese\", \"Mexican\", \"Japanese\", \"Italian\", \"Sandwiches\", \"Seafood\",\\\n",
    "\"Breakfast & Brunch\", \"American\"]]"
   ]
  },
  {
   "cell_type": "code",
   "execution_count": 411,
   "metadata": {
    "collapsed": false
   },
   "outputs": [
    {
     "data": {
      "text/plain": [
       "1    3849\n",
       "0    1582\n",
       "Name: is_open, dtype: int64"
      ]
     },
     "execution_count": 411,
     "metadata": {},
     "output_type": "execute_result"
    }
   ],
   "source": [
    "Y.value_counts()"
   ]
  },
  {
   "cell_type": "code",
   "execution_count": 413,
   "metadata": {
    "collapsed": true
   },
   "outputs": [],
   "source": [
    "X_train, X_test, Y_train, Y_test = train_test_split(X, Y, test_size = 0.3, random_state = 4444)"
   ]
  },
  {
   "cell_type": "code",
   "execution_count": 414,
   "metadata": {
    "collapsed": true
   },
   "outputs": [],
   "source": [
    "# Scale data set fror decision tree\n",
    "\n",
    "stdsc = preprocessing.StandardScaler()\n",
    "\n",
    "X_train_std = stdsc.fit_transform(X_train)\n",
    "X_test_std = stdsc.fit_transform(X_test)"
   ]
  },
  {
   "cell_type": "code",
   "execution_count": 415,
   "metadata": {
    "collapsed": false
   },
   "outputs": [
    {
     "data": {
      "text/plain": [
       "array([[-0.30004391,  0.07087717,  0.51670665, ...,  4.27719724,\n",
       "        -0.25495922, -0.51631173],\n",
       "       [-0.19604554,  0.07087717,  0.51670665, ..., -0.23379796,\n",
       "        -0.25495922, -0.51631173],\n",
       "       [-0.20198831,  0.70476923,  0.51670665, ..., -0.23379796,\n",
       "        -0.25495922,  1.93681439],\n",
       "       ..., \n",
       "       [ 0.47845816, -0.56301489,  0.51670665, ..., -0.23379796,\n",
       "         3.9221959 , -0.51631173],\n",
       "       [-0.08907579,  1.33866129, -0.98482392, ..., -0.23379796,\n",
       "        -0.25495922, -0.51631173],\n",
       "       [-0.33570049,  1.33866129,  0.51670665, ..., -0.23379796,\n",
       "        -0.25495922, -0.51631173]])"
      ]
     },
     "execution_count": 415,
     "metadata": {},
     "output_type": "execute_result"
    }
   ],
   "source": [
    "X_train_std"
   ]
  },
  {
   "cell_type": "code",
   "execution_count": 416,
   "metadata": {
    "collapsed": false
   },
   "outputs": [
    {
     "data": {
      "text/html": [
       "<div>\n",
       "<table border=\"1\" class=\"dataframe\">\n",
       "  <thead>\n",
       "    <tr style=\"text-align: right;\">\n",
       "      <th></th>\n",
       "      <th>review_count</th>\n",
       "      <th>stars</th>\n",
       "      <th>RestaurantsPriceRange2S</th>\n",
       "      <th>RestaurantsGoodForGroups</th>\n",
       "      <th>RestaurantsTakeOut</th>\n",
       "      <th>GoodForKids</th>\n",
       "      <th>RestaurantsAttire</th>\n",
       "      <th>RestaurantsReservations</th>\n",
       "      <th>OutdoorSeating</th>\n",
       "      <th>RestaurantsDelivery</th>\n",
       "      <th>...</th>\n",
       "      <th>Burgers</th>\n",
       "      <th>Pizza</th>\n",
       "      <th>Chinese</th>\n",
       "      <th>Mexican</th>\n",
       "      <th>Japanese</th>\n",
       "      <th>Italian</th>\n",
       "      <th>Sandwiches</th>\n",
       "      <th>Seafood</th>\n",
       "      <th>Breakfast &amp; Brunch</th>\n",
       "      <th>American</th>\n",
       "    </tr>\n",
       "  </thead>\n",
       "  <tbody>\n",
       "    <tr>\n",
       "      <th>review_count</th>\n",
       "      <td>1.000000</td>\n",
       "      <td>0.162408</td>\n",
       "      <td>0.240400</td>\n",
       "      <td>0.056920</td>\n",
       "      <td>-0.061517</td>\n",
       "      <td>-0.090154</td>\n",
       "      <td>0.118132</td>\n",
       "      <td>0.203451</td>\n",
       "      <td>0.073367</td>\n",
       "      <td>-0.070240</td>\n",
       "      <td>...</td>\n",
       "      <td>0.006394</td>\n",
       "      <td>-0.052370</td>\n",
       "      <td>-0.023276</td>\n",
       "      <td>-0.052821</td>\n",
       "      <td>0.058531</td>\n",
       "      <td>0.022033</td>\n",
       "      <td>-0.039569</td>\n",
       "      <td>0.059520</td>\n",
       "      <td>0.142899</td>\n",
       "      <td>0.093439</td>\n",
       "    </tr>\n",
       "    <tr>\n",
       "      <th>stars</th>\n",
       "      <td>0.162408</td>\n",
       "      <td>1.000000</td>\n",
       "      <td>0.106912</td>\n",
       "      <td>0.134141</td>\n",
       "      <td>-0.010958</td>\n",
       "      <td>-0.051903</td>\n",
       "      <td>0.090727</td>\n",
       "      <td>0.186904</td>\n",
       "      <td>0.118382</td>\n",
       "      <td>0.087823</td>\n",
       "      <td>...</td>\n",
       "      <td>-0.147990</td>\n",
       "      <td>-0.080689</td>\n",
       "      <td>-0.056148</td>\n",
       "      <td>0.026996</td>\n",
       "      <td>0.107291</td>\n",
       "      <td>0.029426</td>\n",
       "      <td>-0.026238</td>\n",
       "      <td>0.067077</td>\n",
       "      <td>0.050902</td>\n",
       "      <td>0.030437</td>\n",
       "    </tr>\n",
       "    <tr>\n",
       "      <th>RestaurantsPriceRange2S</th>\n",
       "      <td>0.240400</td>\n",
       "      <td>0.106912</td>\n",
       "      <td>1.000000</td>\n",
       "      <td>0.048193</td>\n",
       "      <td>-0.373879</td>\n",
       "      <td>-0.411550</td>\n",
       "      <td>0.482854</td>\n",
       "      <td>0.499509</td>\n",
       "      <td>0.004554</td>\n",
       "      <td>-0.082040</td>\n",
       "      <td>...</td>\n",
       "      <td>-0.107325</td>\n",
       "      <td>-0.006227</td>\n",
       "      <td>-0.049463</td>\n",
       "      <td>-0.177249</td>\n",
       "      <td>0.119013</td>\n",
       "      <td>0.134132</td>\n",
       "      <td>-0.140009</td>\n",
       "      <td>0.189615</td>\n",
       "      <td>0.007357</td>\n",
       "      <td>0.137249</td>\n",
       "    </tr>\n",
       "    <tr>\n",
       "      <th>RestaurantsGoodForGroups</th>\n",
       "      <td>0.056920</td>\n",
       "      <td>0.134141</td>\n",
       "      <td>0.048193</td>\n",
       "      <td>1.000000</td>\n",
       "      <td>-0.038227</td>\n",
       "      <td>0.027010</td>\n",
       "      <td>0.019966</td>\n",
       "      <td>0.136435</td>\n",
       "      <td>0.042560</td>\n",
       "      <td>-0.036458</td>\n",
       "      <td>...</td>\n",
       "      <td>0.033506</td>\n",
       "      <td>-0.104649</td>\n",
       "      <td>0.028463</td>\n",
       "      <td>0.018783</td>\n",
       "      <td>0.034484</td>\n",
       "      <td>0.007603</td>\n",
       "      <td>-0.069633</td>\n",
       "      <td>0.011828</td>\n",
       "      <td>0.027394</td>\n",
       "      <td>0.058109</td>\n",
       "    </tr>\n",
       "    <tr>\n",
       "      <th>RestaurantsTakeOut</th>\n",
       "      <td>-0.061517</td>\n",
       "      <td>-0.010958</td>\n",
       "      <td>-0.373879</td>\n",
       "      <td>-0.038227</td>\n",
       "      <td>1.000000</td>\n",
       "      <td>0.261645</td>\n",
       "      <td>-0.307407</td>\n",
       "      <td>-0.090902</td>\n",
       "      <td>0.102809</td>\n",
       "      <td>0.163129</td>\n",
       "      <td>...</td>\n",
       "      <td>0.085145</td>\n",
       "      <td>0.048302</td>\n",
       "      <td>0.053812</td>\n",
       "      <td>0.084465</td>\n",
       "      <td>0.015916</td>\n",
       "      <td>-0.025787</td>\n",
       "      <td>0.097179</td>\n",
       "      <td>-0.040453</td>\n",
       "      <td>0.043684</td>\n",
       "      <td>-0.035384</td>\n",
       "    </tr>\n",
       "    <tr>\n",
       "      <th>GoodForKids</th>\n",
       "      <td>-0.090154</td>\n",
       "      <td>-0.051903</td>\n",
       "      <td>-0.411550</td>\n",
       "      <td>0.027010</td>\n",
       "      <td>0.261645</td>\n",
       "      <td>1.000000</td>\n",
       "      <td>-0.387605</td>\n",
       "      <td>-0.260205</td>\n",
       "      <td>-0.008881</td>\n",
       "      <td>0.125223</td>\n",
       "      <td>...</td>\n",
       "      <td>0.059495</td>\n",
       "      <td>0.060557</td>\n",
       "      <td>0.075125</td>\n",
       "      <td>0.102105</td>\n",
       "      <td>0.006713</td>\n",
       "      <td>-0.048173</td>\n",
       "      <td>0.099087</td>\n",
       "      <td>-0.070938</td>\n",
       "      <td>0.028510</td>\n",
       "      <td>-0.218074</td>\n",
       "    </tr>\n",
       "    <tr>\n",
       "      <th>RestaurantsAttire</th>\n",
       "      <td>0.118132</td>\n",
       "      <td>0.090727</td>\n",
       "      <td>0.482854</td>\n",
       "      <td>0.019966</td>\n",
       "      <td>-0.307407</td>\n",
       "      <td>-0.387605</td>\n",
       "      <td>1.000000</td>\n",
       "      <td>0.259800</td>\n",
       "      <td>-0.003407</td>\n",
       "      <td>-0.076218</td>\n",
       "      <td>...</td>\n",
       "      <td>-0.055955</td>\n",
       "      <td>-0.063109</td>\n",
       "      <td>-0.009461</td>\n",
       "      <td>-0.070821</td>\n",
       "      <td>0.019606</td>\n",
       "      <td>0.078526</td>\n",
       "      <td>-0.054219</td>\n",
       "      <td>0.134150</td>\n",
       "      <td>-0.030065</td>\n",
       "      <td>0.050253</td>\n",
       "    </tr>\n",
       "    <tr>\n",
       "      <th>RestaurantsReservations</th>\n",
       "      <td>0.203451</td>\n",
       "      <td>0.186904</td>\n",
       "      <td>0.499509</td>\n",
       "      <td>0.136435</td>\n",
       "      <td>-0.090902</td>\n",
       "      <td>-0.260205</td>\n",
       "      <td>0.259800</td>\n",
       "      <td>1.000000</td>\n",
       "      <td>0.093982</td>\n",
       "      <td>0.027684</td>\n",
       "      <td>...</td>\n",
       "      <td>-0.103889</td>\n",
       "      <td>-0.051323</td>\n",
       "      <td>0.036728</td>\n",
       "      <td>-0.084632</td>\n",
       "      <td>0.167142</td>\n",
       "      <td>0.157535</td>\n",
       "      <td>-0.158514</td>\n",
       "      <td>0.165492</td>\n",
       "      <td>-0.037394</td>\n",
       "      <td>0.048288</td>\n",
       "    </tr>\n",
       "    <tr>\n",
       "      <th>OutdoorSeating</th>\n",
       "      <td>0.073367</td>\n",
       "      <td>0.118382</td>\n",
       "      <td>0.004554</td>\n",
       "      <td>0.042560</td>\n",
       "      <td>0.102809</td>\n",
       "      <td>-0.008881</td>\n",
       "      <td>-0.003407</td>\n",
       "      <td>0.093982</td>\n",
       "      <td>1.000000</td>\n",
       "      <td>0.028647</td>\n",
       "      <td>...</td>\n",
       "      <td>0.013854</td>\n",
       "      <td>-0.005659</td>\n",
       "      <td>-0.095849</td>\n",
       "      <td>0.034549</td>\n",
       "      <td>-0.058961</td>\n",
       "      <td>0.075432</td>\n",
       "      <td>0.064419</td>\n",
       "      <td>-0.015878</td>\n",
       "      <td>0.099780</td>\n",
       "      <td>0.059909</td>\n",
       "    </tr>\n",
       "    <tr>\n",
       "      <th>RestaurantsDelivery</th>\n",
       "      <td>-0.070240</td>\n",
       "      <td>0.087823</td>\n",
       "      <td>-0.082040</td>\n",
       "      <td>-0.036458</td>\n",
       "      <td>0.163129</td>\n",
       "      <td>0.125223</td>\n",
       "      <td>-0.076218</td>\n",
       "      <td>0.027684</td>\n",
       "      <td>0.028647</td>\n",
       "      <td>1.000000</td>\n",
       "      <td>...</td>\n",
       "      <td>-0.084103</td>\n",
       "      <td>0.326741</td>\n",
       "      <td>0.111747</td>\n",
       "      <td>-0.105002</td>\n",
       "      <td>-0.057350</td>\n",
       "      <td>0.113547</td>\n",
       "      <td>0.069649</td>\n",
       "      <td>-0.026839</td>\n",
       "      <td>-0.030533</td>\n",
       "      <td>-0.124253</td>\n",
       "    </tr>\n",
       "    <tr>\n",
       "      <th>Alcohol</th>\n",
       "      <td>0.260978</td>\n",
       "      <td>0.121275</td>\n",
       "      <td>0.509276</td>\n",
       "      <td>0.145181</td>\n",
       "      <td>-0.119299</td>\n",
       "      <td>-0.355715</td>\n",
       "      <td>0.188944</td>\n",
       "      <td>0.496163</td>\n",
       "      <td>0.071608</td>\n",
       "      <td>-0.123988</td>\n",
       "      <td>...</td>\n",
       "      <td>-0.067533</td>\n",
       "      <td>-0.043454</td>\n",
       "      <td>-0.045128</td>\n",
       "      <td>-0.062288</td>\n",
       "      <td>0.128563</td>\n",
       "      <td>0.133068</td>\n",
       "      <td>-0.169502</td>\n",
       "      <td>0.157230</td>\n",
       "      <td>-0.028097</td>\n",
       "      <td>0.234877</td>\n",
       "    </tr>\n",
       "    <tr>\n",
       "      <th>HasTV</th>\n",
       "      <td>0.106778</td>\n",
       "      <td>0.187305</td>\n",
       "      <td>0.088612</td>\n",
       "      <td>0.107209</td>\n",
       "      <td>0.161351</td>\n",
       "      <td>-0.119627</td>\n",
       "      <td>-0.053690</td>\n",
       "      <td>0.218514</td>\n",
       "      <td>0.102446</td>\n",
       "      <td>0.096537</td>\n",
       "      <td>...</td>\n",
       "      <td>-0.003987</td>\n",
       "      <td>0.050332</td>\n",
       "      <td>-0.036337</td>\n",
       "      <td>0.004085</td>\n",
       "      <td>0.038133</td>\n",
       "      <td>0.053955</td>\n",
       "      <td>-0.071424</td>\n",
       "      <td>0.048202</td>\n",
       "      <td>-0.008830</td>\n",
       "      <td>0.165698</td>\n",
       "    </tr>\n",
       "    <tr>\n",
       "      <th>is_dt</th>\n",
       "      <td>0.248329</td>\n",
       "      <td>-0.067089</td>\n",
       "      <td>0.322433</td>\n",
       "      <td>0.033119</td>\n",
       "      <td>-0.179733</td>\n",
       "      <td>-0.173780</td>\n",
       "      <td>0.249415</td>\n",
       "      <td>0.152944</td>\n",
       "      <td>-0.023202</td>\n",
       "      <td>-0.157681</td>\n",
       "      <td>...</td>\n",
       "      <td>0.015528</td>\n",
       "      <td>-0.028367</td>\n",
       "      <td>0.004664</td>\n",
       "      <td>-0.079982</td>\n",
       "      <td>-0.005972</td>\n",
       "      <td>0.058253</td>\n",
       "      <td>-0.020617</td>\n",
       "      <td>0.051111</td>\n",
       "      <td>0.027538</td>\n",
       "      <td>0.080811</td>\n",
       "    </tr>\n",
       "    <tr>\n",
       "      <th>noise_loud</th>\n",
       "      <td>-0.002556</td>\n",
       "      <td>-0.116428</td>\n",
       "      <td>0.020548</td>\n",
       "      <td>-0.028559</td>\n",
       "      <td>-0.015963</td>\n",
       "      <td>-0.090016</td>\n",
       "      <td>0.012599</td>\n",
       "      <td>-0.027195</td>\n",
       "      <td>-0.017277</td>\n",
       "      <td>-0.062161</td>\n",
       "      <td>...</td>\n",
       "      <td>0.049720</td>\n",
       "      <td>0.009830</td>\n",
       "      <td>-0.026098</td>\n",
       "      <td>0.008881</td>\n",
       "      <td>-0.029441</td>\n",
       "      <td>-0.013812</td>\n",
       "      <td>0.008122</td>\n",
       "      <td>0.000268</td>\n",
       "      <td>-0.040249</td>\n",
       "      <td>0.022649</td>\n",
       "    </tr>\n",
       "    <tr>\n",
       "      <th>quiet</th>\n",
       "      <td>-0.104897</td>\n",
       "      <td>0.075309</td>\n",
       "      <td>-0.049962</td>\n",
       "      <td>-0.052442</td>\n",
       "      <td>0.068591</td>\n",
       "      <td>0.046413</td>\n",
       "      <td>0.022026</td>\n",
       "      <td>0.027679</td>\n",
       "      <td>-0.041483</td>\n",
       "      <td>0.192002</td>\n",
       "      <td>...</td>\n",
       "      <td>-0.069831</td>\n",
       "      <td>0.026590</td>\n",
       "      <td>0.084655</td>\n",
       "      <td>-0.029703</td>\n",
       "      <td>-0.001058</td>\n",
       "      <td>-0.008409</td>\n",
       "      <td>0.020499</td>\n",
       "      <td>-0.022373</td>\n",
       "      <td>-0.006479</td>\n",
       "      <td>-0.082822</td>\n",
       "    </tr>\n",
       "    <tr>\n",
       "      <th>wifi_free</th>\n",
       "      <td>0.113396</td>\n",
       "      <td>0.140741</td>\n",
       "      <td>0.051366</td>\n",
       "      <td>0.103840</td>\n",
       "      <td>0.132392</td>\n",
       "      <td>-0.083313</td>\n",
       "      <td>-0.006088</td>\n",
       "      <td>0.164757</td>\n",
       "      <td>0.182432</td>\n",
       "      <td>0.058809</td>\n",
       "      <td>...</td>\n",
       "      <td>0.081063</td>\n",
       "      <td>-0.023392</td>\n",
       "      <td>-0.045328</td>\n",
       "      <td>-0.090162</td>\n",
       "      <td>-0.007118</td>\n",
       "      <td>0.055539</td>\n",
       "      <td>0.008597</td>\n",
       "      <td>0.039630</td>\n",
       "      <td>0.124897</td>\n",
       "      <td>0.161356</td>\n",
       "    </tr>\n",
       "    <tr>\n",
       "      <th>wifi_paid</th>\n",
       "      <td>-0.004462</td>\n",
       "      <td>-0.029903</td>\n",
       "      <td>0.057320</td>\n",
       "      <td>0.008864</td>\n",
       "      <td>-0.058166</td>\n",
       "      <td>-0.047199</td>\n",
       "      <td>0.007515</td>\n",
       "      <td>0.008581</td>\n",
       "      <td>0.008454</td>\n",
       "      <td>-0.041805</td>\n",
       "      <td>...</td>\n",
       "      <td>-0.013285</td>\n",
       "      <td>-0.007049</td>\n",
       "      <td>0.004235</td>\n",
       "      <td>-0.013373</td>\n",
       "      <td>-0.003225</td>\n",
       "      <td>0.007418</td>\n",
       "      <td>-0.007628</td>\n",
       "      <td>-0.000218</td>\n",
       "      <td>0.023701</td>\n",
       "      <td>0.044514</td>\n",
       "    </tr>\n",
       "    <tr>\n",
       "      <th>'dessert': True</th>\n",
       "      <td>0.061627</td>\n",
       "      <td>0.084617</td>\n",
       "      <td>-0.003561</td>\n",
       "      <td>0.033519</td>\n",
       "      <td>0.067803</td>\n",
       "      <td>0.069105</td>\n",
       "      <td>-0.037206</td>\n",
       "      <td>0.069092</td>\n",
       "      <td>0.068376</td>\n",
       "      <td>-0.003618</td>\n",
       "      <td>...</td>\n",
       "      <td>0.040396</td>\n",
       "      <td>-0.012570</td>\n",
       "      <td>-0.047097</td>\n",
       "      <td>-0.034398</td>\n",
       "      <td>0.020166</td>\n",
       "      <td>0.027068</td>\n",
       "      <td>-0.005835</td>\n",
       "      <td>0.005917</td>\n",
       "      <td>0.024358</td>\n",
       "      <td>0.067732</td>\n",
       "    </tr>\n",
       "    <tr>\n",
       "      <th>'latenight': True</th>\n",
       "      <td>0.074434</td>\n",
       "      <td>-0.005700</td>\n",
       "      <td>-0.024062</td>\n",
       "      <td>0.064992</td>\n",
       "      <td>0.092931</td>\n",
       "      <td>-0.139899</td>\n",
       "      <td>-0.044403</td>\n",
       "      <td>-0.016721</td>\n",
       "      <td>0.021382</td>\n",
       "      <td>-0.059886</td>\n",
       "      <td>...</td>\n",
       "      <td>0.050731</td>\n",
       "      <td>-0.000093</td>\n",
       "      <td>-0.049400</td>\n",
       "      <td>0.051542</td>\n",
       "      <td>0.001846</td>\n",
       "      <td>-0.017495</td>\n",
       "      <td>-0.062606</td>\n",
       "      <td>-0.024896</td>\n",
       "      <td>0.004754</td>\n",
       "      <td>0.149955</td>\n",
       "    </tr>\n",
       "    <tr>\n",
       "      <th>'lunch': True</th>\n",
       "      <td>0.085549</td>\n",
       "      <td>0.127602</td>\n",
       "      <td>-0.154075</td>\n",
       "      <td>0.065615</td>\n",
       "      <td>0.281803</td>\n",
       "      <td>0.214804</td>\n",
       "      <td>-0.153258</td>\n",
       "      <td>-0.010437</td>\n",
       "      <td>0.103443</td>\n",
       "      <td>0.138765</td>\n",
       "      <td>...</td>\n",
       "      <td>0.045197</td>\n",
       "      <td>0.040628</td>\n",
       "      <td>0.077542</td>\n",
       "      <td>0.036073</td>\n",
       "      <td>0.044044</td>\n",
       "      <td>-0.002199</td>\n",
       "      <td>0.051128</td>\n",
       "      <td>0.000241</td>\n",
       "      <td>0.008301</td>\n",
       "      <td>-0.015444</td>\n",
       "    </tr>\n",
       "    <tr>\n",
       "      <th>'dinner': True</th>\n",
       "      <td>0.277168</td>\n",
       "      <td>0.173353</td>\n",
       "      <td>0.289142</td>\n",
       "      <td>0.107907</td>\n",
       "      <td>0.028710</td>\n",
       "      <td>-0.130951</td>\n",
       "      <td>0.163344</td>\n",
       "      <td>0.393195</td>\n",
       "      <td>0.058240</td>\n",
       "      <td>0.052332</td>\n",
       "      <td>...</td>\n",
       "      <td>-0.030206</td>\n",
       "      <td>0.027042</td>\n",
       "      <td>0.051400</td>\n",
       "      <td>-0.034489</td>\n",
       "      <td>0.155214</td>\n",
       "      <td>0.141487</td>\n",
       "      <td>-0.151093</td>\n",
       "      <td>0.120762</td>\n",
       "      <td>-0.102234</td>\n",
       "      <td>-0.000880</td>\n",
       "    </tr>\n",
       "    <tr>\n",
       "      <th>'breakfast': True</th>\n",
       "      <td>0.036948</td>\n",
       "      <td>-0.046642</td>\n",
       "      <td>-0.096408</td>\n",
       "      <td>0.020352</td>\n",
       "      <td>0.082596</td>\n",
       "      <td>0.091208</td>\n",
       "      <td>-0.067696</td>\n",
       "      <td>-0.135400</td>\n",
       "      <td>0.035371</td>\n",
       "      <td>-0.093869</td>\n",
       "      <td>...</td>\n",
       "      <td>0.088034</td>\n",
       "      <td>-0.104396</td>\n",
       "      <td>-0.083630</td>\n",
       "      <td>-0.034340</td>\n",
       "      <td>-0.082841</td>\n",
       "      <td>-0.080234</td>\n",
       "      <td>0.045244</td>\n",
       "      <td>-0.069148</td>\n",
       "      <td>0.416565</td>\n",
       "      <td>0.184234</td>\n",
       "    </tr>\n",
       "    <tr>\n",
       "      <th>'casual': True</th>\n",
       "      <td>0.058104</td>\n",
       "      <td>0.087243</td>\n",
       "      <td>-0.044567</td>\n",
       "      <td>0.079009</td>\n",
       "      <td>0.020882</td>\n",
       "      <td>0.172691</td>\n",
       "      <td>-0.174695</td>\n",
       "      <td>-0.052152</td>\n",
       "      <td>0.019412</td>\n",
       "      <td>-0.005614</td>\n",
       "      <td>...</td>\n",
       "      <td>-0.002450</td>\n",
       "      <td>0.011096</td>\n",
       "      <td>0.001284</td>\n",
       "      <td>-0.023105</td>\n",
       "      <td>0.040638</td>\n",
       "      <td>-0.013266</td>\n",
       "      <td>0.007110</td>\n",
       "      <td>-0.015416</td>\n",
       "      <td>0.053251</td>\n",
       "      <td>0.007700</td>\n",
       "    </tr>\n",
       "    <tr>\n",
       "      <th>Nightlife</th>\n",
       "      <td>0.094344</td>\n",
       "      <td>0.072563</td>\n",
       "      <td>0.217603</td>\n",
       "      <td>0.074664</td>\n",
       "      <td>-0.131253</td>\n",
       "      <td>-0.405537</td>\n",
       "      <td>0.062738</td>\n",
       "      <td>0.171351</td>\n",
       "      <td>0.069194</td>\n",
       "      <td>-0.115642</td>\n",
       "      <td>...</td>\n",
       "      <td>-0.018492</td>\n",
       "      <td>-0.043963</td>\n",
       "      <td>-0.080189</td>\n",
       "      <td>-0.067152</td>\n",
       "      <td>-0.049426</td>\n",
       "      <td>0.031017</td>\n",
       "      <td>-0.090698</td>\n",
       "      <td>-0.000540</td>\n",
       "      <td>-0.001294</td>\n",
       "      <td>0.293031</td>\n",
       "    </tr>\n",
       "    <tr>\n",
       "      <th>Bars</th>\n",
       "      <td>0.115775</td>\n",
       "      <td>0.137532</td>\n",
       "      <td>0.237536</td>\n",
       "      <td>0.089777</td>\n",
       "      <td>-0.078952</td>\n",
       "      <td>-0.331121</td>\n",
       "      <td>0.045770</td>\n",
       "      <td>0.227041</td>\n",
       "      <td>0.068005</td>\n",
       "      <td>-0.109735</td>\n",
       "      <td>...</td>\n",
       "      <td>-0.052491</td>\n",
       "      <td>-0.082997</td>\n",
       "      <td>-0.082175</td>\n",
       "      <td>-0.094040</td>\n",
       "      <td>0.238897</td>\n",
       "      <td>-0.013100</td>\n",
       "      <td>-0.072718</td>\n",
       "      <td>-0.003482</td>\n",
       "      <td>-0.008616</td>\n",
       "      <td>0.216945</td>\n",
       "    </tr>\n",
       "    <tr>\n",
       "      <th>Fast Food</th>\n",
       "      <td>-0.132028</td>\n",
       "      <td>-0.317977</td>\n",
       "      <td>-0.322699</td>\n",
       "      <td>-0.040877</td>\n",
       "      <td>0.143626</td>\n",
       "      <td>0.160074</td>\n",
       "      <td>-0.067565</td>\n",
       "      <td>-0.250234</td>\n",
       "      <td>-0.030267</td>\n",
       "      <td>-0.138238</td>\n",
       "      <td>...</td>\n",
       "      <td>0.257299</td>\n",
       "      <td>-0.123165</td>\n",
       "      <td>-0.023312</td>\n",
       "      <td>0.088010</td>\n",
       "      <td>-0.087000</td>\n",
       "      <td>-0.106640</td>\n",
       "      <td>0.146870</td>\n",
       "      <td>-0.067744</td>\n",
       "      <td>-0.090498</td>\n",
       "      <td>-0.113163</td>\n",
       "    </tr>\n",
       "    <tr>\n",
       "      <th>Burgers</th>\n",
       "      <td>0.006394</td>\n",
       "      <td>-0.147990</td>\n",
       "      <td>-0.107325</td>\n",
       "      <td>0.033506</td>\n",
       "      <td>0.085145</td>\n",
       "      <td>0.059495</td>\n",
       "      <td>-0.055955</td>\n",
       "      <td>-0.103889</td>\n",
       "      <td>0.013854</td>\n",
       "      <td>-0.084103</td>\n",
       "      <td>...</td>\n",
       "      <td>1.000000</td>\n",
       "      <td>-0.047402</td>\n",
       "      <td>-0.085513</td>\n",
       "      <td>-0.097410</td>\n",
       "      <td>-0.075022</td>\n",
       "      <td>-0.059724</td>\n",
       "      <td>0.022035</td>\n",
       "      <td>-0.049177</td>\n",
       "      <td>0.027725</td>\n",
       "      <td>0.078147</td>\n",
       "    </tr>\n",
       "    <tr>\n",
       "      <th>Pizza</th>\n",
       "      <td>-0.052370</td>\n",
       "      <td>-0.080689</td>\n",
       "      <td>-0.006227</td>\n",
       "      <td>-0.104649</td>\n",
       "      <td>0.048302</td>\n",
       "      <td>0.060557</td>\n",
       "      <td>-0.063109</td>\n",
       "      <td>-0.051323</td>\n",
       "      <td>-0.005659</td>\n",
       "      <td>0.326741</td>\n",
       "      <td>...</td>\n",
       "      <td>-0.047402</td>\n",
       "      <td>1.000000</td>\n",
       "      <td>-0.093050</td>\n",
       "      <td>-0.121359</td>\n",
       "      <td>-0.083672</td>\n",
       "      <td>0.313754</td>\n",
       "      <td>0.020843</td>\n",
       "      <td>-0.064590</td>\n",
       "      <td>-0.080257</td>\n",
       "      <td>-0.108011</td>\n",
       "    </tr>\n",
       "    <tr>\n",
       "      <th>Chinese</th>\n",
       "      <td>-0.023276</td>\n",
       "      <td>-0.056148</td>\n",
       "      <td>-0.049463</td>\n",
       "      <td>0.028463</td>\n",
       "      <td>0.053812</td>\n",
       "      <td>0.075125</td>\n",
       "      <td>-0.009461</td>\n",
       "      <td>0.036728</td>\n",
       "      <td>-0.095849</td>\n",
       "      <td>0.111747</td>\n",
       "      <td>...</td>\n",
       "      <td>-0.085513</td>\n",
       "      <td>-0.093050</td>\n",
       "      <td>1.000000</td>\n",
       "      <td>-0.099679</td>\n",
       "      <td>0.004263</td>\n",
       "      <td>-0.065938</td>\n",
       "      <td>-0.094010</td>\n",
       "      <td>0.016247</td>\n",
       "      <td>-0.066506</td>\n",
       "      <td>-0.127847</td>\n",
       "    </tr>\n",
       "    <tr>\n",
       "      <th>Mexican</th>\n",
       "      <td>-0.052821</td>\n",
       "      <td>0.026996</td>\n",
       "      <td>-0.177249</td>\n",
       "      <td>0.018783</td>\n",
       "      <td>0.084465</td>\n",
       "      <td>0.102105</td>\n",
       "      <td>-0.070821</td>\n",
       "      <td>-0.084632</td>\n",
       "      <td>0.034549</td>\n",
       "      <td>-0.105002</td>\n",
       "      <td>...</td>\n",
       "      <td>-0.097410</td>\n",
       "      <td>-0.121359</td>\n",
       "      <td>-0.099679</td>\n",
       "      <td>1.000000</td>\n",
       "      <td>-0.085888</td>\n",
       "      <td>-0.087048</td>\n",
       "      <td>-0.124497</td>\n",
       "      <td>0.011930</td>\n",
       "      <td>-0.060819</td>\n",
       "      <td>-0.116832</td>\n",
       "    </tr>\n",
       "    <tr>\n",
       "      <th>Japanese</th>\n",
       "      <td>0.058531</td>\n",
       "      <td>0.107291</td>\n",
       "      <td>0.119013</td>\n",
       "      <td>0.034484</td>\n",
       "      <td>0.015916</td>\n",
       "      <td>0.006713</td>\n",
       "      <td>0.019606</td>\n",
       "      <td>0.167142</td>\n",
       "      <td>-0.058961</td>\n",
       "      <td>-0.057350</td>\n",
       "      <td>...</td>\n",
       "      <td>-0.075022</td>\n",
       "      <td>-0.083672</td>\n",
       "      <td>0.004263</td>\n",
       "      <td>-0.085888</td>\n",
       "      <td>1.000000</td>\n",
       "      <td>-0.058963</td>\n",
       "      <td>-0.084499</td>\n",
       "      <td>-0.013199</td>\n",
       "      <td>-0.063483</td>\n",
       "      <td>-0.117660</td>\n",
       "    </tr>\n",
       "    <tr>\n",
       "      <th>Italian</th>\n",
       "      <td>0.022033</td>\n",
       "      <td>0.029426</td>\n",
       "      <td>0.134132</td>\n",
       "      <td>0.007603</td>\n",
       "      <td>-0.025787</td>\n",
       "      <td>-0.048173</td>\n",
       "      <td>0.078526</td>\n",
       "      <td>0.157535</td>\n",
       "      <td>0.075432</td>\n",
       "      <td>0.113547</td>\n",
       "      <td>...</td>\n",
       "      <td>-0.059724</td>\n",
       "      <td>0.313754</td>\n",
       "      <td>-0.065938</td>\n",
       "      <td>-0.087048</td>\n",
       "      <td>-0.058963</td>\n",
       "      <td>1.000000</td>\n",
       "      <td>-0.042925</td>\n",
       "      <td>0.006572</td>\n",
       "      <td>-0.040937</td>\n",
       "      <td>-0.073922</td>\n",
       "    </tr>\n",
       "    <tr>\n",
       "      <th>Sandwiches</th>\n",
       "      <td>-0.039569</td>\n",
       "      <td>-0.026238</td>\n",
       "      <td>-0.140009</td>\n",
       "      <td>-0.069633</td>\n",
       "      <td>0.097179</td>\n",
       "      <td>0.099087</td>\n",
       "      <td>-0.054219</td>\n",
       "      <td>-0.158514</td>\n",
       "      <td>0.064419</td>\n",
       "      <td>0.069649</td>\n",
       "      <td>...</td>\n",
       "      <td>0.022035</td>\n",
       "      <td>0.020843</td>\n",
       "      <td>-0.094010</td>\n",
       "      <td>-0.124497</td>\n",
       "      <td>-0.084499</td>\n",
       "      <td>-0.042925</td>\n",
       "      <td>1.000000</td>\n",
       "      <td>-0.059995</td>\n",
       "      <td>0.055086</td>\n",
       "      <td>-0.036877</td>\n",
       "    </tr>\n",
       "    <tr>\n",
       "      <th>Seafood</th>\n",
       "      <td>0.059520</td>\n",
       "      <td>0.067077</td>\n",
       "      <td>0.189615</td>\n",
       "      <td>0.011828</td>\n",
       "      <td>-0.040453</td>\n",
       "      <td>-0.070938</td>\n",
       "      <td>0.134150</td>\n",
       "      <td>0.165492</td>\n",
       "      <td>-0.015878</td>\n",
       "      <td>-0.026839</td>\n",
       "      <td>...</td>\n",
       "      <td>-0.049177</td>\n",
       "      <td>-0.064590</td>\n",
       "      <td>0.016247</td>\n",
       "      <td>0.011930</td>\n",
       "      <td>-0.013199</td>\n",
       "      <td>0.006572</td>\n",
       "      <td>-0.059995</td>\n",
       "      <td>1.000000</td>\n",
       "      <td>-0.038610</td>\n",
       "      <td>0.024895</td>\n",
       "    </tr>\n",
       "    <tr>\n",
       "      <th>Breakfast &amp; Brunch</th>\n",
       "      <td>0.142899</td>\n",
       "      <td>0.050902</td>\n",
       "      <td>0.007357</td>\n",
       "      <td>0.027394</td>\n",
       "      <td>0.043684</td>\n",
       "      <td>0.028510</td>\n",
       "      <td>-0.030065</td>\n",
       "      <td>-0.037394</td>\n",
       "      <td>0.099780</td>\n",
       "      <td>-0.030533</td>\n",
       "      <td>...</td>\n",
       "      <td>0.027725</td>\n",
       "      <td>-0.080257</td>\n",
       "      <td>-0.066506</td>\n",
       "      <td>-0.060819</td>\n",
       "      <td>-0.063483</td>\n",
       "      <td>-0.040937</td>\n",
       "      <td>0.055086</td>\n",
       "      <td>-0.038610</td>\n",
       "      <td>1.000000</td>\n",
       "      <td>0.198243</td>\n",
       "    </tr>\n",
       "    <tr>\n",
       "      <th>American</th>\n",
       "      <td>0.093439</td>\n",
       "      <td>0.030437</td>\n",
       "      <td>0.137249</td>\n",
       "      <td>0.058109</td>\n",
       "      <td>-0.035384</td>\n",
       "      <td>-0.218074</td>\n",
       "      <td>0.050253</td>\n",
       "      <td>0.048288</td>\n",
       "      <td>0.059909</td>\n",
       "      <td>-0.124253</td>\n",
       "      <td>...</td>\n",
       "      <td>0.078147</td>\n",
       "      <td>-0.108011</td>\n",
       "      <td>-0.127847</td>\n",
       "      <td>-0.116832</td>\n",
       "      <td>-0.117660</td>\n",
       "      <td>-0.073922</td>\n",
       "      <td>-0.036877</td>\n",
       "      <td>0.024895</td>\n",
       "      <td>0.198243</td>\n",
       "      <td>1.000000</td>\n",
       "    </tr>\n",
       "  </tbody>\n",
       "</table>\n",
       "<p>36 rows × 36 columns</p>\n",
       "</div>"
      ],
      "text/plain": [
       "                          review_count     stars  RestaurantsPriceRange2S  \\\n",
       "review_count                  1.000000  0.162408                 0.240400   \n",
       "stars                         0.162408  1.000000                 0.106912   \n",
       "RestaurantsPriceRange2S       0.240400  0.106912                 1.000000   \n",
       "RestaurantsGoodForGroups      0.056920  0.134141                 0.048193   \n",
       "RestaurantsTakeOut           -0.061517 -0.010958                -0.373879   \n",
       "GoodForKids                  -0.090154 -0.051903                -0.411550   \n",
       "RestaurantsAttire             0.118132  0.090727                 0.482854   \n",
       "RestaurantsReservations       0.203451  0.186904                 0.499509   \n",
       "OutdoorSeating                0.073367  0.118382                 0.004554   \n",
       "RestaurantsDelivery          -0.070240  0.087823                -0.082040   \n",
       "Alcohol                       0.260978  0.121275                 0.509276   \n",
       "HasTV                         0.106778  0.187305                 0.088612   \n",
       "is_dt                         0.248329 -0.067089                 0.322433   \n",
       "noise_loud                   -0.002556 -0.116428                 0.020548   \n",
       "quiet                        -0.104897  0.075309                -0.049962   \n",
       "wifi_free                     0.113396  0.140741                 0.051366   \n",
       "wifi_paid                    -0.004462 -0.029903                 0.057320   \n",
       "'dessert': True               0.061627  0.084617                -0.003561   \n",
       "'latenight': True             0.074434 -0.005700                -0.024062   \n",
       "'lunch': True                 0.085549  0.127602                -0.154075   \n",
       "'dinner': True                0.277168  0.173353                 0.289142   \n",
       "'breakfast': True             0.036948 -0.046642                -0.096408   \n",
       "'casual': True                0.058104  0.087243                -0.044567   \n",
       "Nightlife                     0.094344  0.072563                 0.217603   \n",
       "Bars                          0.115775  0.137532                 0.237536   \n",
       "Fast Food                    -0.132028 -0.317977                -0.322699   \n",
       "Burgers                       0.006394 -0.147990                -0.107325   \n",
       "Pizza                        -0.052370 -0.080689                -0.006227   \n",
       "Chinese                      -0.023276 -0.056148                -0.049463   \n",
       "Mexican                      -0.052821  0.026996                -0.177249   \n",
       "Japanese                      0.058531  0.107291                 0.119013   \n",
       "Italian                       0.022033  0.029426                 0.134132   \n",
       "Sandwiches                   -0.039569 -0.026238                -0.140009   \n",
       "Seafood                       0.059520  0.067077                 0.189615   \n",
       "Breakfast & Brunch            0.142899  0.050902                 0.007357   \n",
       "American                      0.093439  0.030437                 0.137249   \n",
       "\n",
       "                          RestaurantsGoodForGroups  RestaurantsTakeOut  \\\n",
       "review_count                              0.056920           -0.061517   \n",
       "stars                                     0.134141           -0.010958   \n",
       "RestaurantsPriceRange2S                   0.048193           -0.373879   \n",
       "RestaurantsGoodForGroups                  1.000000           -0.038227   \n",
       "RestaurantsTakeOut                       -0.038227            1.000000   \n",
       "GoodForKids                               0.027010            0.261645   \n",
       "RestaurantsAttire                         0.019966           -0.307407   \n",
       "RestaurantsReservations                   0.136435           -0.090902   \n",
       "OutdoorSeating                            0.042560            0.102809   \n",
       "RestaurantsDelivery                      -0.036458            0.163129   \n",
       "Alcohol                                   0.145181           -0.119299   \n",
       "HasTV                                     0.107209            0.161351   \n",
       "is_dt                                     0.033119           -0.179733   \n",
       "noise_loud                               -0.028559           -0.015963   \n",
       "quiet                                    -0.052442            0.068591   \n",
       "wifi_free                                 0.103840            0.132392   \n",
       "wifi_paid                                 0.008864           -0.058166   \n",
       "'dessert': True                           0.033519            0.067803   \n",
       "'latenight': True                         0.064992            0.092931   \n",
       "'lunch': True                             0.065615            0.281803   \n",
       "'dinner': True                            0.107907            0.028710   \n",
       "'breakfast': True                         0.020352            0.082596   \n",
       "'casual': True                            0.079009            0.020882   \n",
       "Nightlife                                 0.074664           -0.131253   \n",
       "Bars                                      0.089777           -0.078952   \n",
       "Fast Food                                -0.040877            0.143626   \n",
       "Burgers                                   0.033506            0.085145   \n",
       "Pizza                                    -0.104649            0.048302   \n",
       "Chinese                                   0.028463            0.053812   \n",
       "Mexican                                   0.018783            0.084465   \n",
       "Japanese                                  0.034484            0.015916   \n",
       "Italian                                   0.007603           -0.025787   \n",
       "Sandwiches                               -0.069633            0.097179   \n",
       "Seafood                                   0.011828           -0.040453   \n",
       "Breakfast & Brunch                        0.027394            0.043684   \n",
       "American                                  0.058109           -0.035384   \n",
       "\n",
       "                          GoodForKids  RestaurantsAttire  \\\n",
       "review_count                -0.090154           0.118132   \n",
       "stars                       -0.051903           0.090727   \n",
       "RestaurantsPriceRange2S     -0.411550           0.482854   \n",
       "RestaurantsGoodForGroups     0.027010           0.019966   \n",
       "RestaurantsTakeOut           0.261645          -0.307407   \n",
       "GoodForKids                  1.000000          -0.387605   \n",
       "RestaurantsAttire           -0.387605           1.000000   \n",
       "RestaurantsReservations     -0.260205           0.259800   \n",
       "OutdoorSeating              -0.008881          -0.003407   \n",
       "RestaurantsDelivery          0.125223          -0.076218   \n",
       "Alcohol                     -0.355715           0.188944   \n",
       "HasTV                       -0.119627          -0.053690   \n",
       "is_dt                       -0.173780           0.249415   \n",
       "noise_loud                  -0.090016           0.012599   \n",
       "quiet                        0.046413           0.022026   \n",
       "wifi_free                   -0.083313          -0.006088   \n",
       "wifi_paid                   -0.047199           0.007515   \n",
       "'dessert': True              0.069105          -0.037206   \n",
       "'latenight': True           -0.139899          -0.044403   \n",
       "'lunch': True                0.214804          -0.153258   \n",
       "'dinner': True              -0.130951           0.163344   \n",
       "'breakfast': True            0.091208          -0.067696   \n",
       "'casual': True               0.172691          -0.174695   \n",
       "Nightlife                   -0.405537           0.062738   \n",
       "Bars                        -0.331121           0.045770   \n",
       "Fast Food                    0.160074          -0.067565   \n",
       "Burgers                      0.059495          -0.055955   \n",
       "Pizza                        0.060557          -0.063109   \n",
       "Chinese                      0.075125          -0.009461   \n",
       "Mexican                      0.102105          -0.070821   \n",
       "Japanese                     0.006713           0.019606   \n",
       "Italian                     -0.048173           0.078526   \n",
       "Sandwiches                   0.099087          -0.054219   \n",
       "Seafood                     -0.070938           0.134150   \n",
       "Breakfast & Brunch           0.028510          -0.030065   \n",
       "American                    -0.218074           0.050253   \n",
       "\n",
       "                          RestaurantsReservations  OutdoorSeating  \\\n",
       "review_count                             0.203451        0.073367   \n",
       "stars                                    0.186904        0.118382   \n",
       "RestaurantsPriceRange2S                  0.499509        0.004554   \n",
       "RestaurantsGoodForGroups                 0.136435        0.042560   \n",
       "RestaurantsTakeOut                      -0.090902        0.102809   \n",
       "GoodForKids                             -0.260205       -0.008881   \n",
       "RestaurantsAttire                        0.259800       -0.003407   \n",
       "RestaurantsReservations                  1.000000        0.093982   \n",
       "OutdoorSeating                           0.093982        1.000000   \n",
       "RestaurantsDelivery                      0.027684        0.028647   \n",
       "Alcohol                                  0.496163        0.071608   \n",
       "HasTV                                    0.218514        0.102446   \n",
       "is_dt                                    0.152944       -0.023202   \n",
       "noise_loud                              -0.027195       -0.017277   \n",
       "quiet                                    0.027679       -0.041483   \n",
       "wifi_free                                0.164757        0.182432   \n",
       "wifi_paid                                0.008581        0.008454   \n",
       "'dessert': True                          0.069092        0.068376   \n",
       "'latenight': True                       -0.016721        0.021382   \n",
       "'lunch': True                           -0.010437        0.103443   \n",
       "'dinner': True                           0.393195        0.058240   \n",
       "'breakfast': True                       -0.135400        0.035371   \n",
       "'casual': True                          -0.052152        0.019412   \n",
       "Nightlife                                0.171351        0.069194   \n",
       "Bars                                     0.227041        0.068005   \n",
       "Fast Food                               -0.250234       -0.030267   \n",
       "Burgers                                 -0.103889        0.013854   \n",
       "Pizza                                   -0.051323       -0.005659   \n",
       "Chinese                                  0.036728       -0.095849   \n",
       "Mexican                                 -0.084632        0.034549   \n",
       "Japanese                                 0.167142       -0.058961   \n",
       "Italian                                  0.157535        0.075432   \n",
       "Sandwiches                              -0.158514        0.064419   \n",
       "Seafood                                  0.165492       -0.015878   \n",
       "Breakfast & Brunch                      -0.037394        0.099780   \n",
       "American                                 0.048288        0.059909   \n",
       "\n",
       "                          RestaurantsDelivery    ...      Burgers     Pizza  \\\n",
       "review_count                        -0.070240    ...     0.006394 -0.052370   \n",
       "stars                                0.087823    ...    -0.147990 -0.080689   \n",
       "RestaurantsPriceRange2S             -0.082040    ...    -0.107325 -0.006227   \n",
       "RestaurantsGoodForGroups            -0.036458    ...     0.033506 -0.104649   \n",
       "RestaurantsTakeOut                   0.163129    ...     0.085145  0.048302   \n",
       "GoodForKids                          0.125223    ...     0.059495  0.060557   \n",
       "RestaurantsAttire                   -0.076218    ...    -0.055955 -0.063109   \n",
       "RestaurantsReservations              0.027684    ...    -0.103889 -0.051323   \n",
       "OutdoorSeating                       0.028647    ...     0.013854 -0.005659   \n",
       "RestaurantsDelivery                  1.000000    ...    -0.084103  0.326741   \n",
       "Alcohol                             -0.123988    ...    -0.067533 -0.043454   \n",
       "HasTV                                0.096537    ...    -0.003987  0.050332   \n",
       "is_dt                               -0.157681    ...     0.015528 -0.028367   \n",
       "noise_loud                          -0.062161    ...     0.049720  0.009830   \n",
       "quiet                                0.192002    ...    -0.069831  0.026590   \n",
       "wifi_free                            0.058809    ...     0.081063 -0.023392   \n",
       "wifi_paid                           -0.041805    ...    -0.013285 -0.007049   \n",
       "'dessert': True                     -0.003618    ...     0.040396 -0.012570   \n",
       "'latenight': True                   -0.059886    ...     0.050731 -0.000093   \n",
       "'lunch': True                        0.138765    ...     0.045197  0.040628   \n",
       "'dinner': True                       0.052332    ...    -0.030206  0.027042   \n",
       "'breakfast': True                   -0.093869    ...     0.088034 -0.104396   \n",
       "'casual': True                      -0.005614    ...    -0.002450  0.011096   \n",
       "Nightlife                           -0.115642    ...    -0.018492 -0.043963   \n",
       "Bars                                -0.109735    ...    -0.052491 -0.082997   \n",
       "Fast Food                           -0.138238    ...     0.257299 -0.123165   \n",
       "Burgers                             -0.084103    ...     1.000000 -0.047402   \n",
       "Pizza                                0.326741    ...    -0.047402  1.000000   \n",
       "Chinese                              0.111747    ...    -0.085513 -0.093050   \n",
       "Mexican                             -0.105002    ...    -0.097410 -0.121359   \n",
       "Japanese                            -0.057350    ...    -0.075022 -0.083672   \n",
       "Italian                              0.113547    ...    -0.059724  0.313754   \n",
       "Sandwiches                           0.069649    ...     0.022035  0.020843   \n",
       "Seafood                             -0.026839    ...    -0.049177 -0.064590   \n",
       "Breakfast & Brunch                  -0.030533    ...     0.027725 -0.080257   \n",
       "American                            -0.124253    ...     0.078147 -0.108011   \n",
       "\n",
       "                           Chinese   Mexican  Japanese   Italian  Sandwiches  \\\n",
       "review_count             -0.023276 -0.052821  0.058531  0.022033   -0.039569   \n",
       "stars                    -0.056148  0.026996  0.107291  0.029426   -0.026238   \n",
       "RestaurantsPriceRange2S  -0.049463 -0.177249  0.119013  0.134132   -0.140009   \n",
       "RestaurantsGoodForGroups  0.028463  0.018783  0.034484  0.007603   -0.069633   \n",
       "RestaurantsTakeOut        0.053812  0.084465  0.015916 -0.025787    0.097179   \n",
       "GoodForKids               0.075125  0.102105  0.006713 -0.048173    0.099087   \n",
       "RestaurantsAttire        -0.009461 -0.070821  0.019606  0.078526   -0.054219   \n",
       "RestaurantsReservations   0.036728 -0.084632  0.167142  0.157535   -0.158514   \n",
       "OutdoorSeating           -0.095849  0.034549 -0.058961  0.075432    0.064419   \n",
       "RestaurantsDelivery       0.111747 -0.105002 -0.057350  0.113547    0.069649   \n",
       "Alcohol                  -0.045128 -0.062288  0.128563  0.133068   -0.169502   \n",
       "HasTV                    -0.036337  0.004085  0.038133  0.053955   -0.071424   \n",
       "is_dt                     0.004664 -0.079982 -0.005972  0.058253   -0.020617   \n",
       "noise_loud               -0.026098  0.008881 -0.029441 -0.013812    0.008122   \n",
       "quiet                     0.084655 -0.029703 -0.001058 -0.008409    0.020499   \n",
       "wifi_free                -0.045328 -0.090162 -0.007118  0.055539    0.008597   \n",
       "wifi_paid                 0.004235 -0.013373 -0.003225  0.007418   -0.007628   \n",
       "'dessert': True          -0.047097 -0.034398  0.020166  0.027068   -0.005835   \n",
       "'latenight': True        -0.049400  0.051542  0.001846 -0.017495   -0.062606   \n",
       "'lunch': True             0.077542  0.036073  0.044044 -0.002199    0.051128   \n",
       "'dinner': True            0.051400 -0.034489  0.155214  0.141487   -0.151093   \n",
       "'breakfast': True        -0.083630 -0.034340 -0.082841 -0.080234    0.045244   \n",
       "'casual': True            0.001284 -0.023105  0.040638 -0.013266    0.007110   \n",
       "Nightlife                -0.080189 -0.067152 -0.049426  0.031017   -0.090698   \n",
       "Bars                     -0.082175 -0.094040  0.238897 -0.013100   -0.072718   \n",
       "Fast Food                -0.023312  0.088010 -0.087000 -0.106640    0.146870   \n",
       "Burgers                  -0.085513 -0.097410 -0.075022 -0.059724    0.022035   \n",
       "Pizza                    -0.093050 -0.121359 -0.083672  0.313754    0.020843   \n",
       "Chinese                   1.000000 -0.099679  0.004263 -0.065938   -0.094010   \n",
       "Mexican                  -0.099679  1.000000 -0.085888 -0.087048   -0.124497   \n",
       "Japanese                  0.004263 -0.085888  1.000000 -0.058963   -0.084499   \n",
       "Italian                  -0.065938 -0.087048 -0.058963  1.000000   -0.042925   \n",
       "Sandwiches               -0.094010 -0.124497 -0.084499 -0.042925    1.000000   \n",
       "Seafood                   0.016247  0.011930 -0.013199  0.006572   -0.059995   \n",
       "Breakfast & Brunch       -0.066506 -0.060819 -0.063483 -0.040937    0.055086   \n",
       "American                 -0.127847 -0.116832 -0.117660 -0.073922   -0.036877   \n",
       "\n",
       "                           Seafood  Breakfast & Brunch  American  \n",
       "review_count              0.059520            0.142899  0.093439  \n",
       "stars                     0.067077            0.050902  0.030437  \n",
       "RestaurantsPriceRange2S   0.189615            0.007357  0.137249  \n",
       "RestaurantsGoodForGroups  0.011828            0.027394  0.058109  \n",
       "RestaurantsTakeOut       -0.040453            0.043684 -0.035384  \n",
       "GoodForKids              -0.070938            0.028510 -0.218074  \n",
       "RestaurantsAttire         0.134150           -0.030065  0.050253  \n",
       "RestaurantsReservations   0.165492           -0.037394  0.048288  \n",
       "OutdoorSeating           -0.015878            0.099780  0.059909  \n",
       "RestaurantsDelivery      -0.026839           -0.030533 -0.124253  \n",
       "Alcohol                   0.157230           -0.028097  0.234877  \n",
       "HasTV                     0.048202           -0.008830  0.165698  \n",
       "is_dt                     0.051111            0.027538  0.080811  \n",
       "noise_loud                0.000268           -0.040249  0.022649  \n",
       "quiet                    -0.022373           -0.006479 -0.082822  \n",
       "wifi_free                 0.039630            0.124897  0.161356  \n",
       "wifi_paid                -0.000218            0.023701  0.044514  \n",
       "'dessert': True           0.005917            0.024358  0.067732  \n",
       "'latenight': True        -0.024896            0.004754  0.149955  \n",
       "'lunch': True             0.000241            0.008301 -0.015444  \n",
       "'dinner': True            0.120762           -0.102234 -0.000880  \n",
       "'breakfast': True        -0.069148            0.416565  0.184234  \n",
       "'casual': True           -0.015416            0.053251  0.007700  \n",
       "Nightlife                -0.000540           -0.001294  0.293031  \n",
       "Bars                     -0.003482           -0.008616  0.216945  \n",
       "Fast Food                -0.067744           -0.090498 -0.113163  \n",
       "Burgers                  -0.049177            0.027725  0.078147  \n",
       "Pizza                    -0.064590           -0.080257 -0.108011  \n",
       "Chinese                   0.016247           -0.066506 -0.127847  \n",
       "Mexican                   0.011930           -0.060819 -0.116832  \n",
       "Japanese                 -0.013199           -0.063483 -0.117660  \n",
       "Italian                   0.006572           -0.040937 -0.073922  \n",
       "Sandwiches               -0.059995            0.055086 -0.036877  \n",
       "Seafood                   1.000000           -0.038610  0.024895  \n",
       "Breakfast & Brunch       -0.038610            1.000000  0.198243  \n",
       "American                  0.024895            0.198243  1.000000  \n",
       "\n",
       "[36 rows x 36 columns]"
      ]
     },
     "execution_count": 416,
     "metadata": {},
     "output_type": "execute_result"
    }
   ],
   "source": [
    "X.corr()"
   ]
  },
  {
   "cell_type": "markdown",
   "metadata": {},
   "source": [
    "### Dummy Predictor"
   ]
  },
  {
   "cell_type": "code",
   "execution_count": 417,
   "metadata": {
    "collapsed": false
   },
   "outputs": [
    {
     "data": {
      "text/plain": [
       "0.60613496932515343"
      ]
     },
     "execution_count": 417,
     "metadata": {},
     "output_type": "execute_result"
    }
   ],
   "source": [
    "DM = DummyClassifier(strategy='stratified', random_state=4444)\n",
    "\n",
    "DM.fit(X_train_std, Y_train)\n",
    "pred = DM.predict(X_test_std)\n",
    "score = accuracy_score(Y_test, pred)\n",
    "score"
   ]
  },
  {
   "cell_type": "code",
   "execution_count": 418,
   "metadata": {
    "collapsed": false
   },
   "outputs": [
    {
     "data": {
      "text/plain": [
       "0.73961937716262971"
      ]
     },
     "execution_count": 418,
     "metadata": {},
     "output_type": "execute_result"
    }
   ],
   "source": [
    "DM = DummyClassifier(strategy='stratified', random_state=4444)\n",
    "\n",
    "DM.fit(X_train_std, Y_train)\n",
    "pred = DM.predict(X_test_std)\n",
    "score = recall_score(Y_test, pred)\n",
    "score"
   ]
  },
  {
   "cell_type": "markdown",
   "metadata": {},
   "source": [
    "### Logistic Regression"
   ]
  },
  {
   "cell_type": "code",
   "execution_count": 419,
   "metadata": {
    "collapsed": false
   },
   "outputs": [
    {
     "data": {
      "text/plain": [
       "0.74355828220858899"
      ]
     },
     "execution_count": 419,
     "metadata": {},
     "output_type": "execute_result"
    }
   ],
   "source": [
    "# Out of Sample Using Default Setting - Accuracy\n",
    "\n",
    "LR = LogisticRegression('l1')\n",
    "\n",
    "LR.fit(X_train_std, Y_train)\n",
    "pred = LR.predict(X_test_std)\n",
    "score = accuracy_score(Y_test, pred)\n",
    "score"
   ]
  },
  {
   "cell_type": "code",
   "execution_count": 420,
   "metadata": {
    "collapsed": false
   },
   "outputs": [
    {
     "data": {
      "text/plain": [
       "0.74769797421731121"
      ]
     },
     "execution_count": 420,
     "metadata": {},
     "output_type": "execute_result"
    }
   ],
   "source": [
    "# In Sample Using Default Setting - Accuracy\n",
    "\n",
    "LR = LogisticRegression('l1')\n",
    "\n",
    "LR.fit(X_train_std, Y_train)\n",
    "\n",
    "pred = LR.predict(X_train_std)\n",
    "score = accuracy_score(Y_train, pred)\n",
    "score"
   ]
  },
  {
   "cell_type": "code",
   "execution_count": 421,
   "metadata": {
    "collapsed": false
   },
   "outputs": [
    {
     "data": {
      "text/plain": [
       "Index(['review_count', 'stars', 'RestaurantsPriceRange2S',\n",
       "       'RestaurantsGoodForGroups', 'RestaurantsTakeOut', 'GoodForKids',\n",
       "       'RestaurantsAttire', 'RestaurantsReservations', 'OutdoorSeating',\n",
       "       'RestaurantsDelivery', 'Alcohol', 'HasTV', 'is_dt', 'noise_loud',\n",
       "       'quiet', 'wifi_free', 'wifi_paid', ''dessert': True',\n",
       "       ''latenight': True', ''lunch': True', ''dinner': True',\n",
       "       ''breakfast': True', ''casual': True', 'Nightlife', 'Bars', 'Fast Food',\n",
       "       'Burgers', 'Pizza', 'Chinese', 'Mexican', 'Japanese', 'Italian',\n",
       "       'Sandwiches', 'Seafood', 'Breakfast & Brunch', 'American'],\n",
       "      dtype='object')"
      ]
     },
     "execution_count": 421,
     "metadata": {},
     "output_type": "execute_result"
    }
   ],
   "source": [
    "# ASK ABOUT HOW TO INTERPRET THE COEFF AND WHICH ONES TO DROP\n",
    "# Dropped RestaurantsTableServices\n",
    "\n",
    "X.columns"
   ]
  },
  {
   "cell_type": "code",
   "execution_count": 422,
   "metadata": {
    "collapsed": false
   },
   "outputs": [
    {
     "name": "stdout",
     "output_type": "stream",
     "text": [
      "{'solver': ['liblinear']}\n",
      "[mean: 0.74533, std: 0.01385, params: {'solver': 'liblinear'}]\n",
      "LogisticRegression(C=1.0, class_weight=None, dual=False, fit_intercept=True,\n",
      "          intercept_scaling=1, max_iter=100, multi_class='ovr', n_jobs=1,\n",
      "          penalty='l1', random_state=None, solver='liblinear', tol=0.0001,\n",
      "          verbose=0, warm_start=False)\n"
     ]
    },
    {
     "name": "stderr",
     "output_type": "stream",
     "text": [
      "//anaconda/lib/python3.5/site-packages/sklearn/model_selection/_search.py:667: DeprecationWarning: The grid_scores_ attribute was deprecated in version 0.18 in favor of the more elaborate cv_results_ attribute. The grid_scores_ attribute will not be available from 0.20\n",
      "  DeprecationWarning)\n"
     ]
    }
   ],
   "source": [
    "# GridSearchCV - Logistic Regression - with L1 penalty - Accuracy\n",
    "\n",
    "# define the parameter values that should be searched\n",
    "\n",
    "LR_1 = LogisticRegression(penalty='l1')\n",
    "\n",
    "param_grid_LR_1 = {\"solver\": [\"liblinear\"]}\n",
    "\n",
    "# create a parameter grid: map the parameter names to the values that should be searched\n",
    "print(param_grid_LR_1)\n",
    "\n",
    "# instantiate the grid\n",
    "grid_LR_1 = GridSearchCV(LR_1, param_grid_LR_1, cv=10, scoring='accuracy')\n",
    "grid_LR_1.fit(X_train_std, Y_train)\n",
    "print (grid_LR_1.grid_scores_)\n",
    "print (grid_LR_1.best_estimator_)"
   ]
  },
  {
   "cell_type": "code",
   "execution_count": 461,
   "metadata": {
    "collapsed": true
   },
   "outputs": [],
   "source": [
    "# Create a list of features and coefs\n",
    "i = []\n",
    "for n in list(range(36)):\n",
    "    i.append(X.columns[n])\n",
    "    i.append(grid_LR_1.best_estimator_.coef_[0][n])"
   ]
  },
  {
   "cell_type": "code",
   "execution_count": 462,
   "metadata": {
    "collapsed": false
   },
   "outputs": [
    {
     "data": {
      "text/plain": [
       "['review_count',\n",
       " 1.6796259633553636,\n",
       " 'stars',\n",
       " 0.016046647841766223,\n",
       " 'RestaurantsPriceRange2S',\n",
       " -0.0014136174164024096,\n",
       " 'RestaurantsGoodForGroups',\n",
       " -0.083467014425517086,\n",
       " 'RestaurantsTakeOut',\n",
       " 0.065855273898838426,\n",
       " 'GoodForKids',\n",
       " -0.038559377744888455,\n",
       " 'RestaurantsAttire',\n",
       " -0.10130848270734759,\n",
       " 'RestaurantsReservations',\n",
       " -0.24019537125987675,\n",
       " 'OutdoorSeating',\n",
       " -0.12651453293793954,\n",
       " 'RestaurantsDelivery',\n",
       " -0.025117876085646765,\n",
       " 'Alcohol',\n",
       " -0.15532795290311166,\n",
       " 'HasTV',\n",
       " 0.029384740555112795,\n",
       " 'is_dt',\n",
       " 0.028278272264585916,\n",
       " 'noise_loud',\n",
       " 0.011457301706683194,\n",
       " 'quiet',\n",
       " -0.086452768420441709,\n",
       " 'wifi_free',\n",
       " 0.20254911100867978,\n",
       " 'wifi_paid',\n",
       " 0.009279141818524626,\n",
       " \"'dessert': True\",\n",
       " 0.15070107352726309,\n",
       " \"'latenight': True\",\n",
       " 0.078410448220778264,\n",
       " \"'lunch': True\",\n",
       " 0.070398532275563225,\n",
       " \"'dinner': True\",\n",
       " 0.081619680299880065,\n",
       " \"'breakfast': True\",\n",
       " 0.12530781487762088,\n",
       " \"'casual': True\",\n",
       " -0.17424131573673546,\n",
       " 'Nightlife',\n",
       " 0.21342636330047504,\n",
       " 'Bars',\n",
       " 0.022050521323724131,\n",
       " 'Fast Food',\n",
       " 0.5544480101861643,\n",
       " 'Burgers',\n",
       " -0.046353880363286561,\n",
       " 'Pizza',\n",
       " 0.17274839420009444,\n",
       " 'Chinese',\n",
       " 0.065623140621783635,\n",
       " 'Mexican',\n",
       " 0.15478972866888965,\n",
       " 'Japanese',\n",
       " -0.066051049211714508,\n",
       " 'Italian',\n",
       " -0.092850110952429468,\n",
       " 'Sandwiches',\n",
       " 0.1668041807049824,\n",
       " 'Seafood',\n",
       " 0.05278048044085866,\n",
       " 'Breakfast & Brunch',\n",
       " 0.028901964932381598,\n",
       " 'American',\n",
       " 0.0044602078270046686]"
      ]
     },
     "execution_count": 462,
     "metadata": {},
     "output_type": "execute_result"
    }
   ],
   "source": [
    "i"
   ]
  },
  {
   "cell_type": "code",
   "execution_count": 458,
   "metadata": {
    "collapsed": false
   },
   "outputs": [
    {
     "data": {
      "text/plain": [
       "0.016046647841766223"
      ]
     },
     "execution_count": 458,
     "metadata": {},
     "output_type": "execute_result"
    }
   ],
   "source": [
    "# Coef for the param tuned logit reg\n",
    "\n",
    "grid_LR_1.best_estimator_.coef_[0][1]"
   ]
  },
  {
   "cell_type": "code",
   "execution_count": 424,
   "metadata": {
    "collapsed": false
   },
   "outputs": [
    {
     "data": {
      "text/plain": [
       "0.74355828220858899"
      ]
     },
     "execution_count": 424,
     "metadata": {},
     "output_type": "execute_result"
    }
   ],
   "source": [
    "# OUT OF SAMPLE ACCURACY FOR BEST LOGIT L1 MODEL\n",
    "\n",
    "pred_OLR = grid_LR_1.best_estimator_.predict(X_test_std)\n",
    "score = accuracy_score(Y_test, pred_OLR)\n",
    "score"
   ]
  },
  {
   "cell_type": "code",
   "execution_count": 474,
   "metadata": {
    "collapsed": false
   },
   "outputs": [
    {
     "data": {
      "text/plain": [
       "0.7471717968955538"
      ]
     },
     "execution_count": 474,
     "metadata": {},
     "output_type": "execute_result"
    }
   ],
   "source": [
    "# In Sample Using Default Setting - Accuracy for L2\n",
    "\n",
    "LR = LogisticRegression('l2')\n",
    "\n",
    "LR.fit(X_train_std, Y_train)\n",
    "\n",
    "pred = LR.predict(X_train_std)\n",
    "score = accuracy_score(Y_train, pred)\n",
    "score"
   ]
  },
  {
   "cell_type": "code",
   "execution_count": 425,
   "metadata": {
    "collapsed": false
   },
   "outputs": [
    {
     "name": "stdout",
     "output_type": "stream",
     "text": [
      "{'solver': ['newton-cg', 'lbfgs', 'liblinear', 'sag']}\n"
     ]
    },
    {
     "name": "stderr",
     "output_type": "stream",
     "text": [
      "//anaconda/lib/python3.5/site-packages/sklearn/model_selection/_search.py:667: DeprecationWarning: The grid_scores_ attribute was deprecated in version 0.18 in favor of the more elaborate cv_results_ attribute. The grid_scores_ attribute will not be available from 0.20\n",
      "  DeprecationWarning)\n"
     ]
    },
    {
     "data": {
      "text/plain": [
       "[mean: 0.74401, std: 0.01380, params: {'solver': 'newton-cg'},\n",
       " mean: 0.74401, std: 0.01380, params: {'solver': 'lbfgs'},\n",
       " mean: 0.74401, std: 0.01380, params: {'solver': 'liblinear'},\n",
       " mean: 0.74401, std: 0.01380, params: {'solver': 'sag'}]"
      ]
     },
     "execution_count": 425,
     "metadata": {},
     "output_type": "execute_result"
    }
   ],
   "source": [
    "# GridSearchCV - Logistic Regression - with L2 penalty\n",
    "\n",
    "# define the parameter values that should be searched\n",
    "\n",
    "LR_2 = LogisticRegression(penalty='l2')\n",
    "\n",
    "param_grid_LR_2 = {\"solver\": [\"newton-cg\", \"lbfgs\", \"liblinear\", \"sag\"]}\n",
    "\n",
    "# create a parameter grid: map the parameter names to the values that should be searched\n",
    "print(param_grid_LR_2)\n",
    "\n",
    "# instantiate the grid\n",
    "grid_LR_2 = GridSearchCV(LR_2, param_grid_LR_2, cv=10, scoring='accuracy')\n",
    "grid_LR_2.fit(X_train_std, Y_train)\n",
    "\n",
    "grid_LR_2.grid_scores_"
   ]
  },
  {
   "cell_type": "code",
   "execution_count": 426,
   "metadata": {
    "collapsed": false
   },
   "outputs": [
    {
     "data": {
      "text/plain": [
       "array([[ 1.66435813,  0.01912561, -0.00193546, -0.08512675,  0.06622729,\n",
       "        -0.04124232, -0.1033214 , -0.24063271, -0.12823563, -0.027567  ,\n",
       "        -0.15875221,  0.03116689,  0.0316517 ,  0.01236108, -0.08853683,\n",
       "         0.20431156,  0.01057499,  0.15294654,  0.07943886,  0.07202636,\n",
       "         0.08711849,  0.12690873, -0.17622797,  0.21235109,  0.02502965,\n",
       "         0.55767186, -0.04876397,  0.17606073,  0.0682865 ,  0.15669802,\n",
       "        -0.06765057, -0.09430475,  0.16905117,  0.0546751 ,  0.03127055,\n",
       "         0.00580291]])"
      ]
     },
     "execution_count": 426,
     "metadata": {},
     "output_type": "execute_result"
    }
   ],
   "source": [
    "grid_LR_2.best_estimator_.coef_"
   ]
  },
  {
   "cell_type": "markdown",
   "metadata": {},
   "source": [
    "### KNN model"
   ]
  },
  {
   "cell_type": "code",
   "execution_count": 427,
   "metadata": {
    "collapsed": false
   },
   "outputs": [
    {
     "data": {
      "text/plain": [
       "0.70490797546012274"
      ]
     },
     "execution_count": 427,
     "metadata": {},
     "output_type": "execute_result"
    }
   ],
   "source": [
    "# Out of Sample Using Default Setting\n",
    "\n",
    "KNN = KNeighborsClassifier()\n",
    "\n",
    "KNN.fit(X_train_std, Y_train)\n",
    "\n",
    "pred = KNN.predict(X_test_std)\n",
    "score = accuracy_score(Y_test, pred)\n",
    "score"
   ]
  },
  {
   "cell_type": "code",
   "execution_count": 428,
   "metadata": {
    "collapsed": false
   },
   "outputs": [
    {
     "data": {
      "text/plain": [
       "0.79952644041041832"
      ]
     },
     "execution_count": 428,
     "metadata": {},
     "output_type": "execute_result"
    }
   ],
   "source": [
    "# In Sample Using Default Setting\n",
    "\n",
    "KNN = KNeighborsClassifier()\n",
    "\n",
    "KNN.fit(X_train_std, Y_train)\n",
    "\n",
    "pred = KNN.predict(X_train_std)\n",
    "score = accuracy_score(Y_train, pred)\n",
    "score"
   ]
  },
  {
   "cell_type": "code",
   "execution_count": 429,
   "metadata": {
    "collapsed": false
   },
   "outputs": [
    {
     "name": "stdout",
     "output_type": "stream",
     "text": [
      "[1, 2, 3, 4, 5, 6, 7, 8, 9, 10, 11, 12, 13, 14, 15, 16, 17, 18, 19, 20, 21, 22, 23, 24, 25, 26, 27, 28, 29, 30, 31, 32, 33, 34, 35, 36, 37, 38, 39, 40, 41, 42, 43, 44, 45, 46, 47, 48, 49, 50]\n",
      "{'n_neighbors': [1, 2, 3, 4, 5, 6, 7, 8, 9, 10, 11, 12, 13, 14, 15, 16, 17, 18, 19, 20, 21, 22, 23, 24, 25, 26, 27, 28, 29, 30, 31, 32, 33, 34, 35, 36, 37, 38, 39, 40, 41, 42, 43, 44, 45, 46, 47, 48, 49, 50]}\n"
     ]
    },
    {
     "name": "stderr",
     "output_type": "stream",
     "text": [
      "//anaconda/lib/python3.5/site-packages/sklearn/model_selection/_search.py:667: DeprecationWarning: The grid_scores_ attribute was deprecated in version 0.18 in favor of the more elaborate cv_results_ attribute. The grid_scores_ attribute will not be available from 0.20\n",
      "  DeprecationWarning)\n"
     ]
    },
    {
     "data": {
      "text/plain": [
       "[mean: 0.72902, std: 0.01096, params: {'n_neighbors': 45},\n",
       " mean: 0.72823, std: 0.00820, params: {'n_neighbors': 46},\n",
       " mean: 0.72744, std: 0.01156, params: {'n_neighbors': 39}]"
      ]
     },
     "execution_count": 429,
     "metadata": {},
     "output_type": "execute_result"
    }
   ],
   "source": [
    "# GridSearchCV\n",
    "\n",
    "# define the parameter values that should be searched\n",
    "k_range_KNN = list(range(1, 51))\n",
    "print(k_range_KNN)\n",
    "\n",
    "# create a parameter grid: map the parameter names to the values that should be searched\n",
    "param_grid_KNN = dict(n_neighbors=k_range_KNN)\n",
    "print(param_grid_KNN)\n",
    "\n",
    "# instantiate the grid\n",
    "grid_KNN = GridSearchCV(KNN, param_grid_KNN, cv=10, scoring='accuracy')\n",
    "grid_KNN.fit(X_train_std, Y_train)\n",
    "\n",
    "sorted(grid_KNN.grid_scores_, key = lambda x: x[1], reverse = True)[:3]"
   ]
  },
  {
   "cell_type": "code",
   "execution_count": 430,
   "metadata": {
    "collapsed": false
   },
   "outputs": [
    {
     "data": {
      "text/plain": [
       "0.73067484662576687"
      ]
     },
     "execution_count": 430,
     "metadata": {},
     "output_type": "execute_result"
    }
   ],
   "source": [
    "# OUT OF SAMPLE ACCURACY FOR BEST KNN MODEL\n",
    "\n",
    "pred_KNN = grid_KNN.best_estimator_.predict(X_test_std)\n",
    "score = accuracy_score(Y_test, pred_KNN)\n",
    "score"
   ]
  },
  {
   "cell_type": "markdown",
   "metadata": {},
   "source": [
    "### Gaussian Naive Bayes model"
   ]
  },
  {
   "cell_type": "code",
   "execution_count": 431,
   "metadata": {
    "collapsed": false
   },
   "outputs": [
    {
     "data": {
      "text/plain": [
       "0.61349693251533743"
      ]
     },
     "execution_count": 431,
     "metadata": {},
     "output_type": "execute_result"
    }
   ],
   "source": [
    "# Out of Sample Using Default Setting\n",
    "\n",
    "NB = GaussianNB()\n",
    "\n",
    "NB.fit(X_train_std, Y_train)\n",
    "\n",
    "pred = NB.predict(X_test_std)\n",
    "score = accuracy_score(Y_test, pred)\n",
    "score"
   ]
  },
  {
   "cell_type": "code",
   "execution_count": 432,
   "metadata": {
    "collapsed": false
   },
   "outputs": [
    {
     "data": {
      "text/plain": [
       "0.61168113654301504"
      ]
     },
     "execution_count": 432,
     "metadata": {},
     "output_type": "execute_result"
    }
   ],
   "source": [
    "# In Sample Using Default Setting\n",
    "\n",
    "NB = GaussianNB()\n",
    "\n",
    "NB.fit(X_train_std, Y_train)\n",
    "\n",
    "pred = NB.predict(X_train_std)\n",
    "score = accuracy_score(Y_train, pred)\n",
    "score"
   ]
  },
  {
   "cell_type": "code",
   "execution_count": 433,
   "metadata": {
    "collapsed": true
   },
   "outputs": [],
   "source": [
    "# GridSearchCV - NO PARAMETER TUNING"
   ]
  },
  {
   "cell_type": "markdown",
   "metadata": {},
   "source": [
    "### Bernoulli Naive Bayes model"
   ]
  },
  {
   "cell_type": "code",
   "execution_count": 434,
   "metadata": {
    "collapsed": false
   },
   "outputs": [
    {
     "data": {
      "text/plain": [
       "0.71840490797546008"
      ]
     },
     "execution_count": 434,
     "metadata": {},
     "output_type": "execute_result"
    }
   ],
   "source": [
    "# Out of Sample Using Default Setting\n",
    "\n",
    "BNB = BernoulliNB()\n",
    "\n",
    "BNB.fit(X_train_std, Y_train)\n",
    "\n",
    "pred = BNB.predict(X_test_std)\n",
    "score = accuracy_score(Y_test, pred)\n",
    "score"
   ]
  },
  {
   "cell_type": "code",
   "execution_count": 435,
   "metadata": {
    "collapsed": false
   },
   "outputs": [
    {
     "data": {
      "text/plain": [
       "0.7250723493817417"
      ]
     },
     "execution_count": 435,
     "metadata": {},
     "output_type": "execute_result"
    }
   ],
   "source": [
    "# In Sample Using Default Setting\n",
    "\n",
    "BNB = BernoulliNB()\n",
    "\n",
    "BNB.fit(X_train_std, Y_train)\n",
    "\n",
    "pred = BNB.predict(X_train_std)\n",
    "score = accuracy_score(Y_train, pred)\n",
    "score"
   ]
  },
  {
   "cell_type": "code",
   "execution_count": 436,
   "metadata": {
    "collapsed": false
   },
   "outputs": [
    {
     "name": "stdout",
     "output_type": "stream",
     "text": [
      "{'alpha': [0, 0.1, 0.2, 0.3, 0.4, 0.5, 0.6, 0.7, 0.8, 0.9, 1]}\n"
     ]
    },
    {
     "name": "stderr",
     "output_type": "stream",
     "text": [
      "//anaconda/lib/python3.5/site-packages/sklearn/model_selection/_search.py:667: DeprecationWarning: The grid_scores_ attribute was deprecated in version 0.18 in favor of the more elaborate cv_results_ attribute. The grid_scores_ attribute will not be available from 0.20\n",
      "  DeprecationWarning)\n"
     ]
    },
    {
     "data": {
      "text/plain": [
       "[mean: 0.72192, std: 0.01346, params: {'alpha': 0.1},\n",
       " mean: 0.72165, std: 0.01321, params: {'alpha': 0.2},\n",
       " mean: 0.72139, std: 0.01369, params: {'alpha': 0},\n",
       " mean: 0.72139, std: 0.01338, params: {'alpha': 0.3},\n",
       " mean: 0.72139, std: 0.01260, params: {'alpha': 0.4}]"
      ]
     },
     "execution_count": 436,
     "metadata": {},
     "output_type": "execute_result"
    }
   ],
   "source": [
    "# GridSearchCV - Bernoulli Naive Bayes\n",
    "\n",
    "# define the parameter values that should be searched\n",
    "\n",
    "BNB = BernoulliNB()\n",
    "\n",
    "param_grid_BNB = {\"alpha\": [0, 0.1, 0.2, 0.3, 0.4, 0.5, 0.6, 0.7, 0.8, 0.9, 1]}\n",
    "\n",
    "# create a parameter grid: map the parameter names to the values that should be searched\n",
    "print(param_grid_BNB)\n",
    "\n",
    "# instantiate the grid\n",
    "grid_BNB = GridSearchCV(BNB, param_grid_BNB, cv=10, scoring='accuracy')\n",
    "grid_BNB.fit(X_train_std, Y_train)\n",
    "\n",
    "sorted(grid_BNB.grid_scores_, key = lambda x: x[1], reverse = True)[:5]"
   ]
  },
  {
   "cell_type": "code",
   "execution_count": 437,
   "metadata": {
    "collapsed": false
   },
   "outputs": [
    {
     "data": {
      "text/plain": [
       "0.71840490797546008"
      ]
     },
     "execution_count": 437,
     "metadata": {},
     "output_type": "execute_result"
    }
   ],
   "source": [
    "# OUT OF SAMPLE ACCURACY FOR BEST BNB MODEL\n",
    "\n",
    "pred_BNB = grid_BNB.best_estimator_.predict(X_test_std)\n",
    "score = accuracy_score(Y_test, pred_BNB)\n",
    "score"
   ]
  },
  {
   "cell_type": "markdown",
   "metadata": {},
   "source": [
    "### Support Vector Machine model"
   ]
  },
  {
   "cell_type": "code",
   "execution_count": 438,
   "metadata": {
    "collapsed": false
   },
   "outputs": [
    {
     "data": {
      "text/plain": [
       "0.73987730061349688"
      ]
     },
     "execution_count": 438,
     "metadata": {},
     "output_type": "execute_result"
    }
   ],
   "source": [
    "# Out of Sample with default setting\n",
    "\n",
    "SVM = SVC()\n",
    "\n",
    "SVM.fit(X_train_std, Y_train)\n",
    "\n",
    "pred = SVM.predict(X_test_std)\n",
    "score = accuracy_score(Y_test, pred)\n",
    "score"
   ]
  },
  {
   "cell_type": "code",
   "execution_count": 439,
   "metadata": {
    "collapsed": false
   },
   "outputs": [
    {
     "data": {
      "text/plain": [
       "0.80347277032359909"
      ]
     },
     "execution_count": 439,
     "metadata": {},
     "output_type": "execute_result"
    }
   ],
   "source": [
    "# In Sample with default setting\n",
    "\n",
    "SVM = SVC()\n",
    "\n",
    "SVM.fit(X_train_std, Y_train)\n",
    "\n",
    "pred = SVM.predict(X_train_std)\n",
    "score = accuracy_score(Y_train, pred)\n",
    "score"
   ]
  },
  {
   "cell_type": "code",
   "execution_count": 440,
   "metadata": {
    "collapsed": false
   },
   "outputs": [
    {
     "name": "stdout",
     "output_type": "stream",
     "text": [
      "{'kernel': ['linear', 'poly', 'rbf', 'sigmoid'], 'C': [1, 10, 100]}\n"
     ]
    },
    {
     "name": "stderr",
     "output_type": "stream",
     "text": [
      "//anaconda/lib/python3.5/site-packages/sklearn/model_selection/_search.py:667: DeprecationWarning: The grid_scores_ attribute was deprecated in version 0.18 in favor of the more elaborate cv_results_ attribute. The grid_scores_ attribute will not be available from 0.20\n",
      "  DeprecationWarning)\n"
     ]
    },
    {
     "data": {
      "text/plain": [
       "[mean: 0.75164, std: 0.01410, params: {'kernel': 'rbf', 'C': 1},\n",
       " mean: 0.72954, std: 0.01065, params: {'kernel': 'linear', 'C': 10},\n",
       " mean: 0.72902, std: 0.01746, params: {'kernel': 'rbf', 'C': 10},\n",
       " mean: 0.72823, std: 0.01089, params: {'kernel': 'linear', 'C': 100},\n",
       " mean: 0.72770, std: 0.00828, params: {'kernel': 'linear', 'C': 1}]"
      ]
     },
     "execution_count": 440,
     "metadata": {},
     "output_type": "execute_result"
    }
   ],
   "source": [
    "# GridSearchCV - SVC\n",
    "\n",
    "# define the parameter values that should be searched\n",
    "\n",
    "SVM = SVC()\n",
    "\n",
    "param_grid_SVM = {\"C\": [1, 10, 100],\n",
    "                 \"kernel\": [\"linear\", \"poly\", \"rbf\", \"sigmoid\"]\n",
    "                 }\n",
    "\n",
    "# create a parameter grid: map the parameter names to the values that should be searched\n",
    "print(param_grid_SVM)\n",
    "\n",
    "# instantiate the grid\n",
    "grid_SVM = GridSearchCV(SVM, param_grid_SVM, cv=10, scoring='accuracy')\n",
    "grid_SVM.fit(X_train_std, Y_train)\n",
    "\n",
    "sorted(grid_SVM.grid_scores_, key = lambda x: x[1], reverse = True)[:5]"
   ]
  },
  {
   "cell_type": "code",
   "execution_count": 441,
   "metadata": {
    "collapsed": false
   },
   "outputs": [
    {
     "data": {
      "text/plain": [
       "0.73987730061349688"
      ]
     },
     "execution_count": 441,
     "metadata": {},
     "output_type": "execute_result"
    }
   ],
   "source": [
    "# OUT OF SAMPLE ACCURACY FOR BEST SVM MODEL\n",
    "\n",
    "pred_SVM = grid_SVM.best_estimator_.predict(X_test_std)\n",
    "score = accuracy_score(Y_test, pred_SVM)\n",
    "score"
   ]
  },
  {
   "cell_type": "markdown",
   "metadata": {},
   "source": [
    "### Decision Tree Model"
   ]
  },
  {
   "cell_type": "code",
   "execution_count": 442,
   "metadata": {
    "collapsed": true
   },
   "outputs": [],
   "source": [
    "# Dataset for decision tree - want to include all dummy vairables\n",
    "\n",
    "Y_dt = dfm['is_open']\n",
    "\n",
    "X_dt = dfm[[\"review_count\", \"stars\", \"RestaurantsPriceRange2\",\\\n",
    "\"RestaurantsGoodForGroups\", \"RestaurantsTakeOut\", \"GoodForKids\", \"RestaurantsAttire\",\\\n",
    "\"RestaurantsReservations\", \"OutdoorSeating\", \"RestaurantsDelivery\", \"Alcohol\", \"HasTV\",\\\n",
    "\"RestaurantsTableService\", \"is_dt\", \"noise_average\", \"noise_loud\", \"quiet\", \"wifi_no\", \"wifi_free\", \"wifi_paid\",\\\n",
    "\"'dessert': True\", \"'latenight': True\", \"'lunch': True\", \"'dinner': True\",\\\n",
    "\"'breakfast': True\", \"'casual': True\", \"Nightlife\", \"Bars\", \"Fast Food\", \"Burgers\",\\\n",
    "\"Pizza\", \"Chinese\", \"Mexican\", \"Japanese\", \"Italian\", \"Sandwiches\", \"Seafood\",\\\n",
    "\"Breakfast & Brunch\", \"American\"]]"
   ]
  },
  {
   "cell_type": "code",
   "execution_count": 443,
   "metadata": {
    "collapsed": true
   },
   "outputs": [],
   "source": [
    "X_train_dt, X_test_dt, Y_train_dt, Y_test_dt = train_test_split(X_dt, Y_dt, test_size = 0.3, random_state = 4444)"
   ]
  },
  {
   "cell_type": "code",
   "execution_count": 444,
   "metadata": {
    "collapsed": true
   },
   "outputs": [],
   "source": [
    "# Scale data set for decision tree\n",
    "\n",
    "stdsc = preprocessing.StandardScaler()\n",
    "\n",
    "X_train_dt_std = stdsc.fit_transform(X_train_dt)\n",
    "X_test_dt_std = stdsc.fit_transform(X_test_dt)"
   ]
  },
  {
   "cell_type": "markdown",
   "metadata": {},
   "source": [
    "#### Decision Tree model with Gini"
   ]
  },
  {
   "cell_type": "code",
   "execution_count": 445,
   "metadata": {
    "collapsed": false
   },
   "outputs": [
    {
     "data": {
      "text/plain": [
       "0.65460122699386503"
      ]
     },
     "execution_count": 445,
     "metadata": {},
     "output_type": "execute_result"
    }
   ],
   "source": [
    "# Out of Sample\n",
    "\n",
    "DT = DecisionTreeClassifier()\n",
    "\n",
    "DT.fit(X_train_dt_std, Y_train)\n",
    "\n",
    "pred = DT.predict(X_test_dt_std)\n",
    "score = accuracy_score(Y_test, pred)\n",
    "score"
   ]
  },
  {
   "cell_type": "code",
   "execution_count": 446,
   "metadata": {
    "collapsed": false
   },
   "outputs": [
    {
     "data": {
      "text/plain": [
       "0.99973691133912124"
      ]
     },
     "execution_count": 446,
     "metadata": {},
     "output_type": "execute_result"
    }
   ],
   "source": [
    "# In Sample\n",
    "\n",
    "DT = DecisionTreeClassifier()\n",
    "\n",
    "DT.fit(X_train_dt_std, Y_train)\n",
    "\n",
    "pred = DT.predict(X_train_dt_std)\n",
    "score = accuracy_score(Y_train, pred)\n",
    "score"
   ]
  },
  {
   "cell_type": "code",
   "execution_count": 447,
   "metadata": {
    "collapsed": false
   },
   "outputs": [
    {
     "name": "stdout",
     "output_type": "stream",
     "text": [
      "{'criterion': ['gini', 'entropy'], 'max_depth': [3, 4, 5, 6, 7, 8, 9, 10, None], 'min_samples_leaf': [1, 2, 3, 4, 5], 'class_weight': ['balanced']}\n"
     ]
    },
    {
     "name": "stderr",
     "output_type": "stream",
     "text": [
      "//anaconda/lib/python3.5/site-packages/sklearn/model_selection/_search.py:667: DeprecationWarning: The grid_scores_ attribute was deprecated in version 0.18 in favor of the more elaborate cv_results_ attribute. The grid_scores_ attribute will not be available from 0.20\n",
      "  DeprecationWarning)\n"
     ]
    },
    {
     "data": {
      "text/plain": [
       "[mean: 0.71534, std: 0.01516, params: {'criterion': 'gini', 'max_depth': None, 'min_samples_leaf': 1, 'class_weight': 'balanced'},\n",
       " mean: 0.71534, std: 0.01209, params: {'criterion': 'entropy', 'max_depth': None, 'min_samples_leaf': 1, 'class_weight': 'balanced'},\n",
       " mean: 0.69113, std: 0.02024, params: {'criterion': 'entropy', 'max_depth': None, 'min_samples_leaf': 2, 'class_weight': 'balanced'},\n",
       " mean: 0.68640, std: 0.01971, params: {'criterion': 'entropy', 'max_depth': None, 'min_samples_leaf': 4, 'class_weight': 'balanced'},\n",
       " mean: 0.68587, std: 0.01763, params: {'criterion': 'gini', 'max_depth': None, 'min_samples_leaf': 4, 'class_weight': 'balanced'}]"
      ]
     },
     "execution_count": 447,
     "metadata": {},
     "output_type": "execute_result"
    }
   ],
   "source": [
    "# GridSearchCV - Decision Tree\n",
    "\n",
    "# define the parameter values that should be searched\n",
    "\n",
    "DT = DecisionTreeClassifier()\n",
    "\n",
    "param_grid_DT = {\"criterion\": [\"gini\", \"entropy\"],\n",
    "                \"max_depth\": [3,4,5,6,7,8,9,10, None],\n",
    "                \"min_samples_leaf\": [1,2,3,4,5],\n",
    "                \"class_weight\": [\"balanced\"]}\n",
    "\n",
    "# create a parameter grid: map the parameter names to the values that should be searched\n",
    "print(param_grid_DT)\n",
    "\n",
    "# instantiate the grid\n",
    "grid_DT = GridSearchCV(DT, param_grid_DT, cv=10, scoring='accuracy')\n",
    "grid_DT.fit(X_train_dt_std, Y_train)\n",
    "\n",
    "sorted(grid_DT.grid_scores_, key = lambda x: x[1], reverse = True)[:5]"
   ]
  },
  {
   "cell_type": "code",
   "execution_count": 448,
   "metadata": {
    "collapsed": false
   },
   "outputs": [
    {
     "data": {
      "text/plain": [
       "0.55950920245398772"
      ]
     },
     "execution_count": 448,
     "metadata": {},
     "output_type": "execute_result"
    }
   ],
   "source": [
    "# OUT OF SAMPLE ACCURACY FOR BEST DECISION TREE MODEL\n",
    "\n",
    "pred_DT = grid_DT.best_estimator_.predict(X_test_dt)\n",
    "score = accuracy_score(Y_test_dt, pred_DT)\n",
    "score"
   ]
  },
  {
   "cell_type": "markdown",
   "metadata": {},
   "source": [
    "####  Random Forest Model with Gini"
   ]
  },
  {
   "cell_type": "code",
   "execution_count": 464,
   "metadata": {
    "collapsed": false
   },
   "outputs": [
    {
     "data": {
      "text/plain": [
       "0.71717791411042942"
      ]
     },
     "execution_count": 464,
     "metadata": {},
     "output_type": "execute_result"
    }
   ],
   "source": [
    "# Out of Sample\n",
    "\n",
    "RF = RandomForestClassifier()\n",
    "\n",
    "RF.fit(X_train_dt_std, Y_train)\n",
    "\n",
    "pred = RF.predict(X_test_dt_std)\n",
    "score = accuracy_score(Y_test, pred)\n",
    "score"
   ]
  },
  {
   "cell_type": "code",
   "execution_count": 465,
   "metadata": {
    "collapsed": false
   },
   "outputs": [
    {
     "data": {
      "text/plain": [
       "0.98973954222573002"
      ]
     },
     "execution_count": 465,
     "metadata": {},
     "output_type": "execute_result"
    }
   ],
   "source": [
    "# In Sample\n",
    "\n",
    "RF = RandomForestClassifier()\n",
    "\n",
    "RF.fit(X_train_dt_std, Y_train)\n",
    "\n",
    "pred = RF.predict(X_train_dt_std)\n",
    "score = accuracy_score(Y_train, pred)\n",
    "score"
   ]
  },
  {
   "cell_type": "markdown",
   "metadata": {},
   "source": [
    "Overfitting under default since in sample accuracy is much higher than out of sample"
   ]
  },
  {
   "cell_type": "markdown",
   "metadata": {},
   "source": [
    "####  Random Forest Model with Entropy"
   ]
  },
  {
   "cell_type": "code",
   "execution_count": 466,
   "metadata": {
    "collapsed": false
   },
   "outputs": [
    {
     "data": {
      "text/plain": [
       "0.73067484662576687"
      ]
     },
     "execution_count": 466,
     "metadata": {},
     "output_type": "execute_result"
    }
   ],
   "source": [
    "# Out of Sample\n",
    "\n",
    "RF = RandomForestClassifier(criterion='entropy')\n",
    "\n",
    "RF.fit(X_train_dt_std, Y_train)\n",
    "\n",
    "pred = RF.predict(X_test_dt_std)\n",
    "score = accuracy_score(Y_test, pred)\n",
    "score"
   ]
  },
  {
   "cell_type": "code",
   "execution_count": 467,
   "metadata": {
    "collapsed": false
   },
   "outputs": [
    {
     "data": {
      "text/plain": [
       "0.98526703499079193"
      ]
     },
     "execution_count": 467,
     "metadata": {},
     "output_type": "execute_result"
    }
   ],
   "source": [
    "# In Sample\n",
    "\n",
    "RF = RandomForestClassifier(criterion='entropy')\n",
    "\n",
    "RF.fit(X_train_dt_std, Y_train)\n",
    "\n",
    "pred = RF.predict(X_train_dt_std)\n",
    "score = accuracy_score(Y_train, pred)\n",
    "score"
   ]
  },
  {
   "cell_type": "code",
   "execution_count": 468,
   "metadata": {
    "collapsed": false
   },
   "outputs": [
    {
     "name": "stdout",
     "output_type": "stream",
     "text": [
      "{'criterion': ['gini', 'entropy'], 'n_estimators': [5, 10, 20, 100], 'max_depth': [3, 4, 5, 6, 7, 8, 9, 10, None], 'min_samples_leaf': [1, 2, 3, 4, 5], 'class_weight': ['balanced']}\n"
     ]
    },
    {
     "name": "stderr",
     "output_type": "stream",
     "text": [
      "//anaconda/lib/python3.5/site-packages/sklearn/model_selection/_search.py:667: DeprecationWarning: The grid_scores_ attribute was deprecated in version 0.18 in favor of the more elaborate cv_results_ attribute. The grid_scores_ attribute will not be available from 0.20\n",
      "  DeprecationWarning)\n"
     ]
    },
    {
     "data": {
      "text/plain": [
       "[mean: 0.76585, std: 0.01240, params: {'criterion': 'gini', 'n_estimators': 100, 'max_depth': None, 'min_samples_leaf': 1, 'class_weight': 'balanced'},\n",
       " mean: 0.76427, std: 0.01418, params: {'criterion': 'entropy', 'n_estimators': 100, 'max_depth': None, 'min_samples_leaf': 1, 'class_weight': 'balanced'},\n",
       " mean: 0.76190, std: 0.01813, params: {'criterion': 'gini', 'n_estimators': 100, 'max_depth': None, 'min_samples_leaf': 2, 'class_weight': 'balanced'},\n",
       " mean: 0.76112, std: 0.00720, params: {'criterion': 'entropy', 'n_estimators': 20, 'max_depth': None, 'min_samples_leaf': 1, 'class_weight': 'balanced'},\n",
       " mean: 0.76059, std: 0.01684, params: {'criterion': 'gini', 'n_estimators': 20, 'max_depth': None, 'min_samples_leaf': 1, 'class_weight': 'balanced'}]"
      ]
     },
     "execution_count": 468,
     "metadata": {},
     "output_type": "execute_result"
    }
   ],
   "source": [
    "# GridSearch - Random Forest\n",
    "\n",
    "RF = RandomForestClassifier()\n",
    "\n",
    "param_grid_RF = {\"n_estimators\": [5, 10, 20, 100],\n",
    "                \"criterion\": [\"gini\", \"entropy\"],\n",
    "                \"max_depth\": [3,4,5,6,7,8,9,10, None],\n",
    "                \"min_samples_leaf\": [1,2,3,4,5],\n",
    "                \"class_weight\": [\"balanced\"]}\n",
    "\n",
    "# create a parameter grid: map the parameter names to the values that should be searched\n",
    "print(param_grid_RF)\n",
    "\n",
    "# instantiate the grid\n",
    "grid_RF = GridSearchCV(RF, param_grid_RF, cv=10, scoring='accuracy')\n",
    "grid_RF.fit(X_train_dt_std, Y_train)\n",
    "\n",
    "sorted(grid_RF.grid_scores_, key = lambda x: x[1], reverse = True)[:5]"
   ]
  },
  {
   "cell_type": "code",
   "execution_count": 469,
   "metadata": {
    "collapsed": false
   },
   "outputs": [
    {
     "data": {
      "text/plain": [
       "0.70920245398773007"
      ]
     },
     "execution_count": 469,
     "metadata": {},
     "output_type": "execute_result"
    }
   ],
   "source": [
    "# OUT OF SAMPLE ACCURACY FOR BEST RANDOM FOREST MODEL\n",
    "\n",
    "pred_RF = pred_RF = grid_RF.best_estimator_.predict(X_test_dt)\n",
    "score = accuracy_score(Y_test_dt, pred_RF)\n",
    "score"
   ]
  },
  {
   "cell_type": "markdown",
   "metadata": {
    "collapsed": true
   },
   "source": [
    "### Ensemble - Voting Classifier "
   ]
  },
  {
   "cell_type": "markdown",
   "metadata": {},
   "source": [
    "After tuning parameters, logistic (74.3% accuracy), SVM (73.98%) and KNN (73.06%) generated the best out of sample performance using the test set. I will apply ensemble techniques by using a voting classifier of these three."
   ]
  },
  {
   "cell_type": "code",
   "execution_count": 470,
   "metadata": {
    "collapsed": false
   },
   "outputs": [],
   "source": [
    "clf1 = grid_LR_1.best_estimator_\n",
    "clf2 = grid_SVM.best_estimator_\n",
    "clf3 = grid_KNN.best_estimator_"
   ]
  },
  {
   "cell_type": "code",
   "execution_count": 471,
   "metadata": {
    "collapsed": false
   },
   "outputs": [
    {
     "name": "stdout",
     "output_type": "stream",
     "text": [
      "0.747239263804\n",
      "0.952422145329\n"
     ]
    }
   ],
   "source": [
    "vclf = VotingClassifier(estimators=[('LR1', clf1), ('SVM', clf2), ('KNN', clf3)], voting='hard')\n",
    "\n",
    "vclf.fit(X_train_std, Y_train)\n",
    "\n",
    "pred_vote = vclf.predict(X_test_std)\n",
    "\n",
    "score = accuracy_score(Y_test, pred_vote)\n",
    "print (score)\n",
    "\n",
    "recall = recall_score(Y_test, pred_vote)\n",
    "print (recall)"
   ]
  },
  {
   "cell_type": "markdown",
   "metadata": {},
   "source": [
    "#### Voting classifier improved the accuracy to 74.7% (compared to 60%) and recall to 95% (compared to 74%)!"
   ]
  },
  {
   "cell_type": "code",
   "execution_count": 472,
   "metadata": {
    "collapsed": false
   },
   "outputs": [
    {
     "name": "stdout",
     "output_type": "stream",
     "text": [
      "Accuracy: 0.74 (+/- 0.01) [Logistic Regression]\n",
      "Accuracy: 0.75 (+/- 0.01) [SVM]\n",
      "Accuracy: 0.73 (+/- 0.01) [KNN]\n",
      "Accuracy: 0.75 (+/- 0.01) [Ensemble]\n"
     ]
    }
   ],
   "source": [
    "# Checking voting accuracy for training set\n",
    "\n",
    "for clf, label in zip([clf1, clf2, clf3, vclf], ['Logistic Regression', 'SVM', 'KNN', 'Ensemble']):\n",
    "    scores = cross_val_score(clf, X_train_std, Y_train, cv=5, scoring='accuracy')\n",
    "    print(\"Accuracy: %0.2f (+/- %0.2f) [%s]\" % (scores.mean(), scores.std(), label))"
   ]
  },
  {
   "cell_type": "code",
   "execution_count": 473,
   "metadata": {
    "collapsed": false
   },
   "outputs": [
    {
     "name": "stdout",
     "output_type": "stream",
     "text": [
      "Accuracy: 0.73 (+/- 0.03) [Logistic Regression]\n",
      "Accuracy: 0.72 (+/- 0.02) [SVM]\n",
      "Accuracy: 0.71 (+/- 0.01) [KNN]\n",
      "Accuracy: 0.72 (+/- 0.02) [Ensemble]\n"
     ]
    }
   ],
   "source": [
    "# Checking voting accuracy for testing set\n",
    "\n",
    "for clf, label in zip([clf1, clf2, clf3, vclf], ['Logistic Regression', 'SVM', 'KNN', 'Ensemble']):\n",
    "    scores = cross_val_score(clf, X_test_std, Y_test, cv=10, scoring='accuracy')\n",
    "    print(\"Accuracy: %0.2f (+/- %0.2f) [%s]\" % (scores.mean(), scores.std(), label))"
   ]
  },
  {
   "cell_type": "markdown",
   "metadata": {},
   "source": [
    "### Example Prediction using Voting Classification"
   ]
  },
  {
   "cell_type": "code",
   "execution_count": 480,
   "metadata": {
    "collapsed": false
   },
   "outputs": [],
   "source": [
    "# Scale data set for example pred\n",
    "\n",
    "stdsc = preprocessing.StandardScaler()\n",
    "\n",
    "X_ex = stdsc.fit_transform(X)"
   ]
  },
  {
   "cell_type": "code",
   "execution_count": 505,
   "metadata": {
    "collapsed": false
   },
   "outputs": [
    {
     "name": "stderr",
     "output_type": "stream",
     "text": [
      "//anaconda/lib/python3.5/site-packages/sklearn/utils/validation.py:395: DeprecationWarning: Passing 1d arrays as data is deprecated in 0.17 and will raise ValueError in 0.19. Reshape your data either using X.reshape(-1, 1) if your data has a single feature or X.reshape(1, -1) if it contains a single sample.\n",
      "  DeprecationWarning)\n",
      "//anaconda/lib/python3.5/site-packages/sklearn/utils/validation.py:395: DeprecationWarning: Passing 1d arrays as data is deprecated in 0.17 and will raise ValueError in 0.19. Reshape your data either using X.reshape(-1, 1) if your data has a single feature or X.reshape(1, -1) if it contains a single sample.\n",
      "  DeprecationWarning)\n",
      "//anaconda/lib/python3.5/site-packages/sklearn/utils/validation.py:395: DeprecationWarning: Passing 1d arrays as data is deprecated in 0.17 and will raise ValueError in 0.19. Reshape your data either using X.reshape(-1, 1) if your data has a single feature or X.reshape(1, -1) if it contains a single sample.\n",
      "  DeprecationWarning)\n"
     ]
    },
    {
     "data": {
      "text/plain": [
       "array([1])"
      ]
     },
     "execution_count": 505,
     "metadata": {},
     "output_type": "execute_result"
    }
   ],
   "source": [
    "# Example 1: Bailey's Sports Bar & Eatery (closed)\n",
    "\n",
    "ex1 = X_ex[3]\n",
    "\n",
    "vclf.predict(ex1)"
   ]
  },
  {
   "cell_type": "code",
   "execution_count": 501,
   "metadata": {
    "collapsed": false
   },
   "outputs": [
    {
     "name": "stderr",
     "output_type": "stream",
     "text": [
      "//anaconda/lib/python3.5/site-packages/sklearn/utils/validation.py:395: DeprecationWarning: Passing 1d arrays as data is deprecated in 0.17 and will raise ValueError in 0.19. Reshape your data either using X.reshape(-1, 1) if your data has a single feature or X.reshape(1, -1) if it contains a single sample.\n",
      "  DeprecationWarning)\n",
      "//anaconda/lib/python3.5/site-packages/sklearn/utils/validation.py:395: DeprecationWarning: Passing 1d arrays as data is deprecated in 0.17 and will raise ValueError in 0.19. Reshape your data either using X.reshape(-1, 1) if your data has a single feature or X.reshape(1, -1) if it contains a single sample.\n",
      "  DeprecationWarning)\n",
      "//anaconda/lib/python3.5/site-packages/sklearn/utils/validation.py:395: DeprecationWarning: Passing 1d arrays as data is deprecated in 0.17 and will raise ValueError in 0.19. Reshape your data either using X.reshape(-1, 1) if your data has a single feature or X.reshape(1, -1) if it contains a single sample.\n",
      "  DeprecationWarning)\n"
     ]
    },
    {
     "data": {
      "text/plain": [
       "array([1])"
      ]
     },
     "execution_count": 501,
     "metadata": {},
     "output_type": "execute_result"
    }
   ],
   "source": [
    "# Example  2 - Presto Calzone Bakery (open) \n",
    "ex2 = X_ex[7]\n",
    "\n",
    "vclf.predict(ex2)"
   ]
  },
  {
   "cell_type": "code",
   "execution_count": 509,
   "metadata": {
    "collapsed": false
   },
   "outputs": [
    {
     "name": "stderr",
     "output_type": "stream",
     "text": [
      "//anaconda/lib/python3.5/site-packages/sklearn/utils/validation.py:395: DeprecationWarning: Passing 1d arrays as data is deprecated in 0.17 and will raise ValueError in 0.19. Reshape your data either using X.reshape(-1, 1) if your data has a single feature or X.reshape(1, -1) if it contains a single sample.\n",
      "  DeprecationWarning)\n",
      "//anaconda/lib/python3.5/site-packages/sklearn/utils/validation.py:395: DeprecationWarning: Passing 1d arrays as data is deprecated in 0.17 and will raise ValueError in 0.19. Reshape your data either using X.reshape(-1, 1) if your data has a single feature or X.reshape(1, -1) if it contains a single sample.\n",
      "  DeprecationWarning)\n",
      "//anaconda/lib/python3.5/site-packages/sklearn/utils/validation.py:395: DeprecationWarning: Passing 1d arrays as data is deprecated in 0.17 and will raise ValueError in 0.19. Reshape your data either using X.reshape(-1, 1) if your data has a single feature or X.reshape(1, -1) if it contains a single sample.\n",
      "  DeprecationWarning)\n"
     ]
    },
    {
     "data": {
      "text/plain": [
       "array([0])"
      ]
     },
     "execution_count": 509,
     "metadata": {},
     "output_type": "execute_result"
    }
   ],
   "source": [
    "# Example 3 - Kabob Palace (closed)\n",
    "ex3 = X_ex[0]\n",
    "\n",
    "vclf.predict(ex3)"
   ]
  },
  {
   "cell_type": "markdown",
   "metadata": {},
   "source": [
    "# Flask Web App - Work in Progress"
   ]
  },
  {
   "cell_type": "code",
   "execution_count": null,
   "metadata": {
    "collapsed": true
   },
   "outputs": [],
   "source": [
    "PREDICTOR = vclf.fit(X_train_std, Y_train)"
   ]
  },
  {
   "cell_type": "code",
   "execution_count": 3,
   "metadata": {
    "collapsed": false
   },
   "outputs": [
    {
     "ename": "OSError",
     "evalue": "[Errno 48] Address already in use",
     "output_type": "error",
     "traceback": [
      "\u001b[0;31m---------------------------------------------------------------------------\u001b[0m",
      "\u001b[0;31mOSError\u001b[0m                                   Traceback (most recent call last)",
      "\u001b[0;32m<ipython-input-3-945e56ce612b>\u001b[0m in \u001b[0;36m<module>\u001b[0;34m()\u001b[0m\n\u001b[1;32m     42\u001b[0m \u001b[0;31m# (The default website port)\u001b[0m\u001b[0;34m\u001b[0m\u001b[0;34m\u001b[0m\u001b[0m\n\u001b[1;32m     43\u001b[0m \u001b[0mapp\u001b[0m\u001b[0;34m.\u001b[0m\u001b[0mrun\u001b[0m\u001b[0;34m(\u001b[0m\u001b[0mhost\u001b[0m\u001b[0;34m=\u001b[0m\u001b[0;34m'0.0.0.0'\u001b[0m\u001b[0;34m)\u001b[0m\u001b[0;34m\u001b[0m\u001b[0m\n\u001b[0;32m---> 44\u001b[0;31m \u001b[0mapp\u001b[0m\u001b[0;34m.\u001b[0m\u001b[0mrun\u001b[0m\u001b[0;34m(\u001b[0m\u001b[0mdebug\u001b[0m\u001b[0;34m=\u001b[0m\u001b[0;32mTrue\u001b[0m\u001b[0;34m)\u001b[0m\u001b[0;34m\u001b[0m\u001b[0m\n\u001b[0m",
      "\u001b[0;32m//anaconda/lib/python3.5/site-packages/flask/app.py\u001b[0m in \u001b[0;36mrun\u001b[0;34m(self, host, port, debug, **options)\u001b[0m\n\u001b[1;32m    841\u001b[0m         \u001b[0moptions\u001b[0m\u001b[0;34m.\u001b[0m\u001b[0msetdefault\u001b[0m\u001b[0;34m(\u001b[0m\u001b[0;34m'passthrough_errors'\u001b[0m\u001b[0;34m,\u001b[0m \u001b[0;32mTrue\u001b[0m\u001b[0;34m)\u001b[0m\u001b[0;34m\u001b[0m\u001b[0m\n\u001b[1;32m    842\u001b[0m         \u001b[0;32mtry\u001b[0m\u001b[0;34m:\u001b[0m\u001b[0;34m\u001b[0m\u001b[0m\n\u001b[0;32m--> 843\u001b[0;31m             \u001b[0mrun_simple\u001b[0m\u001b[0;34m(\u001b[0m\u001b[0mhost\u001b[0m\u001b[0;34m,\u001b[0m \u001b[0mport\u001b[0m\u001b[0;34m,\u001b[0m \u001b[0mself\u001b[0m\u001b[0;34m,\u001b[0m \u001b[0;34m**\u001b[0m\u001b[0moptions\u001b[0m\u001b[0;34m)\u001b[0m\u001b[0;34m\u001b[0m\u001b[0m\n\u001b[0m\u001b[1;32m    844\u001b[0m         \u001b[0;32mfinally\u001b[0m\u001b[0;34m:\u001b[0m\u001b[0;34m\u001b[0m\u001b[0m\n\u001b[1;32m    845\u001b[0m             \u001b[0;31m# reset the first request information if the development server\u001b[0m\u001b[0;34m\u001b[0m\u001b[0;34m\u001b[0m\u001b[0m\n",
      "\u001b[0;32m//anaconda/lib/python3.5/site-packages/werkzeug/serving.py\u001b[0m in \u001b[0;36mrun_simple\u001b[0;34m(hostname, port, application, use_reloader, use_debugger, use_evalex, extra_files, reloader_interval, reloader_type, threaded, processes, request_handler, static_files, passthrough_errors, ssl_context)\u001b[0m\n\u001b[1;32m    675\u001b[0m             \u001b[0ms\u001b[0m \u001b[0;34m=\u001b[0m \u001b[0msocket\u001b[0m\u001b[0;34m.\u001b[0m\u001b[0msocket\u001b[0m\u001b[0;34m(\u001b[0m\u001b[0maddress_family\u001b[0m\u001b[0;34m,\u001b[0m \u001b[0msocket\u001b[0m\u001b[0;34m.\u001b[0m\u001b[0mSOCK_STREAM\u001b[0m\u001b[0;34m)\u001b[0m\u001b[0;34m\u001b[0m\u001b[0m\n\u001b[1;32m    676\u001b[0m             \u001b[0ms\u001b[0m\u001b[0;34m.\u001b[0m\u001b[0msetsockopt\u001b[0m\u001b[0;34m(\u001b[0m\u001b[0msocket\u001b[0m\u001b[0;34m.\u001b[0m\u001b[0mSOL_SOCKET\u001b[0m\u001b[0;34m,\u001b[0m \u001b[0msocket\u001b[0m\u001b[0;34m.\u001b[0m\u001b[0mSO_REUSEADDR\u001b[0m\u001b[0;34m,\u001b[0m \u001b[0;36m1\u001b[0m\u001b[0;34m)\u001b[0m\u001b[0;34m\u001b[0m\u001b[0m\n\u001b[0;32m--> 677\u001b[0;31m             \u001b[0ms\u001b[0m\u001b[0;34m.\u001b[0m\u001b[0mbind\u001b[0m\u001b[0;34m(\u001b[0m\u001b[0;34m(\u001b[0m\u001b[0mhostname\u001b[0m\u001b[0;34m,\u001b[0m \u001b[0mport\u001b[0m\u001b[0;34m)\u001b[0m\u001b[0;34m)\u001b[0m\u001b[0;34m\u001b[0m\u001b[0m\n\u001b[0m\u001b[1;32m    678\u001b[0m             \u001b[0;32mif\u001b[0m \u001b[0mhasattr\u001b[0m\u001b[0;34m(\u001b[0m\u001b[0ms\u001b[0m\u001b[0;34m,\u001b[0m \u001b[0;34m'set_inheritable'\u001b[0m\u001b[0;34m)\u001b[0m\u001b[0;34m:\u001b[0m\u001b[0;34m\u001b[0m\u001b[0m\n\u001b[1;32m    679\u001b[0m                 \u001b[0ms\u001b[0m\u001b[0;34m.\u001b[0m\u001b[0mset_inheritable\u001b[0m\u001b[0;34m(\u001b[0m\u001b[0;32mTrue\u001b[0m\u001b[0;34m)\u001b[0m\u001b[0;34m\u001b[0m\u001b[0m\n",
      "\u001b[0;31mOSError\u001b[0m: [Errno 48] Address already in use"
     ]
    }
   ],
   "source": [
    "import flask\n",
    "\n",
    "#---------- MODEL IN MEMORY ----------------#\n",
    "\n",
    "# Read the scientific data on breast cancer survival,\n",
    "# Build a LogisticRegression predictor on it\n",
    "\n",
    "\n",
    "#---------- URLS AND WEB PAGES -------------#\n",
    "\n",
    "# Initialize the app\n",
    "app = flask.Flask(__name__)\n",
    "\n",
    "# Homepage\n",
    "@app.route(\"/\")\n",
    "def viz_page():\n",
    "    \"\"\"\n",
    "    Homepage: serve our visualization page, awesome.html\n",
    "    \"\"\"\n",
    "    with open(\"awesome.html\", 'r') as viz_file:\n",
    "        return viz_file.read()\n",
    "\n",
    "# Get an example and return it's score from the predictor model\n",
    "@app.route(\"/score\", methods=[\"POST\"])\n",
    "def score():\n",
    "    \"\"\"\n",
    "    When A POST request with json data is made to this uri,\n",
    "    Read the example from the json, predict probability and\n",
    "    send it with a response\n",
    "    \"\"\"\n",
    "    # Get decision score for our example that came with the request\n",
    "    data = flask.request.json\n",
    "#    x = np.matrix(data[\"example\"])\n",
    "    score = PREDICTOR.predict(x_h)[0]\n",
    "    # Put the result in a nice dict so we can send it as json\n",
    "    results = {\"score\": score}\n",
    "    return flask.jsonify(results)\n",
    "\n",
    "#--------- RUN WEB APP SERVER ------------#\n",
    "\n",
    "# Start the app server on port 80\n",
    "# (The default website port)\n",
    "app.run(host='0.0.0.0')\n",
    "app.run(debug=True)\n"
   ]
  },
  {
   "cell_type": "code",
   "execution_count": 2138,
   "metadata": {
    "collapsed": false
   },
   "outputs": [],
   "source": [
    "def viz_page():\n",
    "    \"\"\"\n",
    "    Homepage: serve our visualization page, awesome.html\n",
    "    \"\"\"\n",
    "    with open(\"awesome.html\", 'r') as viz_file:\n",
    "        return viz_file.read()"
   ]
  }
 ],
 "metadata": {
  "anaconda-cloud": {},
  "kernelspec": {
   "display_name": "Python [conda root]",
   "language": "python",
   "name": "conda-root-py"
  },
  "language_info": {
   "codemirror_mode": {
    "name": "ipython",
    "version": 3
   },
   "file_extension": ".py",
   "mimetype": "text/x-python",
   "name": "python",
   "nbconvert_exporter": "python",
   "pygments_lexer": "ipython3",
   "version": "3.5.2"
  }
 },
 "nbformat": 4,
 "nbformat_minor": 1
}
