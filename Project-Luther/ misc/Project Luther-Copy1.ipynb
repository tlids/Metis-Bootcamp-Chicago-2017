{
 "cells": [
  {
   "cell_type": "markdown",
   "metadata": {},
   "source": [
    "# Predict Animation Movies' Revenues"
   ]
  },
  {
   "cell_type": "markdown",
   "metadata": {},
   "source": [
    "### Scrape from IMDB"
   ]
  },
  {
   "cell_type": "code",
   "execution_count": 1,
   "metadata": {
    "collapsed": true
   },
   "outputs": [],
   "source": [
    "from __future__ import print_function, division"
   ]
  },
  {
   "cell_type": "code",
   "execution_count": null,
   "metadata": {
    "collapsed": false
   },
   "outputs": [],
   "source": [
    "# Import packages\n",
    "\n",
    "import requests\n",
    "from bs4 import BeautifulSoup\n",
    "from urllib.request import urlopen\n",
    "from pprint import pprint\n",
    "import pandas as pd\n",
    "import collections\n",
    "import matplotlib.pyplot as plt\n",
    "import re\n",
    "from datetime import datetime\n",
    "import pickle\n",
    "import sklearn\n",
    "from sklearn.cross_validation import KFold\n",
    "from sklearn.cross_validation import cross_val_score\n",
    "from sklearn.linear_model import LinearRegression\n",
    "from sklearn.cross_validation import train_test_split\n",
    "from sklearn.linear_model import Lasso\n",
    "from sklearn.linear_model import LassoCV\n",
    "import numpy as np\n",
    "from sklearn import linear_model, preprocessing\n",
    "\n",
    "import seaborn as sns\n",
    "\n",
    "import pandas as pd\n",
    "\n",
    "%matplotlib inline"
   ]
  },
  {
   "cell_type": "code",
   "execution_count": null,
   "metadata": {
    "collapsed": false
   },
   "outputs": [],
   "source": [
    "# Sample Url\n",
    "\n",
    "sample_url = 'http://www.imdb.com/search/title?genres=animation&title_type=feature&sort=boxoffice_gross_us,desc&page={}&ref_=adv_prv'"
   ]
  },
  {
   "cell_type": "code",
   "execution_count": null,
   "metadata": {
    "collapsed": true
   },
   "outputs": [],
   "source": [
    "# Convert links from tag to list\n",
    "\n",
    "def imdb_find_all_links(url):\n",
    "    link_list = []\n",
    "    response = requests.get(url)\n",
    "    response.status_code\n",
    "    page = response.text\n",
    "    soup = BeautifulSoup(page,\"lxml\")\n",
    "    for link in soup.find_all('a'): \n",
    "        link_list.append(str(link))\n",
    "    return link_list"
   ]
  },
  {
   "cell_type": "code",
   "execution_count": null,
   "metadata": {
    "collapsed": true
   },
   "outputs": [],
   "source": [
    "# Extract 50 movie links from each page\n",
    "\n",
    "def imdb_find_movie_link(url):\n",
    "    title_list = []\n",
    "    for link in imdb_find_all_links(url):\n",
    "        if link.find('a href=\"/title/') != -1 and link.find('vote') == -1 and link.find('plot') == -1:    \n",
    "            start = link.find('a href=\"/title/')\n",
    "            end = link.find('?',start+1)\n",
    "            title = (link[start+8:end])\n",
    "            title = 'http://www.imdb.com' + title\n",
    "            if title not in title_list:\n",
    "                title_list.append(title)\n",
    "        else:\n",
    "            continue\n",
    "    return title_list"
   ]
  },
  {
   "cell_type": "code",
   "execution_count": null,
   "metadata": {
    "collapsed": true
   },
   "outputs": [],
   "source": [
    "# Add movie title\n",
    "\n",
    "def movie_title(url_base):\n",
    "    html = urlopen(url_base)\n",
    "    soup = BeautifulSoup(html, 'lxml')\n",
    "    return str(soup.find('title').string)"
   ]
  },
  {
   "cell_type": "code",
   "execution_count": null,
   "metadata": {
    "collapsed": true
   },
   "outputs": [],
   "source": [
    "# Explore movie rating\n",
    "\n",
    "def movie_rating(url_base):\n",
    "    html = urlopen(url_base)\n",
    "    soup = BeautifulSoup(html, 'lxml')\n",
    "    return str(soup.find('span', class_ = \"rating\"))"
   ]
  },
  {
   "cell_type": "code",
   "execution_count": null,
   "metadata": {
    "collapsed": true
   },
   "outputs": [],
   "source": [
    "# Explore movie MPAA\n",
    "\n",
    "def movie_mpaa(url_base):\n",
    "    html = urlopen(url_base)\n",
    "    soup = BeautifulSoup(html, 'lxml')\n",
    "    return str(soup.find('meta', itemprop = \"contentRating\"))[15:17]"
   ]
  },
  {
   "cell_type": "code",
   "execution_count": null,
   "metadata": {
    "collapsed": false
   },
   "outputs": [],
   "source": [
    "# Explore awards\n",
    "\n",
    "def movie_awards(url_base):\n",
    "    temp = []\n",
    "    html = urlopen(url_base)\n",
    "    soup = BeautifulSoup(html, 'lxml')\n",
    "    test = soup.findAll('span', itemprop = \"awards\")\n",
    "    for sublist in test:\n",
    "        temp.append(sublist.getText().replace('\\n', '').replace('   ',''))\n",
    "    return str(temp)"
   ]
  },
  {
   "cell_type": "code",
   "execution_count": null,
   "metadata": {
    "collapsed": true
   },
   "outputs": [],
   "source": [
    "# Explore the 'Details' section\n",
    "# Extract info about budget, country, gross, language, production co, release date, runtime\n",
    "\n",
    "def movie_details(url_base):\n",
    "    # Read Url\n",
    "    html = urlopen(url_base)\n",
    "    # Create Soup\n",
    "    soup = BeautifulSoup(html, 'lxml')\n",
    "    test = soup.findAll('div',class_='txt-block')\n",
    "    temp = []\n",
    "    for sublist in test:\n",
    "        for phrase in sublist.findAll('h4',class_='inline'):\n",
    "            label = phrase.getText().replace(':','')\n",
    "            text = phrase.nextSibling\n",
    "            if len(text.strip()) == 0:\n",
    "                next_text = text.nextSibling.getText().strip()\n",
    "                temp.append((label,next_text))\n",
    "            else:\n",
    "                text = text.replace('        \\n\\n      ','')\n",
    "                text = text.replace('(USA)','')\n",
    "                temp.append((label, text.strip()))\n",
    "\n",
    "    # Convert List of Tuples to Dictionary\n",
    "    temp = dict(temp)\n",
    "    return temp"
   ]
  },
  {
   "cell_type": "code",
   "execution_count": null,
   "metadata": {
    "collapsed": false
   },
   "outputs": [],
   "source": [
    "# Compile title, details into data frame\n",
    "# NOT USED, KEPT FOR REFERENCE\n",
    "\n",
    "#def compile_info(x):\n",
    "#    new_df = pd.DataFrame()\n",
    "#    for n in range(x):\n",
    "#        for link in all_web_pages[x]:\n",
    "#            data = pd.DataFrame.from_dict(movie_details(link),orient='index', dtype=None)\n",
    "#            data = data.transpose()\n",
    "#            data['Movie Title'] = movie_title(link)\n",
    "#            data['Rating Score'] = movie_rating(link)\n",
    "#            data['MPAA'] = movie_mpaa(link)\n",
    "#            data['Awards'] = movie_awards(link)\n",
    "#            new_df = new_df.append(data)\n",
    "#    return new_df"
   ]
  },
  {
   "cell_type": "code",
   "execution_count": null,
   "metadata": {
    "collapsed": true
   },
   "outputs": [],
   "source": [
    "def compile_data_info(x):\n",
    "    new_df = pd.DataFrame()\n",
    "    for link in imdb_find_movie_link(x):\n",
    "        data = pd.DataFrame.from_dict(movie_details(link),orient='index', dtype=None)\n",
    "        data = data.transpose()\n",
    "        data['Movie Title'] = movie_title(link)\n",
    "        data['Rating Score'] = movie_rating(link)\n",
    "        data['MPAA'] = movie_mpaa(link)\n",
    "        data['Awards'] = movie_awards(link)\n",
    "        new_df = new_df.append(data)\n",
    "    return new_df"
   ]
  },
  {
   "cell_type": "markdown",
   "metadata": {},
   "source": [
    "#### Render pages into dataframes"
   ]
  },
  {
   "cell_type": "code",
   "execution_count": null,
   "metadata": {
    "collapsed": false
   },
   "outputs": [],
   "source": [
    "imdb_page_1 = compile_data_info('http://www.imdb.com/search/title?genres=animation&title_type=feature&sort=boxoffice_gross_us,desc&page=1&ref_=adv_prv')"
   ]
  },
  {
   "cell_type": "code",
   "execution_count": null,
   "metadata": {
    "collapsed": false
   },
   "outputs": [],
   "source": [
    "imdb_page_2 = compile_data_info('http://www.imdb.com/search/title?genres=animation&title_type=feature&sort=boxoffice_gross_us,desc&page=2&ref_=adv_prv')"
   ]
  },
  {
   "cell_type": "code",
   "execution_count": null,
   "metadata": {
    "collapsed": true
   },
   "outputs": [],
   "source": [
    "imdb_page_3 = compile_data_info('http://www.imdb.com/search/title?genres=animation&title_type=feature&sort=boxoffice_gross_us,desc&page=3&ref_=adv_prv')"
   ]
  },
  {
   "cell_type": "code",
   "execution_count": null,
   "metadata": {
    "collapsed": true
   },
   "outputs": [],
   "source": [
    "imdb_page_4 = compile_data_info('http://www.imdb.com/search/title?genres=animation&title_type=feature&sort=boxoffice_gross_us,desc&page=4&ref_=adv_prv')"
   ]
  },
  {
   "cell_type": "code",
   "execution_count": null,
   "metadata": {
    "collapsed": true
   },
   "outputs": [],
   "source": [
    "imdb_page_5 = compile_data_info('http://www.imdb.com/search/title?genres=animation&title_type=feature&sort=boxoffice_gross_us,desc&page=5&ref_=adv_prv')"
   ]
  },
  {
   "cell_type": "code",
   "execution_count": null,
   "metadata": {
    "collapsed": true
   },
   "outputs": [],
   "source": [
    "imdb_page_6 = compile_data_info('http://www.imdb.com/search/title?genres=animation&title_type=feature&sort=boxoffice_gross_us,desc&page=6&ref_=adv_prv')"
   ]
  },
  {
   "cell_type": "code",
   "execution_count": null,
   "metadata": {
    "collapsed": true
   },
   "outputs": [],
   "source": [
    "# Combine 6 dataframes into 1\n",
    "\n",
    "movies_data = pd.DataFrame()\n",
    "movies_data = movies_data.append(imdb_page_1)\n",
    "movies_data = movies_data.append(imdb_page_2)\n",
    "movies_data = movies_data.append(imdb_page_3)\n",
    "movies_data = movies_data.append(imdb_page_4)\n",
    "movies_data = movies_data.append(imdb_page_5)\n",
    "movies_data = movies_data.append(imdb_page_6)"
   ]
  },
  {
   "cell_type": "code",
   "execution_count": null,
   "metadata": {
    "collapsed": false
   },
   "outputs": [],
   "source": [
    "movies_data.head()"
   ]
  },
  {
   "cell_type": "code",
   "execution_count": null,
   "metadata": {
    "collapsed": false
   },
   "outputs": [],
   "source": [
    "# Numer of data points\n",
    "\n",
    "len(movies_data[movies_data['Country'] == 'USA'])"
   ]
  },
  {
   "cell_type": "code",
   "execution_count": null,
   "metadata": {
    "collapsed": true
   },
   "outputs": [],
   "source": [
    "# Save the data frame into a pickle file\n",
    "\n",
    "with open('my_data_2.pkl', 'wb') as picklefile:\n",
    "    pickle.dump(movies_data, picklefile)"
   ]
  },
  {
   "cell_type": "code",
   "execution_count": null,
   "metadata": {
    "collapsed": true
   },
   "outputs": [],
   "source": [
    "# Load pickle file\n",
    "\n",
    "with open('my_data_2.pkl', 'rb') as picklefile: \n",
    "    my_old_data = pickle.load(picklefile)"
   ]
  },
  {
   "cell_type": "markdown",
   "metadata": {},
   "source": [
    "### Process the Data"
   ]
  },
  {
   "cell_type": "code",
   "execution_count": null,
   "metadata": {
    "collapsed": true
   },
   "outputs": [],
   "source": [
    "# Make a copy of imdb_df\n",
    "\n",
    "imdb_data = movies_data"
   ]
  },
  {
   "cell_type": "code",
   "execution_count": null,
   "metadata": {
    "collapsed": false
   },
   "outputs": [],
   "source": [
    "# Display dataframe info\n",
    "\n",
    "imdb_data.info()"
   ]
  },
  {
   "cell_type": "code",
   "execution_count": null,
   "metadata": {
    "collapsed": true
   },
   "outputs": [],
   "source": [
    "# Drop data points outside of USA\n",
    "\n",
    "imdb_data = imdb_data[imdb_data['Country'] == 'USA']"
   ]
  },
  {
   "cell_type": "code",
   "execution_count": null,
   "metadata": {
    "collapsed": false,
    "scrolled": false
   },
   "outputs": [],
   "source": [
    "imdb_data.head()"
   ]
  },
  {
   "cell_type": "code",
   "execution_count": null,
   "metadata": {
    "collapsed": false
   },
   "outputs": [],
   "source": [
    "# Remove contents in parenthesis for release date\n",
    "\n",
    "for n in range(len(imdb_data['Release Date'])):\n",
    "    if imdb_data['Release Date'].iloc[n].find('(') != -1:\n",
    "        position = imdb_data['Release Date'].iloc[n].find('(')\n",
    "        imdb_data['Release Date'].iloc[n] = imdb_data['Release Date'].iloc[n][:position]\n",
    "    else:\n",
    "        continue"
   ]
  },
  {
   "cell_type": "code",
   "execution_count": null,
   "metadata": {
    "collapsed": false
   },
   "outputs": [],
   "source": [
    "# Convert release date to date object and extract year, month and day\n",
    "\n",
    "imdb_data['Release Date'] = pd.to_datetime(imdb_data['Release Date'])\n",
    "imdb_data['Release Year'] =imdb_data['Release Date'].dt.year\n",
    "imdb_data['Release Month'] = imdb_data['Release Date'].dt.month\n",
    "imdb_data['Release Day'] = imdb_data['Release Date'].dt.day"
   ]
  },
  {
   "cell_type": "code",
   "execution_count": null,
   "metadata": {
    "collapsed": false
   },
   "outputs": [],
   "source": [
    "# Remove contents in brackets for rating score\n",
    "\n",
    "for n in range(len(imdb_data['Rating Score'])):\n",
    "    if imdb_data['Rating Score'].iloc[n].find('>') != -1:\n",
    "        start = imdb_data['Rating Score'].iloc[n].find('>')\n",
    "        end = imdb_data['Rating Score'].iloc[n].find('<', start+1)\n",
    "        imdb_data['Rating Score'].iloc[n] = imdb_data['Rating Score'].iloc[n][start+1:end]\n",
    "    else:\n",
    "        continue"
   ]
  },
  {
   "cell_type": "code",
   "execution_count": null,
   "metadata": {
    "collapsed": false
   },
   "outputs": [],
   "source": [
    "# Remove contents in parenthesis for opening weekend\n",
    "\n",
    "for n in range(len(imdb_data['Opening Weekend'])):\n",
    "    if str(imdb_data['Opening Weekend'].iloc[n]).find('(') != -1:\n",
    "        position = str(imdb_data['Opening Weekend'].iloc[n]).find('(')\n",
    "        imdb_data['Opening Weekend'].iloc[n] = str(imdb_data['Opening Weekend'].iloc[n])[:position]\n",
    "    else:\n",
    "        continue"
   ]
  },
  {
   "cell_type": "code",
   "execution_count": null,
   "metadata": {
    "collapsed": false
   },
   "outputs": [],
   "source": [
    "# Convert data types\n",
    "# RUN ONLY ONCE!\n",
    "\n",
    "imdb_data['Budget'] = imdb_data['Budget'].replace('[\\$,]', '', regex=True).astype(float)\n",
    "imdb_data['Gross'] = imdb_data['Gross'].replace('[\\$,]', '', regex=True).astype(float)\n",
    "imdb_data['Runtime'] = imdb_data['Runtime'].replace('min', '', regex=True).astype(float)\n",
    "imdb_data['Rating Score'] = imdb_data['Rating Score'].replace('<span class=\"rating\">7.9<span class=\"ofTen\">', '7.9').apply(lambda x: float(x.split('/')[0]))\n",
    "imdb_data['Opening Weekend'] = imdb_data['Opening Weekend'].replace('[\\$,]', '', regex=True).replace('UK', '', regex=True).replace('[\\£,]', '', regex=True).astype(float)"
   ]
  },
  {
   "cell_type": "code",
   "execution_count": null,
   "metadata": {
    "collapsed": false
   },
   "outputs": [],
   "source": [
    "# Remove contents in parenthesis for movie title\n",
    "\n",
    "for n in range(len(imdb_data['Movie Title'])):\n",
    "    if imdb_data['Movie Title'].iloc[n].find('(') != -1:\n",
    "        position = imdb_data['Movie Title'].iloc[n].find('(')\n",
    "        imdb_data['Movie Title'].iloc[n] = imdb_data['Movie Title'].iloc[n][:position]\n",
    "    else:\n",
    "        continue"
   ]
  },
  {
   "cell_type": "code",
   "execution_count": null,
   "metadata": {
    "collapsed": false,
    "scrolled": true
   },
   "outputs": [],
   "source": [
    "imdb_data.info()"
   ]
  },
  {
   "cell_type": "code",
   "execution_count": null,
   "metadata": {
    "collapsed": false,
    "scrolled": false
   },
   "outputs": [],
   "source": [
    "imdb_data.head()"
   ]
  },
  {
   "cell_type": "code",
   "execution_count": null,
   "metadata": {
    "collapsed": false
   },
   "outputs": [],
   "source": [
    "imdb_data.reset_index()"
   ]
  },
  {
   "cell_type": "markdown",
   "metadata": {},
   "source": [
    "#### Process Categorical Data"
   ]
  },
  {
   "cell_type": "code",
   "execution_count": null,
   "metadata": {
    "collapsed": true
   },
   "outputs": [],
   "source": [
    "# Group months into quarters\n",
    "\n",
    "imdb_data['Release Month'] = apply[lambda x: x ]"
   ]
  },
  {
   "cell_type": "code",
   "execution_count": null,
   "metadata": {
    "collapsed": false
   },
   "outputs": [],
   "source": [
    "len(imdb_data['Awards'])"
   ]
  },
  {
   "cell_type": "code",
   "execution_count": null,
   "metadata": {
    "collapsed": false
   },
   "outputs": [],
   "source": [
    "a = 'n'\n",
    "a.find('nominated')"
   ]
  },
  {
   "cell_type": "code",
   "execution_count": null,
   "metadata": {
    "collapsed": false
   },
   "outputs": [],
   "source": [
    "imdb_data['Awards Result'] = ''"
   ]
  },
  {
   "cell_type": "code",
   "execution_count": null,
   "metadata": {
    "collapsed": false
   },
   "outputs": [],
   "source": [
    "imdb_data.ix[0]['Awards'][0]"
   ]
  },
  {
   "cell_type": "code",
   "execution_count": null,
   "metadata": {
    "collapsed": false
   },
   "outputs": [],
   "source": [
    "type(imdb_data['Awards Result'].iloc[0])"
   ]
  },
  {
   "cell_type": "code",
   "execution_count": null,
   "metadata": {
    "collapsed": false
   },
   "outputs": [],
   "source": [
    "import datetime as dt\n",
    "\n",
    "imdb_data['Release Date Quarter'] = imdb_data['Release Date'].dt.quarter"
   ]
  },
  {
   "cell_type": "code",
   "execution_count": null,
   "metadata": {
    "collapsed": false
   },
   "outputs": [],
   "source": [
    "# NOT USED, KEPT FOR REFERENCE\n",
    "#imdb_data.loc[imdb_data['Awards'].str.contains('Won'), 'Awards Result'] = 'W'"
   ]
  },
  {
   "cell_type": "code",
   "execution_count": null,
   "metadata": {
    "collapsed": false
   },
   "outputs": [],
   "source": [
    "imdb_data"
   ]
  },
  {
   "cell_type": "code",
   "execution_count": null,
   "metadata": {
    "collapsed": false
   },
   "outputs": [],
   "source": [
    "# Add yes/no column for awards\n",
    "\n",
    "for n in range(len(imdb_data['Awards'])):\n",
    "    if imdb_data['Awards'].iloc[n].lower().find('won') != -1 or imdb_data['Awards'].iloc[n].lower().find('Win') != -1:\n",
    "        imdb_data['Awards Result'].iloc[n] = 'Won'\n",
    "    elif imdb_data['Awards'].iloc[n].lower().find('nominate') != -1:\n",
    "        imdb_data['Awards Result'].iloc[n] = 'Nominated'\n",
    "    else:\n",
    "        imdb_data['Awards Result'].iloc[n] = 'Not'"
   ]
  },
  {
   "cell_type": "code",
   "execution_count": null,
   "metadata": {
    "collapsed": false
   },
   "outputs": [],
   "source": [
    "# Group by production co and sort by gross to see what production cos are major players\n",
    "\n",
    "imdb_data.groupby(['Production Co']).sum().sort('Gross', ascending = False).head()"
   ]
  },
  {
   "cell_type": "code",
   "execution_count": null,
   "metadata": {
    "collapsed": false
   },
   "outputs": [],
   "source": [
    "# Group productions cos into large, medium and small based on gross \n",
    "\n",
    "Large_Cos = imdb_data.groupby(['Production Co']).sum().sort('Gross', ascending = False).index[0:10]\n",
    "Medium_Cos = imdb_data.groupby(['Production Co']).sum().sort('Gross', ascending = False).index[10:21]\n",
    "Small_Cos = imdb_data.groupby(['Production Co']).sum().sort('Gross', ascending = False).index[21:]"
   ]
  },
  {
   "cell_type": "code",
   "execution_count": null,
   "metadata": {
    "collapsed": false
   },
   "outputs": [],
   "source": [
    "imdb_data.iloc[0]['Production Co']"
   ]
  },
  {
   "cell_type": "code",
   "execution_count": null,
   "metadata": {
    "collapsed": true
   },
   "outputs": [],
   "source": []
  },
  {
   "cell_type": "code",
   "execution_count": null,
   "metadata": {
    "collapsed": true
   },
   "outputs": [],
   "source": [
    "def co_size(data):\n",
    "    for n in range(len(data)):\n",
    "        data.iloc[n].loc['Production Co Size'] = ''\n",
    "        if data.iloc[n].loc['Production Co'] in Large_Cos:\n",
    "            data.iloc[n].loc['Production Co Size'] = 'Large'\n",
    "        elif data.iloc[n]['Production Co'] in Medium_Cos:\n",
    "            data.iloc[n].loc['Production Co Size'] = 'Medium'\n",
    "        else:\n",
    "            data.iloc[n].loc['Production Co Size'] = 'Small'"
   ]
  },
  {
   "cell_type": "code",
   "execution_count": null,
   "metadata": {
    "collapsed": true
   },
   "outputs": [],
   "source": [
    "copy = imdb_data"
   ]
  },
  {
   "cell_type": "code",
   "execution_count": null,
   "metadata": {
    "collapsed": false
   },
   "outputs": [],
   "source": [
    "copy.iloc[0].loc['Production Co']"
   ]
  },
  {
   "cell_type": "code",
   "execution_count": null,
   "metadata": {
    "collapsed": false
   },
   "outputs": [],
   "source": [
    "co_size(copy)"
   ]
  },
  {
   "cell_type": "code",
   "execution_count": null,
   "metadata": {
    "collapsed": false
   },
   "outputs": [],
   "source": [
    "copy"
   ]
  },
  {
   "cell_type": "code",
   "execution_count": null,
   "metadata": {
    "collapsed": false
   },
   "outputs": [],
   "source": [
    "copy['Production Co Size']"
   ]
  },
  {
   "cell_type": "markdown",
   "metadata": {},
   "source": [
    "### Exploratory Data Analysis"
   ]
  },
  {
   "cell_type": "code",
   "execution_count": null,
   "metadata": {
    "collapsed": false
   },
   "outputs": [],
   "source": [
    "# Budget vs Gross Scatterplot\n",
    "\n",
    "plt.figure(figsize=(10,8))\n",
    "plt.scatter(imdb_data['Budget'], imdb_data['Gross'])\n",
    "plt.xlabel('Budget')\n",
    "plt.ylabel('Domestic Total Gross')\n",
    "plt.title('Budget vs Domestic Total Gross')"
   ]
  },
  {
   "cell_type": "code",
   "execution_count": null,
   "metadata": {
    "collapsed": false
   },
   "outputs": [],
   "source": [
    "# Rating vs Gross Scatterplot\n",
    "\n",
    "plt.figure(figsize=(10,8))\n",
    "plt.scatter(imdb_data['Rating Score'], imdb_data['Gross'])\n",
    "plt.xlabel('Rating Score')\n",
    "plt.ylabel('Domestic Total Gross')\n",
    "plt.title('Rating Score vs Domestic Total Gross')"
   ]
  },
  {
   "cell_type": "code",
   "execution_count": null,
   "metadata": {
    "collapsed": true
   },
   "outputs": [],
   "source": []
  },
  {
   "cell_type": "code",
   "execution_count": null,
   "metadata": {
    "collapsed": false
   },
   "outputs": [],
   "source": [
    "# Bar plots of production co counts\n",
    "\n",
    "plt.figure(figsize=(10,8))\n",
    "imdb_df['Production Co'].value_counts().plot(kind='bar')"
   ]
  },
  {
   "cell_type": "markdown",
   "metadata": {},
   "source": [
    "### Linear Regression"
   ]
  },
  {
   "cell_type": "markdown",
   "metadata": {},
   "source": [
    "#### First Model"
   ]
  },
  {
   "cell_type": "code",
   "execution_count": null,
   "metadata": {
    "collapsed": true
   },
   "outputs": [],
   "source": [
    "# Create feature matrix (X) and target vector (y)\n",
    "\n",
    "y, X = patsy.dmatrices('Y ~ X1 + X2 + X3 + X4 + X5 + X6', data=df, return_type=\"dataframe\")\n",
    "\n",
    "# Create the model\n",
    "\n",
    "model = sm.OLS(y, X)\n",
    "\n",
    "# Fit the model to the training set\n",
    "\n",
    "fit = model.fit()\n",
    "\n",
    "# Print summary statistics of the model's performance\n",
    "\n",
    "fit.summary()"
   ]
  },
  {
   "cell_type": "markdown",
   "metadata": {},
   "source": [
    "#### Cross Validation"
   ]
  },
  {
   "cell_type": "code",
   "execution_count": null,
   "metadata": {
    "collapsed": true
   },
   "outputs": [],
   "source": [
    "lr = LinearRegression()\n",
    "\n",
    "X_train, X_test, y_train, y_test = train_test_split(X, y, test_size=0.3)\n",
    "\n",
    "lr.fit(X_train, y_train)\n",
    "# Evaluate the model against the testing data\n",
    "lr.score(X_test, y_test)"
   ]
  },
  {
   "cell_type": "code",
   "execution_count": null,
   "metadata": {
    "collapsed": true
   },
   "outputs": [],
   "source": [
    "# Lasso\n",
    "\n",
    "X_scaled = preprocessing.scale(X)\n",
    "\n",
    "lasso_cv = linear_model.LassoCV(cv = 5, normalize = False, verbose = True, random_state = 42)\n",
    "lasso_cv.fit(X_scaled, y)\n",
    "\n",
    "lasso_cv.mse_path_\n",
    "\n",
    "lasso_cv.coef_"
   ]
  }
 ],
 "metadata": {
  "anaconda-cloud": {},
  "kernelspec": {
   "display_name": "Python [default]",
   "language": "python",
   "name": "python3"
  },
  "language_info": {
   "codemirror_mode": {
    "name": "ipython",
    "version": 3
   },
   "file_extension": ".py",
   "mimetype": "text/x-python",
   "name": "python",
   "nbconvert_exporter": "python",
   "pygments_lexer": "ipython3",
   "version": "3.5.2"
  }
 },
 "nbformat": 4,
 "nbformat_minor": 1
}
