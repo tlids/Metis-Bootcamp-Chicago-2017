{
 "cells": [
  {
   "cell_type": "markdown",
   "metadata": {},
   "source": [
    "Classification Error Metric Challenges\n",
    "\n",
    "**Settings: Where applicable, use test_size=0.30, random_state=4444. This will permit comparison of results across users.\n",
    "\n",
    "These reference the Classification Challenges."
   ]
  },
  {
   "cell_type": "markdown",
   "metadata": {},
   "source": [
    "#### Challenge 1\n",
    "\n",
    "For the house representatives data set, calculate the accuracy, precision, recall and f1 scores of each classifier you built (on the test set).\n",
    "\n"
   ]
  },
  {
   "cell_type": "code",
   "execution_count": 215,
   "metadata": {
    "collapsed": false
   },
   "outputs": [],
   "source": [
    "import numpy as np\n",
    "import pandas as pd\n",
    "from sklearn.linear_model import LogisticRegression\n",
    "from sklearn.neighbors import KNeighborsClassifier\n",
    "from sklearn.naive_bayes import GaussianNB\n",
    "from sklearn.svm import SVC\n",
    "from sklearn.tree import DecisionTreeClassifier\n",
    "from sklearn.ensemble import RandomForestClassifier\n",
    "from sklearn.metrics import accuracy_score\n",
    "from sklearn.metrics import recall_score\n",
    "from sklearn.metrics import precision_score\n",
    "from sklearn.metrics import f1_score\n",
    "from sklearn.metrics import roc_curve\n",
    "from sklearn.metrics import auc\n",
    "from sklearn.model_selection import train_test_split\n",
    "from sklearn.model_selection import cross_val_score\n",
    "import matplotlib.pyplot as plt\n",
    "import warnings\n",
    "\n",
    "%matplotlib inline"
   ]
  },
  {
   "cell_type": "code",
   "execution_count": 216,
   "metadata": {
    "collapsed": false
   },
   "outputs": [],
   "source": [
    "with warnings.catch_warnings():\n",
    "    warnings.simplefilter(\"ignore\")"
   ]
  },
  {
   "cell_type": "code",
   "execution_count": 217,
   "metadata": {
    "collapsed": false
   },
   "outputs": [],
   "source": [
    "# Read the data \n",
    "\n",
    "VR = pd.read_csv('house-votes-84.csv', header = None)"
   ]
  },
  {
   "cell_type": "code",
   "execution_count": 218,
   "metadata": {
    "collapsed": false
   },
   "outputs": [
    {
     "data": {
      "text/html": [
       "<div>\n",
       "<table border=\"1\" class=\"dataframe\">\n",
       "  <thead>\n",
       "    <tr style=\"text-align: right;\">\n",
       "      <th></th>\n",
       "      <th>1</th>\n",
       "      <th>2</th>\n",
       "      <th>3</th>\n",
       "      <th>4</th>\n",
       "      <th>5</th>\n",
       "      <th>6</th>\n",
       "      <th>7</th>\n",
       "      <th>8</th>\n",
       "      <th>9</th>\n",
       "      <th>10</th>\n",
       "      <th>11</th>\n",
       "      <th>12</th>\n",
       "      <th>13</th>\n",
       "      <th>14</th>\n",
       "      <th>15</th>\n",
       "      <th>16</th>\n",
       "      <th>Party</th>\n",
       "    </tr>\n",
       "  </thead>\n",
       "  <tbody>\n",
       "    <tr>\n",
       "      <th>0</th>\n",
       "      <td>0.00000</td>\n",
       "      <td>1.0</td>\n",
       "      <td>0.0</td>\n",
       "      <td>1.000000</td>\n",
       "      <td>1.000000</td>\n",
       "      <td>1.0</td>\n",
       "      <td>0.0</td>\n",
       "      <td>0.0</td>\n",
       "      <td>0.0</td>\n",
       "      <td>1.0</td>\n",
       "      <td>0.362319</td>\n",
       "      <td>1.000000</td>\n",
       "      <td>1.0</td>\n",
       "      <td>1.0</td>\n",
       "      <td>0.0</td>\n",
       "      <td>1.000000</td>\n",
       "      <td>republican</td>\n",
       "    </tr>\n",
       "    <tr>\n",
       "      <th>1</th>\n",
       "      <td>0.00000</td>\n",
       "      <td>1.0</td>\n",
       "      <td>0.0</td>\n",
       "      <td>1.000000</td>\n",
       "      <td>1.000000</td>\n",
       "      <td>1.0</td>\n",
       "      <td>0.0</td>\n",
       "      <td>0.0</td>\n",
       "      <td>0.0</td>\n",
       "      <td>0.0</td>\n",
       "      <td>0.000000</td>\n",
       "      <td>1.000000</td>\n",
       "      <td>1.0</td>\n",
       "      <td>1.0</td>\n",
       "      <td>0.0</td>\n",
       "      <td>0.812689</td>\n",
       "      <td>republican</td>\n",
       "    </tr>\n",
       "    <tr>\n",
       "      <th>2</th>\n",
       "      <td>0.44208</td>\n",
       "      <td>1.0</td>\n",
       "      <td>1.0</td>\n",
       "      <td>0.417453</td>\n",
       "      <td>1.000000</td>\n",
       "      <td>1.0</td>\n",
       "      <td>0.0</td>\n",
       "      <td>0.0</td>\n",
       "      <td>0.0</td>\n",
       "      <td>0.0</td>\n",
       "      <td>1.000000</td>\n",
       "      <td>0.000000</td>\n",
       "      <td>1.0</td>\n",
       "      <td>1.0</td>\n",
       "      <td>0.0</td>\n",
       "      <td>0.000000</td>\n",
       "      <td>democrat</td>\n",
       "    </tr>\n",
       "    <tr>\n",
       "      <th>3</th>\n",
       "      <td>0.00000</td>\n",
       "      <td>1.0</td>\n",
       "      <td>1.0</td>\n",
       "      <td>0.000000</td>\n",
       "      <td>0.504762</td>\n",
       "      <td>1.0</td>\n",
       "      <td>0.0</td>\n",
       "      <td>0.0</td>\n",
       "      <td>0.0</td>\n",
       "      <td>0.0</td>\n",
       "      <td>1.000000</td>\n",
       "      <td>0.000000</td>\n",
       "      <td>1.0</td>\n",
       "      <td>0.0</td>\n",
       "      <td>0.0</td>\n",
       "      <td>1.000000</td>\n",
       "      <td>democrat</td>\n",
       "    </tr>\n",
       "    <tr>\n",
       "      <th>4</th>\n",
       "      <td>1.00000</td>\n",
       "      <td>1.0</td>\n",
       "      <td>1.0</td>\n",
       "      <td>0.000000</td>\n",
       "      <td>1.000000</td>\n",
       "      <td>1.0</td>\n",
       "      <td>0.0</td>\n",
       "      <td>0.0</td>\n",
       "      <td>0.0</td>\n",
       "      <td>0.0</td>\n",
       "      <td>1.000000</td>\n",
       "      <td>0.423267</td>\n",
       "      <td>1.0</td>\n",
       "      <td>1.0</td>\n",
       "      <td>1.0</td>\n",
       "      <td>1.000000</td>\n",
       "      <td>democrat</td>\n",
       "    </tr>\n",
       "  </tbody>\n",
       "</table>\n",
       "</div>"
      ],
      "text/plain": [
       "         1    2    3         4         5    6    7    8    9   10        11  \\\n",
       "0  0.00000  1.0  0.0  1.000000  1.000000  1.0  0.0  0.0  0.0  1.0  0.362319   \n",
       "1  0.00000  1.0  0.0  1.000000  1.000000  1.0  0.0  0.0  0.0  0.0  0.000000   \n",
       "2  0.44208  1.0  1.0  0.417453  1.000000  1.0  0.0  0.0  0.0  0.0  1.000000   \n",
       "3  0.00000  1.0  1.0  0.000000  0.504762  1.0  0.0  0.0  0.0  0.0  1.000000   \n",
       "4  1.00000  1.0  1.0  0.000000  1.000000  1.0  0.0  0.0  0.0  0.0  1.000000   \n",
       "\n",
       "         12   13   14   15        16       Party  \n",
       "0  1.000000  1.0  1.0  0.0  1.000000  republican  \n",
       "1  1.000000  1.0  1.0  0.0  0.812689  republican  \n",
       "2  0.000000  1.0  1.0  0.0  0.000000    democrat  \n",
       "3  0.000000  1.0  0.0  0.0  1.000000    democrat  \n",
       "4  0.423267  1.0  1.0  1.0  1.000000    democrat  "
      ]
     },
     "execution_count": 218,
     "metadata": {},
     "output_type": "execute_result"
    }
   ],
   "source": [
    "# Data Processing\n",
    "\n",
    "VR.columns = ['1', '2', '3', '4', '5', '6', '7', '8', '9', '10', '11', '12', '13', '14', '15', \n",
    "              '16', 'Party']\n",
    "\n",
    "VR.replace('y', 1, inplace = True)\n",
    "VR.replace('n', 0, inplace = True)\n",
    "VR.replace('democrat.', 'democrat', inplace = True)\n",
    "VR.replace('republican.', 'republican', inplace = True)\n",
    "\n",
    "VR.replace('?', np.NaN, inplace = True)\n",
    "VR.fillna(VR.mean(), inplace = True).head()"
   ]
  },
  {
   "cell_type": "code",
   "execution_count": 219,
   "metadata": {
    "collapsed": true
   },
   "outputs": [],
   "source": [
    "Y = VR[['Party']]\n",
    "X = VR.drop('Party', axis = 1)"
   ]
  },
  {
   "cell_type": "code",
   "execution_count": 220,
   "metadata": {
    "collapsed": false
   },
   "outputs": [],
   "source": [
    "X_train, X_test, Y_train, Y_test = train_test_split(X, Y, test_size = 0.3, random_state = 4444)"
   ]
  },
  {
   "cell_type": "code",
   "execution_count": 221,
   "metadata": {
    "collapsed": false
   },
   "outputs": [
    {
     "name": "stdout",
     "output_type": "stream",
     "text": [
      "0.93893129771\n",
      "0.931457431457\n",
      "0.942962962963\n",
      "0.936222005842\n"
     ]
    },
    {
     "name": "stderr",
     "output_type": "stream",
     "text": [
      "//anaconda/lib/python3.5/site-packages/sklearn/utils/validation.py:526: DataConversionWarning: A column-vector y was passed when a 1d array was expected. Please change the shape of y to (n_samples, ), for example using ravel().\n",
      "  y = column_or_1d(y, warn=True)\n"
     ]
    }
   ],
   "source": [
    "# Logistic Regression \n",
    "\n",
    "model = LogisticRegression()\n",
    "model.fit(X_train, Y_train)\n",
    "pred = model.predict(X_test)\n",
    "\n",
    "print (accuracy_score(Y_test, pred))\n",
    "print (recall_score(Y_test, pred, average = 'macro'))\n",
    "print (precision_score(Y_test, pred, average = 'macro'))\n",
    "print (f1_score(Y_test, pred, average = 'macro'))\n"
   ]
  },
  {
   "cell_type": "code",
   "execution_count": 222,
   "metadata": {
    "collapsed": false
   },
   "outputs": [
    {
     "name": "stdout",
     "output_type": "stream",
     "text": [
      "0.916030534351\n",
      "0.911976911977\n",
      "0.914368650218\n",
      "0.913114259873\n"
     ]
    },
    {
     "name": "stderr",
     "output_type": "stream",
     "text": [
      "//anaconda/lib/python3.5/site-packages/ipykernel/__main__.py:4: DataConversionWarning: A column-vector y was passed when a 1d array was expected. Please change the shape of y to (n_samples, ), for example using ravel().\n"
     ]
    }
   ],
   "source": [
    "# KNN\n",
    "\n",
    "model = KNeighborsClassifier()\n",
    "model.fit(X_train, Y_train)\n",
    "pred = model.predict(X_test)\n",
    "\n",
    "print (accuracy_score(Y_test, pred))\n",
    "print (recall_score(Y_test, pred, average = 'macro'))\n",
    "print (precision_score(Y_test, pred, average = 'macro'))\n",
    "print (f1_score(Y_test, pred, average = 'macro'))\n"
   ]
  },
  {
   "cell_type": "code",
   "execution_count": 223,
   "metadata": {
    "collapsed": false
   },
   "outputs": [
    {
     "name": "stdout",
     "output_type": "stream",
     "text": [
      "0.93893129771\n",
      "0.928691678692\n",
      "0.947414658635\n",
      "0.935784313725\n"
     ]
    },
    {
     "name": "stderr",
     "output_type": "stream",
     "text": [
      "//anaconda/lib/python3.5/site-packages/sklearn/utils/validation.py:526: DataConversionWarning: A column-vector y was passed when a 1d array was expected. Please change the shape of y to (n_samples, ), for example using ravel().\n",
      "  y = column_or_1d(y, warn=True)\n"
     ]
    }
   ],
   "source": [
    "# Gaussian Naive Bayes model \n",
    "\n",
    "model = GaussianNB()\n",
    "model.fit(X_train, Y_train)\n",
    "pred = model.predict(X_test)\n",
    "\n",
    "print (accuracy_score(Y_test, pred))\n",
    "print (recall_score(Y_test, pred, average = 'macro'))\n",
    "print (precision_score(Y_test, pred, average = 'macro'))\n",
    "print (f1_score(Y_test, pred, average = 'macro'))\n"
   ]
  },
  {
   "cell_type": "code",
   "execution_count": 224,
   "metadata": {
    "collapsed": false
   },
   "outputs": [
    {
     "name": "stdout",
     "output_type": "stream",
     "text": [
      "0.954198473282\n",
      "0.949975949976\n",
      "0.955452775073\n",
      "0.952467343977\n"
     ]
    },
    {
     "name": "stderr",
     "output_type": "stream",
     "text": [
      "//anaconda/lib/python3.5/site-packages/sklearn/utils/validation.py:526: DataConversionWarning: A column-vector y was passed when a 1d array was expected. Please change the shape of y to (n_samples, ), for example using ravel().\n",
      "  y = column_or_1d(y, warn=True)\n"
     ]
    }
   ],
   "source": [
    "# Support Vector Machine model\n",
    "\n",
    "model = SVC()\n",
    "model.fit(X_train, Y_train)\n",
    "pred = model.predict(X_test)\n",
    "\n",
    "print (accuracy_score(Y_test, pred))\n",
    "print (recall_score(Y_test, pred, average = 'macro'))\n",
    "print (precision_score(Y_test, pred, average = 'macro'))\n",
    "print (f1_score(Y_test, pred, average = 'macro'))\n"
   ]
  },
  {
   "cell_type": "code",
   "execution_count": 225,
   "metadata": {
    "collapsed": false
   },
   "outputs": [
    {
     "name": "stdout",
     "output_type": "stream",
     "text": [
      "0.946564885496\n",
      "0.940716690717\n",
      "0.949142156863\n",
      "0.944373673036\n"
     ]
    }
   ],
   "source": [
    "# Decision Tree model\n",
    "\n",
    "model = DecisionTreeClassifier()\n",
    "model.fit(X_train, Y_train)\n",
    "pred = model.predict(X_test)\n",
    "\n",
    "print (accuracy_score(Y_test, pred))\n",
    "print (recall_score(Y_test, pred, average = 'macro'))\n",
    "print (precision_score(Y_test, pred, average = 'macro'))\n",
    "print (f1_score(Y_test, pred, average = 'macro'))\n"
   ]
  },
  {
   "cell_type": "code",
   "execution_count": 226,
   "metadata": {
    "collapsed": false
   },
   "outputs": [
    {
     "name": "stderr",
     "output_type": "stream",
     "text": [
      "//anaconda/lib/python3.5/site-packages/ipykernel/__main__.py:4: DataConversionWarning: A column-vector y was passed when a 1d array was expected. Please change the shape of y to (n_samples,), for example using ravel().\n"
     ]
    },
    {
     "name": "stdout",
     "output_type": "stream",
     "text": [
      "0.954198473282\n",
      "0.94721019721\n",
      "0.959135802469\n",
      "0.952166504382\n"
     ]
    }
   ],
   "source": [
    "# Random Forest model\n",
    "\n",
    "model = RandomForestClassifier()\n",
    "model.fit(X_train, Y_train)\n",
    "pred = model.predict(X_test)\n",
    "\n",
    "y_score = accuracy_score(Y_test, pred)\n",
    "print (accuracy_score(Y_test, pred))\n",
    "print (recall_score(Y_test, pred, average = 'macro'))\n",
    "print (precision_score(Y_test, pred, average = 'macro'))\n",
    "print (f1_score(Y_test, pred, average = 'macro'))\n"
   ]
  },
  {
   "cell_type": "markdown",
   "metadata": {},
   "source": [
    "#### Challenge 2\n",
    "\n",
    "For each, draw the ROC curve and calculate the AUC."
   ]
  },
  {
   "cell_type": "code",
   "execution_count": 227,
   "metadata": {
    "collapsed": false
   },
   "outputs": [
    {
     "name": "stderr",
     "output_type": "stream",
     "text": [
      "//anaconda/lib/python3.5/site-packages/sklearn/utils/validation.py:526: DataConversionWarning: A column-vector y was passed when a 1d array was expected. Please change the shape of y to (n_samples, ), for example using ravel().\n",
      "  y = column_or_1d(y, warn=True)\n"
     ]
    },
    {
     "name": "stdout",
     "output_type": "stream",
     "text": [
      "AUC is: 0.987734487734\n"
     ]
    },
    {
     "data": {
      "image/png": "[encoded data removed]",
      "text/plain": [
       "<matplotlib.figure.Figure at 0x116de2be0>"
      ]
     },
     "metadata": {},
     "output_type": "display_data"
    }
   ],
   "source": [
    "# Logistic Regression \n",
    "\n",
    "model = LogisticRegression()\n",
    "model.fit(X_train, Y_train)\n",
    "pred_prob = model.predict_proba(X_test)\n",
    "\n",
    "fpr, tpr, threshold = roc_curve(Y_test, pred_prob[:,0], pos_label = 'democrat')\n",
    "plt.plot(fpr, tpr)\n",
    "plt.plot([0,1], [0,1],'r--')\n",
    "\n",
    "a = auc(fpr, tpr)\n",
    "print('AUC is:',a)"
   ]
  },
  {
   "cell_type": "code",
   "execution_count": 228,
   "metadata": {
    "collapsed": false
   },
   "outputs": [
    {
     "name": "stderr",
     "output_type": "stream",
     "text": [
      "//anaconda/lib/python3.5/site-packages/ipykernel/__main__.py:4: DataConversionWarning: A column-vector y was passed when a 1d array was expected. Please change the shape of y to (n_samples, ), for example using ravel().\n"
     ]
    },
    {
     "name": "stdout",
     "output_type": "stream",
     "text": [
      "AUC is: 0.948412698413\n"
     ]
    },
    {
     "data": {
      "image/png": "[encoded data removed]",
      "text/plain": [
       "<matplotlib.figure.Figure at 0x1169b46d8>"
      ]
     },
     "metadata": {},
     "output_type": "display_data"
    }
   ],
   "source": [
    "# KNN\n",
    "\n",
    "model = KNeighborsClassifier()\n",
    "model.fit(X_train, Y_train)\n",
    "pred_prob = model.predict_proba(X_test)\n",
    "\n",
    "fpr, tpr, threshold = roc_curve(Y_test, pred_prob[:,0], pos_label = 'democrat')\n",
    "plt.plot(fpr, tpr)\n",
    "plt.plot([0,1], [0,1],'r--')\n",
    "\n",
    "a = auc(fpr, tpr)\n",
    "print('AUC is:',a)"
   ]
  },
  {
   "cell_type": "code",
   "execution_count": 229,
   "metadata": {
    "collapsed": false
   },
   "outputs": [
    {
     "name": "stderr",
     "output_type": "stream",
     "text": [
      "//anaconda/lib/python3.5/site-packages/sklearn/utils/validation.py:526: DataConversionWarning: A column-vector y was passed when a 1d array was expected. Please change the shape of y to (n_samples, ), for example using ravel().\n",
      "  y = column_or_1d(y, warn=True)\n"
     ]
    },
    {
     "name": "stdout",
     "output_type": "stream",
     "text": [
      "AUC is: 0.977032227032\n"
     ]
    },
    {
     "data": {
      "image/png": "[encoded data removed]",
      "text/plain": [
       "<matplotlib.figure.Figure at 0x116764908>"
      ]
     },
     "metadata": {},
     "output_type": "display_data"
    }
   ],
   "source": [
    "# Gaussian Naive Bayes model \n",
    "\n",
    "model = GaussianNB()\n",
    "model.fit(X_train, Y_train)\n",
    "pred_prob = model.predict_proba(X_test)\n",
    "\n",
    "fpr, tpr, threshold = roc_curve(Y_test, pred_prob[:,0], pos_label = 'democrat')\n",
    "plt.plot(fpr, tpr)\n",
    "plt.plot([0,1], [0,1],'r--')\n",
    "\n",
    "a = auc(fpr, tpr)\n",
    "print('AUC is:',a)"
   ]
  },
  {
   "cell_type": "code",
   "execution_count": 230,
   "metadata": {
    "collapsed": false
   },
   "outputs": [
    {
     "name": "stderr",
     "output_type": "stream",
     "text": [
      "//anaconda/lib/python3.5/site-packages/sklearn/utils/validation.py:526: DataConversionWarning: A column-vector y was passed when a 1d array was expected. Please change the shape of y to (n_samples, ), for example using ravel().\n",
      "  y = column_or_1d(y, warn=True)\n"
     ]
    },
    {
     "name": "stdout",
     "output_type": "stream",
     "text": [
      "AUC is: 0.994949494949\n"
     ]
    },
    {
     "data": {
      "image/png": "[encoded data removed]",
      "text/plain": [
       "<matplotlib.figure.Figure at 0x117594a90>"
      ]
     },
     "metadata": {},
     "output_type": "display_data"
    }
   ],
   "source": [
    "# Support Vector Machine model\n",
    "\n",
    "model = SVC(probability = True)\n",
    "model.fit(X_train, Y_train)\n",
    "pred_prob = model.predict_proba(X_test)\n",
    "\n",
    "fpr, tpr, threshold = roc_curve(Y_test, pred_prob[:,0], pos_label = 'democrat')\n",
    "plt.plot(fpr, tpr)\n",
    "plt.plot([0,1], [0,1],'r--')\n",
    "\n",
    "a = auc(fpr, tpr)\n",
    "print('AUC is:',a)"
   ]
  },
  {
   "cell_type": "code",
   "execution_count": 231,
   "metadata": {
    "collapsed": false
   },
   "outputs": [
    {
     "name": "stdout",
     "output_type": "stream",
     "text": [
      "AUC is: 0.931457431457\n"
     ]
    },
    {
     "data": {
      "image/png": "[encoded data removed]",
      "text/plain": [
       "<matplotlib.figure.Figure at 0x117615630>"
      ]
     },
     "metadata": {},
     "output_type": "display_data"
    }
   ],
   "source": [
    "# Decision Tree model\n",
    "\n",
    "model = DecisionTreeClassifier()\n",
    "model.fit(X_train, Y_train)\n",
    "pred_prob = model.predict_proba(X_test)\n",
    "\n",
    "fpr, tpr, threshold = roc_curve(Y_test, pred_prob[:,0], pos_label = 'democrat')\n",
    "plt.plot(fpr, tpr)\n",
    "plt.plot([0,1], [0,1],'r--')\n",
    "\n",
    "a = auc(fpr, tpr)\n",
    "print('AUC is:',a)"
   ]
  },
  {
   "cell_type": "code",
   "execution_count": 232,
   "metadata": {
    "collapsed": false
   },
   "outputs": [
    {
     "name": "stderr",
     "output_type": "stream",
     "text": [
      "//anaconda/lib/python3.5/site-packages/ipykernel/__main__.py:4: DataConversionWarning: A column-vector y was passed when a 1d array was expected. Please change the shape of y to (n_samples,), for example using ravel().\n"
     ]
    },
    {
     "name": "stdout",
     "output_type": "stream",
     "text": [
      "AUC is: 0.991462241462\n"
     ]
    },
    {
     "data": {
      "image/png": "[encoded data removed]",
      "text/plain": [
       "<matplotlib.figure.Figure at 0x116c0c780>"
      ]
     },
     "metadata": {},
     "output_type": "display_data"
    }
   ],
   "source": [
    "# Random Forest model\n",
    "\n",
    "model = RandomForestClassifier()\n",
    "model.fit(X_train, Y_train)\n",
    "pred_prob = model.predict_proba(X_test)\n",
    "\n",
    "fpr, tpr, threshold = roc_curve(Y_test, pred_prob[:,0], pos_label = 'democrat')\n",
    "plt.plot(fpr, tpr)\n",
    "plt.plot([0,1], [0,1],'r--')\n",
    "\n",
    "a = auc(fpr, tpr)\n",
    "print('AUC is:',a)"
   ]
  },
  {
   "cell_type": "code",
   "execution_count": null,
   "metadata": {
    "collapsed": true
   },
   "outputs": [],
   "source": []
  },
  {
   "cell_type": "code",
   "execution_count": null,
   "metadata": {
    "collapsed": true
   },
   "outputs": [],
   "source": []
  },
  {
   "cell_type": "code",
   "execution_count": null,
   "metadata": {
    "collapsed": true
   },
   "outputs": [],
   "source": []
  },
  {
   "cell_type": "markdown",
   "metadata": {},
   "source": [
    "#### Challenge 3\n",
    "\n",
    "Calculate the same metrics you did in challenge 1, but this time in a cross validation scheme with the cross_val_score function (like in Challenge 9)."
   ]
  },
  {
   "cell_type": "code",
   "execution_count": 233,
   "metadata": {
    "collapsed": false
   },
   "outputs": [
    {
     "name": "stdout",
     "output_type": "stream",
     "text": [
      "0.96091954023\n",
      "0.96091954023\n",
      "0.96091954023\n",
      "0.96091954023\n"
     ]
    }
   ],
   "source": [
    "# Logistic Regression \n",
    "\n",
    "model = LogisticRegression()\n",
    "\n",
    "print (np.mean(cross_val_score(model, X, VR['Party'], scoring = 'accuracy')))\n",
    "print (np.mean(cross_val_score(model, X, VR['Party'], scoring = 'precision_micro')))\n",
    "print (np.mean(cross_val_score(model, X, VR['Party'], scoring = 'recall_micro')))\n",
    "print (np.mean(cross_val_score(model, X, VR['Party'], scoring = 'f1_micro')))"
   ]
  },
  {
   "cell_type": "code",
   "execution_count": 234,
   "metadata": {
    "collapsed": false
   },
   "outputs": [
    {
     "name": "stdout",
     "output_type": "stream",
     "text": [
      "0.933333333333\n",
      "0.933333333333\n",
      "0.933333333333\n",
      "0.933333333333\n"
     ]
    }
   ],
   "source": [
    "# KNN\n",
    "\n",
    "model = model = KNeighborsClassifier()\n",
    "\n",
    "print (np.mean(cross_val_score(model, X, VR['Party'], scoring = 'accuracy')))\n",
    "print (np.mean(cross_val_score(model, X, VR['Party'], scoring = 'precision_micro')))\n",
    "print (np.mean(cross_val_score(model, X, VR['Party'], scoring = 'recall_micro')))\n",
    "print (np.mean(cross_val_score(model, X, VR['Party'], scoring = 'f1_micro')))"
   ]
  },
  {
   "cell_type": "code",
   "execution_count": 235,
   "metadata": {
    "collapsed": false
   },
   "outputs": [
    {
     "name": "stdout",
     "output_type": "stream",
     "text": [
      "0.96091954023\n",
      "0.96091954023\n",
      "0.96091954023\n",
      "0.96091954023\n"
     ]
    }
   ],
   "source": [
    "# Gaussian Naive Bayes model \n",
    "\n",
    "model = LogisticRegression()\n",
    "\n",
    "print (np.mean(cross_val_score(model, X, VR['Party'], scoring = 'accuracy')))\n",
    "print (np.mean(cross_val_score(model, X, VR['Party'], scoring = 'precision_micro')))\n",
    "print (np.mean(cross_val_score(model, X, VR['Party'], scoring = 'recall_micro')))\n",
    "print (np.mean(cross_val_score(model, X, VR['Party'], scoring = 'f1_micro')))"
   ]
  },
  {
   "cell_type": "code",
   "execution_count": 236,
   "metadata": {
    "collapsed": false
   },
   "outputs": [
    {
     "name": "stdout",
     "output_type": "stream",
     "text": [
      "0.954022988506\n",
      "0.954022988506\n",
      "0.954022988506\n",
      "0.954022988506\n"
     ]
    }
   ],
   "source": [
    "# Support Vector Machine model\n",
    "\n",
    "model = SVC()\n",
    "\n",
    "print (np.mean(cross_val_score(model, X, VR['Party'], scoring = 'accuracy')))\n",
    "print (np.mean(cross_val_score(model, X, VR['Party'], scoring = 'precision_micro')))\n",
    "print (np.mean(cross_val_score(model, X, VR['Party'], scoring = 'recall_micro')))\n",
    "print (np.mean(cross_val_score(model, X, VR['Party'], scoring = 'f1_micro')))"
   ]
  },
  {
   "cell_type": "code",
   "execution_count": 237,
   "metadata": {
    "collapsed": false
   },
   "outputs": [
    {
     "name": "stdout",
     "output_type": "stream",
     "text": [
      "0.949425287356\n",
      "0.954022988506\n",
      "0.949425287356\n",
      "0.947126436782\n"
     ]
    }
   ],
   "source": [
    "# Decision Tree model\n",
    "\n",
    "model = DecisionTreeClassifier()\n",
    "\n",
    "print (np.mean(cross_val_score(model, X, VR['Party'], scoring = 'accuracy')))\n",
    "print (np.mean(cross_val_score(model, X, VR['Party'], scoring = 'precision_micro')))\n",
    "print (np.mean(cross_val_score(model, X, VR['Party'], scoring = 'recall_micro')))\n",
    "print (np.mean(cross_val_score(model, X, VR['Party'], scoring = 'f1_micro')))"
   ]
  },
  {
   "cell_type": "code",
   "execution_count": 238,
   "metadata": {
    "collapsed": false
   },
   "outputs": [
    {
     "name": "stdout",
     "output_type": "stream",
     "text": [
      "0.963218390805\n",
      "0.96091954023\n",
      "0.967816091954\n",
      "0.958620689655\n"
     ]
    }
   ],
   "source": [
    "# Random Forest model\n",
    "\n",
    "model = RandomForestClassifier()\n",
    "\n",
    "print (np.mean(cross_val_score(model, X, VR['Party'], scoring = 'accuracy')))\n",
    "print (np.mean(cross_val_score(model, X, VR['Party'], scoring = 'precision_micro')))\n",
    "print (np.mean(cross_val_score(model, X, VR['Party'], scoring = 'recall_micro')))\n",
    "print (np.mean(cross_val_score(model, X, VR['Party'], scoring = 'f1_micro')))"
   ]
  },
  {
   "cell_type": "markdown",
   "metadata": {},
   "source": [
    "#### Challenge 4\n",
    "\n",
    "For your movie classifiers, calculate the precision and recall for each class."
   ]
  },
  {
   "cell_type": "code",
   "execution_count": 239,
   "metadata": {
    "collapsed": true
   },
   "outputs": [],
   "source": [
    "MV = pd.read_csv('2013_movies.csv')"
   ]
  },
  {
   "cell_type": "code",
   "execution_count": 240,
   "metadata": {
    "collapsed": false
   },
   "outputs": [],
   "source": [
    "X_movie = MV.drop(['Title', 'Director', 'Rating', 'ReleaseDate'], axis = 1)\n",
    "Y_movie = MV['Rating']"
   ]
  },
  {
   "cell_type": "code",
   "execution_count": 241,
   "metadata": {
    "collapsed": false
   },
   "outputs": [
    {
     "data": {
      "text/html": [
       "<div>\n",
       "<table border=\"1\" class=\"dataframe\">\n",
       "  <thead>\n",
       "    <tr style=\"text-align: right;\">\n",
       "      <th></th>\n",
       "      <th>Budget</th>\n",
       "      <th>DomesticTotalGross</th>\n",
       "      <th>Runtime</th>\n",
       "    </tr>\n",
       "  </thead>\n",
       "  <tbody>\n",
       "    <tr>\n",
       "      <th>0</th>\n",
       "      <td>130000000.0</td>\n",
       "      <td>424668047</td>\n",
       "      <td>146</td>\n",
       "    </tr>\n",
       "    <tr>\n",
       "      <th>1</th>\n",
       "      <td>200000000.0</td>\n",
       "      <td>409013994</td>\n",
       "      <td>129</td>\n",
       "    </tr>\n",
       "    <tr>\n",
       "      <th>2</th>\n",
       "      <td>150000000.0</td>\n",
       "      <td>400738009</td>\n",
       "      <td>108</td>\n",
       "    </tr>\n",
       "    <tr>\n",
       "      <th>3</th>\n",
       "      <td>76000000.0</td>\n",
       "      <td>368061265</td>\n",
       "      <td>98</td>\n",
       "    </tr>\n",
       "    <tr>\n",
       "      <th>4</th>\n",
       "      <td>225000000.0</td>\n",
       "      <td>291045518</td>\n",
       "      <td>143</td>\n",
       "    </tr>\n",
       "  </tbody>\n",
       "</table>\n",
       "</div>"
      ],
      "text/plain": [
       "        Budget  DomesticTotalGross  Runtime\n",
       "0  130000000.0           424668047      146\n",
       "1  200000000.0           409013994      129\n",
       "2  150000000.0           400738009      108\n",
       "3   76000000.0           368061265       98\n",
       "4  225000000.0           291045518      143"
      ]
     },
     "execution_count": 241,
     "metadata": {},
     "output_type": "execute_result"
    }
   ],
   "source": [
    "X_movie.fillna(X_movie.mean(), inplace = True).head()"
   ]
  },
  {
   "cell_type": "code",
   "execution_count": 242,
   "metadata": {
    "collapsed": false
   },
   "outputs": [
    {
     "name": "stdout",
     "output_type": "stream",
     "text": [
      "0.507765151515\n",
      "0.507765151515\n",
      "0.507765151515\n",
      "0.507765151515\n"
     ]
    },
    {
     "name": "stderr",
     "output_type": "stream",
     "text": [
      "//anaconda/lib/python3.5/site-packages/sklearn/model_selection/_split.py:581: Warning: The least populated class in y has only 1 members, which is too few. The minimum number of groups for any class cannot be less than n_splits=3.\n",
      "  % (min_groups, self.n_splits)), Warning)\n",
      "//anaconda/lib/python3.5/site-packages/sklearn/model_selection/_split.py:581: Warning: The least populated class in y has only 1 members, which is too few. The minimum number of groups for any class cannot be less than n_splits=3.\n",
      "  % (min_groups, self.n_splits)), Warning)\n",
      "//anaconda/lib/python3.5/site-packages/sklearn/model_selection/_split.py:581: Warning: The least populated class in y has only 1 members, which is too few. The minimum number of groups for any class cannot be less than n_splits=3.\n",
      "  % (min_groups, self.n_splits)), Warning)\n",
      "//anaconda/lib/python3.5/site-packages/sklearn/model_selection/_split.py:581: Warning: The least populated class in y has only 1 members, which is too few. The minimum number of groups for any class cannot be less than n_splits=3.\n",
      "  % (min_groups, self.n_splits)), Warning)\n"
     ]
    }
   ],
   "source": [
    "# Logistic Regression \n",
    "\n",
    "model = LogisticRegression()\n",
    "\n",
    "print (np.mean(cross_val_score(model, X_movie, Y_movie, scoring = 'accuracy')))\n",
    "print (np.mean(cross_val_score(model, X_movie, Y_movie, scoring = 'precision_micro')))\n",
    "print (np.mean(cross_val_score(model, X_movie, Y_movie, scoring = 'recall_micro')))\n",
    "print (np.mean(cross_val_score(model, X_movie, Y_movie, scoring = 'f1_micro')))"
   ]
  },
  {
   "cell_type": "markdown",
   "metadata": {},
   "source": [
    "#### Challenge 5\n",
    "\n",
    "Draw the ROC curve (and calculate AUC) for the logistic regression classifier from challenge 12."
   ]
  },
  {
   "cell_type": "code",
   "execution_count": 243,
   "metadata": {
    "collapsed": true
   },
   "outputs": [],
   "source": [
    "HM = pd.read_csv('haberman.csv', header = None)"
   ]
  },
  {
   "cell_type": "code",
   "execution_count": 244,
   "metadata": {
    "collapsed": true
   },
   "outputs": [],
   "source": [
    "# Rename the columns\n",
    "\n",
    "HM.columns = ['Age', 'Yr', 'Axi', 'Surv']"
   ]
  },
  {
   "cell_type": "code",
   "execution_count": 245,
   "metadata": {
    "collapsed": true
   },
   "outputs": [],
   "source": [
    "X_hm = HM.drop(['Surv'], axis = 1)\n",
    "Y_hm = HM['Surv']"
   ]
  },
  {
   "cell_type": "code",
   "execution_count": 246,
   "metadata": {
    "collapsed": false
   },
   "outputs": [],
   "source": [
    "X_train, X_test, Y_train, Y_test = train_test_split(X_hm, Y_hm, test_size = 0.3, random_state = 4444)"
   ]
  },
  {
   "cell_type": "code",
   "execution_count": 247,
   "metadata": {
    "collapsed": false
   },
   "outputs": [
    {
     "name": "stdout",
     "output_type": "stream",
     "text": [
      "AUC is: 0.647522522523\n"
     ]
    },
    {
     "data": {
      "image/png": "[encoded data removed]",
      "text/plain": [
       "<matplotlib.figure.Figure at 0x1172e2828>"
      ]
     },
     "metadata": {},
     "output_type": "display_data"
    }
   ],
   "source": [
    "# Logistic Regression \n",
    "\n",
    "model = LogisticRegression()\n",
    "model.fit(X_train, Y_train)\n",
    "pred_prob = model.predict_proba(X_test)\n",
    "\n",
    "fpr, tpr, threshold = roc_curve(Y_test, pred_prob[:,0], pos_label = 1)\n",
    "plt.plot(fpr, tpr)\n",
    "plt.plot([0,1], [0,1],'r--')\n",
    "\n",
    "a = auc(fpr, tpr)\n",
    "print('AUC is:',a)"
   ]
  },
  {
   "cell_type": "code",
   "execution_count": null,
   "metadata": {
    "collapsed": true
   },
   "outputs": [],
   "source": []
  }
 ],
 "metadata": {
  "kernelspec": {
   "display_name": "Python [default]",
   "language": "python",
   "name": "python3"
  },
  "language_info": {
   "codemirror_mode": {
    "name": "ipython",
    "version": 3
   },
   "file_extension": ".py",
   "mimetype": "text/x-python",
   "name": "python",
   "nbconvert_exporter": "python",
   "pygments_lexer": "ipython3",
   "version": "3.5.2"
  }
 },
 "nbformat": 4,
 "nbformat_minor": 1
}
