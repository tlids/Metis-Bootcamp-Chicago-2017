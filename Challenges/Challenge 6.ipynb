{
 "cells": [
  {
   "cell_type": "markdown",
   "metadata": {},
   "source": [
    "### Linear Regression and Learning Curve challenges\n",
    "\n",
    "#### Challenge 1\n",
    "\n",
    "Generate (fake) data that is linearly related to log(x).\n",
    "\n",
    "You are making this model up. It is of the form B0 + B1*log(x) + epsilon. (You are making up the parameters.)\n",
    "\n",
    "Simulate some data from this model.\n",
    "\n",
    "Then fit two models to it:\n",
    "\n",
    "quadratic (second degree polynomial)\n",
    "logarithmic (log(x))\n",
    "(The second one should fit really well, since it has the same form as the underlying model!)"
   ]
  },
  {
   "cell_type": "code",
   "execution_count": 271,
   "metadata": {
    "collapsed": false
   },
   "outputs": [],
   "source": [
    "import random\n",
    "import math\n",
    "import pandas as pd\n",
    "import numpy as np\n",
    "import statsmodels.api as sm\n",
    "import patsy\n",
    "import matplotlib.pyplot as plt\n",
    "from sklearn.cross_validation import train_test_split\n",
    "from sklearn.linear_model import LinearRegression\n",
    "from sklearn import metrics\n",
    "\n",
    "%matplotlib inline"
   ]
  },
  {
   "cell_type": "code",
   "execution_count": 107,
   "metadata": {
    "collapsed": true
   },
   "outputs": [],
   "source": [
    "B0 = 5\n",
    "B1 = 10\n",
    "\n",
    "epsilon = np.array([random.random() for i in range(100)])\n",
    "\n",
    "epsilon"
   ]
  },
  {
   "cell_type": "code",
   "execution_count": 125,
   "metadata": {
    "collapsed": true
   },
   "outputs": [],
   "source": [
    "X = random.sample(range(1,101), 100)"
   ]
  },
  {
   "cell_type": "code",
   "execution_count": 126,
   "metadata": {
    "collapsed": true
   },
   "outputs": [],
   "source": [
    "log_x = np.log(X)"
   ]
  },
  {
   "cell_type": "code",
   "execution_count": 127,
   "metadata": {
    "collapsed": false
   },
   "outputs": [],
   "source": [
    "Y = B0 + B1 * log_x + epsilon"
   ]
  },
  {
   "cell_type": "code",
   "execution_count": 128,
   "metadata": {
    "collapsed": false
   },
   "outputs": [
    {
     "data": {
      "text/plain": [
       "<matplotlib.collections.PathCollection at 0x115ddba90>"
      ]
     },
     "execution_count": 128,
     "metadata": {},
     "output_type": "execute_result"
    },
    {
     "data": {
      "image/png": "[encoded data removed]",
      "text/plain": [
       "<matplotlib.figure.Figure at 0x115a88eb8>"
      ]
     },
     "metadata": {},
     "output_type": "display_data"
    }
   ],
   "source": [
    "# Visuliation of the data points\n",
    "\n",
    "plt.scatter(X, Y)"
   ]
  },
  {
   "cell_type": "code",
   "execution_count": 129,
   "metadata": {
    "collapsed": false
   },
   "outputs": [
    {
     "data": {
      "text/html": [
       "<table class=\"simpletable\">\n",
       "<caption>OLS Regression Results</caption>\n",
       "<tr>\n",
       "  <th>Dep. Variable:</th>            <td>Y</td>        <th>  R-squared:         </th> <td>   0.800</td>\n",
       "</tr>\n",
       "<tr>\n",
       "  <th>Model:</th>                   <td>OLS</td>       <th>  Adj. R-squared:    </th> <td>   0.798</td>\n",
       "</tr>\n",
       "<tr>\n",
       "  <th>Method:</th>             <td>Least Squares</td>  <th>  F-statistic:       </th> <td>   392.5</td>\n",
       "</tr>\n",
       "<tr>\n",
       "  <th>Date:</th>             <td>Mon, 06 Feb 2017</td> <th>  Prob (F-statistic):</th> <td>4.78e-36</td>\n",
       "</tr>\n",
       "<tr>\n",
       "  <th>Time:</th>                 <td>13:57:06</td>     <th>  Log-Likelihood:    </th> <td> -283.71</td>\n",
       "</tr>\n",
       "<tr>\n",
       "  <th>No. Observations:</th>      <td>   100</td>      <th>  AIC:               </th> <td>   571.4</td>\n",
       "</tr>\n",
       "<tr>\n",
       "  <th>Df Residuals:</th>          <td>    98</td>      <th>  BIC:               </th> <td>   576.6</td>\n",
       "</tr>\n",
       "<tr>\n",
       "  <th>Df Model:</th>              <td>     1</td>      <th>                     </th>     <td> </td>   \n",
       "</tr>\n",
       "<tr>\n",
       "  <th>Covariance Type:</th>      <td>nonrobust</td>    <th>                     </th>     <td> </td>   \n",
       "</tr>\n",
       "</table>\n",
       "<table class=\"simpletable\">\n",
       "<tr>\n",
       "      <td></td>         <th>coef</th>     <th>std err</th>      <th>t</th>      <th>P>|t|</th> <th>[95.0% Conf. Int.]</th> \n",
       "</tr>\n",
       "<tr>\n",
       "  <th>Intercept</th> <td>   27.4208</td> <td>    0.841</td> <td>   32.620</td> <td> 0.000</td> <td>   25.753    29.089</td>\n",
       "</tr>\n",
       "<tr>\n",
       "  <th>X</th>         <td>    0.2863</td> <td>    0.014</td> <td>   19.813</td> <td> 0.000</td> <td>    0.258     0.315</td>\n",
       "</tr>\n",
       "</table>\n",
       "<table class=\"simpletable\">\n",
       "<tr>\n",
       "  <th>Omnibus:</th>       <td>74.455</td> <th>  Durbin-Watson:     </th> <td>   1.915</td>\n",
       "</tr>\n",
       "<tr>\n",
       "  <th>Prob(Omnibus):</th> <td> 0.000</td> <th>  Jarque-Bera (JB):  </th> <td> 438.730</td>\n",
       "</tr>\n",
       "<tr>\n",
       "  <th>Skew:</th>          <td>-2.468</td> <th>  Prob(JB):          </th> <td>5.38e-96</td>\n",
       "</tr>\n",
       "<tr>\n",
       "  <th>Kurtosis:</th>      <td>11.996</td> <th>  Cond. No.          </th> <td>    117.</td>\n",
       "</tr>\n",
       "</table>"
      ],
      "text/plain": [
       "<class 'statsmodels.iolib.summary.Summary'>\n",
       "\"\"\"\n",
       "                            OLS Regression Results                            \n",
       "==============================================================================\n",
       "Dep. Variable:                      Y   R-squared:                       0.800\n",
       "Model:                            OLS   Adj. R-squared:                  0.798\n",
       "Method:                 Least Squares   F-statistic:                     392.5\n",
       "Date:                Mon, 06 Feb 2017   Prob (F-statistic):           4.78e-36\n",
       "Time:                        13:57:06   Log-Likelihood:                -283.71\n",
       "No. Observations:                 100   AIC:                             571.4\n",
       "Df Residuals:                      98   BIC:                             576.6\n",
       "Df Model:                           1                                         \n",
       "Covariance Type:            nonrobust                                         \n",
       "==============================================================================\n",
       "                 coef    std err          t      P>|t|      [95.0% Conf. Int.]\n",
       "------------------------------------------------------------------------------\n",
       "Intercept     27.4208      0.841     32.620      0.000        25.753    29.089\n",
       "X              0.2863      0.014     19.813      0.000         0.258     0.315\n",
       "==============================================================================\n",
       "Omnibus:                       74.455   Durbin-Watson:                   1.915\n",
       "Prob(Omnibus):                  0.000   Jarque-Bera (JB):              438.730\n",
       "Skew:                          -2.468   Prob(JB):                     5.38e-96\n",
       "Kurtosis:                      11.996   Cond. No.                         117.\n",
       "==============================================================================\n",
       "\n",
       "Warnings:\n",
       "[1] Standard Errors assume that the covariance matrix of the errors is correctly specified.\n",
       "\"\"\""
      ]
     },
     "execution_count": 129,
     "metadata": {},
     "output_type": "execute_result"
    }
   ],
   "source": [
    "# Linear model\n",
    "\n",
    "y, x = patsy.dmatrices('Y ~ X')\n",
    "\n",
    "model = sm.OLS(y, x)\n",
    "fit = model.fit()\n",
    "fit.summary()"
   ]
  },
  {
   "cell_type": "code",
   "execution_count": 130,
   "metadata": {
    "collapsed": false
   },
   "outputs": [
    {
     "data": {
      "text/html": [
       "<table class=\"simpletable\">\n",
       "<caption>OLS Regression Results</caption>\n",
       "<tr>\n",
       "  <th>Dep. Variable:</th>          <td>logY</td>       <th>  R-squared:         </th> <td>   0.803</td>\n",
       "</tr>\n",
       "<tr>\n",
       "  <th>Model:</th>                   <td>OLS</td>       <th>  Adj. R-squared:    </th> <td>   0.801</td>\n",
       "</tr>\n",
       "<tr>\n",
       "  <th>Method:</th>             <td>Least Squares</td>  <th>  F-statistic:       </th> <td>   398.4</td>\n",
       "</tr>\n",
       "<tr>\n",
       "  <th>Date:</th>             <td>Mon, 06 Feb 2017</td> <th>  Prob (F-statistic):</th> <td>2.68e-36</td>\n",
       "</tr>\n",
       "<tr>\n",
       "  <th>Time:</th>                 <td>13:57:07</td>     <th>  Log-Likelihood:    </th> <td> -52.809</td>\n",
       "</tr>\n",
       "<tr>\n",
       "  <th>No. Observations:</th>      <td>   100</td>      <th>  AIC:               </th> <td>   109.6</td>\n",
       "</tr>\n",
       "<tr>\n",
       "  <th>Df Residuals:</th>          <td>    98</td>      <th>  BIC:               </th> <td>   114.8</td>\n",
       "</tr>\n",
       "<tr>\n",
       "  <th>Df Model:</th>              <td>     1</td>      <th>                     </th>     <td> </td>   \n",
       "</tr>\n",
       "<tr>\n",
       "  <th>Covariance Type:</th>      <td>nonrobust</td>    <th>                     </th>     <td> </td>   \n",
       "</tr>\n",
       "</table>\n",
       "<table class=\"simpletable\">\n",
       "<tr>\n",
       "      <td></td>         <th>coef</th>     <th>std err</th>      <th>t</th>      <th>P>|t|</th> <th>[95.0% Conf. Int.]</th> \n",
       "</tr>\n",
       "<tr>\n",
       "  <th>Intercept</th> <td>    2.1902</td> <td>    0.084</td> <td>   26.223</td> <td> 0.000</td> <td>    2.024     2.356</td>\n",
       "</tr>\n",
       "<tr>\n",
       "  <th>X</th>         <td>    0.0287</td> <td>    0.001</td> <td>   19.959</td> <td> 0.000</td> <td>    0.026     0.032</td>\n",
       "</tr>\n",
       "</table>\n",
       "<table class=\"simpletable\">\n",
       "<tr>\n",
       "  <th>Omnibus:</th>       <td>74.532</td> <th>  Durbin-Watson:     </th> <td>   1.956</td>\n",
       "</tr>\n",
       "<tr>\n",
       "  <th>Prob(Omnibus):</th> <td> 0.000</td> <th>  Jarque-Bera (JB):  </th> <td> 434.098</td>\n",
       "</tr>\n",
       "<tr>\n",
       "  <th>Skew:</th>          <td>-2.478</td> <th>  Prob(JB):          </th> <td>5.46e-95</td>\n",
       "</tr>\n",
       "<tr>\n",
       "  <th>Kurtosis:</th>      <td>11.923</td> <th>  Cond. No.          </th> <td>    117.</td>\n",
       "</tr>\n",
       "</table>"
      ],
      "text/plain": [
       "<class 'statsmodels.iolib.summary.Summary'>\n",
       "\"\"\"\n",
       "                            OLS Regression Results                            \n",
       "==============================================================================\n",
       "Dep. Variable:                   logY   R-squared:                       0.803\n",
       "Model:                            OLS   Adj. R-squared:                  0.801\n",
       "Method:                 Least Squares   F-statistic:                     398.4\n",
       "Date:                Mon, 06 Feb 2017   Prob (F-statistic):           2.68e-36\n",
       "Time:                        13:57:07   Log-Likelihood:                -52.809\n",
       "No. Observations:                 100   AIC:                             109.6\n",
       "Df Residuals:                      98   BIC:                             114.8\n",
       "Df Model:                           1                                         \n",
       "Covariance Type:            nonrobust                                         \n",
       "==============================================================================\n",
       "                 coef    std err          t      P>|t|      [95.0% Conf. Int.]\n",
       "------------------------------------------------------------------------------\n",
       "Intercept      2.1902      0.084     26.223      0.000         2.024     2.356\n",
       "X              0.0287      0.001     19.959      0.000         0.026     0.032\n",
       "==============================================================================\n",
       "Omnibus:                       74.532   Durbin-Watson:                   1.956\n",
       "Prob(Omnibus):                  0.000   Jarque-Bera (JB):              434.098\n",
       "Skew:                          -2.478   Prob(JB):                     5.46e-95\n",
       "Kurtosis:                      11.923   Cond. No.                         117.\n",
       "==============================================================================\n",
       "\n",
       "Warnings:\n",
       "[1] Standard Errors assume that the covariance matrix of the errors is correctly specified.\n",
       "\"\"\""
      ]
     },
     "execution_count": 130,
     "metadata": {},
     "output_type": "execute_result"
    }
   ],
   "source": [
    "# Log model\n",
    "\n",
    "logY = np.log(X)\n",
    "\n",
    "y, x = patsy.dmatrices('logY ~ X')\n",
    "\n",
    "model = sm.OLS(y, x)\n",
    "fit = model.fit()\n",
    "fit.summary()"
   ]
  },
  {
   "cell_type": "code",
   "execution_count": 131,
   "metadata": {
    "collapsed": false
   },
   "outputs": [
    {
     "data": {
      "text/html": [
       "<table class=\"simpletable\">\n",
       "<caption>OLS Regression Results</caption>\n",
       "<tr>\n",
       "  <th>Dep. Variable:</th>           <td>Y2</td>        <th>  R-squared:         </th> <td>   0.939</td>\n",
       "</tr>\n",
       "<tr>\n",
       "  <th>Model:</th>                   <td>OLS</td>       <th>  Adj. R-squared:    </th> <td>   0.938</td>\n",
       "</tr>\n",
       "<tr>\n",
       "  <th>Method:</th>             <td>Least Squares</td>  <th>  F-statistic:       </th> <td>   1500.</td>\n",
       "</tr>\n",
       "<tr>\n",
       "  <th>Date:</th>             <td>Mon, 06 Feb 2017</td> <th>  Prob (F-statistic):</th> <td>3.25e-61</td>\n",
       "</tr>\n",
       "<tr>\n",
       "  <th>Time:</th>                 <td>13:57:07</td>     <th>  Log-Likelihood:    </th> <td> -803.26</td>\n",
       "</tr>\n",
       "<tr>\n",
       "  <th>No. Observations:</th>      <td>   100</td>      <th>  AIC:               </th> <td>   1611.</td>\n",
       "</tr>\n",
       "<tr>\n",
       "  <th>Df Residuals:</th>          <td>    98</td>      <th>  BIC:               </th> <td>   1616.</td>\n",
       "</tr>\n",
       "<tr>\n",
       "  <th>Df Model:</th>              <td>     1</td>      <th>                     </th>     <td> </td>   \n",
       "</tr>\n",
       "<tr>\n",
       "  <th>Covariance Type:</th>      <td>nonrobust</td>    <th>                     </th>     <td> </td>   \n",
       "</tr>\n",
       "</table>\n",
       "<table class=\"simpletable\">\n",
       "<tr>\n",
       "      <td></td>         <th>coef</th>     <th>std err</th>      <th>t</th>      <th>P>|t|</th> <th>[95.0% Conf. Int.]</th> \n",
       "</tr>\n",
       "<tr>\n",
       "  <th>Intercept</th> <td>-1717.0000</td> <td>  151.683</td> <td>  -11.320</td> <td> 0.000</td> <td>-2018.010 -1415.990</td>\n",
       "</tr>\n",
       "<tr>\n",
       "  <th>X</th>         <td>  101.0000</td> <td>    2.608</td> <td>   38.732</td> <td> 0.000</td> <td>   95.825   106.175</td>\n",
       "</tr>\n",
       "</table>\n",
       "<table class=\"simpletable\">\n",
       "<tr>\n",
       "  <th>Omnibus:</th>       <td>14.290</td> <th>  Durbin-Watson:     </th> <td>   2.265</td>\n",
       "</tr>\n",
       "<tr>\n",
       "  <th>Prob(Omnibus):</th> <td> 0.001</td> <th>  Jarque-Bera (JB):  </th> <td>   9.864</td>\n",
       "</tr>\n",
       "<tr>\n",
       "  <th>Skew:</th>          <td> 0.638</td> <th>  Prob(JB):          </th> <td> 0.00721</td>\n",
       "</tr>\n",
       "<tr>\n",
       "  <th>Kurtosis:</th>      <td> 2.140</td> <th>  Cond. No.          </th> <td>    117.</td>\n",
       "</tr>\n",
       "</table>"
      ],
      "text/plain": [
       "<class 'statsmodels.iolib.summary.Summary'>\n",
       "\"\"\"\n",
       "                            OLS Regression Results                            \n",
       "==============================================================================\n",
       "Dep. Variable:                     Y2   R-squared:                       0.939\n",
       "Model:                            OLS   Adj. R-squared:                  0.938\n",
       "Method:                 Least Squares   F-statistic:                     1500.\n",
       "Date:                Mon, 06 Feb 2017   Prob (F-statistic):           3.25e-61\n",
       "Time:                        13:57:07   Log-Likelihood:                -803.26\n",
       "No. Observations:                 100   AIC:                             1611.\n",
       "Df Residuals:                      98   BIC:                             1616.\n",
       "Df Model:                           1                                         \n",
       "Covariance Type:            nonrobust                                         \n",
       "==============================================================================\n",
       "                 coef    std err          t      P>|t|      [95.0% Conf. Int.]\n",
       "------------------------------------------------------------------------------\n",
       "Intercept  -1717.0000    151.683    -11.320      0.000     -2018.010 -1415.990\n",
       "X            101.0000      2.608     38.732      0.000        95.825   106.175\n",
       "==============================================================================\n",
       "Omnibus:                       14.290   Durbin-Watson:                   2.265\n",
       "Prob(Omnibus):                  0.001   Jarque-Bera (JB):                9.864\n",
       "Skew:                           0.638   Prob(JB):                      0.00721\n",
       "Kurtosis:                       2.140   Cond. No.                         117.\n",
       "==============================================================================\n",
       "\n",
       "Warnings:\n",
       "[1] Standard Errors assume that the covariance matrix of the errors is correctly specified.\n",
       "\"\"\""
      ]
     },
     "execution_count": 131,
     "metadata": {},
     "output_type": "execute_result"
    }
   ],
   "source": [
    "# Quadratic model\n",
    "\n",
    "Y2 = np.power(X, 2)\n",
    "\n",
    "y, x = patsy.dmatrices('Y2 ~ X')\n",
    "\n",
    "model = sm.OLS(y, x)\n",
    "fit = model.fit()\n",
    "fit.summary()"
   ]
  },
  {
   "cell_type": "markdown",
   "metadata": {},
   "source": [
    "#### Challenge 2\n",
    "\n",
    "Generate (fake) data from a model of the form B0 + B1*x + B2*x^2 + epsilon. (You are making up the parameters.)\n",
    "\n",
    "Split the data into a training and test set.\n",
    "\n",
    "Fit a model to your training set. Calculate mean squared error on your training set. Then calculate it on your test set.\n",
    "\n",
    "(You could use sklearn.metrics.mean_squared_error.)"
   ]
  },
  {
   "cell_type": "code",
   "execution_count": 274,
   "metadata": {
    "collapsed": false
   },
   "outputs": [
    {
     "data": {
      "text/plain": [
       "array([ 0.26516824,  0.15720243,  0.31667143,  0.74588161,  0.55599018,\n",
       "        0.64162872,  0.63924791,  0.69679989,  0.70949825,  0.66501564,\n",
       "        0.32671833,  0.28059522,  0.919277  ,  0.79416866,  0.26351937,\n",
       "        0.5240964 ,  0.75846077,  0.47352114,  0.14154966,  0.15924085,\n",
       "        0.88147119,  0.83684664,  0.05699702,  0.55116594,  0.83898515,\n",
       "        0.91120223,  0.97454943,  0.04595066,  0.09300062,  0.23159854,\n",
       "        0.0914521 ,  0.48428721,  0.42939946,  0.80422444,  0.22218357,\n",
       "        0.29796513,  0.82496098,  0.27043501,  0.64395054,  0.63112434,\n",
       "        0.3337475 ,  0.04601991,  0.524713  ,  0.0150661 ,  0.44164888,\n",
       "        0.04755573,  0.9067817 ,  0.88088191,  0.0697193 ,  0.76823574,\n",
       "        0.34223187,  0.39280371,  0.18414155,  0.98375627,  0.35286747,\n",
       "        0.66445176,  0.85156287,  0.11126049,  0.33279631,  0.06817099,\n",
       "        0.41924037,  0.4816489 ,  0.50002909,  0.66233332,  0.83709995,\n",
       "        0.34632971,  0.34793552,  0.62989663,  0.47376465,  0.49348823,\n",
       "        0.17770317,  0.04415769,  0.17236416,  0.49690146,  0.25310223,\n",
       "        0.77612607,  0.04246216,  0.84035211,  0.06986775,  0.91960581,\n",
       "        0.8489714 ,  0.33332109,  0.08863522,  0.42861101,  0.7001087 ,\n",
       "        0.04369301,  0.92386315,  0.84819635,  0.76195747,  0.67273064,\n",
       "        0.19066764,  0.66217104,  0.29197244,  0.03576815,  0.05726928,\n",
       "        0.52354063,  0.42044327,  0.45738042,  0.63691147,  0.04197237])"
      ]
     },
     "execution_count": 274,
     "metadata": {},
     "output_type": "execute_result"
    }
   ],
   "source": [
    "B0 = 1\n",
    "B1 = 10\n",
    "B2 = 12\n",
    "\n",
    "epsilon = np.array([random.random() for i in range(100)])\n",
    "\n",
    "epsilon"
   ]
  },
  {
   "cell_type": "code",
   "execution_count": 275,
   "metadata": {
    "collapsed": true
   },
   "outputs": [],
   "source": [
    "x = np.array(random.sample(range(1,101), 100))"
   ]
  },
  {
   "cell_type": "code",
   "execution_count": 276,
   "metadata": {
    "collapsed": true
   },
   "outputs": [],
   "source": [
    "sqaure_x = np.power(x, 2)"
   ]
  },
  {
   "cell_type": "code",
   "execution_count": 279,
   "metadata": {
    "collapsed": false
   },
   "outputs": [],
   "source": [
    "Y = B0 + B1 * x + B2 * sqaure_x + epsilon"
   ]
  },
  {
   "cell_type": "code",
   "execution_count": 280,
   "metadata": {
    "collapsed": false
   },
   "outputs": [
    {
     "data": {
      "text/plain": [
       "<matplotlib.collections.PathCollection at 0x117164160>"
      ]
     },
     "execution_count": 280,
     "metadata": {},
     "output_type": "execute_result"
    },
    {
     "data": {
      "image/png": "[encoded data removed]",
      "text/plain": [
       "<matplotlib.figure.Figure at 0x116f5a278>"
      ]
     },
     "metadata": {},
     "output_type": "display_data"
    }
   ],
   "source": [
    "plt.scatter(x, Y)"
   ]
  },
  {
   "cell_type": "code",
   "execution_count": 281,
   "metadata": {
    "collapsed": false
   },
   "outputs": [],
   "source": [
    "df = pd.DataFrame({'Y':Y, 'X1': x, 'X2': sqaure_x})"
   ]
  },
  {
   "cell_type": "code",
   "execution_count": 282,
   "metadata": {
    "collapsed": false
   },
   "outputs": [],
   "source": [
    "X = df[['X1', 'X2']]"
   ]
  },
  {
   "cell_type": "code",
   "execution_count": 283,
   "metadata": {
    "collapsed": true
   },
   "outputs": [],
   "source": [
    "X1 = df[['X1']]"
   ]
  },
  {
   "cell_type": "code",
   "execution_count": 284,
   "metadata": {
    "collapsed": true
   },
   "outputs": [],
   "source": [
    "X2 = df[['X2']]"
   ]
  },
  {
   "cell_type": "code",
   "execution_count": 285,
   "metadata": {
    "collapsed": false
   },
   "outputs": [],
   "source": [
    "XTrain, XTest, YTrain, YTest = train_test_split(X, Y, test_size = 0.2)"
   ]
  },
  {
   "cell_type": "code",
   "execution_count": 286,
   "metadata": {
    "collapsed": false
   },
   "outputs": [
    {
     "data": {
      "text/plain": [
       "0.9999999999232998"
      ]
     },
     "execution_count": 286,
     "metadata": {},
     "output_type": "execute_result"
    }
   ],
   "source": [
    "# Linear model\n",
    "\n",
    "lr = LinearRegression()\n",
    "lr.fit(XTrain, YTrain)\n",
    "lr.score(XTest, YTest)"
   ]
  },
  {
   "cell_type": "code",
   "execution_count": 287,
   "metadata": {
    "collapsed": false
   },
   "outputs": [
    {
     "data": {
      "text/plain": [
       "0.066294843139217546"
      ]
     },
     "execution_count": 287,
     "metadata": {},
     "output_type": "execute_result"
    }
   ],
   "source": [
    "y_est = lr.predict(XTest)\n",
    "mse = metrics.mean_squared_error(YTest, y_est)\n",
    "mse"
   ]
  },
  {
   "cell_type": "code",
   "execution_count": 288,
   "metadata": {
    "collapsed": false
   },
   "outputs": [
    {
     "data": {
      "text/plain": [
       "0.089339667209336102"
      ]
     },
     "execution_count": 288,
     "metadata": {},
     "output_type": "execute_result"
    }
   ],
   "source": [
    "y_est = lr.predict(XTrain)\n",
    "mse = metrics.mean_squared_error(YTrain, y_est)\n",
    "mse"
   ]
  },
  {
   "cell_type": "markdown",
   "metadata": {},
   "source": [
    "#### Challenge 3\n",
    "\n",
    "For the data from two (above), try polynomial fits from 0th (just constant) to 7th order (highest term x^7). Over the x axis of model degree (8 points), plot:\n",
    "\n",
    "training error\n",
    "test error\n",
    "R squared\n",
    "AIC\n"
   ]
  },
  {
   "cell_type": "code",
   "execution_count": 289,
   "metadata": {
    "collapsed": false
   },
   "outputs": [],
   "source": [
    "X0 = np.power(x, 0)\n",
    "X1 = np.power(x, 1)\n",
    "X2 = np.power(x, 2)\n",
    "X3 = np.power(x, 3)\n",
    "X4 = np.power(x, 4)\n",
    "X5 = np.power(x, 5)\n",
    "X6 = np.power(x, 6)\n",
    "X7 = np.power(x, 7)"
   ]
  },
  {
   "cell_type": "code",
   "execution_count": 305,
   "metadata": {
    "collapsed": false
   },
   "outputs": [],
   "source": [
    "dfp = pd.DataFrame({'X0': X0, 'X1': X1, 'X2': X2, 'X3': X3, 'X4': X4, 'X5': X5, 'X6': X6, 'X7': X7})"
   ]
  },
  {
   "cell_type": "code",
   "execution_count": 307,
   "metadata": {
    "collapsed": false
   },
   "outputs": [
    {
     "data": {
      "text/html": [
       "<div>\n",
       "<table border=\"1\" class=\"dataframe\">\n",
       "  <thead>\n",
       "    <tr style=\"text-align: right;\">\n",
       "      <th></th>\n",
       "      <th>X0</th>\n",
       "      <th>X1</th>\n",
       "      <th>X2</th>\n",
       "      <th>X3</th>\n",
       "      <th>X4</th>\n",
       "      <th>X5</th>\n",
       "      <th>X6</th>\n",
       "      <th>X7</th>\n",
       "    </tr>\n",
       "  </thead>\n",
       "  <tbody>\n",
       "    <tr>\n",
       "      <th>0</th>\n",
       "      <td>1</td>\n",
       "      <td>36</td>\n",
       "      <td>1296</td>\n",
       "      <td>46656</td>\n",
       "      <td>1679616</td>\n",
       "      <td>60466176</td>\n",
       "      <td>2176782336</td>\n",
       "      <td>78364164096</td>\n",
       "    </tr>\n",
       "    <tr>\n",
       "      <th>1</th>\n",
       "      <td>1</td>\n",
       "      <td>28</td>\n",
       "      <td>784</td>\n",
       "      <td>21952</td>\n",
       "      <td>614656</td>\n",
       "      <td>17210368</td>\n",
       "      <td>481890304</td>\n",
       "      <td>13492928512</td>\n",
       "    </tr>\n",
       "    <tr>\n",
       "      <th>2</th>\n",
       "      <td>1</td>\n",
       "      <td>35</td>\n",
       "      <td>1225</td>\n",
       "      <td>42875</td>\n",
       "      <td>1500625</td>\n",
       "      <td>52521875</td>\n",
       "      <td>1838265625</td>\n",
       "      <td>64339296875</td>\n",
       "    </tr>\n",
       "    <tr>\n",
       "      <th>3</th>\n",
       "      <td>1</td>\n",
       "      <td>49</td>\n",
       "      <td>2401</td>\n",
       "      <td>117649</td>\n",
       "      <td>5764801</td>\n",
       "      <td>282475249</td>\n",
       "      <td>13841287201</td>\n",
       "      <td>678223072849</td>\n",
       "    </tr>\n",
       "    <tr>\n",
       "      <th>4</th>\n",
       "      <td>1</td>\n",
       "      <td>62</td>\n",
       "      <td>3844</td>\n",
       "      <td>238328</td>\n",
       "      <td>14776336</td>\n",
       "      <td>916132832</td>\n",
       "      <td>56800235584</td>\n",
       "      <td>3521614606208</td>\n",
       "    </tr>\n",
       "  </tbody>\n",
       "</table>\n",
       "</div>"
      ],
      "text/plain": [
       "   X0  X1    X2      X3        X4         X5           X6             X7\n",
       "0   1  36  1296   46656   1679616   60466176   2176782336    78364164096\n",
       "1   1  28   784   21952    614656   17210368    481890304    13492928512\n",
       "2   1  35  1225   42875   1500625   52521875   1838265625    64339296875\n",
       "3   1  49  2401  117649   5764801  282475249  13841287201   678223072849\n",
       "4   1  62  3844  238328  14776336  916132832  56800235584  3521614606208"
      ]
     },
     "execution_count": 307,
     "metadata": {},
     "output_type": "execute_result"
    }
   ],
   "source": [
    "dfp.head()"
   ]
  },
  {
   "cell_type": "code",
   "execution_count": 371,
   "metadata": {
    "collapsed": true
   },
   "outputs": [],
   "source": [
    "feature_list = ['X0', 'X1', 'X2', 'X3', 'X4', 'X5', 'X6', 'X7']"
   ]
  },
  {
   "cell_type": "code",
   "execution_count": 372,
   "metadata": {
    "collapsed": false
   },
   "outputs": [
    {
     "data": {
      "text/plain": [
       "['X1', 'X2', 'X3', 'X4', 'X5', 'X6', 'X7']"
      ]
     },
     "execution_count": 372,
     "metadata": {},
     "output_type": "execute_result"
    }
   ],
   "source": [
    "feature_list[1:]"
   ]
  },
  {
   "cell_type": "code",
   "execution_count": 514,
   "metadata": {
    "collapsed": true
   },
   "outputs": [],
   "source": [
    "# CONVERT FUNCTIONS TO A LOOP\n",
    "# Plot the MSE Train and Test errors, R sqaured\n",
    "\n",
    "feature_list = ['X0', 'X1', 'X2', 'X3', 'X4', 'X5', 'X6', 'X7']\n",
    "\n",
    "def find_train_test_r():\n",
    "    \n",
    "    X_axis = list(range(8))\n",
    "    mse_train_list = []\n",
    "    mse_test_list = []\n",
    "    score_list = []\n",
    "    \n",
    "    for i in range(8):\n",
    "        \n",
    "        X =  dfp[(feature_list[:i+1])] \n",
    "        \n",
    "        XTrain, XTest, YTrain, YTest = train_test_split(X, Y, test_size = 0.2)\n",
    "        \n",
    "        lr.fit(XTrain, YTrain)\n",
    "\n",
    "        y_est_train = lr.predict(XTrain)\n",
    "        y_est_test = lr.predict(XTest)\n",
    "\n",
    "        mse_train = metrics.mean_squared_error(YTrain, y_est_train)\n",
    "        mse_test = metrics.mean_squared_error(YTest, y_est_test)\n",
    "\n",
    "        score = lr.score(XTest, YTest)\n",
    "        \n",
    "        mse_train_list.append(mse_train)\n",
    "        mse_test_list.append(mse_test)\n",
    "        score_list.append(score)\n",
    "        \n",
    "    plt.plot(X_axis, mse_train_list)\n",
    "    plt.plot(X_axis, mse_test_list)\n",
    "    plt.plot(X_axis, score_list)\n",
    "    \n",
    "    return score_list\n",
    "    "
   ]
  },
  {
   "cell_type": "code",
   "execution_count": 515,
   "metadata": {
    "collapsed": false
   },
   "outputs": [
    {
     "data": {
      "text/plain": [
       "[-0.033687439646699957,\n",
       " 0.93261726281897539,\n",
       " 0.99999999995258193,\n",
       " 0.99999999994633193,\n",
       " 0.99999999992801492,\n",
       " 0.99999999991434974,\n",
       " 0.99999999990748978,\n",
       " 0.99999999990263766]"
      ]
     },
     "execution_count": 515,
     "metadata": {},
     "output_type": "execute_result"
    },
    {
     "data": {
      "image/png": "[encoded data removed]",
      "text/plain": [
       "<matplotlib.figure.Figure at 0x1183bcf28>"
      ]
     },
     "metadata": {},
     "output_type": "display_data"
    }
   ],
   "source": [
    "find_train_test_r()"
   ]
  },
  {
   "cell_type": "code",
   "execution_count": 516,
   "metadata": {
    "collapsed": false
   },
   "outputs": [
    {
     "data": {
      "text/plain": [
       "[<matplotlib.lines.Line2D at 0x118afa860>]"
      ]
     },
     "execution_count": 516,
     "metadata": {},
     "output_type": "execute_result"
    },
    {
     "data": {
      "image/png": "[encoded data removed]",
      "text/plain": [
       "<matplotlib.figure.Figure at 0x117c03668>"
      ]
     },
     "metadata": {},
     "output_type": "display_data"
    }
   ],
   "source": [
    "# Plot R squared, since r squared is hard to see in the plot above due to high scale\n",
    "\n",
    "plt.plot(X_axis, [-0.033687439646699957,\n",
    " 0.93261726281897539,\n",
    " 0.99999999995258193,\n",
    " 0.99999999994633193,\n",
    " 0.99999999992801492,\n",
    " 0.99999999991434974,\n",
    " 0.99999999990748978,\n",
    " 0.99999999990263766])"
   ]
  },
  {
   "cell_type": "markdown",
   "metadata": {},
   "source": [
    "#### Challenge 4\n",
    "\n",
    "For the data from two (above), fit a model to only the first 5 of your data points (m=5). Then to first 10 (m=10). Then to first 15 (m=15). In this manner, keep fitting until you fit your entire training set. For each step, calculate the training error and the test error. Plot both (in the same plot) over m. This is called a learning curve."
   ]
  },
  {
   "cell_type": "code",
   "execution_count": 531,
   "metadata": {
    "collapsed": false
   },
   "outputs": [],
   "source": [
    "m = []\n",
    "\n",
    "for n in range(1,21):\n",
    "    m.append(5*n)"
   ]
  },
  {
   "cell_type": "code",
   "execution_count": 533,
   "metadata": {
    "collapsed": false
   },
   "outputs": [
    {
     "data": {
      "text/plain": [
       "20"
      ]
     },
     "execution_count": 533,
     "metadata": {},
     "output_type": "execute_result"
    }
   ],
   "source": [
    "len(m)"
   ]
  },
  {
   "cell_type": "code",
   "execution_count": 558,
   "metadata": {
    "collapsed": false
   },
   "outputs": [],
   "source": [
    "X = dfp[['X0', 'X1', 'X2', 'X3', 'X4', 'X5', 'X6', 'X7']]\n",
    "X_axis = list(range(1,21))\n",
    "\n",
    "def fit_data():\n",
    "    \n",
    "    mse_train_list = []\n",
    "    mse_test_list = []\n",
    "    \n",
    "    for i in m:\n",
    "        X_data = (X.iloc[:i])\n",
    "        Y_data = (pd.DataFrame(Y)).iloc[:i]\n",
    "\n",
    "        XTrain, XTest, YTrain, YTest = train_test_split(X_data, Y_data, test_size = 0.2)\n",
    "\n",
    "        lr.fit(XTrain, YTrain)\n",
    "        y_est_train = lr.predict(XTrain)\n",
    "        y_est_test = lr.predict(XTest)\n",
    "\n",
    "        mse_train_list.append(metrics.mean_squared_error(YTrain, y_est_train))\n",
    "        mse_test_list.append(metrics.mean_squared_error(YTest, y_est_test))\n",
    "\n",
    "\n",
    "    fig, ax = plt.subplots(2,1)\n",
    "    ax[0].plot(X_axis, mse_train_list)\n",
    "    ax[1].plot(X_axis, mse_test_list)\n",
    "    "
   ]
  },
  {
   "cell_type": "code",
   "execution_count": 559,
   "metadata": {
    "collapsed": false
   },
   "outputs": [
    {
     "data": {
      "image/png": "[encoded data removed]",
      "text/plain": [
       "<matplotlib.figure.Figure at 0x11907ba20>"
      ]
     },
     "metadata": {},
     "output_type": "display_data"
    }
   ],
   "source": [
    "fit_data()"
   ]
  },
  {
   "cell_type": "code",
   "execution_count": null,
   "metadata": {
    "collapsed": true
   },
   "outputs": [],
   "source": []
  }
 ],
 "metadata": {
  "anaconda-cloud": {},
  "kernelspec": {
   "display_name": "Python [default]",
   "language": "python",
   "name": "python3"
  },
  "language_info": {
   "codemirror_mode": {
    "name": "ipython",
    "version": 3
   },
   "file_extension": ".py",
   "mimetype": "text/x-python",
   "name": "python",
   "nbconvert_exporter": "python",
   "pygments_lexer": "ipython3",
   "version": "3.5.2"
  }
 },
 "nbformat": 4,
 "nbformat_minor": 1
}
