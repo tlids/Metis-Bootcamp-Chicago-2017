{
 "cells": [
  {
   "cell_type": "markdown",
   "metadata": {
    "collapsed": true
   },
   "source": [
    "Part III: Soccer Data\n",
    "\n",
    "Introductory - Intermediate level SQL\n",
    "\n",
    "Please complete this exercise using sqlite3 and Jupyter notebook.\n",
    "\n",
    "Download the SQLite database and load in your notebook using the sqlite3 library.\n"
   ]
  },
  {
   "cell_type": "code",
   "execution_count": 2,
   "metadata": {
    "collapsed": false
   },
   "outputs": [],
   "source": [
    "import sqlite3"
   ]
  },
  {
   "cell_type": "code",
   "execution_count": 27,
   "metadata": {
    "collapsed": false
   },
   "outputs": [],
   "source": [
    "conn = sqlite3.connect('database-2.sqlite')"
   ]
  },
  {
   "cell_type": "code",
   "execution_count": 28,
   "metadata": {
    "collapsed": true
   },
   "outputs": [],
   "source": [
    "c = conn.cursor()"
   ]
  },
  {
   "cell_type": "code",
   "execution_count": 29,
   "metadata": {
    "collapsed": false
   },
   "outputs": [
    {
     "name": "stdout",
     "output_type": "stream",
     "text": [
      "[('sqlite_sequence',), ('Player_Attributes',), ('Player',), ('Match',), ('League',), ('Country',), ('Team',), ('Team_Attributes',)]\n"
     ]
    }
   ],
   "source": [
    "c.execute(\"SELECT name FROM sqlite_master WHERE type='table';\")\n",
    "print(c.fetchall())"
   ]
  },
  {
   "cell_type": "code",
   "execution_count": 36,
   "metadata": {
    "collapsed": false
   },
   "outputs": [
    {
     "data": {
      "text/plain": [
       "[('Team', 103916),\n",
       " ('Country', 51958),\n",
       " ('League', 51958),\n",
       " ('Match', 51958),\n",
       " ('Player', 11075)]"
      ]
     },
     "execution_count": 36,
     "metadata": {},
     "output_type": "execute_result"
    }
   ],
   "source": [
    "c.execute('SELECT * FROM sqlite_sequence LIMIT 5')\n",
    "c.fetchall()"
   ]
  },
  {
   "cell_type": "code",
   "execution_count": 37,
   "metadata": {
    "collapsed": false
   },
   "outputs": [
    {
     "data": {
      "text/plain": [
       "(('name', None, None, None, None, None, None),\n",
       " ('seq', None, None, None, None, None, None))"
      ]
     },
     "execution_count": 37,
     "metadata": {},
     "output_type": "execute_result"
    }
   ],
   "source": [
    "c.description"
   ]
  },
  {
   "cell_type": "code",
   "execution_count": 38,
   "metadata": {
    "collapsed": false
   },
   "outputs": [
    {
     "data": {
      "text/plain": [
       "[(1,\n",
       "  218353,\n",
       "  505942,\n",
       "  '2016-02-18 00:00:00',\n",
       "  67,\n",
       "  71,\n",
       "  'right',\n",
       "  'medium',\n",
       "  'medium',\n",
       "  49,\n",
       "  44,\n",
       "  71,\n",
       "  61,\n",
       "  44,\n",
       "  51,\n",
       "  45,\n",
       "  39,\n",
       "  64,\n",
       "  49,\n",
       "  60,\n",
       "  64,\n",
       "  59,\n",
       "  47,\n",
       "  65,\n",
       "  55,\n",
       "  58,\n",
       "  54,\n",
       "  76,\n",
       "  35,\n",
       "  71,\n",
       "  70,\n",
       "  45,\n",
       "  54,\n",
       "  48,\n",
       "  65,\n",
       "  69,\n",
       "  69,\n",
       "  6,\n",
       "  11,\n",
       "  10,\n",
       "  8,\n",
       "  8),\n",
       " (2,\n",
       "  218353,\n",
       "  505942,\n",
       "  '2015-11-19 00:00:00',\n",
       "  67,\n",
       "  71,\n",
       "  'right',\n",
       "  'medium',\n",
       "  'medium',\n",
       "  49,\n",
       "  44,\n",
       "  71,\n",
       "  61,\n",
       "  44,\n",
       "  51,\n",
       "  45,\n",
       "  39,\n",
       "  64,\n",
       "  49,\n",
       "  60,\n",
       "  64,\n",
       "  59,\n",
       "  47,\n",
       "  65,\n",
       "  55,\n",
       "  58,\n",
       "  54,\n",
       "  76,\n",
       "  35,\n",
       "  71,\n",
       "  70,\n",
       "  45,\n",
       "  54,\n",
       "  48,\n",
       "  65,\n",
       "  69,\n",
       "  69,\n",
       "  6,\n",
       "  11,\n",
       "  10,\n",
       "  8,\n",
       "  8),\n",
       " (3,\n",
       "  218353,\n",
       "  505942,\n",
       "  '2015-09-21 00:00:00',\n",
       "  62,\n",
       "  66,\n",
       "  'right',\n",
       "  'medium',\n",
       "  'medium',\n",
       "  49,\n",
       "  44,\n",
       "  71,\n",
       "  61,\n",
       "  44,\n",
       "  51,\n",
       "  45,\n",
       "  39,\n",
       "  64,\n",
       "  49,\n",
       "  60,\n",
       "  64,\n",
       "  59,\n",
       "  47,\n",
       "  65,\n",
       "  55,\n",
       "  58,\n",
       "  54,\n",
       "  76,\n",
       "  35,\n",
       "  63,\n",
       "  41,\n",
       "  45,\n",
       "  54,\n",
       "  48,\n",
       "  65,\n",
       "  66,\n",
       "  69,\n",
       "  6,\n",
       "  11,\n",
       "  10,\n",
       "  8,\n",
       "  8),\n",
       " (4,\n",
       "  218353,\n",
       "  505942,\n",
       "  '2015-03-20 00:00:00',\n",
       "  61,\n",
       "  65,\n",
       "  'right',\n",
       "  'medium',\n",
       "  'medium',\n",
       "  48,\n",
       "  43,\n",
       "  70,\n",
       "  60,\n",
       "  43,\n",
       "  50,\n",
       "  44,\n",
       "  38,\n",
       "  63,\n",
       "  48,\n",
       "  60,\n",
       "  64,\n",
       "  59,\n",
       "  46,\n",
       "  65,\n",
       "  54,\n",
       "  58,\n",
       "  54,\n",
       "  76,\n",
       "  34,\n",
       "  62,\n",
       "  40,\n",
       "  44,\n",
       "  53,\n",
       "  47,\n",
       "  62,\n",
       "  63,\n",
       "  66,\n",
       "  5,\n",
       "  10,\n",
       "  9,\n",
       "  7,\n",
       "  7),\n",
       " (5,\n",
       "  218353,\n",
       "  505942,\n",
       "  '2007-02-22 00:00:00',\n",
       "  61,\n",
       "  65,\n",
       "  'right',\n",
       "  'medium',\n",
       "  'medium',\n",
       "  48,\n",
       "  43,\n",
       "  70,\n",
       "  60,\n",
       "  43,\n",
       "  50,\n",
       "  44,\n",
       "  38,\n",
       "  63,\n",
       "  48,\n",
       "  60,\n",
       "  64,\n",
       "  59,\n",
       "  46,\n",
       "  65,\n",
       "  54,\n",
       "  58,\n",
       "  54,\n",
       "  76,\n",
       "  34,\n",
       "  62,\n",
       "  40,\n",
       "  44,\n",
       "  53,\n",
       "  47,\n",
       "  62,\n",
       "  63,\n",
       "  66,\n",
       "  5,\n",
       "  10,\n",
       "  9,\n",
       "  7,\n",
       "  7)]"
      ]
     },
     "execution_count": 38,
     "metadata": {},
     "output_type": "execute_result"
    }
   ],
   "source": [
    "c.execute('SELECT * FROM Player_Attributes LIMIT 5')\n",
    "c.fetchall()"
   ]
  },
  {
   "cell_type": "code",
   "execution_count": 39,
   "metadata": {
    "collapsed": false
   },
   "outputs": [
    {
     "data": {
      "text/plain": [
       "(('id', None, None, None, None, None, None),\n",
       " ('player_fifa_api_id', None, None, None, None, None, None),\n",
       " ('player_api_id', None, None, None, None, None, None),\n",
       " ('date', None, None, None, None, None, None),\n",
       " ('overall_rating', None, None, None, None, None, None),\n",
       " ('potential', None, None, None, None, None, None),\n",
       " ('preferred_foot', None, None, None, None, None, None),\n",
       " ('attacking_work_rate', None, None, None, None, None, None),\n",
       " ('defensive_work_rate', None, None, None, None, None, None),\n",
       " ('crossing', None, None, None, None, None, None),\n",
       " ('finishing', None, None, None, None, None, None),\n",
       " ('heading_accuracy', None, None, None, None, None, None),\n",
       " ('short_passing', None, None, None, None, None, None),\n",
       " ('volleys', None, None, None, None, None, None),\n",
       " ('dribbling', None, None, None, None, None, None),\n",
       " ('curve', None, None, None, None, None, None),\n",
       " ('free_kick_accuracy', None, None, None, None, None, None),\n",
       " ('long_passing', None, None, None, None, None, None),\n",
       " ('ball_control', None, None, None, None, None, None),\n",
       " ('acceleration', None, None, None, None, None, None),\n",
       " ('sprint_speed', None, None, None, None, None, None),\n",
       " ('agility', None, None, None, None, None, None),\n",
       " ('reactions', None, None, None, None, None, None),\n",
       " ('balance', None, None, None, None, None, None),\n",
       " ('shot_power', None, None, None, None, None, None),\n",
       " ('jumping', None, None, None, None, None, None),\n",
       " ('stamina', None, None, None, None, None, None),\n",
       " ('strength', None, None, None, None, None, None),\n",
       " ('long_shots', None, None, None, None, None, None),\n",
       " ('aggression', None, None, None, None, None, None),\n",
       " ('interceptions', None, None, None, None, None, None),\n",
       " ('positioning', None, None, None, None, None, None),\n",
       " ('vision', None, None, None, None, None, None),\n",
       " ('penalties', None, None, None, None, None, None),\n",
       " ('marking', None, None, None, None, None, None),\n",
       " ('standing_tackle', None, None, None, None, None, None),\n",
       " ('sliding_tackle', None, None, None, None, None, None),\n",
       " ('gk_diving', None, None, None, None, None, None),\n",
       " ('gk_handling', None, None, None, None, None, None),\n",
       " ('gk_kicking', None, None, None, None, None, None),\n",
       " ('gk_positioning', None, None, None, None, None, None),\n",
       " ('gk_reflexes', None, None, None, None, None, None))"
      ]
     },
     "execution_count": 39,
     "metadata": {},
     "output_type": "execute_result"
    }
   ],
   "source": [
    "c.description"
   ]
  },
  {
   "cell_type": "code",
   "execution_count": 40,
   "metadata": {
    "collapsed": false
   },
   "outputs": [
    {
     "data": {
      "text/plain": [
       "[(1, 505942, 'Aaron Appindangoye', 218353, '1992-02-29 00:00:00', 182.88, 187),\n",
       " (2, 155782, 'Aaron Cresswell', 189615, '1989-12-15 00:00:00', 170.18, 146),\n",
       " (3, 162549, 'Aaron Doran', 186170, '1991-05-13 00:00:00', 170.18, 163),\n",
       " (4, 30572, 'Aaron Galindo', 140161, '1982-05-08 00:00:00', 182.88, 198),\n",
       " (5, 23780, 'Aaron Hughes', 17725, '1979-11-08 00:00:00', 182.88, 154)]"
      ]
     },
     "execution_count": 40,
     "metadata": {},
     "output_type": "execute_result"
    }
   ],
   "source": [
    "c.execute('SELECT * FROM Player LIMIT 5')\n",
    "c.fetchall()"
   ]
  },
  {
   "cell_type": "code",
   "execution_count": 41,
   "metadata": {
    "collapsed": false
   },
   "outputs": [
    {
     "data": {
      "text/plain": [
       "(('id', None, None, None, None, None, None),\n",
       " ('player_api_id', None, None, None, None, None, None),\n",
       " ('player_name', None, None, None, None, None, None),\n",
       " ('player_fifa_api_id', None, None, None, None, None, None),\n",
       " ('birthday', None, None, None, None, None, None),\n",
       " ('height', None, None, None, None, None, None),\n",
       " ('weight', None, None, None, None, None, None))"
      ]
     },
     "execution_count": 41,
     "metadata": {},
     "output_type": "execute_result"
    }
   ],
   "source": [
    "c.description"
   ]
  },
  {
   "cell_type": "code",
   "execution_count": 42,
   "metadata": {
    "collapsed": false
   },
   "outputs": [
    {
     "data": {
      "text/plain": [
       "[(1,\n",
       "  1,\n",
       "  1,\n",
       "  '2008/2009',\n",
       "  1,\n",
       "  '2008-08-17 00:00:00',\n",
       "  492473,\n",
       "  9987,\n",
       "  9993,\n",
       "  1,\n",
       "  1,\n",
       "  None,\n",
       "  None,\n",
       "  None,\n",
       "  None,\n",
       "  None,\n",
       "  None,\n",
       "  None,\n",
       "  None,\n",
       "  None,\n",
       "  None,\n",
       "  None,\n",
       "  None,\n",
       "  None,\n",
       "  None,\n",
       "  None,\n",
       "  None,\n",
       "  None,\n",
       "  None,\n",
       "  None,\n",
       "  None,\n",
       "  None,\n",
       "  None,\n",
       "  None,\n",
       "  None,\n",
       "  None,\n",
       "  None,\n",
       "  None,\n",
       "  None,\n",
       "  None,\n",
       "  None,\n",
       "  None,\n",
       "  None,\n",
       "  None,\n",
       "  None,\n",
       "  None,\n",
       "  None,\n",
       "  None,\n",
       "  None,\n",
       "  None,\n",
       "  None,\n",
       "  None,\n",
       "  None,\n",
       "  None,\n",
       "  None,\n",
       "  None,\n",
       "  None,\n",
       "  None,\n",
       "  None,\n",
       "  None,\n",
       "  None,\n",
       "  None,\n",
       "  None,\n",
       "  None,\n",
       "  None,\n",
       "  None,\n",
       "  None,\n",
       "  None,\n",
       "  None,\n",
       "  None,\n",
       "  None,\n",
       "  None,\n",
       "  None,\n",
       "  None,\n",
       "  None,\n",
       "  None,\n",
       "  None,\n",
       "  None,\n",
       "  None,\n",
       "  None,\n",
       "  None,\n",
       "  None,\n",
       "  None,\n",
       "  None,\n",
       "  None,\n",
       "  1.73,\n",
       "  3.4,\n",
       "  5,\n",
       "  1.75,\n",
       "  3.35,\n",
       "  4.2,\n",
       "  1.85,\n",
       "  3.2,\n",
       "  3.5,\n",
       "  1.8,\n",
       "  3.3,\n",
       "  3.75,\n",
       "  None,\n",
       "  None,\n",
       "  None,\n",
       "  1.7,\n",
       "  3.3,\n",
       "  4.33,\n",
       "  1.9,\n",
       "  3.3,\n",
       "  4,\n",
       "  1.65,\n",
       "  3.4,\n",
       "  4.5,\n",
       "  1.78,\n",
       "  3.25,\n",
       "  4,\n",
       "  1.73,\n",
       "  3.4,\n",
       "  4.2),\n",
       " (2,\n",
       "  1,\n",
       "  1,\n",
       "  '2008/2009',\n",
       "  1,\n",
       "  '2008-08-16 00:00:00',\n",
       "  492474,\n",
       "  10000,\n",
       "  9994,\n",
       "  0,\n",
       "  0,\n",
       "  None,\n",
       "  None,\n",
       "  None,\n",
       "  None,\n",
       "  None,\n",
       "  None,\n",
       "  None,\n",
       "  None,\n",
       "  None,\n",
       "  None,\n",
       "  None,\n",
       "  None,\n",
       "  None,\n",
       "  None,\n",
       "  None,\n",
       "  None,\n",
       "  None,\n",
       "  None,\n",
       "  None,\n",
       "  None,\n",
       "  None,\n",
       "  None,\n",
       "  None,\n",
       "  None,\n",
       "  None,\n",
       "  None,\n",
       "  None,\n",
       "  None,\n",
       "  None,\n",
       "  None,\n",
       "  None,\n",
       "  None,\n",
       "  None,\n",
       "  None,\n",
       "  None,\n",
       "  None,\n",
       "  None,\n",
       "  None,\n",
       "  None,\n",
       "  None,\n",
       "  None,\n",
       "  None,\n",
       "  None,\n",
       "  None,\n",
       "  None,\n",
       "  None,\n",
       "  None,\n",
       "  None,\n",
       "  None,\n",
       "  None,\n",
       "  None,\n",
       "  None,\n",
       "  None,\n",
       "  None,\n",
       "  None,\n",
       "  None,\n",
       "  None,\n",
       "  None,\n",
       "  None,\n",
       "  None,\n",
       "  None,\n",
       "  None,\n",
       "  None,\n",
       "  None,\n",
       "  None,\n",
       "  None,\n",
       "  None,\n",
       "  None,\n",
       "  None,\n",
       "  None,\n",
       "  None,\n",
       "  None,\n",
       "  None,\n",
       "  None,\n",
       "  1.95,\n",
       "  3.2,\n",
       "  3.6,\n",
       "  1.8,\n",
       "  3.3,\n",
       "  3.95,\n",
       "  1.9,\n",
       "  3.2,\n",
       "  3.5,\n",
       "  1.9,\n",
       "  3.2,\n",
       "  3.5,\n",
       "  None,\n",
       "  None,\n",
       "  None,\n",
       "  1.83,\n",
       "  3.3,\n",
       "  3.6,\n",
       "  1.95,\n",
       "  3.3,\n",
       "  3.8,\n",
       "  2,\n",
       "  3.25,\n",
       "  3.25,\n",
       "  1.85,\n",
       "  3.25,\n",
       "  3.75,\n",
       "  1.91,\n",
       "  3.25,\n",
       "  3.6),\n",
       " (3,\n",
       "  1,\n",
       "  1,\n",
       "  '2008/2009',\n",
       "  1,\n",
       "  '2008-08-16 00:00:00',\n",
       "  492475,\n",
       "  9984,\n",
       "  8635,\n",
       "  0,\n",
       "  3,\n",
       "  None,\n",
       "  None,\n",
       "  None,\n",
       "  None,\n",
       "  None,\n",
       "  None,\n",
       "  None,\n",
       "  None,\n",
       "  None,\n",
       "  None,\n",
       "  None,\n",
       "  None,\n",
       "  None,\n",
       "  None,\n",
       "  None,\n",
       "  None,\n",
       "  None,\n",
       "  None,\n",
       "  None,\n",
       "  None,\n",
       "  None,\n",
       "  None,\n",
       "  None,\n",
       "  None,\n",
       "  None,\n",
       "  None,\n",
       "  None,\n",
       "  None,\n",
       "  None,\n",
       "  None,\n",
       "  None,\n",
       "  None,\n",
       "  None,\n",
       "  None,\n",
       "  None,\n",
       "  None,\n",
       "  None,\n",
       "  None,\n",
       "  None,\n",
       "  None,\n",
       "  None,\n",
       "  None,\n",
       "  None,\n",
       "  None,\n",
       "  None,\n",
       "  None,\n",
       "  None,\n",
       "  None,\n",
       "  None,\n",
       "  None,\n",
       "  None,\n",
       "  None,\n",
       "  None,\n",
       "  None,\n",
       "  None,\n",
       "  None,\n",
       "  None,\n",
       "  None,\n",
       "  None,\n",
       "  None,\n",
       "  None,\n",
       "  None,\n",
       "  None,\n",
       "  None,\n",
       "  None,\n",
       "  None,\n",
       "  None,\n",
       "  None,\n",
       "  None,\n",
       "  None,\n",
       "  None,\n",
       "  None,\n",
       "  None,\n",
       "  None,\n",
       "  2.38,\n",
       "  3.3,\n",
       "  2.75,\n",
       "  2.4,\n",
       "  3.3,\n",
       "  2.55,\n",
       "  2.6,\n",
       "  3.1,\n",
       "  2.3,\n",
       "  2.5,\n",
       "  3.2,\n",
       "  2.5,\n",
       "  None,\n",
       "  None,\n",
       "  None,\n",
       "  2.5,\n",
       "  3.25,\n",
       "  2.4,\n",
       "  2.63,\n",
       "  3.3,\n",
       "  2.5,\n",
       "  2.35,\n",
       "  3.25,\n",
       "  2.65,\n",
       "  2.5,\n",
       "  3.2,\n",
       "  2.5,\n",
       "  2.3,\n",
       "  3.2,\n",
       "  2.75),\n",
       " (4,\n",
       "  1,\n",
       "  1,\n",
       "  '2008/2009',\n",
       "  1,\n",
       "  '2008-08-17 00:00:00',\n",
       "  492476,\n",
       "  9991,\n",
       "  9998,\n",
       "  5,\n",
       "  0,\n",
       "  None,\n",
       "  None,\n",
       "  None,\n",
       "  None,\n",
       "  None,\n",
       "  None,\n",
       "  None,\n",
       "  None,\n",
       "  None,\n",
       "  None,\n",
       "  None,\n",
       "  None,\n",
       "  None,\n",
       "  None,\n",
       "  None,\n",
       "  None,\n",
       "  None,\n",
       "  None,\n",
       "  None,\n",
       "  None,\n",
       "  None,\n",
       "  None,\n",
       "  None,\n",
       "  None,\n",
       "  None,\n",
       "  None,\n",
       "  None,\n",
       "  None,\n",
       "  None,\n",
       "  None,\n",
       "  None,\n",
       "  None,\n",
       "  None,\n",
       "  None,\n",
       "  None,\n",
       "  None,\n",
       "  None,\n",
       "  None,\n",
       "  None,\n",
       "  None,\n",
       "  None,\n",
       "  None,\n",
       "  None,\n",
       "  None,\n",
       "  None,\n",
       "  None,\n",
       "  None,\n",
       "  None,\n",
       "  None,\n",
       "  None,\n",
       "  None,\n",
       "  None,\n",
       "  None,\n",
       "  None,\n",
       "  None,\n",
       "  None,\n",
       "  None,\n",
       "  None,\n",
       "  None,\n",
       "  None,\n",
       "  None,\n",
       "  None,\n",
       "  None,\n",
       "  None,\n",
       "  None,\n",
       "  None,\n",
       "  None,\n",
       "  None,\n",
       "  None,\n",
       "  None,\n",
       "  None,\n",
       "  None,\n",
       "  None,\n",
       "  None,\n",
       "  1.44,\n",
       "  3.75,\n",
       "  7.5,\n",
       "  1.4,\n",
       "  4,\n",
       "  6.8,\n",
       "  1.4,\n",
       "  3.9,\n",
       "  6,\n",
       "  1.44,\n",
       "  3.6,\n",
       "  6.5,\n",
       "  None,\n",
       "  None,\n",
       "  None,\n",
       "  1.44,\n",
       "  3.75,\n",
       "  6,\n",
       "  1.44,\n",
       "  4,\n",
       "  7.5,\n",
       "  1.45,\n",
       "  3.75,\n",
       "  6.5,\n",
       "  1.5,\n",
       "  3.75,\n",
       "  5.5,\n",
       "  1.44,\n",
       "  3.75,\n",
       "  6.5),\n",
       " (5,\n",
       "  1,\n",
       "  1,\n",
       "  '2008/2009',\n",
       "  1,\n",
       "  '2008-08-16 00:00:00',\n",
       "  492477,\n",
       "  7947,\n",
       "  9985,\n",
       "  1,\n",
       "  3,\n",
       "  None,\n",
       "  None,\n",
       "  None,\n",
       "  None,\n",
       "  None,\n",
       "  None,\n",
       "  None,\n",
       "  None,\n",
       "  None,\n",
       "  None,\n",
       "  None,\n",
       "  None,\n",
       "  None,\n",
       "  None,\n",
       "  None,\n",
       "  None,\n",
       "  None,\n",
       "  None,\n",
       "  None,\n",
       "  None,\n",
       "  None,\n",
       "  None,\n",
       "  None,\n",
       "  None,\n",
       "  None,\n",
       "  None,\n",
       "  None,\n",
       "  None,\n",
       "  None,\n",
       "  None,\n",
       "  None,\n",
       "  None,\n",
       "  None,\n",
       "  None,\n",
       "  None,\n",
       "  None,\n",
       "  None,\n",
       "  None,\n",
       "  None,\n",
       "  None,\n",
       "  None,\n",
       "  None,\n",
       "  None,\n",
       "  None,\n",
       "  None,\n",
       "  None,\n",
       "  None,\n",
       "  None,\n",
       "  None,\n",
       "  None,\n",
       "  None,\n",
       "  None,\n",
       "  None,\n",
       "  None,\n",
       "  None,\n",
       "  None,\n",
       "  None,\n",
       "  None,\n",
       "  None,\n",
       "  None,\n",
       "  None,\n",
       "  None,\n",
       "  None,\n",
       "  None,\n",
       "  None,\n",
       "  None,\n",
       "  None,\n",
       "  None,\n",
       "  None,\n",
       "  None,\n",
       "  None,\n",
       "  None,\n",
       "  None,\n",
       "  None,\n",
       "  5,\n",
       "  3.5,\n",
       "  1.65,\n",
       "  5,\n",
       "  3.5,\n",
       "  1.6,\n",
       "  4,\n",
       "  3.3,\n",
       "  1.7,\n",
       "  4,\n",
       "  3.4,\n",
       "  1.72,\n",
       "  None,\n",
       "  None,\n",
       "  None,\n",
       "  4.2,\n",
       "  3.4,\n",
       "  1.7,\n",
       "  4.5,\n",
       "  3.5,\n",
       "  1.73,\n",
       "  4.5,\n",
       "  3.4,\n",
       "  1.65,\n",
       "  4.5,\n",
       "  3.5,\n",
       "  1.65,\n",
       "  4.75,\n",
       "  3.3,\n",
       "  1.67)]"
      ]
     },
     "execution_count": 42,
     "metadata": {},
     "output_type": "execute_result"
    }
   ],
   "source": [
    "c.execute('SELECT * FROM Match LIMIT 5')\n",
    "c.fetchall()"
   ]
  },
  {
   "cell_type": "code",
   "execution_count": 43,
   "metadata": {
    "collapsed": false
   },
   "outputs": [
    {
     "data": {
      "text/plain": [
       "(('id', None, None, None, None, None, None),\n",
       " ('country_id', None, None, None, None, None, None),\n",
       " ('league_id', None, None, None, None, None, None),\n",
       " ('season', None, None, None, None, None, None),\n",
       " ('stage', None, None, None, None, None, None),\n",
       " ('date', None, None, None, None, None, None),\n",
       " ('match_api_id', None, None, None, None, None, None),\n",
       " ('home_team_api_id', None, None, None, None, None, None),\n",
       " ('away_team_api_id', None, None, None, None, None, None),\n",
       " ('home_team_goal', None, None, None, None, None, None),\n",
       " ('away_team_goal', None, None, None, None, None, None),\n",
       " ('home_player_X1', None, None, None, None, None, None),\n",
       " ('home_player_X2', None, None, None, None, None, None),\n",
       " ('home_player_X3', None, None, None, None, None, None),\n",
       " ('home_player_X4', None, None, None, None, None, None),\n",
       " ('home_player_X5', None, None, None, None, None, None),\n",
       " ('home_player_X6', None, None, None, None, None, None),\n",
       " ('home_player_X7', None, None, None, None, None, None),\n",
       " ('home_player_X8', None, None, None, None, None, None),\n",
       " ('home_player_X9', None, None, None, None, None, None),\n",
       " ('home_player_X10', None, None, None, None, None, None),\n",
       " ('home_player_X11', None, None, None, None, None, None),\n",
       " ('away_player_X1', None, None, None, None, None, None),\n",
       " ('away_player_X2', None, None, None, None, None, None),\n",
       " ('away_player_X3', None, None, None, None, None, None),\n",
       " ('away_player_X4', None, None, None, None, None, None),\n",
       " ('away_player_X5', None, None, None, None, None, None),\n",
       " ('away_player_X6', None, None, None, None, None, None),\n",
       " ('away_player_X7', None, None, None, None, None, None),\n",
       " ('away_player_X8', None, None, None, None, None, None),\n",
       " ('away_player_X9', None, None, None, None, None, None),\n",
       " ('away_player_X10', None, None, None, None, None, None),\n",
       " ('away_player_X11', None, None, None, None, None, None),\n",
       " ('home_player_Y1', None, None, None, None, None, None),\n",
       " ('home_player_Y2', None, None, None, None, None, None),\n",
       " ('home_player_Y3', None, None, None, None, None, None),\n",
       " ('home_player_Y4', None, None, None, None, None, None),\n",
       " ('home_player_Y5', None, None, None, None, None, None),\n",
       " ('home_player_Y6', None, None, None, None, None, None),\n",
       " ('home_player_Y7', None, None, None, None, None, None),\n",
       " ('home_player_Y8', None, None, None, None, None, None),\n",
       " ('home_player_Y9', None, None, None, None, None, None),\n",
       " ('home_player_Y10', None, None, None, None, None, None),\n",
       " ('home_player_Y11', None, None, None, None, None, None),\n",
       " ('away_player_Y1', None, None, None, None, None, None),\n",
       " ('away_player_Y2', None, None, None, None, None, None),\n",
       " ('away_player_Y3', None, None, None, None, None, None),\n",
       " ('away_player_Y4', None, None, None, None, None, None),\n",
       " ('away_player_Y5', None, None, None, None, None, None),\n",
       " ('away_player_Y6', None, None, None, None, None, None),\n",
       " ('away_player_Y7', None, None, None, None, None, None),\n",
       " ('away_player_Y8', None, None, None, None, None, None),\n",
       " ('away_player_Y9', None, None, None, None, None, None),\n",
       " ('away_player_Y10', None, None, None, None, None, None),\n",
       " ('away_player_Y11', None, None, None, None, None, None),\n",
       " ('home_player_1', None, None, None, None, None, None),\n",
       " ('home_player_2', None, None, None, None, None, None),\n",
       " ('home_player_3', None, None, None, None, None, None),\n",
       " ('home_player_4', None, None, None, None, None, None),\n",
       " ('home_player_5', None, None, None, None, None, None),\n",
       " ('home_player_6', None, None, None, None, None, None),\n",
       " ('home_player_7', None, None, None, None, None, None),\n",
       " ('home_player_8', None, None, None, None, None, None),\n",
       " ('home_player_9', None, None, None, None, None, None),\n",
       " ('home_player_10', None, None, None, None, None, None),\n",
       " ('home_player_11', None, None, None, None, None, None),\n",
       " ('away_player_1', None, None, None, None, None, None),\n",
       " ('away_player_2', None, None, None, None, None, None),\n",
       " ('away_player_3', None, None, None, None, None, None),\n",
       " ('away_player_4', None, None, None, None, None, None),\n",
       " ('away_player_5', None, None, None, None, None, None),\n",
       " ('away_player_6', None, None, None, None, None, None),\n",
       " ('away_player_7', None, None, None, None, None, None),\n",
       " ('away_player_8', None, None, None, None, None, None),\n",
       " ('away_player_9', None, None, None, None, None, None),\n",
       " ('away_player_10', None, None, None, None, None, None),\n",
       " ('away_player_11', None, None, None, None, None, None),\n",
       " ('goal', None, None, None, None, None, None),\n",
       " ('shoton', None, None, None, None, None, None),\n",
       " ('shotoff', None, None, None, None, None, None),\n",
       " ('foulcommit', None, None, None, None, None, None),\n",
       " ('card', None, None, None, None, None, None),\n",
       " ('cross', None, None, None, None, None, None),\n",
       " ('corner', None, None, None, None, None, None),\n",
       " ('possession', None, None, None, None, None, None),\n",
       " ('B365H', None, None, None, None, None, None),\n",
       " ('B365D', None, None, None, None, None, None),\n",
       " ('B365A', None, None, None, None, None, None),\n",
       " ('BWH', None, None, None, None, None, None),\n",
       " ('BWD', None, None, None, None, None, None),\n",
       " ('BWA', None, None, None, None, None, None),\n",
       " ('IWH', None, None, None, None, None, None),\n",
       " ('IWD', None, None, None, None, None, None),\n",
       " ('IWA', None, None, None, None, None, None),\n",
       " ('LBH', None, None, None, None, None, None),\n",
       " ('LBD', None, None, None, None, None, None),\n",
       " ('LBA', None, None, None, None, None, None),\n",
       " ('PSH', None, None, None, None, None, None),\n",
       " ('PSD', None, None, None, None, None, None),\n",
       " ('PSA', None, None, None, None, None, None),\n",
       " ('WHH', None, None, None, None, None, None),\n",
       " ('WHD', None, None, None, None, None, None),\n",
       " ('WHA', None, None, None, None, None, None),\n",
       " ('SJH', None, None, None, None, None, None),\n",
       " ('SJD', None, None, None, None, None, None),\n",
       " ('SJA', None, None, None, None, None, None),\n",
       " ('VCH', None, None, None, None, None, None),\n",
       " ('VCD', None, None, None, None, None, None),\n",
       " ('VCA', None, None, None, None, None, None),\n",
       " ('GBH', None, None, None, None, None, None),\n",
       " ('GBD', None, None, None, None, None, None),\n",
       " ('GBA', None, None, None, None, None, None),\n",
       " ('BSH', None, None, None, None, None, None),\n",
       " ('BSD', None, None, None, None, None, None),\n",
       " ('BSA', None, None, None, None, None, None))"
      ]
     },
     "execution_count": 43,
     "metadata": {},
     "output_type": "execute_result"
    }
   ],
   "source": [
    "c.description"
   ]
  },
  {
   "cell_type": "markdown",
   "metadata": {},
   "source": [
    "1.Which team scored the most points when playing at home?"
   ]
  },
  {
   "cell_type": "code",
   "execution_count": 47,
   "metadata": {
    "collapsed": false
   },
   "outputs": [
    {
     "data": {
      "text/plain": [
       "[(8633, 505), (8634, 495), (9925, 389), (9823, 382), (8640, 370)]"
      ]
     },
     "execution_count": 47,
     "metadata": {},
     "output_type": "execute_result"
    }
   ],
   "source": [
    "c.execute('SELECT home_team_api_id, SUM(home_team_goal) FROM Match GROUP BY home_team_api_id ORDER BY SUM(home_team_goal) DESC LIMIT 5')\n",
    "c.fetchall()"
   ]
  },
  {
   "cell_type": "markdown",
   "metadata": {},
   "source": [
    "Answer: team id 8633."
   ]
  },
  {
   "cell_type": "markdown",
   "metadata": {},
   "source": [
    "2.Did this team also score the most points when playing away?"
   ]
  },
  {
   "cell_type": "code",
   "execution_count": 48,
   "metadata": {
    "collapsed": false
   },
   "outputs": [
    {
     "data": {
      "text/plain": [
       "[(8634, 354), (8633, 338), (9925, 306), (8593, 287), (8640, 282)]"
      ]
     },
     "execution_count": 48,
     "metadata": {},
     "output_type": "execute_result"
    }
   ],
   "source": [
    "c.execute('SELECT away_team_api_id, SUM(away_team_goal) FROM Match GROUP BY away_team_api_id ORDER BY SUM(away_team_goal) DESC LIMIT 5')\n",
    "c.fetchall()"
   ]
  },
  {
   "cell_type": "markdown",
   "metadata": {},
   "source": [
    "Answer: No, team id 8634 scored the most points when playing away."
   ]
  },
  {
   "cell_type": "markdown",
   "metadata": {},
   "source": [
    "3.How many matches resulted in a tie?"
   ]
  },
  {
   "cell_type": "code",
   "execution_count": 52,
   "metadata": {
    "collapsed": false
   },
   "outputs": [
    {
     "data": {
      "text/plain": [
       "[(6596,)]"
      ]
     },
     "execution_count": 52,
     "metadata": {},
     "output_type": "execute_result"
    }
   ],
   "source": [
    "c.execute('SELECT COUNT(id) FROM Match WHERE home_team_goal== away_team_goal')\n",
    "c.fetchall()"
   ]
  },
  {
   "cell_type": "markdown",
   "metadata": {},
   "source": [
    "4.How many players have Smith for their last name? How many have 'smith' anywhere in their name?"
   ]
  },
  {
   "cell_type": "code",
   "execution_count": 62,
   "metadata": {
    "collapsed": false
   },
   "outputs": [
    {
     "data": {
      "text/plain": [
       "[(15,)]"
      ]
     },
     "execution_count": 62,
     "metadata": {},
     "output_type": "execute_result"
    }
   ],
   "source": [
    "c.execute('SELECT COUNT(*) FROM Player WHERE player_name LIKE \"% Smith\"')\n",
    "c.fetchall()"
   ]
  },
  {
   "cell_type": "code",
   "execution_count": 64,
   "metadata": {
    "collapsed": false
   },
   "outputs": [
    {
     "data": {
      "text/plain": [
       "[(18,)]"
      ]
     },
     "execution_count": 64,
     "metadata": {},
     "output_type": "execute_result"
    }
   ],
   "source": [
    "c.execute('SELECT COUNT(*) FROM Player WHERE player_name LIKE \"%Smith%\"')\n",
    "c.fetchall()"
   ]
  },
  {
   "cell_type": "markdown",
   "metadata": {},
   "source": [
    "5.What was the median tie score? Use the value determined in the previous question for the number of tie games. Hint: PostgreSQL does not have a median function. Instead, think about the steps required to calculate a median and use the WITH command to store stepwise results as a table and then operate on these results."
   ]
  },
  {
   "cell_type": "code",
   "execution_count": 107,
   "metadata": {
    "collapsed": false
   },
   "outputs": [
    {
     "data": {
      "text/plain": [
       "[(14557, 1, 1)]"
      ]
     },
     "execution_count": 107,
     "metadata": {},
     "output_type": "execute_result"
    }
   ],
   "source": [
    "c.execute('''WITH tie_table AS (SELECT id, home_team_goal, away_team_goal FROM Match WHERE home_team_goal== away_team_goal ORDER BY home_team_goal DESC) \n",
    "SELECT * FROM tie_table LIMIT 1 OFFSET 6596/2''')\n",
    "c.fetchall()"
   ]
  },
  {
   "cell_type": "code",
   "execution_count": 108,
   "metadata": {
    "collapsed": false
   },
   "outputs": [
    {
     "data": {
      "text/plain": [
       "[(14561, 1, 1)]"
      ]
     },
     "execution_count": 108,
     "metadata": {},
     "output_type": "execute_result"
    }
   ],
   "source": [
    "c.execute('''WITH tie_table AS (SELECT id, home_team_goal, away_team_goal FROM Match WHERE home_team_goal== away_team_goal ORDER BY home_team_goal DESC) \n",
    "SELECT * FROM tie_table LIMIT 1 OFFSET 3299''')\n",
    "c.fetchall()"
   ]
  },
  {
   "cell_type": "markdown",
   "metadata": {},
   "source": [
    "The median is 1."
   ]
  },
  {
   "cell_type": "markdown",
   "metadata": {},
   "source": [
    "5.What percentage of players prefer their left or right foot? Hint: Calculate either the right or left foot, whichever is easier based on how you setup the problem."
   ]
  },
  {
   "cell_type": "code",
   "execution_count": 90,
   "metadata": {
    "collapsed": false
   },
   "outputs": [],
   "source": [
    "c.execute('SELECT COUNT(*) FROM Player_Attributes WHERE preferred_foot == \"right\"')\n",
    "right = c.fetchall()"
   ]
  },
  {
   "cell_type": "code",
   "execution_count": 91,
   "metadata": {
    "collapsed": false
   },
   "outputs": [],
   "source": [
    "c.execute('SELECT COUNT(*) FROM Player_Attributes WHERE preferred_foot == \"left\"')\n",
    "left = c.fetchall()"
   ]
  },
  {
   "cell_type": "code",
   "execution_count": 96,
   "metadata": {
    "collapsed": false
   },
   "outputs": [
    {
     "data": {
      "text/plain": [
       "0.7557469067717946"
      ]
     },
     "execution_count": 96,
     "metadata": {},
     "output_type": "execute_result"
    }
   ],
   "source": [
    "right[0][0] / (right[0][0] + left[0][0])"
   ]
  }
 ],
 "metadata": {
  "anaconda-cloud": {},
  "kernelspec": {
   "display_name": "Python [default]",
   "language": "python",
   "name": "python3"
  },
  "language_info": {
   "codemirror_mode": {
    "name": "ipython",
    "version": 3
   },
   "file_extension": ".py",
   "mimetype": "text/x-python",
   "name": "python",
   "nbconvert_exporter": "python",
   "pygments_lexer": "ipython3",
   "version": "3.5.2"
  }
 },
 "nbformat": 4,
 "nbformat_minor": 1
}
