{
 "cells": [
  {
   "cell_type": "code",
   "execution_count": 162,
   "metadata": {
    "collapsed": true
   },
   "outputs": [],
   "source": [
    "import json\n",
    "import pandas as pd\n",
    "import pickle"
   ]
  },
  {
   "cell_type": "code",
   "execution_count": 64,
   "metadata": {
    "collapsed": false
   },
   "outputs": [],
   "source": [
    "# Read the entire json file into a python array\n",
    "\n",
    "with open('yelp_academic_dataset_business.json', 'rb') as f:\n",
    "    data = f.readlines()"
   ]
  },
  {
   "cell_type": "code",
   "execution_count": 147,
   "metadata": {
    "collapsed": true
   },
   "outputs": [],
   "source": [
    "# Compile data into a dataframe\n",
    "\n",
    "def compile_data(data):\n",
    "    df = pd.DataFrame()\n",
    "    for n in list(range(len(data))):\n",
    "        df_new = pd.DataFrame.from_dict(json.loads(data[n].decode(\"utf-8\")), orient='index')\n",
    "        df_new = df_new.transpose()\n",
    "        df_new['Order'] = n\n",
    "        df = df.append(df_new)\n",
    "    return df"
   ]
  },
  {
   "cell_type": "code",
   "execution_count": 148,
   "metadata": {
    "collapsed": false
   },
   "outputs": [],
   "source": [
    "yelp = compile_data(data)"
   ]
  },
  {
   "cell_type": "code",
   "execution_count": 150,
   "metadata": {
    "collapsed": false
   },
   "outputs": [
    {
     "data": {
      "text/html": [
       "<div>\n",
       "<table border=\"1\" class=\"dataframe\">\n",
       "  <thead>\n",
       "    <tr style=\"text-align: right;\">\n",
       "      <th></th>\n",
       "      <th>city</th>\n",
       "      <th>latitude</th>\n",
       "      <th>type</th>\n",
       "      <th>attributes</th>\n",
       "      <th>address</th>\n",
       "      <th>review_count</th>\n",
       "      <th>postal_code</th>\n",
       "      <th>is_open</th>\n",
       "      <th>state</th>\n",
       "      <th>categories</th>\n",
       "      <th>business_id</th>\n",
       "      <th>stars</th>\n",
       "      <th>hours</th>\n",
       "      <th>longitude</th>\n",
       "      <th>name</th>\n",
       "      <th>neighborhood</th>\n",
       "      <th>Order</th>\n",
       "    </tr>\n",
       "  </thead>\n",
       "  <tbody>\n",
       "    <tr>\n",
       "      <th>0</th>\n",
       "      <td>Tempe</td>\n",
       "      <td>33.3782</td>\n",
       "      <td>business</td>\n",
       "      <td>[BikeParking: True, BusinessAcceptsBitcoin: Fa...</td>\n",
       "      <td>227 E Baseline Rd, Ste J2</td>\n",
       "      <td>17</td>\n",
       "      <td>85283</td>\n",
       "      <td>0</td>\n",
       "      <td>AZ</td>\n",
       "      <td>[Tobacco Shops, Nightlife, Vape Shops, Shopping]</td>\n",
       "      <td>0DI8Dt2PJp07XkVvIElIcQ</td>\n",
       "      <td>4.5</td>\n",
       "      <td>[Monday 11:0-21:0, Tuesday 11:0-21:0, Wednesda...</td>\n",
       "      <td>-111.936</td>\n",
       "      <td>Innovative Vapors</td>\n",
       "      <td></td>\n",
       "      <td>0</td>\n",
       "    </tr>\n",
       "    <tr>\n",
       "      <th>0</th>\n",
       "      <td>Las Vegas</td>\n",
       "      <td>36.1923</td>\n",
       "      <td>business</td>\n",
       "      <td>[BusinessAcceptsBitcoin: False, BusinessAccept...</td>\n",
       "      <td>495 S Grand Central Pkwy</td>\n",
       "      <td>9</td>\n",
       "      <td>89106</td>\n",
       "      <td>1</td>\n",
       "      <td>NV</td>\n",
       "      <td>[Caterers, Grocery, Food, Event Planning &amp; Ser...</td>\n",
       "      <td>LTlCaCGZE14GuaUXUGbamg</td>\n",
       "      <td>5</td>\n",
       "      <td>[Monday 0:0-0:0, Tuesday 0:0-0:0, Wednesday 0:...</td>\n",
       "      <td>-115.159</td>\n",
       "      <td>Cut and Taste</td>\n",
       "      <td></td>\n",
       "      <td>1</td>\n",
       "    </tr>\n",
       "    <tr>\n",
       "      <th>0</th>\n",
       "      <td>Toronto</td>\n",
       "      <td>43.6611</td>\n",
       "      <td>business</td>\n",
       "      <td>[Alcohol: none, Ambience: {'romantic': False, ...</td>\n",
       "      <td>979 Bloor Street W</td>\n",
       "      <td>7</td>\n",
       "      <td>M6H 1L5</td>\n",
       "      <td>1</td>\n",
       "      <td>ON</td>\n",
       "      <td>[Restaurants, Pizza, Chicken Wings, Italian]</td>\n",
       "      <td>EDqCEAGXVGCH4FJXgqtjqg</td>\n",
       "      <td>2.5</td>\n",
       "      <td>[Monday 11:0-2:0, Tuesday 11:0-2:0, Wednesday ...</td>\n",
       "      <td>-79.4291</td>\n",
       "      <td>Pizza Pizza</td>\n",
       "      <td>Dufferin Grove</td>\n",
       "      <td>2</td>\n",
       "    </tr>\n",
       "    <tr>\n",
       "      <th>0</th>\n",
       "      <td>Oakdale</td>\n",
       "      <td>40.4445</td>\n",
       "      <td>business</td>\n",
       "      <td>[AcceptsInsurance: False, BusinessAcceptsCredi...</td>\n",
       "      <td>7014 Steubenville Pike</td>\n",
       "      <td>4</td>\n",
       "      <td>15071</td>\n",
       "      <td>1</td>\n",
       "      <td>PA</td>\n",
       "      <td>[Hair Removal, Beauty &amp; Spas, Blow Dry/Out Ser...</td>\n",
       "      <td>cnGIivYRLxpF7tBVR_JwWA</td>\n",
       "      <td>4</td>\n",
       "      <td>[Tuesday 10:0-21:0, Wednesday 10:0-21:0, Thurs...</td>\n",
       "      <td>-80.1745</td>\n",
       "      <td>Plush Salon and Spa</td>\n",
       "      <td></td>\n",
       "      <td>3</td>\n",
       "    </tr>\n",
       "    <tr>\n",
       "      <th>0</th>\n",
       "      <td>Toronto</td>\n",
       "      <td>43.6598</td>\n",
       "      <td>business</td>\n",
       "      <td>[BusinessAcceptsCreditCards: True, Restaurants...</td>\n",
       "      <td>321 Jarvis Street</td>\n",
       "      <td>8</td>\n",
       "      <td>M5B 2C2</td>\n",
       "      <td>1</td>\n",
       "      <td>ON</td>\n",
       "      <td>[Hotels &amp; Travel, Event Planning &amp; Services, H...</td>\n",
       "      <td>cdk-qqJ71q6P7TJTww_DSA</td>\n",
       "      <td>3</td>\n",
       "      <td>None</td>\n",
       "      <td>-79.3754</td>\n",
       "      <td>Comfort Inn</td>\n",
       "      <td>Downtown Core</td>\n",
       "      <td>4</td>\n",
       "    </tr>\n",
       "  </tbody>\n",
       "</table>\n",
       "</div>"
      ],
      "text/plain": [
       "        city latitude      type  \\\n",
       "0      Tempe  33.3782  business   \n",
       "0  Las Vegas  36.1923  business   \n",
       "0    Toronto  43.6611  business   \n",
       "0    Oakdale  40.4445  business   \n",
       "0    Toronto  43.6598  business   \n",
       "\n",
       "                                          attributes  \\\n",
       "0  [BikeParking: True, BusinessAcceptsBitcoin: Fa...   \n",
       "0  [BusinessAcceptsBitcoin: False, BusinessAccept...   \n",
       "0  [Alcohol: none, Ambience: {'romantic': False, ...   \n",
       "0  [AcceptsInsurance: False, BusinessAcceptsCredi...   \n",
       "0  [BusinessAcceptsCreditCards: True, Restaurants...   \n",
       "\n",
       "                     address review_count postal_code is_open state  \\\n",
       "0  227 E Baseline Rd, Ste J2           17       85283       0    AZ   \n",
       "0   495 S Grand Central Pkwy            9       89106       1    NV   \n",
       "0         979 Bloor Street W            7     M6H 1L5       1    ON   \n",
       "0     7014 Steubenville Pike            4       15071       1    PA   \n",
       "0          321 Jarvis Street            8     M5B 2C2       1    ON   \n",
       "\n",
       "                                          categories             business_id  \\\n",
       "0   [Tobacco Shops, Nightlife, Vape Shops, Shopping]  0DI8Dt2PJp07XkVvIElIcQ   \n",
       "0  [Caterers, Grocery, Food, Event Planning & Ser...  LTlCaCGZE14GuaUXUGbamg   \n",
       "0       [Restaurants, Pizza, Chicken Wings, Italian]  EDqCEAGXVGCH4FJXgqtjqg   \n",
       "0  [Hair Removal, Beauty & Spas, Blow Dry/Out Ser...  cnGIivYRLxpF7tBVR_JwWA   \n",
       "0  [Hotels & Travel, Event Planning & Services, H...  cdk-qqJ71q6P7TJTww_DSA   \n",
       "\n",
       "  stars                                              hours longitude  \\\n",
       "0   4.5  [Monday 11:0-21:0, Tuesday 11:0-21:0, Wednesda...  -111.936   \n",
       "0     5  [Monday 0:0-0:0, Tuesday 0:0-0:0, Wednesday 0:...  -115.159   \n",
       "0   2.5  [Monday 11:0-2:0, Tuesday 11:0-2:0, Wednesday ...  -79.4291   \n",
       "0     4  [Tuesday 10:0-21:0, Wednesday 10:0-21:0, Thurs...  -80.1745   \n",
       "0     3                                               None  -79.3754   \n",
       "\n",
       "                  name    neighborhood  Order  \n",
       "0    Innovative Vapors                      0  \n",
       "0        Cut and Taste                      1  \n",
       "0          Pizza Pizza  Dufferin Grove      2  \n",
       "0  Plush Salon and Spa                      3  \n",
       "0          Comfort Inn   Downtown Core      4  "
      ]
     },
     "execution_count": 150,
     "metadata": {},
     "output_type": "execute_result"
    }
   ],
   "source": [
    "yelp.head()"
   ]
  },
  {
   "cell_type": "code",
   "execution_count": 157,
   "metadata": {
    "collapsed": false
   },
   "outputs": [],
   "source": [
    "# Reset index\n",
    "\n",
    "yelp = yelp.set_index(['Order'])"
   ]
  },
  {
   "cell_type": "code",
   "execution_count": 163,
   "metadata": {
    "collapsed": false
   },
   "outputs": [],
   "source": [
    "# Save the data frame into a pickle file\n",
    "\n",
    "with open('yelp_data.pkl', 'wb') as picklefile:\n",
    "    pickle.dump(yelp, picklefile)"
   ]
  },
  {
   "cell_type": "code",
   "execution_count": 164,
   "metadata": {
    "collapsed": true
   },
   "outputs": [],
   "source": [
    "# Load pickle file\n",
    "\n",
    "with open('yelp_data.pkl', 'rb') as picklefile: \n",
    "    my_old_data = pickle.load(picklefile)"
   ]
  },
  {
   "cell_type": "code",
   "execution_count": 167,
   "metadata": {
    "collapsed": true
   },
   "outputs": [],
   "source": [
    "# Read pickle file\n",
    "\n",
    "yelp = pd.read_pickle('yelp_data.pkl')"
   ]
  },
  {
   "cell_type": "code",
   "execution_count": 175,
   "metadata": {
    "collapsed": false
   },
   "outputs": [],
   "source": [
    "# Las Vegas data\n",
    "\n",
    "LV = yelp[yelp['city'] == 'Las Vegas']"
   ]
  },
  {
   "cell_type": "code",
   "execution_count": 289,
   "metadata": {
    "collapsed": false
   },
   "outputs": [
    {
     "name": "stdout",
     "output_type": "stream",
     "text": [
      "<class 'pandas.core.frame.DataFrame'>\n",
      "Int64Index: 22892 entries, 1 to 144054\n",
      "Data columns (total 16 columns):\n",
      "city            22892 non-null object\n",
      "latitude        22892 non-null object\n",
      "type            22892 non-null object\n",
      "attributes      19899 non-null object\n",
      "address         22892 non-null object\n",
      "review_count    22892 non-null object\n",
      "postal_code     22892 non-null object\n",
      "is_open         22892 non-null object\n",
      "state           22892 non-null object\n",
      "categories      22830 non-null object\n",
      "business_id     22892 non-null object\n",
      "stars           22892 non-null object\n",
      "hours           16466 non-null object\n",
      "longitude       22892 non-null object\n",
      "name            22892 non-null object\n",
      "neighborhood    22892 non-null object\n",
      "dtypes: object(16)\n",
      "memory usage: 3.0+ MB\n"
     ]
    }
   ],
   "source": [
    "LV.info()"
   ]
  },
  {
   "cell_type": "code",
   "execution_count": 258,
   "metadata": {
    "collapsed": false
   },
   "outputs": [
    {
     "data": {
      "text/plain": [
       "Order\n",
       "1     [BusinessAcceptsBitcoin: False, BusinessAccept...\n",
       "26    [BusinessAcceptsCreditCards: True, Restaurants...\n",
       "36                   [BusinessAcceptsCreditCards: True]\n",
       "37    [Alcohol: full_bar, BusinessAcceptsCreditCards...\n",
       "54    [BusinessAcceptsCreditCards: True, ByAppointme...\n",
       "Name: attributes, dtype: object"
      ]
     },
     "execution_count": 258,
     "metadata": {},
     "output_type": "execute_result"
    }
   ],
   "source": [
    "a.head()"
   ]
  },
  {
   "cell_type": "code",
   "execution_count": null,
   "metadata": {
    "collapsed": true
   },
   "outputs": [],
   "source": [
    "# Compile lists in categories into one string\n",
    "\n",
    "print(\"\".join(f.readlines()).split())"
   ]
  },
  {
   "cell_type": "code",
   "execution_count": 266,
   "metadata": {
    "collapsed": false
   },
   "outputs": [],
   "source": [
    "a = LV['attributes'].iteritems()"
   ]
  },
  {
   "cell_type": "code",
   "execution_count": 267,
   "metadata": {
    "collapsed": false
   },
   "outputs": [],
   "source": [
    "b = list(a)"
   ]
  },
  {
   "cell_type": "code",
   "execution_count": 283,
   "metadata": {
    "collapsed": false
   },
   "outputs": [],
   "source": [
    "c = [i[1] for i in b]"
   ]
  },
  {
   "cell_type": "code",
   "execution_count": 288,
   "metadata": {
    "collapsed": false
   },
   "outputs": [
    {
     "data": {
      "text/plain": [
       "['Alcohol: full_bar',\n",
       " 'BusinessAcceptsCreditCards: True',\n",
       " \"BusinessParking: {'garage': False, 'street': False, 'validated': False, 'lot': True, 'valet': False}\",\n",
       " 'GoodForKids: True',\n",
       " \"GoodForMeal: {'dessert': False, 'latenight': False, 'lunch': True, 'dinner': True, 'breakfast': False, 'brunch': False}\",\n",
       " 'OutdoorSeating: True',\n",
       " 'RestaurantsAttire: casual',\n",
       " 'RestaurantsDelivery: False',\n",
       " 'RestaurantsGoodForGroups: True',\n",
       " 'RestaurantsPriceRange2: 2',\n",
       " 'RestaurantsReservations: True',\n",
       " 'RestaurantsTableService: True',\n",
       " 'RestaurantsTakeOut: True',\n",
       " 'WheelchairAccessible: True']"
      ]
     },
     "execution_count": 288,
     "metadata": {},
     "output_type": "execute_result"
    }
   ],
   "source": [
    "c[3]"
   ]
  },
  {
   "cell_type": "code",
   "execution_count": 257,
   "metadata": {
    "collapsed": false
   },
   "outputs": [
    {
     "data": {
      "text/plain": [
       "pandas.core.series.Series"
      ]
     },
     "execution_count": 257,
     "metadata": {},
     "output_type": "execute_result"
    }
   ],
   "source": [
    "type(a)"
   ]
  },
  {
   "cell_type": "code",
   "execution_count": 248,
   "metadata": {
    "collapsed": false
   },
   "outputs": [],
   "source": [
    "b = LV['attributes']"
   ]
  },
  {
   "cell_type": "code",
   "execution_count": null,
   "metadata": {
    "collapsed": true
   },
   "outputs": [],
   "source": []
  },
  {
   "cell_type": "code",
   "execution_count": 250,
   "metadata": {
    "collapsed": false
   },
   "outputs": [
    {
     "data": {
      "text/plain": [
       "'BusinessAcceptsBitcoin: False'"
      ]
     },
     "execution_count": 250,
     "metadata": {},
     "output_type": "execute_result"
    }
   ],
   "source": [
    "a.iloc[0][0]"
   ]
  },
  {
   "cell_type": "code",
   "execution_count": 178,
   "metadata": {
    "collapsed": false
   },
   "outputs": [
    {
     "name": "stdout",
     "output_type": "stream",
     "text": [
      "<class 'pandas.core.frame.DataFrame'>\n",
      "Int64Index: 22892 entries, 1 to 144054\n",
      "Data columns (total 16 columns):\n",
      "city            22892 non-null object\n",
      "latitude        22892 non-null object\n",
      "type            22892 non-null object\n",
      "attributes      19899 non-null object\n",
      "address         22892 non-null object\n",
      "review_count    22892 non-null object\n",
      "postal_code     22892 non-null object\n",
      "is_open         22892 non-null object\n",
      "state           22892 non-null object\n",
      "categories      22830 non-null object\n",
      "business_id     22892 non-null object\n",
      "stars           22892 non-null object\n",
      "hours           16466 non-null object\n",
      "longitude       22892 non-null object\n",
      "name            22892 non-null object\n",
      "neighborhood    22892 non-null object\n",
      "dtypes: object(16)\n",
      "memory usage: 3.0+ MB\n"
     ]
    }
   ],
   "source": [
    "LV.info()"
   ]
  },
  {
   "cell_type": "code",
   "execution_count": 227,
   "metadata": {
    "collapsed": false
   },
   "outputs": [
    {
     "data": {
      "text/plain": [
       "-1"
      ]
     },
     "execution_count": 227,
     "metadata": {},
     "output_type": "execute_result"
    }
   ],
   "source": [
    "LV['categories'][1][0].find('Food')"
   ]
  },
  {
   "cell_type": "code",
   "execution_count": 228,
   "metadata": {
    "collapsed": false
   },
   "outputs": [
    {
     "ename": "TypeError",
     "evalue": "'NoneType' object is not iterable",
     "output_type": "error",
     "traceback": [
      "\u001b[0;31m---------------------------------------------------------------------------\u001b[0m",
      "\u001b[0;31mTypeError\u001b[0m                                 Traceback (most recent call last)",
      "\u001b[0;32m<ipython-input-228-7e2e5c85fdfe>\u001b[0m in \u001b[0;36m<module>\u001b[0;34m()\u001b[0m\n\u001b[1;32m      1\u001b[0m \u001b[0;31m# Flatten the categories\u001b[0m\u001b[0;34m\u001b[0m\u001b[0;34m\u001b[0m\u001b[0m\n\u001b[1;32m      2\u001b[0m \u001b[0;34m\u001b[0m\u001b[0m\n\u001b[0;32m----> 3\u001b[0;31m \u001b[0mflattened\u001b[0m \u001b[0;34m=\u001b[0m \u001b[0;34m[\u001b[0m\u001b[0mval\u001b[0m \u001b[0;32mfor\u001b[0m \u001b[0msublist\u001b[0m \u001b[0;32min\u001b[0m \u001b[0mLV\u001b[0m\u001b[0;34m[\u001b[0m\u001b[0;34m'categories'\u001b[0m\u001b[0;34m]\u001b[0m \u001b[0;32mfor\u001b[0m \u001b[0mval\u001b[0m \u001b[0;32min\u001b[0m \u001b[0msublist\u001b[0m\u001b[0;34m]\u001b[0m\u001b[0;34m\u001b[0m\u001b[0m\n\u001b[0m",
      "\u001b[0;32m<ipython-input-228-7e2e5c85fdfe>\u001b[0m in \u001b[0;36m<listcomp>\u001b[0;34m(.0)\u001b[0m\n\u001b[1;32m      1\u001b[0m \u001b[0;31m# Flatten the categories\u001b[0m\u001b[0;34m\u001b[0m\u001b[0;34m\u001b[0m\u001b[0m\n\u001b[1;32m      2\u001b[0m \u001b[0;34m\u001b[0m\u001b[0m\n\u001b[0;32m----> 3\u001b[0;31m \u001b[0mflattened\u001b[0m \u001b[0;34m=\u001b[0m \u001b[0;34m[\u001b[0m\u001b[0mval\u001b[0m \u001b[0;32mfor\u001b[0m \u001b[0msublist\u001b[0m \u001b[0;32min\u001b[0m \u001b[0mLV\u001b[0m\u001b[0;34m[\u001b[0m\u001b[0;34m'categories'\u001b[0m\u001b[0;34m]\u001b[0m \u001b[0;32mfor\u001b[0m \u001b[0mval\u001b[0m \u001b[0;32min\u001b[0m \u001b[0msublist\u001b[0m\u001b[0;34m]\u001b[0m\u001b[0;34m\u001b[0m\u001b[0m\n\u001b[0m",
      "\u001b[0;31mTypeError\u001b[0m: 'NoneType' object is not iterable"
     ]
    }
   ],
   "source": [
    "# Flatten the categories\n",
    "def flatten_cat(data):\n",
    "    for sublist in data['categories']:\n",
    "        flattened = val for sublist in LV['categories'] for val in sublist]"
   ]
  },
  {
   "cell_type": "code",
   "execution_count": 205,
   "metadata": {
    "collapsed": false,
    "scrolled": true
   },
   "outputs": [],
   "source": [
    "# Extract info from attributes\n",
    "\n",
    "def extract_att(data):\n",
    "    for n in list(range(len(data))):\n",
    "        ll = data['attributes'][data.index[n]]\n",
    "        for sublist in ll:\n",
    "            print (sublist)"
   ]
  },
  {
   "cell_type": "code",
   "execution_count": 217,
   "metadata": {
    "collapsed": false
   },
   "outputs": [
    {
     "name": "stdout",
     "output_type": "stream",
     "text": [
      "BusinessAcceptsBitcoin: False\n",
      "BusinessAcceptsCreditCards: True\n",
      "BusinessAcceptsCreditCards: True\n",
      "RestaurantsPriceRange2: 2\n",
      "WheelchairAccessible: True\n",
      "BusinessAcceptsCreditCards: True\n",
      "Alcohol: full_bar\n",
      "BusinessAcceptsCreditCards: True\n",
      "BusinessParking: {'garage': False, 'street': False, 'validated': False, 'lot': True, 'valet': False}\n",
      "GoodForKids: True\n",
      "GoodForMeal: {'dessert': False, 'latenight': False, 'lunch': True, 'dinner': True, 'breakfast': False, 'brunch': False}\n",
      "OutdoorSeating: True\n",
      "RestaurantsAttire: casual\n",
      "RestaurantsDelivery: False\n",
      "RestaurantsGoodForGroups: True\n",
      "RestaurantsPriceRange2: 2\n",
      "RestaurantsReservations: True\n",
      "RestaurantsTableService: True\n",
      "RestaurantsTakeOut: True\n",
      "WheelchairAccessible: True\n",
      "BusinessAcceptsCreditCards: True\n",
      "ByAppointmentOnly: True\n",
      "GoodForKids: True\n",
      "RestaurantsPriceRange2: 2\n",
      "WheelchairAccessible: True\n",
      "BikeParking: True\n",
      "BusinessAcceptsCreditCards: True\n",
      "BusinessParking: {'garage': False, 'street': False, 'validated': False, 'lot': False, 'valet': False}\n",
      "RestaurantsPriceRange2: 3\n",
      "BusinessAcceptsCreditCards: True\n",
      "Alcohol: none\n",
      "Ambience: {'romantic': False, 'intimate': False, 'classy': False, 'hipster': False, 'divey': False, 'touristy': False, 'trendy': False, 'upscale': False, 'casual': True}\n",
      "BikeParking: True\n",
      "BusinessAcceptsCreditCards: True\n",
      "BusinessParking: {'garage': False, 'street': False, 'validated': False, 'lot': True, 'valet': False}\n",
      "Caters: True\n",
      "GoodForKids: True\n",
      "HasTV: True\n",
      "NoiseLevel: quiet\n",
      "OutdoorSeating: False\n",
      "RestaurantsAttire: casual\n",
      "RestaurantsDelivery: True\n",
      "RestaurantsGoodForGroups: True\n",
      "RestaurantsPriceRange2: 2\n",
      "RestaurantsReservations: True\n",
      "RestaurantsTableService: True\n",
      "RestaurantsTakeOut: True\n",
      "WiFi: free\n",
      "GoodForMeal: {'dessert': False, 'latenight': False, 'lunch': True, 'dinner': True, 'breakfast': False, 'brunch': False}\n",
      "Ambience: {'romantic': False, 'intimate': False, 'classy': False, 'hipster': False, 'divey': False, 'touristy': False, 'trendy': False, 'upscale': False, 'casual': False}\n",
      "BikeParking: False\n",
      "BusinessAcceptsCreditCards: True\n",
      "BusinessParking: {'garage': False, 'street': False, 'validated': False, 'lot': False, 'valet': False}\n",
      "Caters: False\n",
      "GoodForKids: False\n",
      "GoodForMeal: {'dessert': False, 'latenight': False, 'lunch': False, 'dinner': False, 'breakfast': False, 'brunch': True}\n",
      "HasTV: False\n",
      "NoiseLevel: quiet\n",
      "OutdoorSeating: False\n",
      "RestaurantsAttire: casual\n",
      "RestaurantsDelivery: False\n",
      "RestaurantsGoodForGroups: False\n",
      "RestaurantsPriceRange2: 2\n",
      "RestaurantsReservations: True\n",
      "RestaurantsTableService: True\n",
      "RestaurantsTakeOut: True\n",
      "WiFi: no\n",
      "BikeParking: True\n",
      "BusinessAcceptsCreditCards: True\n",
      "BusinessParking: {'garage': True, 'street': False, 'validated': False, 'lot': False, 'valet': False}\n",
      "RestaurantsPriceRange2: 2\n",
      "WheelchairAccessible: True\n"
     ]
    },
    {
     "ename": "TypeError",
     "evalue": "'NoneType' object is not iterable",
     "output_type": "error",
     "traceback": [
      "\u001b[0;31m---------------------------------------------------------------------------\u001b[0m",
      "\u001b[0;31mTypeError\u001b[0m                                 Traceback (most recent call last)",
      "\u001b[0;32m<ipython-input-217-513b39652bb8>\u001b[0m in \u001b[0;36m<module>\u001b[0;34m()\u001b[0m\n\u001b[0;32m----> 1\u001b[0;31m \u001b[0mextract_att\u001b[0m\u001b[0;34m(\u001b[0m\u001b[0mLV\u001b[0m\u001b[0;34m)\u001b[0m\u001b[0;34m.\u001b[0m\u001b[0mvalues\u001b[0m\u001b[0;34m(\u001b[0m\u001b[0;34m)\u001b[0m\u001b[0;34m\u001b[0m\u001b[0m\n\u001b[0m",
      "\u001b[0;32m<ipython-input-205-7ee4640c549e>\u001b[0m in \u001b[0;36mextract_att\u001b[0;34m(data)\u001b[0m\n\u001b[1;32m      4\u001b[0m     \u001b[0;32mfor\u001b[0m \u001b[0mn\u001b[0m \u001b[0;32min\u001b[0m \u001b[0mlist\u001b[0m\u001b[0;34m(\u001b[0m\u001b[0mrange\u001b[0m\u001b[0;34m(\u001b[0m\u001b[0mlen\u001b[0m\u001b[0;34m(\u001b[0m\u001b[0mdata\u001b[0m\u001b[0;34m)\u001b[0m\u001b[0;34m)\u001b[0m\u001b[0;34m)\u001b[0m\u001b[0;34m:\u001b[0m\u001b[0;34m\u001b[0m\u001b[0m\n\u001b[1;32m      5\u001b[0m         \u001b[0mll\u001b[0m \u001b[0;34m=\u001b[0m \u001b[0mdata\u001b[0m\u001b[0;34m[\u001b[0m\u001b[0;34m'attributes'\u001b[0m\u001b[0;34m]\u001b[0m\u001b[0;34m[\u001b[0m\u001b[0mdata\u001b[0m\u001b[0;34m.\u001b[0m\u001b[0mindex\u001b[0m\u001b[0;34m[\u001b[0m\u001b[0mn\u001b[0m\u001b[0;34m]\u001b[0m\u001b[0;34m]\u001b[0m\u001b[0;34m\u001b[0m\u001b[0m\n\u001b[0;32m----> 6\u001b[0;31m         \u001b[0;32mfor\u001b[0m \u001b[0msublist\u001b[0m \u001b[0;32min\u001b[0m \u001b[0mll\u001b[0m\u001b[0;34m:\u001b[0m\u001b[0;34m\u001b[0m\u001b[0m\n\u001b[0m\u001b[1;32m      7\u001b[0m             \u001b[0mprint\u001b[0m \u001b[0;34m(\u001b[0m\u001b[0msublist\u001b[0m\u001b[0;34m)\u001b[0m\u001b[0;34m\u001b[0m\u001b[0m\n",
      "\u001b[0;31mTypeError\u001b[0m: 'NoneType' object is not iterable"
     ]
    }
   ],
   "source": [
    "extract_att(LV).values()"
   ]
  },
  {
   "cell_type": "code",
   "execution_count": 220,
   "metadata": {
    "collapsed": false
   },
   "outputs": [
    {
     "data": {
      "text/plain": [
       "<bound method IndexOpsMixin.value_counts of Order\n",
       "1         [BusinessAcceptsBitcoin: False, BusinessAccept...\n",
       "26        [BusinessAcceptsCreditCards: True, Restaurants...\n",
       "36                       [BusinessAcceptsCreditCards: True]\n",
       "37        [Alcohol: full_bar, BusinessAcceptsCreditCards...\n",
       "54        [BusinessAcceptsCreditCards: True, ByAppointme...\n",
       "55        [BikeParking: True, BusinessAcceptsCreditCards...\n",
       "61                       [BusinessAcceptsCreditCards: True]\n",
       "71        [Alcohol: none, Ambience: {'romantic': False, ...\n",
       "72        [Ambience: {'romantic': False, 'intimate': Fal...\n",
       "73        [BikeParking: True, BusinessAcceptsCreditCards...\n",
       "74                                                     None\n",
       "75        [BikeParking: True, BusinessParking: {'garage'...\n",
       "102       [Alcohol: full_bar, Ambience: {'romantic': Fal...\n",
       "103       [Alcohol: none, Ambience: {'romantic': False, ...\n",
       "125                                                    None\n",
       "129                      [BusinessAcceptsCreditCards: True]\n",
       "130       [BusinessAcceptsCreditCards: True, Restaurants...\n",
       "134       [BikeParking: True, BusinessAcceptsCreditCards...\n",
       "142                               [ByAppointmentOnly: True]\n",
       "154       [Alcohol: none, BusinessAcceptsCreditCards: Tr...\n",
       "168       [BikeParking: True, BusinessAcceptsCreditCards...\n",
       "177       [Alcohol: beer_and_wine, BusinessAcceptsCredit...\n",
       "178       [BikeParking: False, BusinessAcceptsCreditCard...\n",
       "179       [Alcohol: none, Ambience: {'romantic': False, ...\n",
       "180       [AcceptsInsurance: True, ByAppointmentOnly: Fa...\n",
       "184       [Alcohol: beer_and_wine, Ambience: {'romantic'...\n",
       "185       [BikeParking: True, BusinessAcceptsBitcoin: Fa...\n",
       "186       [BikeParking: True, BusinessAcceptsCreditCards...\n",
       "191       [AcceptsInsurance: True, ByAppointmentOnly: Tr...\n",
       "192                                                    None\n",
       "                                ...                        \n",
       "143824    [Alcohol: full_bar, Ambience: {'romantic': Fal...\n",
       "143865    [BikeParking: False, BusinessAcceptsBitcoin: F...\n",
       "143876    [BikeParking: True, BusinessAcceptsBitcoin: Fa...\n",
       "143877    [AcceptsInsurance: False, BikeParking: True, B...\n",
       "143878    [BikeParking: True, BusinessAcceptsCreditCards...\n",
       "143884                                                 None\n",
       "143888    [Alcohol: beer_and_wine, BikeParking: True, Bu...\n",
       "143889    [BikeParking: False, BusinessAcceptsCreditCard...\n",
       "143890    [BikeParking: True, BusinessAcceptsCreditCards...\n",
       "143916                                                 None\n",
       "143928    [Alcohol: full_bar, BestNights: {'monday': Fal...\n",
       "143940    [BusinessAcceptsCreditCards: True, BusinessPar...\n",
       "143948    [BikeParking: True, BusinessAcceptsCreditCards...\n",
       "143949    [BikeParking: False, BusinessAcceptsCreditCard...\n",
       "143976    [AgesAllowed: 21plus, BestNights: {'monday': F...\n",
       "143977    [AcceptsInsurance: True, ByAppointmentOnly: True]\n",
       "143994    [BusinessAcceptsCreditCards: True, Restaurants...\n",
       "143998    [Alcohol: none, Ambience: {'romantic': False, ...\n",
       "144008                   [BusinessAcceptsCreditCards: True]\n",
       "144009    [BusinessParking: {'garage': False, 'street': ...\n",
       "144014                            [ByAppointmentOnly: True]\n",
       "144018    [Alcohol: none, Ambience: {'romantic': False, ...\n",
       "144019                                                 None\n",
       "144021                                                 None\n",
       "144023    [BikeParking: False, BusinessAcceptsCreditCard...\n",
       "144024    [BusinessAcceptsCreditCards: True, Restaurants...\n",
       "144025    [BusinessAcceptsCreditCards: False, ByAppointm...\n",
       "144033                                                 None\n",
       "144051    [Alcohol: full_bar, Ambience: {'romantic': Fal...\n",
       "144054    [Alcohol: beer_and_wine, Ambience: {'romantic'...\n",
       "Name: attributes, dtype: object>"
      ]
     },
     "execution_count": 220,
     "metadata": {},
     "output_type": "execute_result"
    }
   ],
   "source": [
    "LV['attributes']"
   ]
  },
  {
   "cell_type": "code",
   "execution_count": 12,
   "metadata": {
    "collapsed": true
   },
   "outputs": [],
   "source": [
    "def fib(x):\n",
    "    global numFib\n",
    "    numFib = 1"
   ]
  },
  {
   "cell_type": "code",
   "execution_count": 13,
   "metadata": {
    "collapsed": false
   },
   "outputs": [
    {
     "data": {
      "text/plain": [
       "1"
      ]
     },
     "execution_count": 13,
     "metadata": {},
     "output_type": "execute_result"
    }
   ],
   "source": [
    "numFib"
   ]
  },
  {
   "cell_type": "code",
   "execution_count": 14,
   "metadata": {
    "collapsed": true
   },
   "outputs": [],
   "source": [
    "t1 = (1, 'two', 3)"
   ]
  },
  {
   "cell_type": "code",
   "execution_count": 16,
   "metadata": {
    "collapsed": false
   },
   "outputs": [
    {
     "data": {
      "text/plain": [
       "1"
      ]
     },
     "execution_count": 16,
     "metadata": {},
     "output_type": "execute_result"
    }
   ],
   "source": [
    "t1[0]"
   ]
  },
  {
   "cell_type": "code",
   "execution_count": null,
   "metadata": {
    "collapsed": true
   },
   "outputs": [],
   "source": []
  }
 ],
 "metadata": {
  "anaconda-cloud": {},
  "kernelspec": {
   "display_name": "Python [default]",
   "language": "python",
   "name": "python3"
  },
  "language_info": {
   "codemirror_mode": {
    "name": "ipython",
    "version": 3
   },
   "file_extension": ".py",
   "mimetype": "text/x-python",
   "name": "python",
   "nbconvert_exporter": "python",
   "pygments_lexer": "ipython3",
   "version": "3.5.2"
  }
 },
 "nbformat": 4,
 "nbformat_minor": 1
}
